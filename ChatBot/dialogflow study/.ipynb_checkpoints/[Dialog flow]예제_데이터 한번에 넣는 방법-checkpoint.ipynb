{
 "cells": [
  {
   "cell_type": "code",
   "execution_count": 16,
   "metadata": {},
   "outputs": [
    {
     "name": "stdout",
     "output_type": "stream",
     "text": [
      "Requirement already satisfied: openpyxl in c:\\users\\hyemi\\anaconda3\\lib\\site-packages (3.0.5)\n",
      "Requirement already satisfied: jdcal in c:\\users\\hyemi\\anaconda3\\lib\\site-packages (from openpyxl) (1.4.1)\n",
      "Requirement already satisfied: et-xmlfile in c:\\users\\hyemi\\anaconda3\\lib\\site-packages (from openpyxl) (1.0.1)\n"
     ]
    }
   ],
   "source": [
    "!pip install openpyxl"
   ]
  },
  {
   "cell_type": "code",
   "execution_count": 1,
   "metadata": {},
   "outputs": [
    {
     "name": "stdout",
     "output_type": "stream",
     "text": [
      "질문: How many people are there in your family?\n",
      "답변: There are 5 people.\n",
      "\n",
      "질문: Does your family live in a house or an apartment?\n",
      "답변: We live in a house in the countryside.\n",
      "\n"
     ]
    }
   ],
   "source": [
    "import openpyxl\n",
    "\n",
    "# 한 건의 대화에 대한 정보를 담는 객체입니다.\n",
    "class Conversation:\n",
    "    #질문, 응답 두 변수로 구성됩니다.\n",
    "    def __init__(self,contentName,contentType, question, answer):\n",
    "        self.contentName=contentName\n",
    "        self.contentType=contentType\n",
    "        self.question=question\n",
    "        self.answer=answer\n",
    "        \n",
    "    def __str__(self):\n",
    "        return \"질문: \"+ self.question+\"\\n답변: \"+self.answer+\"\\n\"\n",
    "#영어 대화 데이터가 담긴 엑셀 파일을 엽니다.\n",
    "wb=openpyxl.load_workbook(\"input.xlsx\")\n",
    "\n",
    "ws=wb.active\n",
    "\n",
    "conversations=[]\n",
    "\n",
    "#시트 내에 존재하는 모든 영어 데이터를 객체로 담습니다.\n",
    "for r in ws.rows:\n",
    "    c=Conversation(r[0].value,r[1].value,r[2].value,r[3].value)\n",
    "    conversations.append(c)\n",
    "wb.close()\n",
    "\n",
    "for c in conversations:\n",
    "    print(str(c))\n",
    "    "
   ]
  },
  {
   "cell_type": "code",
   "execution_count": 2,
   "metadata": {},
   "outputs": [],
   "source": [
    "# -*- coding: utf-8 -*-\n",
    "\n",
    "\n",
    "\n",
    "# 파일로 출력하기\n",
    "\n",
    "i = 1\n",
    "\n",
    "# 출력, 입력 값 JSON 파일을 생성합니다.\n",
    "\n",
    "prev = str(conversations[0].contentName) + str(conversations[0].contentType)\n",
    "\n",
    "f = open(prev + '.json', 'w', encoding='UTF-8')\n",
    "\n",
    "f.write('{ \"id\": \"10d3155d-4468-4118-8f5d-15009af446d0\", \"name\": \"' + prev + '\", \"auto\": true, \"contexts\": [], \"responses\": [ { \"resetContexts\": false, \"affectedContexts\": [], \"parameters\": [], \"messages\": [ { \"type\": 0, \"lang\": \"ko\", \"speech\": \"' + conversations[0].answer + '\" } ], \"defaultResponsePlatforms\": {}, \"speech\": [] } ], \"priority\": 500000, \"webhookUsed\": false, \"webhookForSlotFilling\": false, \"fallbackIntent\": false, \"events\": [] }')\n",
    "\n",
    "f.close()\n",
    "\n",
    "f = open(prev + '_usersays_ko.json', 'w', encoding='UTF-8')\n",
    "\n",
    "f.write(\"[\")\n",
    "\n",
    "f.write('{ \"id\": \"3330d5a3-f38e-48fd-a3e6-000000000001\", \"data\": [ { \"text\": \"' + conversations[0].question + '\", \"userDefined\": false } ], \"isTemplate\": false, \"count\": 0 },')\n",
    "\n",
    "\n",
    "\n",
    "while True:\n",
    "\n",
    "    if i >= len(conversations):\n",
    "\n",
    "        f.write(\"]\")\n",
    "\n",
    "        f.close()\n",
    "\n",
    "        break;\n",
    "\n",
    "    c = conversations[i]\n",
    "\n",
    "    if prev == str(c.contentName) + str(c.contentType):\n",
    "\n",
    "        f.write('{ \"id\": \"3330d5a3-f38e-48fd-a3e6-000000000001\", \"data\": [ { \"text\": \"' + c.question + '\", \"userDefined\": false } ], \"isTemplate\": false, \"count\": 0 },')\n",
    "\n",
    "    else:\n",
    "\n",
    "        f.write(\"]\")\n",
    "\n",
    "        f.close()\n",
    "\n",
    "        # 출력, 입력 값 JSON 파일을 생성합니다.\n",
    "\n",
    "        prev = str(c.contentName) + str(c.contentType)\n",
    "\n",
    "        f = open(prev + '.json', 'w', encoding='UTF-8')\n",
    "\n",
    "        f.write('{ \"id\": \"10d3155d-4468-4118-8f5d-15009af446d0\", \"name\": \"' + prev + '\", \"auto\": true, \"contexts\": [], \"responses\": [ { \"resetContexts\": false, \"affectedContexts\": [], \"parameters\": [], \"messages\": [ { \"type\": 0, \"lang\": \"ko\", \"speech\": \"' + c.answer + '\" } ], \"defaultResponsePlatforms\": {}, \"speech\": [] } ], \"priority\": 500000, \"webhookUsed\": false, \"webhookForSlotFilling\": false, \"fallbackIntent\": false, \"events\": [] }')\n",
    "\n",
    "        f.close()\n",
    "\n",
    "        f = open(prev + '_usersays_ko.json', 'w', encoding='UTF-8')\n",
    "\n",
    "        f.write(\"[\")\n",
    "\n",
    "        f.write('{ \"id\": \"3330d5a3-f38e-48fd-a3e6-000000000001\", \"data\": [ { \"text\": \"' + c.question + '\", \"userDefined\": false } ], \"isTemplate\": false, \"count\": 0 },')\n",
    "\n",
    "    i = i + 1\n",
    "\n",
    "\n",
    "\n"
   ]
  },
  {
   "cell_type": "code",
   "execution_count": null,
   "metadata": {},
   "outputs": [],
   "source": []
  }
 ],
 "metadata": {
  "kernelspec": {
   "display_name": "Python 3",
   "language": "python",
   "name": "python3"
  },
  "language_info": {
   "codemirror_mode": {
    "name": "ipython",
    "version": 3
   },
   "file_extension": ".py",
   "mimetype": "text/x-python",
   "name": "python",
   "nbconvert_exporter": "python",
   "pygments_lexer": "ipython3",
   "version": "3.8.5"
  }
 },
 "nbformat": 4,
 "nbformat_minor": 4
}

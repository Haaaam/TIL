{
  "nbformat": 4,
  "nbformat_minor": 0,
  "metadata": {
    "colab": {
      "name": "2-1 CIFAR_CNN.ipynb",
      "provenance": [],
      "collapsed_sections": []
    },
    "kernelspec": {
      "name": "python3",
      "display_name": "Python 3"
    },
    "language_info": {
      "name": "python"
    },
    "accelerator": "TPU",
    "widgets": {
      "application/vnd.jupyter.widget-state+json": {
        "11f14a5e5c0149888614c47c7bc989ee": {
          "model_module": "@jupyter-widgets/controls",
          "model_name": "HBoxModel",
          "state": {
            "_view_name": "HBoxView",
            "_dom_classes": [],
            "_model_name": "HBoxModel",
            "_view_module": "@jupyter-widgets/controls",
            "_model_module_version": "1.5.0",
            "_view_count": null,
            "_view_module_version": "1.5.0",
            "box_style": "",
            "layout": "IPY_MODEL_a9bc8ebd3b6f4824b6fa7116be8d1462",
            "_model_module": "@jupyter-widgets/controls",
            "children": [
              "IPY_MODEL_7c6c175121514b6883ec2e70c2b0a821",
              "IPY_MODEL_e5ef0004d0924181a24e13b47864de9d"
            ]
          }
        },
        "a9bc8ebd3b6f4824b6fa7116be8d1462": {
          "model_module": "@jupyter-widgets/base",
          "model_name": "LayoutModel",
          "state": {
            "_view_name": "LayoutView",
            "grid_template_rows": null,
            "right": null,
            "justify_content": null,
            "_view_module": "@jupyter-widgets/base",
            "overflow": null,
            "_model_module_version": "1.2.0",
            "_view_count": null,
            "flex_flow": null,
            "width": null,
            "min_width": null,
            "border": null,
            "align_items": null,
            "bottom": null,
            "_model_module": "@jupyter-widgets/base",
            "top": null,
            "grid_column": null,
            "overflow_y": null,
            "overflow_x": null,
            "grid_auto_flow": null,
            "grid_area": null,
            "grid_template_columns": null,
            "flex": null,
            "_model_name": "LayoutModel",
            "justify_items": null,
            "grid_row": null,
            "max_height": null,
            "align_content": null,
            "visibility": null,
            "align_self": null,
            "height": null,
            "min_height": null,
            "padding": null,
            "grid_auto_rows": null,
            "grid_gap": null,
            "max_width": null,
            "order": null,
            "_view_module_version": "1.2.0",
            "grid_template_areas": null,
            "object_position": null,
            "object_fit": null,
            "grid_auto_columns": null,
            "margin": null,
            "display": null,
            "left": null
          }
        },
        "7c6c175121514b6883ec2e70c2b0a821": {
          "model_module": "@jupyter-widgets/controls",
          "model_name": "FloatProgressModel",
          "state": {
            "_view_name": "ProgressView",
            "style": "IPY_MODEL_043ec4d647224da8babff79f791440d4",
            "_dom_classes": [],
            "description": "",
            "_model_name": "FloatProgressModel",
            "bar_style": "success",
            "max": 170498071,
            "_view_module": "@jupyter-widgets/controls",
            "_model_module_version": "1.5.0",
            "value": 170498071,
            "_view_count": null,
            "_view_module_version": "1.5.0",
            "orientation": "horizontal",
            "min": 0,
            "description_tooltip": null,
            "_model_module": "@jupyter-widgets/controls",
            "layout": "IPY_MODEL_59e8c449d1aa4612a9e26f3f8ee4f1dd"
          }
        },
        "e5ef0004d0924181a24e13b47864de9d": {
          "model_module": "@jupyter-widgets/controls",
          "model_name": "HTMLModel",
          "state": {
            "_view_name": "HTMLView",
            "style": "IPY_MODEL_9b8bc0d7c9d3478ba2918eeb96ec76bc",
            "_dom_classes": [],
            "description": "",
            "_model_name": "HTMLModel",
            "placeholder": "​",
            "_view_module": "@jupyter-widgets/controls",
            "_model_module_version": "1.5.0",
            "value": " 170499072/? [00:12&lt;00:00, 13788847.14it/s]",
            "_view_count": null,
            "_view_module_version": "1.5.0",
            "description_tooltip": null,
            "_model_module": "@jupyter-widgets/controls",
            "layout": "IPY_MODEL_484832d0cbe84a70ab67c9dfa6aa36df"
          }
        },
        "043ec4d647224da8babff79f791440d4": {
          "model_module": "@jupyter-widgets/controls",
          "model_name": "ProgressStyleModel",
          "state": {
            "_view_name": "StyleView",
            "_model_name": "ProgressStyleModel",
            "description_width": "initial",
            "_view_module": "@jupyter-widgets/base",
            "_model_module_version": "1.5.0",
            "_view_count": null,
            "_view_module_version": "1.2.0",
            "bar_color": null,
            "_model_module": "@jupyter-widgets/controls"
          }
        },
        "59e8c449d1aa4612a9e26f3f8ee4f1dd": {
          "model_module": "@jupyter-widgets/base",
          "model_name": "LayoutModel",
          "state": {
            "_view_name": "LayoutView",
            "grid_template_rows": null,
            "right": null,
            "justify_content": null,
            "_view_module": "@jupyter-widgets/base",
            "overflow": null,
            "_model_module_version": "1.2.0",
            "_view_count": null,
            "flex_flow": null,
            "width": null,
            "min_width": null,
            "border": null,
            "align_items": null,
            "bottom": null,
            "_model_module": "@jupyter-widgets/base",
            "top": null,
            "grid_column": null,
            "overflow_y": null,
            "overflow_x": null,
            "grid_auto_flow": null,
            "grid_area": null,
            "grid_template_columns": null,
            "flex": null,
            "_model_name": "LayoutModel",
            "justify_items": null,
            "grid_row": null,
            "max_height": null,
            "align_content": null,
            "visibility": null,
            "align_self": null,
            "height": null,
            "min_height": null,
            "padding": null,
            "grid_auto_rows": null,
            "grid_gap": null,
            "max_width": null,
            "order": null,
            "_view_module_version": "1.2.0",
            "grid_template_areas": null,
            "object_position": null,
            "object_fit": null,
            "grid_auto_columns": null,
            "margin": null,
            "display": null,
            "left": null
          }
        },
        "9b8bc0d7c9d3478ba2918eeb96ec76bc": {
          "model_module": "@jupyter-widgets/controls",
          "model_name": "DescriptionStyleModel",
          "state": {
            "_view_name": "StyleView",
            "_model_name": "DescriptionStyleModel",
            "description_width": "",
            "_view_module": "@jupyter-widgets/base",
            "_model_module_version": "1.5.0",
            "_view_count": null,
            "_view_module_version": "1.2.0",
            "_model_module": "@jupyter-widgets/controls"
          }
        },
        "484832d0cbe84a70ab67c9dfa6aa36df": {
          "model_module": "@jupyter-widgets/base",
          "model_name": "LayoutModel",
          "state": {
            "_view_name": "LayoutView",
            "grid_template_rows": null,
            "right": null,
            "justify_content": null,
            "_view_module": "@jupyter-widgets/base",
            "overflow": null,
            "_model_module_version": "1.2.0",
            "_view_count": null,
            "flex_flow": null,
            "width": null,
            "min_width": null,
            "border": null,
            "align_items": null,
            "bottom": null,
            "_model_module": "@jupyter-widgets/base",
            "top": null,
            "grid_column": null,
            "overflow_y": null,
            "overflow_x": null,
            "grid_auto_flow": null,
            "grid_area": null,
            "grid_template_columns": null,
            "flex": null,
            "_model_name": "LayoutModel",
            "justify_items": null,
            "grid_row": null,
            "max_height": null,
            "align_content": null,
            "visibility": null,
            "align_self": null,
            "height": null,
            "min_height": null,
            "padding": null,
            "grid_auto_rows": null,
            "grid_gap": null,
            "max_width": null,
            "order": null,
            "_view_module_version": "1.2.0",
            "grid_template_areas": null,
            "object_position": null,
            "object_fit": null,
            "grid_auto_columns": null,
            "margin": null,
            "display": null,
            "left": null
          }
        }
      }
    }
  },
  "cells": [
    {
      "cell_type": "markdown",
      "metadata": {
        "id": "iucN6mBW8G0k"
      },
      "source": [
        "단계\n",
        "1. Module import\n",
        "2. 딥러닝 모델을 설계할 때 활용하는 장비 확인\n",
        "3. CIFAR10 데이터 다운로드(Train,Test set 분리하기)\n",
        "4. 데이터 확인하기\n",
        "5. CNN모델 설계\n",
        "6. Optimizer, Objective Function 설정\n",
        "7. CNN 모델 학습을 진행하며 학습 데이터에 대한 모델 성능을 확인하는 함수 정의\n",
        "8. 학습되는 과정 속에서 검증 데이터에 대한 모델 성능을 확인하는 함수 정의\n",
        "9. CNN 학습 실행, Train& Test set의 Loss 및 Test set Accuracy 확인하기"
      ]
    },
    {
      "cell_type": "code",
      "metadata": {
        "id": "1BP_fesvKsSs"
      },
      "source": [
        "import numpy as np\n",
        "import matplotlib.pyplot as plt\n",
        "import torch\n",
        "import torch.nn as nn\n",
        "import torch.nn.functional as F\n",
        "from torchvision import transforms, datasets"
      ],
      "execution_count": null,
      "outputs": []
    },
    {
      "cell_type": "code",
      "metadata": {
        "colab": {
          "base_uri": "https://localhost:8080/"
        },
        "id": "iKrLXFj-Mey2",
        "outputId": "6187e19d-2dfb-4b60-ac6f-c28874334957"
      },
      "source": [
        "if torch.cuda.is_available():\n",
        "  DEVICE=torch.device('cuda')\n",
        "else:\n",
        "  DEVICE=torch.device('cpu')\n",
        "print('Using PyTorch version:',torch.__version__, 'Device:',DEVICE)"
      ],
      "execution_count": null,
      "outputs": [
        {
          "output_type": "stream",
          "text": [
            "Using PyTorch version: 1.8.1+cu101 Device: cpu\n"
          ],
          "name": "stdout"
        }
      ]
    },
    {
      "cell_type": "code",
      "metadata": {
        "id": "cuVYDOzjM1lC"
      },
      "source": [
        "BATCH_SIZE=32\n",
        "EPOCHS=10"
      ],
      "execution_count": null,
      "outputs": []
    },
    {
      "cell_type": "code",
      "metadata": {
        "colab": {
          "base_uri": "https://localhost:8080/",
          "height": 122,
          "referenced_widgets": [
            "11f14a5e5c0149888614c47c7bc989ee",
            "a9bc8ebd3b6f4824b6fa7116be8d1462",
            "7c6c175121514b6883ec2e70c2b0a821",
            "e5ef0004d0924181a24e13b47864de9d",
            "043ec4d647224da8babff79f791440d4",
            "59e8c449d1aa4612a9e26f3f8ee4f1dd",
            "9b8bc0d7c9d3478ba2918eeb96ec76bc",
            "484832d0cbe84a70ab67c9dfa6aa36df"
          ]
        },
        "id": "uBcjuJtnM4bF",
        "outputId": "d19bc3b0-4d95-438a-bdb1-df71f3a1abd9"
      },
      "source": [
        "train_dataset=datasets.CIFAR10(root='../data/CIFAR_10',\n",
        "                               train=True,\n",
        "                               download=True,\n",
        "                               transform=transforms.ToTensor())\n",
        "test_dataset=datasets.CIFAR10(root='../data/CIFAR_10',\n",
        "                              train=True,\n",
        "                              transform=transforms.ToTensor())\n",
        "train_loader=torch.utils.data.DataLoader(dataset=train_dataset,\n",
        "                                         batch_size=BATCH_SIZE,\n",
        "                                         shuffle=True)\n",
        "test_loader=torch.utils.data.DataLoader(dataset=test_dataset,\n",
        "                                        batch_size=BATCH_SIZE,\n",
        "                                        shuffle=False)"
      ],
      "execution_count": null,
      "outputs": [
        {
          "output_type": "stream",
          "text": [
            "Downloading https://www.cs.toronto.edu/~kriz/cifar-10-python.tar.gz to ../data/CIFAR_10/cifar-10-python.tar.gz\n"
          ],
          "name": "stdout"
        },
        {
          "output_type": "display_data",
          "data": {
            "application/vnd.jupyter.widget-view+json": {
              "model_id": "11f14a5e5c0149888614c47c7bc989ee",
              "version_minor": 0,
              "version_major": 2
            },
            "text/plain": [
              "HBox(children=(FloatProgress(value=0.0, max=170498071.0), HTML(value='')))"
            ]
          },
          "metadata": {
            "tags": []
          }
        },
        {
          "output_type": "stream",
          "text": [
            "\n",
            "Extracting ../data/CIFAR_10/cifar-10-python.tar.gz to ../data/CIFAR_10\n"
          ],
          "name": "stdout"
        }
      ]
    },
    {
      "cell_type": "code",
      "metadata": {
        "colab": {
          "base_uri": "https://localhost:8080/"
        },
        "id": "ILyvVLDUN7Xh",
        "outputId": "57abae2f-f99f-44ba-e750-c603bb10c59c"
      },
      "source": [
        "for (X_train,y_train) in train_loader:\n",
        "  print('X_train:',X_train.size(),'type:',X_train.type())\n",
        "  print('y_train:',y_train.size(),'type:',y_train.type())\n",
        "  break"
      ],
      "execution_count": null,
      "outputs": [
        {
          "output_type": "stream",
          "text": [
            "X_train: torch.Size([32, 3, 32, 32]) type: torch.FloatTensor\n",
            "y_train: torch.Size([32]) type: torch.LongTensor\n"
          ],
          "name": "stdout"
        }
      ]
    },
    {
      "cell_type": "code",
      "metadata": {
        "colab": {
          "base_uri": "https://localhost:8080/",
          "height": 94
        },
        "id": "MktxHAO7ONgX",
        "outputId": "b471f3a5-5397-4d3a-fddc-563ce0e584e1"
      },
      "source": [
        "pltsize=1\n",
        "plt.figure(figsize=(10*pltsize,pltsize))\n",
        "for i in range(10):\n",
        "  plt.subplot(1,10,i+1)\n",
        "  plt.axis('off')\n",
        "  plt.imshow(np.transpose(X_train[i],(1,2,0)))\n",
        "  plt.title('Class: '+str(y_train[i].item()))"
      ],
      "execution_count": null,
      "outputs": [
        {
          "output_type": "display_data",
          "data": {
            "image/png": "[encoded data removed]",
            "text/plain": [
              "<Figure size 720x72 with 10 Axes>"
            ]
          },
          "metadata": {
            "tags": [],
            "needs_background": "light"
          }
        }
      ]
    },
    {
      "cell_type": "code",
      "metadata": {
        "id": "B8MBWr8nPj3j"
      },
      "source": [
        "class CNN(nn.Module):\n",
        "  def __init__(self):\n",
        "      super(CNN,self).__init__()\n",
        "\n",
        "      self.conv1=nn.Conv2d(in_channels=3,\n",
        "                           out_channels=8,\n",
        "                           kernel_size=3,\n",
        "                           padding=1)\n",
        "      self.conv2=nn.Conv2d(in_channels=8,\n",
        "                           out_channels=16,\n",
        "                           kernel_size=3,\n",
        "                           padding=1)\n",
        "      self.pool=nn.MaxPool2d(kernel_size=2,\n",
        "                             stride=2)\n",
        "      \n",
        "      self.fc1=nn.Linear(8*8*16,30)\n",
        "      self.fc2=nn.Linear(30,60)\n",
        "      self.fc3=nn.Linear(60,10)\n",
        "\n",
        "  def forward(self,x):\n",
        "      x=self.conv1(x)\n",
        "      x=F.relu(x)\n",
        "      x=self.pool(x)\n",
        "      x=self.conv2(x)\n",
        "      x=F.relu(x)\n",
        "      x=self.pool(x)\n",
        "\n",
        "      x=x.view(-1,8*8*16)\n",
        "      x=self.fc1(x)\n",
        "      x=F.relu(x)\n",
        "      x=self.fc2(x)\n",
        "      x=F.relu(x)\n",
        "      x=self.fc3(x)\n",
        "      x=F.log_softmax(x)\n",
        "      return x\n",
        "      "
      ],
      "execution_count": null,
      "outputs": []
    },
    {
      "cell_type": "code",
      "metadata": {
        "colab": {
          "base_uri": "https://localhost:8080/"
        },
        "id": "9NXlw1bzQBcs",
        "outputId": "9a0e7afd-b424-417c-866d-d0b1aac743a0"
      },
      "source": [
        "model=CNN().to(DEVICE)\n",
        "optimizer=torch.optim.Adam(model.parameters(),lr=0.001)\n",
        "criterion=nn.CrossEntropyLoss()\n",
        "\n",
        "print(model)"
      ],
      "execution_count": null,
      "outputs": [
        {
          "output_type": "stream",
          "text": [
            "CNN(\n",
            "  (conv1): Conv2d(3, 8, kernel_size=(3, 3), stride=(1, 1), padding=(1, 1))\n",
            "  (conv2): Conv2d(8, 16, kernel_size=(3, 3), stride=(1, 1), padding=(1, 1))\n",
            "  (pool): MaxPool2d(kernel_size=2, stride=2, padding=0, dilation=1, ceil_mode=False)\n",
            "  (fc1): Linear(in_features=1024, out_features=30, bias=True)\n",
            "  (fc2): Linear(in_features=30, out_features=60, bias=True)\n",
            "  (fc3): Linear(in_features=60, out_features=10, bias=True)\n",
            ")\n"
          ],
          "name": "stdout"
        }
      ]
    },
    {
      "cell_type": "code",
      "metadata": {
        "id": "M6xpzaftSFek"
      },
      "source": [
        "def train(model,train_loader,optimizer,log_interval):\n",
        "  model.train()\n",
        "  for batch_idx,(image,label) in enumerate(train_loader):\n",
        "    image=image.to(DEVICE)\n",
        "    label=label.to(DEVICE)\n",
        "    optimizer.zero_grad()\n",
        "    output=model(image)\n",
        "    loss=criterion(output,label)\n",
        "    loss.backward()\n",
        "    optimizer.step()\n",
        "\n",
        "    if batch_idx%log_interval==0:\n",
        "      print('Train Epoch: {} [{}/{} ({:.0f}%)]\\t Train Loss: {:.6f}'.format(epoch,\n",
        "            batch_idx*len(image),\n",
        "            len(train_loader.dataset),100.*batch_idx/len(train_loader),loss.item()))"
      ],
      "execution_count": null,
      "outputs": []
    },
    {
      "cell_type": "code",
      "metadata": {
        "id": "8U1PrhcQUWLh"
      },
      "source": [
        "def evaluate(model,test_loader):\n",
        "  model.eval()\n",
        "  test_loss=0\n",
        "  correct=0\n",
        "\n",
        "  with torch.no_grad():\n",
        "    for image,label in test_loader:\n",
        "      image=image.to(DEVICE)\n",
        "      label=label.to(DEVICE)\n",
        "      output=model(image)\n",
        "      test_loss+=criterion(output,label).item()\n",
        "      prediction=output.max(1,keepdim=True)[1]\n",
        "      correct+=prediction.eq(label.view_as(prediction)).sum().item()\n",
        "\n",
        "  test_loss/=(len(test_loader.dataset)/BATCH_SIZE)\n",
        "  test_accuracy=100.*correct/len(test_loader.dataset)\n",
        "  return test_loss,test_accuracy"
      ],
      "execution_count": null,
      "outputs": []
    },
    {
      "cell_type": "code",
      "metadata": {
        "colab": {
          "base_uri": "https://localhost:8080/"
        },
        "id": "4D_CYo5GVL-D",
        "outputId": "64af6e08-5ee4-472a-f5e8-40c01a71c5ee"
      },
      "source": [
        "for epoch in range(1,EPOCHS+1):\n",
        "  train(model,train_loader,optimizer,log_interval=200)\n",
        "  test_loss,test_accuracy=evaluate(model,test_loader)\n",
        "  print(\"\\n[EPOCH: {}], \\tTest Loss: {:.4f}, \\tTest Accuracy: {:.2f} % \\n\".format(\n",
        "        epoch, test_loss, test_accuracy))"
      ],
      "execution_count": null,
      "outputs": [
        {
          "output_type": "stream",
          "text": [
            "/usr/local/lib/python3.7/dist-packages/ipykernel_launcher.py:34: UserWarning: Implicit dimension choice for log_softmax has been deprecated. Change the call to include dim=X as an argument.\n"
          ],
          "name": "stderr"
        },
        {
          "output_type": "stream",
          "text": [
            "Train Epoch: 1 [0/50000 (0%)]\t Train Loss: 1.341087\n",
            "Train Epoch: 1 [6400/50000 (13%)]\t Train Loss: 1.371976\n",
            "Train Epoch: 1 [12800/50000 (26%)]\t Train Loss: 1.506208\n",
            "Train Epoch: 1 [19200/50000 (38%)]\t Train Loss: 1.446859\n",
            "Train Epoch: 1 [25600/50000 (51%)]\t Train Loss: 1.438574\n",
            "Train Epoch: 1 [32000/50000 (64%)]\t Train Loss: 1.410404\n",
            "Train Epoch: 1 [38400/50000 (77%)]\t Train Loss: 1.421803\n",
            "Train Epoch: 1 [44800/50000 (90%)]\t Train Loss: 0.986604\n",
            "\n",
            "[EPOCH: 1], \tTest Loss: 1.3838, \tTest Accuracy: 49.86 % \n",
            "\n",
            "Train Epoch: 2 [0/50000 (0%)]\t Train Loss: 1.298989\n",
            "Train Epoch: 2 [6400/50000 (13%)]\t Train Loss: 1.693694\n",
            "Train Epoch: 2 [12800/50000 (26%)]\t Train Loss: 1.302385\n",
            "Train Epoch: 2 [19200/50000 (38%)]\t Train Loss: 1.368883\n",
            "Train Epoch: 2 [25600/50000 (51%)]\t Train Loss: 1.513068\n",
            "Train Epoch: 2 [32000/50000 (64%)]\t Train Loss: 1.207228\n",
            "Train Epoch: 2 [38400/50000 (77%)]\t Train Loss: 1.136571\n",
            "Train Epoch: 2 [44800/50000 (90%)]\t Train Loss: 1.445728\n",
            "\n",
            "[EPOCH: 2], \tTest Loss: 1.2728, \tTest Accuracy: 53.99 % \n",
            "\n",
            "Train Epoch: 3 [0/50000 (0%)]\t Train Loss: 1.411759\n",
            "Train Epoch: 3 [6400/50000 (13%)]\t Train Loss: 1.577720\n",
            "Train Epoch: 3 [12800/50000 (26%)]\t Train Loss: 1.364535\n",
            "Train Epoch: 3 [19200/50000 (38%)]\t Train Loss: 1.292897\n",
            "Train Epoch: 3 [25600/50000 (51%)]\t Train Loss: 1.266343\n",
            "Train Epoch: 3 [32000/50000 (64%)]\t Train Loss: 1.402764\n",
            "Train Epoch: 3 [38400/50000 (77%)]\t Train Loss: 1.054691\n",
            "Train Epoch: 3 [44800/50000 (90%)]\t Train Loss: 1.681906\n",
            "\n",
            "[EPOCH: 3], \tTest Loss: 1.2525, \tTest Accuracy: 53.88 % \n",
            "\n",
            "Train Epoch: 4 [0/50000 (0%)]\t Train Loss: 1.101774\n",
            "Train Epoch: 4 [6400/50000 (13%)]\t Train Loss: 1.309950\n",
            "Train Epoch: 4 [12800/50000 (26%)]\t Train Loss: 1.170899\n",
            "Train Epoch: 4 [19200/50000 (38%)]\t Train Loss: 1.174685\n",
            "Train Epoch: 4 [25600/50000 (51%)]\t Train Loss: 1.102069\n",
            "Train Epoch: 4 [32000/50000 (64%)]\t Train Loss: 1.192809\n",
            "Train Epoch: 4 [38400/50000 (77%)]\t Train Loss: 1.065114\n",
            "Train Epoch: 4 [44800/50000 (90%)]\t Train Loss: 1.121767\n",
            "\n",
            "[EPOCH: 4], \tTest Loss: 1.1470, \tTest Accuracy: 58.41 % \n",
            "\n",
            "Train Epoch: 5 [0/50000 (0%)]\t Train Loss: 0.886251\n",
            "Train Epoch: 5 [6400/50000 (13%)]\t Train Loss: 0.964433\n",
            "Train Epoch: 5 [12800/50000 (26%)]\t Train Loss: 1.024890\n",
            "Train Epoch: 5 [19200/50000 (38%)]\t Train Loss: 1.183280\n",
            "Train Epoch: 5 [25600/50000 (51%)]\t Train Loss: 0.793720\n",
            "Train Epoch: 5 [32000/50000 (64%)]\t Train Loss: 0.995547\n",
            "Train Epoch: 5 [38400/50000 (77%)]\t Train Loss: 0.940538\n",
            "Train Epoch: 5 [44800/50000 (90%)]\t Train Loss: 1.328961\n",
            "\n",
            "[EPOCH: 5], \tTest Loss: 1.1166, \tTest Accuracy: 60.03 % \n",
            "\n",
            "Train Epoch: 6 [0/50000 (0%)]\t Train Loss: 1.216970\n",
            "Train Epoch: 6 [6400/50000 (13%)]\t Train Loss: 1.608939\n",
            "Train Epoch: 6 [12800/50000 (26%)]\t Train Loss: 1.245399\n",
            "Train Epoch: 6 [19200/50000 (38%)]\t Train Loss: 1.126771\n",
            "Train Epoch: 6 [25600/50000 (51%)]\t Train Loss: 1.189980\n",
            "Train Epoch: 6 [32000/50000 (64%)]\t Train Loss: 1.235175\n",
            "Train Epoch: 6 [38400/50000 (77%)]\t Train Loss: 1.032908\n",
            "Train Epoch: 6 [44800/50000 (90%)]\t Train Loss: 1.065393\n",
            "\n",
            "[EPOCH: 6], \tTest Loss: 1.0918, \tTest Accuracy: 60.71 % \n",
            "\n",
            "Train Epoch: 7 [0/50000 (0%)]\t Train Loss: 1.178105\n",
            "Train Epoch: 7 [6400/50000 (13%)]\t Train Loss: 1.705912\n",
            "Train Epoch: 7 [12800/50000 (26%)]\t Train Loss: 1.220502\n",
            "Train Epoch: 7 [19200/50000 (38%)]\t Train Loss: 1.472733\n",
            "Train Epoch: 7 [25600/50000 (51%)]\t Train Loss: 1.298348\n",
            "Train Epoch: 7 [32000/50000 (64%)]\t Train Loss: 1.261505\n",
            "Train Epoch: 7 [38400/50000 (77%)]\t Train Loss: 1.083377\n",
            "Train Epoch: 7 [44800/50000 (90%)]\t Train Loss: 1.172765\n",
            "\n",
            "[EPOCH: 7], \tTest Loss: 1.0539, \tTest Accuracy: 62.35 % \n",
            "\n",
            "Train Epoch: 8 [0/50000 (0%)]\t Train Loss: 0.903386\n",
            "Train Epoch: 8 [6400/50000 (13%)]\t Train Loss: 0.905010\n",
            "Train Epoch: 8 [12800/50000 (26%)]\t Train Loss: 1.001254\n",
            "Train Epoch: 8 [19200/50000 (38%)]\t Train Loss: 1.008087\n",
            "Train Epoch: 8 [25600/50000 (51%)]\t Train Loss: 0.821572\n",
            "Train Epoch: 8 [32000/50000 (64%)]\t Train Loss: 0.858693\n",
            "Train Epoch: 8 [38400/50000 (77%)]\t Train Loss: 1.091617\n",
            "Train Epoch: 8 [44800/50000 (90%)]\t Train Loss: 0.980905\n",
            "\n",
            "[EPOCH: 8], \tTest Loss: 1.0834, \tTest Accuracy: 60.68 % \n",
            "\n",
            "Train Epoch: 9 [0/50000 (0%)]\t Train Loss: 0.938170\n",
            "Train Epoch: 9 [6400/50000 (13%)]\t Train Loss: 1.100428\n",
            "Train Epoch: 9 [12800/50000 (26%)]\t Train Loss: 1.193790\n",
            "Train Epoch: 9 [19200/50000 (38%)]\t Train Loss: 0.975263\n",
            "Train Epoch: 9 [25600/50000 (51%)]\t Train Loss: 0.810063\n",
            "Train Epoch: 9 [32000/50000 (64%)]\t Train Loss: 0.792215\n",
            "Train Epoch: 9 [38400/50000 (77%)]\t Train Loss: 1.570247\n",
            "Train Epoch: 9 [44800/50000 (90%)]\t Train Loss: 0.704702\n",
            "\n",
            "[EPOCH: 9], \tTest Loss: 1.0025, \tTest Accuracy: 64.26 % \n",
            "\n",
            "Train Epoch: 10 [0/50000 (0%)]\t Train Loss: 1.061853\n",
            "Train Epoch: 10 [6400/50000 (13%)]\t Train Loss: 1.223822\n",
            "Train Epoch: 10 [12800/50000 (26%)]\t Train Loss: 0.946216\n",
            "Train Epoch: 10 [19200/50000 (38%)]\t Train Loss: 0.691077\n",
            "Train Epoch: 10 [25600/50000 (51%)]\t Train Loss: 0.694869\n",
            "Train Epoch: 10 [32000/50000 (64%)]\t Train Loss: 1.050642\n",
            "Train Epoch: 10 [38400/50000 (77%)]\t Train Loss: 1.001321\n",
            "Train Epoch: 10 [44800/50000 (90%)]\t Train Loss: 0.991202\n",
            "\n",
            "[EPOCH: 10], \tTest Loss: 1.0226, \tTest Accuracy: 63.54 % \n",
            "\n"
          ],
          "name": "stdout"
        }
      ]
    },
    {
      "cell_type": "code",
      "metadata": {
        "id": "dG5-fPSBVZiQ"
      },
      "source": [
        ""
      ],
      "execution_count": null,
      "outputs": []
    }
  ]
}
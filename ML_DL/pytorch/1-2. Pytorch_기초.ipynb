{
  "nbformat": 4,
  "nbformat_minor": 0,
  "metadata": {
    "colab": {
      "name": "Pytorch 기초.ipynb",
      "private_outputs": true,
      "provenance": [],
      "collapsed_sections": []
    },
    "kernelspec": {
      "name": "python3",
      "display_name": "Python 3"
    },
    "language_info": {
      "name": "python"
    }
  },
  "cells": [
    {
      "cell_type": "markdown",
      "metadata": {
        "id": "agIuz1bVI96D"
      },
      "source": [
        "### numpy"
      ]
    },
    {
      "cell_type": "code",
      "metadata": {
        "id": "mPF7--P7Htxk"
      },
      "source": [
        "import numpy as np\n",
        "import torch"
      ],
      "execution_count": null,
      "outputs": []
    },
    {
      "cell_type": "markdown",
      "metadata": {
        "id": "t8oJ70rlJyKZ"
      },
      "source": [
        "#### 1D Array with NumPy"
      ]
    },
    {
      "cell_type": "code",
      "metadata": {
        "id": "iSAzy1y5JxFl"
      },
      "source": [
        "t=np.array([0., 1., 2., 3., 4., 5., 6.])\n",
        "print(t)"
      ],
      "execution_count": null,
      "outputs": []
    },
    {
      "cell_type": "code",
      "metadata": {
        "id": "vYO1lPxtJ6In"
      },
      "source": [
        "print('Rank of t: ',t.ndim)\n",
        "print('Shape of t: ',t.shape)"
      ],
      "execution_count": null,
      "outputs": []
    },
    {
      "cell_type": "code",
      "metadata": {
        "id": "7c3UGeGHJ_J8"
      },
      "source": [
        "print('t[0] t[1] t[-1] = ',t[0],t[1],t[-1]) #Element\n",
        "print('t[2:5 t[4:-1]   = ',t[2:5],t[4:-1]) #Slicing\n",
        "print('t[:2] t[3:]     = ', t[:2], t[3:]) #Slicing"
      ],
      "execution_count": null,
      "outputs": []
    },
    {
      "cell_type": "markdown",
      "metadata": {
        "id": "Jyuv_U9AK9to"
      },
      "source": [
        "### 2d Array with numpy"
      ]
    },
    {
      "cell_type": "code",
      "metadata": {
        "id": "8erSrmhtKRTI"
      },
      "source": [
        "t=np.array([[1., 2., 3.], [4., 5., 6.], [7., 8., 9.],[10., 11., 12.]])\n",
        "print(t)"
      ],
      "execution_count": null,
      "outputs": []
    },
    {
      "cell_type": "code",
      "metadata": {
        "id": "Dhm9MNbbLKV-"
      },
      "source": [
        "print('Rank of t: ',t.ndim)\n",
        "print('Shape of t: ',t.shape)"
      ],
      "execution_count": null,
      "outputs": []
    },
    {
      "cell_type": "markdown",
      "metadata": {
        "id": "h7AAMkouLWPJ"
      },
      "source": [
        "#### 1D Array with Pytorch"
      ]
    },
    {
      "cell_type": "code",
      "metadata": {
        "id": "aEsbrAgaLOVL"
      },
      "source": [
        "t=torch.FloatTensor([0., 1., 2., 3., 4., 5., 6.])\n",
        "print(t)"
      ],
      "execution_count": null,
      "outputs": []
    },
    {
      "cell_type": "code",
      "metadata": {
        "id": "hPEeKMmpLfGJ"
      },
      "source": [
        "print(t.dim()) #rank\n",
        "print(t.shape) #shape\n",
        "print(t.size()) #shape\n",
        "print(t[0],t[1],t[-1])#Element\n",
        "print(t[2:5],t[4:-1])#Slicing\n",
        "print(t[:2],t[3:])#Slicing"
      ],
      "execution_count": null,
      "outputs": []
    },
    {
      "cell_type": "markdown",
      "metadata": {
        "id": "pQG2aYKhMk_u"
      },
      "source": [
        "#### 2D Array with PyTorch"
      ]
    },
    {
      "cell_type": "code",
      "metadata": {
        "id": "gS-7Yh3PLoxm"
      },
      "source": [
        "t=torch.FloatTensor([[1., 2., 3.],\n",
        "                     [4., 5., 6.],\n",
        "                     [7., 8., 9.],\n",
        "                     [10., 11., 12.]\n",
        "                     ])\n",
        "print(t)"
      ],
      "execution_count": null,
      "outputs": []
    },
    {
      "cell_type": "code",
      "metadata": {
        "id": "jN3g7jyGM0YF"
      },
      "source": [
        "print(t.dim())\n",
        "print(t.size())\n",
        "print(t[:, 1])\n",
        "print(t[:, 1].size())\n",
        "print(t[:, :-1])"
      ],
      "execution_count": null,
      "outputs": []
    },
    {
      "cell_type": "markdown",
      "metadata": {
        "id": "JJ-Ai-a-NrUd"
      },
      "source": [
        "#### Broadcasting"
      ]
    },
    {
      "cell_type": "code",
      "metadata": {
        "id": "QM66k3ibM-UQ"
      },
      "source": [
        "# Same shape\n",
        "m1=torch.FloatTensor([[3,3]])\n",
        "m2=torch.FloatTensor([[2,2]])\n",
        "print(m1+m2)"
      ],
      "execution_count": null,
      "outputs": []
    },
    {
      "cell_type": "code",
      "metadata": {
        "id": "DUqcM6YqNzvN"
      },
      "source": [
        "# Vector+scalar\n",
        "m1=torch.FloatTensor([[1,2]])\n",
        "m2=torch.FloatTensor([3]) # 3 -> [[3,3]]\n",
        "print(m1+m2)"
      ],
      "execution_count": null,
      "outputs": []
    },
    {
      "cell_type": "code",
      "metadata": {
        "id": "X4VTunlBN7M9"
      },
      "source": [
        "# 2 x 1 Vector + 1 x 2 Vector\n",
        "m1=torch.FloatTensor([[1,2]])\n",
        "m2=torch.FloatTensor([[3],[4]])\n",
        "print(m1+m2)"
      ],
      "execution_count": null,
      "outputs": []
    },
    {
      "cell_type": "markdown",
      "metadata": {
        "id": "hn_jEMkgPVsB"
      },
      "source": [
        "### Multiplication vs Matrix Multiplication"
      ]
    },
    {
      "cell_type": "code",
      "metadata": {
        "id": "ScCXfr9uOgab"
      },
      "source": [
        "print()\n",
        "print('---------------')\n",
        "print('Mul vs Matmul')\n",
        "print('---------------')\n",
        "m1=torch.FloatTensor([[1,2],[3,4]])\n",
        "m2=torch.FloatTensor([[1],[2]])\n",
        "print('Shape of Matrix 1:',m1.shape)\n",
        "print('Shape of Matrix 2:',m2.shape)\n",
        "print(m1.matmul(m2))\n",
        "\n",
        "m1=torch.FloatTensor([[1, 2], [3, 4]])\n",
        "m2=torch.FloatTensor([[1], [2]])\n",
        "print('Shpae of Matrix 1: ',m1.shape)\n",
        "print('Shape of Matrix 2: ',m2.shape)\n",
        "print(m1 * m2)\n",
        "print(m1.mul(m2))"
      ],
      "execution_count": null,
      "outputs": []
    },
    {
      "cell_type": "markdown",
      "metadata": {
        "id": "4l_Uh-QXQwNE"
      },
      "source": [
        "### Mean"
      ]
    },
    {
      "cell_type": "code",
      "metadata": {
        "id": "vuuR1risQqk1"
      },
      "source": [
        "t=torch.FloatTensor([1, 2])\n",
        "print(t.mean())"
      ],
      "execution_count": null,
      "outputs": []
    },
    {
      "cell_type": "code",
      "metadata": {
        "id": "fLX8LKewQ111"
      },
      "source": [
        "t=torch.LongTensor([1, 2])\n",
        "try:\n",
        "  print(t.mean())\n",
        "except Exception as exc:\n",
        "  print(exc)"
      ],
      "execution_count": null,
      "outputs": []
    },
    {
      "cell_type": "code",
      "metadata": {
        "id": "xZtHOmy1Q7_l"
      },
      "source": [
        "t=torch.FloatTensor([[1,2],[3,4]])\n",
        "print(t)"
      ],
      "execution_count": null,
      "outputs": []
    },
    {
      "cell_type": "code",
      "metadata": {
        "id": "uIYnB3M0Rhuq"
      },
      "source": [
        "print(t.mean())\n",
        "print(t.mean(dim=0))\n",
        "print(t.mean(dim=1))\n",
        "print(t.mean(dim=-1))"
      ],
      "execution_count": null,
      "outputs": []
    },
    {
      "cell_type": "markdown",
      "metadata": {
        "id": "grvecJQVSL7o"
      },
      "source": [
        "### Sum"
      ]
    },
    {
      "cell_type": "code",
      "metadata": {
        "id": "EL0p58lxRo7V"
      },
      "source": [
        "t=torch.FloatTensor([[1,2],[3,4]])\n",
        "print(t)"
      ],
      "execution_count": null,
      "outputs": []
    },
    {
      "cell_type": "code",
      "metadata": {
        "id": "pBJyFub4SP_m"
      },
      "source": [
        "print(t.sum())\n",
        "print(t.sum(dim=0))\n",
        "print(t.sum(dim=1))\n",
        "print(t.sum(dim=-1))"
      ],
      "execution_count": null,
      "outputs": []
    },
    {
      "cell_type": "markdown",
      "metadata": {
        "id": "nFeBochkSkog"
      },
      "source": [
        "#### Max and Argmax"
      ]
    },
    {
      "cell_type": "code",
      "metadata": {
        "id": "3qU8ODhfSU4j"
      },
      "source": [
        "t=torch.FloatTensor([[1,2],[3,4]])\n",
        "print(t)"
      ],
      "execution_count": null,
      "outputs": []
    },
    {
      "cell_type": "code",
      "metadata": {
        "id": "sd-AsSjlSsdw"
      },
      "source": [
        "print(t.max()) # Returns one value: max"
      ],
      "execution_count": null,
      "outputs": []
    },
    {
      "cell_type": "code",
      "metadata": {
        "id": "P3QavaMVSvS5"
      },
      "source": [
        "print(t.max(dim=0)) # Returns two values: max and argmax\n",
        "print('Max: ',t.max(dim=0)[0])\n",
        "print('Argmax: ',t.max(dim=0))"
      ],
      "execution_count": null,
      "outputs": []
    },
    {
      "cell_type": "code",
      "metadata": {
        "id": "ZUUf5og1S4mD"
      },
      "source": [
        "print(t.max(dim=1))\n",
        "print(t.max(dim=-1))"
      ],
      "execution_count": null,
      "outputs": []
    },
    {
      "cell_type": "code",
      "metadata": {
        "id": "QTThIHr2S8Gn"
      },
      "source": [
        ""
      ],
      "execution_count": null,
      "outputs": []
    }
  ]
}
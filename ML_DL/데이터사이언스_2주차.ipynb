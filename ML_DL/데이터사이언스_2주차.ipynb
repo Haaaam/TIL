{
  "nbformat": 4,
  "nbformat_minor": 0,
  "metadata": {
    "colab": {
      "private_outputs": true,
      "provenance": []
    },
    "kernelspec": {
      "name": "python3",
      "display_name": "Python 3"
    },
    "language_info": {
      "name": "python"
    }
  },
  "cells": [
    {
      "cell_type": "markdown",
      "source": [
        "#### 1. Exploratory Data Anyalysis"
      ],
      "metadata": {
        "id": "LC_9BfSQ3g9i"
      }
    },
    {
      "cell_type": "markdown",
      "source": [
        "#### 2. 데이터셋 출처\n",
        "- Pima Indians Diabetes Database|Kaggle\n",
        "- https://www.kaggle.com/datasets/uciml/pima-indians-diabetes-database\n",
        "\n",
        "#### 2.1 데이터 구성\n",
        "- Pregnancies: 임신 횟수\n",
        "- Glucose: 2시간 동안의 경구 포도당 내성 검사에서 혈장 포도당 농도\n",
        "- BloodPressure:이완기 혈압 (mm Hg)\n",
        "- SkinThickness: SkinThicknessTriceps 피부 주름 두께(mm)\n",
        "- Insulin:2시간 혈청 인슐린 (mu U/ml)\n",
        "- BMI: 체질량 지수(체중kg/ 키(m)^2)\n",
        "- DiabetesPedigreeFunction: 당뇨병 혈통 기능\n",
        "- Age: 나이\n",
        "- Outcome: 768개 중에 268개의 결과 클래스 변수(0 또는 1)는 1이고 나머지는 0입니다."
      ],
      "metadata": {
        "id": "BBpSf6MT3pyn"
      }
    },
    {
      "cell_type": "markdown",
      "source": [
        "#### 라이브러리 로드"
      ],
      "metadata": {
        "id": "Z2m_iiBV4e4P"
      }
    },
    {
      "cell_type": "code",
      "execution_count": null,
      "metadata": {
        "id": "un9eYuKZs1sw"
      },
      "outputs": [],
      "source": [
        "# 데이터 분석을 위한 pandas, 수치계산을 위한 numpy\n",
        "# 시각화를 위한 seaborn, matplotlib.pyplot 을 로드합니다.\n",
        "import pandas as pd\n",
        "import numpy as np\n",
        "import seaborn as sns\n",
        "import matplotlib.pyplot as plt\n",
        "\n",
        "%matplotlib inline"
      ]
    },
    {
      "cell_type": "markdown",
      "source": [
        "#### 4 데이터 로드"
      ],
      "metadata": {
        "id": "D7Vk20hi4xP7"
      }
    },
    {
      "cell_type": "code",
      "source": [
        "df=pd.read_csv('data/diabetes.csv')\n",
        "df.shape"
      ],
      "metadata": {
        "id": "RLfld_lD3grL"
      },
      "execution_count": null,
      "outputs": []
    },
    {
      "cell_type": "code",
      "source": [
        "# 위에서 5개만 미리보기 합니다.\n",
        "df.head()"
      ],
      "metadata": {
        "id": "cI40VqfR5TBV"
      },
      "execution_count": null,
      "outputs": []
    },
    {
      "cell_type": "code",
      "source": [
        "# info로 데이터타입, 결측치, 메모리 사용량 등의 정보를 봅니다.\n",
        "df.info() # 결측치가 없음"
      ],
      "metadata": {
        "id": "wicHJWm25awd"
      },
      "execution_count": null,
      "outputs": []
    },
    {
      "cell_type": "code",
      "source": [
        "# 결측치를 봅니다.\n",
        "df_null=df.isnull()\n",
        "df_null.head()"
      ],
      "metadata": {
        "id": "Q9oi5jtv5hqb"
      },
      "execution_count": null,
      "outputs": []
    },
    {
      "cell_type": "code",
      "source": [
        "df_null.sum()"
      ],
      "metadata": {
        "id": "1Rv7qPdH5lFl"
      },
      "execution_count": null,
      "outputs": []
    },
    {
      "cell_type": "code",
      "source": [
        "# 수치데이터에 대한 요약을 봅니다.\n",
        "# 1사분위 값: 25%\n",
        "# 2사분위 값: 50%\n",
        "# 3사분위 값: 75%\n",
        "# Gluecose에서 최솟값이 0인데 1사분위 값이 99이므로 결측치로 볼 수 있음\n",
        "# BloodPressure(혈압)의 최솟값도 0이므로 결측치로 예상\n",
        "# SkinThickness(피부두께)의 최솟값도 0이므로 결측치로 예상\n",
        "df.describe()"
      ],
      "metadata": {
        "id": "xYMp1ftx51Rt"
      },
      "execution_count": null,
      "outputs": []
    },
    {
      "cell_type": "code",
      "source": [
        "# 가장 마지막에 있는 Outcome은 label 값이기 때문에 제외하고\n",
        "# 학습과 예측에 사용할 컬럼을 만들어 줍니다.\n",
        "# feature_columns 라는 변수에 담아줍니다.\n",
        "\n",
        "feature_columns=df.columns[:-1].tolist() # Age까지 가져오겠다.\n",
        "feature_columns"
      ],
      "metadata": {
        "id": "c06iD6sN68Ea"
      },
      "execution_count": null,
      "outputs": []
    },
    {
      "cell_type": "markdown",
      "source": [
        "#### 5 결측치 시각화\n",
        "\n",
        "값을 요약해 보면 최솟값이 0으로 나오는 값들이 있습니다.\n",
        "0이 나올 수 있는 값도 있지만 인슐린이나 혈압 등의 값은 0값이 결측치라고 볼 수 있을 것입니다.\n",
        "따라서 0인 값을 결측치로 처리하고 시각화 해봅니다."
      ],
      "metadata": {
        "id": "siX-gq3t79yU"
      }
    },
    {
      "cell_type": "code",
      "source": [
        "cols=feature_columns[1:]\n",
        "cols"
      ],
      "metadata": {
        "id": "D0e65joO7ya5"
      },
      "execution_count": null,
      "outputs": []
    },
    {
      "cell_type": "code",
      "source": [
        "# 결측치 여부를 나타내는 데이터프레임을 만듭니다.\n",
        "# 0값을 결측치라 가정하고 정답(label, target)값을 제외한 컬럼에 대해\n",
        "# 결측치 여부를 구해서 df_null 이라는 데이터프레임에 담습니다.\n",
        "# insulin 수치는 결측치가 너무 많기 때문에 당뇨병을 결정하는데 중요한 column이 아닐 것으로 예상\n",
        "df_null=df[cols].replace(0,np.nan)\n",
        "df_null=df_null.isnull()\n",
        "df_null.sum()"
      ],
      "metadata": {
        "id": "sdY2JQ4v8WS0"
      },
      "execution_count": null,
      "outputs": []
    },
    {
      "cell_type": "code",
      "source": [
        "df_null.mean()*100"
      ],
      "metadata": {
        "id": "Zx5rNtlH9Bmi"
      },
      "execution_count": null,
      "outputs": []
    },
    {
      "cell_type": "code",
      "source": [
        "# 결측치의 갯수를 구해 막대 그래프로 시각화 합니다.\n",
        "df_null.sum().plot.barh()"
      ],
      "metadata": {
        "id": "ZYnKojx78fnT"
      },
      "execution_count": null,
      "outputs": []
    },
    {
      "cell_type": "code",
      "source": [
        "# 결측치를 heatmap으로 시각화 합니다.\n",
        "plt.figure(figsize=(15,4))\n",
        "sns.heatmap(df_null) # True는 검정색, False는 흰색"
      ],
      "metadata": {
        "id": "aHYqrxbi89G_"
      },
      "execution_count": null,
      "outputs": []
    },
    {
      "cell_type": "markdown",
      "source": [
        "#### 6 정답값\n",
        "- target, label이라고 부르기도 합니다."
      ],
      "metadata": {
        "id": "_1ysEI-t-hlK"
      }
    },
    {
      "cell_type": "code",
      "source": [
        "# 정답값인 outcome의 갯수를 봅니다.\n",
        "df[\"Outcome\"].value_counts()"
      ],
      "metadata": {
        "id": "hyV_8bH_9L70"
      },
      "execution_count": null,
      "outputs": []
    },
    {
      "cell_type": "code",
      "source": [
        "# 정답값인 outcome의 비율을 봅니다.\n",
        "df[\"Outcome\"].value_counts(normalize=True)*100"
      ],
      "metadata": {
        "id": "aD5vn3H1-pu-"
      },
      "execution_count": null,
      "outputs": []
    },
    {
      "cell_type": "code",
      "source": [
        "# 다른 변수와 함께 봅니다.\n",
        "# 임신횟수와 정답값을 비교해 봅니다.\n",
        "# \"Pregnancies\"를 groupby로 그룹화해서 Outcome에 대한 비율을 구합니다.\n",
        "# 결과를 df_po라는 변수에 저장합니다.\n",
        "\n",
        "df_po=df.groupby([\"Pregnancies\"])[\"Outcome\"].agg([\"mean\",\"count\"]).reset_index()\n",
        "df_po"
      ],
      "metadata": {
        "id": "A6JPiRPU-2O-"
      },
      "execution_count": null,
      "outputs": []
    },
    {
      "cell_type": "code",
      "source": [
        "# 임신횟수에 따른 당뇨병 발병 비율\n",
        "df_po[\"mean\"].plot.bar(rot=0)"
      ],
      "metadata": {
        "id": "u3Y8JiCC_Ngb"
      },
      "execution_count": null,
      "outputs": []
    },
    {
      "cell_type": "markdown",
      "source": [
        "#### 7 countplot"
      ],
      "metadata": {
        "id": "1kBLUZzCAay4"
      }
    },
    {
      "cell_type": "code",
      "source": [
        "# 위에서 구했던 당뇨병 발병 비율을 구해봅니다.\n",
        "# 당뇨병 발병 빈도수를 비교 합니다.\n",
        "\n",
        "sns.countplot(data=df,x=\"Outcome\")"
      ],
      "metadata": {
        "id": "QMoBb5WTALX4"
      },
      "execution_count": null,
      "outputs": []
    },
    {
      "cell_type": "code",
      "source": [
        "# 임신횟수에 따른 당뇨병 발병 빈도수를 비교합니다.\n",
        "\n",
        "sns.countplot(data=df,x=\"Pregnancies\",hue=\"Outcome\")"
      ],
      "metadata": {
        "id": "8ZtdrpQ2AlQO"
      },
      "execution_count": null,
      "outputs": []
    },
    {
      "cell_type": "code",
      "source": [
        "# 임신횟수의 많고 적음에 따라 Pregnancies_high 변수를 만듭니다.\n",
        "df[\"Pregnancies_high\"]=df[\"Pregnancies\"] > 6\n",
        "df[[\"Pregnancies_high\",\"Pregnancies\"]].head()"
      ],
      "metadata": {
        "id": "51nnGS2SAzMa"
      },
      "execution_count": null,
      "outputs": []
    },
    {
      "cell_type": "code",
      "source": [
        "# Pregnancies_high 변수의 빈도수를 countplot으로 그리고\n",
        "# Outcome 값에 따라 다른 색상으로 표현합니다.\n",
        "\n",
        "sns.countplot(data=df, x=\"Pregnancies_high\", hue=\"Outcome\")"
      ],
      "metadata": {
        "id": "U4euuqZEBNn3"
      },
      "execution_count": null,
      "outputs": []
    },
    {
      "cell_type": "markdown",
      "source": [
        "#### 8 barplot\n",
        "- 기본 설정으로 시각화 하면 y축에는 평균을 추정해서 그리게 됩니다.\n"
      ],
      "metadata": {
        "id": "1gOFw5prES_I"
      }
    },
    {
      "cell_type": "code",
      "source": [
        "# 당뇨병 발병에 따른 BMI 수치를 비교합니다.\n",
        "sns.barplot(data=df,x=\"Outcome\",y=\"BMI\")"
      ],
      "metadata": {
        "id": "54PeoVGFBnys"
      },
      "execution_count": null,
      "outputs": []
    },
    {
      "cell_type": "code",
      "source": [
        "# 당뇨병 발병에 따른 포도당(Gluecose) 수치를 비교합니다.\n",
        "sns.barplot(data=df,x=\"Outcome\",y=\"Glucose\")"
      ],
      "metadata": {
        "id": "CkWS3w1TEc72"
      },
      "execution_count": null,
      "outputs": []
    },
    {
      "cell_type": "code",
      "source": [
        "# Insuline 수치가 0 이상인 관측치에 대해서 당뇨병 발병을 비교합니다.\n",
        "sns.barplot(data=df, x=\"Outcome\",y=\"Insulin\")"
      ],
      "metadata": {
        "id": "extuXasEEc-g"
      },
      "execution_count": null,
      "outputs": []
    },
    {
      "cell_type": "code",
      "source": [
        "# 임신횟수에 대해서 당뇨병 발병 비율을 비교합니다.\n",
        "sns.barplot(data=df,x=\"Pregnancies\",y=\"Outcome\")"
      ],
      "metadata": {
        "id": "qmPl8DwiEdBT"
      },
      "execution_count": null,
      "outputs": []
    },
    {
      "cell_type": "code",
      "source": [
        "# 임신횟수(Pregnancies)에 따른 포도당(Gluecose)수치를 당뇨병 발병여부(Outcome)에 따라 시각화 합니다.\n",
        "sns.barplot(data=df,x=\"Pregnancies\",y=\"Glucose\",hue=\"Outcome\")"
      ],
      "metadata": {
        "id": "oRNNUo1UEdEC"
      },
      "execution_count": null,
      "outputs": []
    },
    {
      "cell_type": "code",
      "source": [
        "# 임신횟수(Pregnancies)에 따른 체질량지수(BMI)를 당뇨병 발병여부(Outcome)에 따라 시각화 합니다.\n",
        "sns.barplot(data=df,x=\"Pregnancies\",y=\"BMI\",hue=\"Outcome\")"
      ],
      "metadata": {
        "id": "YbcQeutdEdIH"
      },
      "execution_count": null,
      "outputs": []
    },
    {
      "cell_type": "code",
      "source": [
        "# 임신횟수(Pregnancies)에 따른 인슐린 수치(Insulin)를 당뇨병 발병여부(Outcome)에 따라 시각화 합니다.\n",
        "# 인슐린 수치에는 결측치가 많기 때문에 0보다 큰 값에 대해서만 그립니다.\n",
        "sns.barplot(data=df[df[\"Insulin\"]>0],x=\"Pregnancies\",y=\"Insulin\",hue=\"Outcome\")"
      ],
      "metadata": {
        "id": "EE0Zp284pVNV"
      },
      "execution_count": null,
      "outputs": []
    },
    {
      "cell_type": "markdown",
      "source": [
        "#### 9 boxplot"
      ],
      "metadata": {
        "id": "QcsUQfQvpspW"
      }
    },
    {
      "cell_type": "code",
      "source": [
        "# 임신횟수 (Pregnancies)에 따른 인슐린 수치(Insulin)를 당뇨병 발병여부(Outcome)에 따라 시각화 합니다.\n",
        "# 인슐린 수치에는 결측치가 많기 떄문에 0보다 큰 값에 대해서만 그립니다.\n",
        "\n",
        "sns.boxplot(data=df[df[\"Insulin\"]>0], x=\"Pregnancies\",y=\"Insulin\",hue=\"Outcome\")"
      ],
      "metadata": {
        "id": "byb8VG3LpnTH"
      },
      "execution_count": null,
      "outputs": []
    },
    {
      "cell_type": "markdown",
      "source": [
        "#### 10 violinplot"
      ],
      "metadata": {
        "id": "EmgpZ325p9uS"
      }
    },
    {
      "cell_type": "code",
      "source": [
        "plt.figure(figsize=(20, 5))\n",
        "sns.violinplot(data=df[df[\"Insulin\"] > 0], x=\"Pregnancies\", y=\"Insulin\", hue=\"Outcome\", split=True)"
      ],
      "metadata": {
        "id": "UDiQrjbrp7tA"
      },
      "execution_count": null,
      "outputs": []
    },
    {
      "cell_type": "markdown",
      "source": [
        "#### 11 swarmplot"
      ],
      "metadata": {
        "id": "aIAIqhWytiAW"
      }
    },
    {
      "cell_type": "code",
      "source": [
        "plt.figure(figsize=(15, 4))\n",
        "sns.violinplot(data=df[df[\"Insulin\"] > 0], x=\"Pregnancies\", y=\"Insulin\", hue=\"Outcome\")"
      ],
      "metadata": {
        "id": "uA-2O3PottTE"
      },
      "execution_count": null,
      "outputs": []
    },
    {
      "cell_type": "markdown",
      "source": [
        "#### 12 Displot"
      ],
      "metadata": {
        "id": "KSLAvCom8OiA"
      }
    },
    {
      "cell_type": "code",
      "source": [
        "## distplot: 1개의 수치형 변수를 표현할 때 사용하는 시각화 그래프\n",
        "\n",
        "sns.distplot(df[\"Pregnancies\"])"
      ],
      "metadata": {
        "id": "fA9-2gGW8Uya"
      },
      "execution_count": null,
      "outputs": []
    },
    {
      "cell_type": "code",
      "source": [
        "df_0=df[df[\"Outcome\"]==0]\n",
        "df_1=df[df[\"Outcome\"]==1]\n",
        "df_0.shape,df_1.shape"
      ],
      "metadata": {
        "id": "oP2QT9HS8f6s"
      },
      "execution_count": null,
      "outputs": []
    },
    {
      "cell_type": "code",
      "source": [
        "sns.distplot(df_0[\"Pregnancies\"])\n",
        "sns.distplot(df_1[\"Pregnancies\"])"
      ],
      "metadata": {
        "id": "MHdaLgKd845e"
      },
      "execution_count": null,
      "outputs": []
    },
    {
      "cell_type": "code",
      "source": [
        "sns.distplot(df_0[\"Age\"])\n",
        "sns.distplot(df_1[\"Age\"])"
      ],
      "metadata": {
        "id": "_lz77L8_8qR3"
      },
      "execution_count": null,
      "outputs": []
    },
    {
      "cell_type": "code",
      "source": [
        "sns.distplot(df_0[\"Age\"],hist=False)\n",
        "sns.distplot(df_1[\"Age\"],hist=False)"
      ],
      "metadata": {
        "id": "npvvocvB9GjI"
      },
      "execution_count": null,
      "outputs": []
    },
    {
      "cell_type": "code",
      "source": [
        "sns.distplot(df_0[\"Age\"],hist=False,rug=True)\n",
        "sns.distplot(df_1[\"Age\"],hist=False,rug=True)"
      ],
      "metadata": {
        "id": "PB6ETYT39ObE"
      },
      "execution_count": null,
      "outputs": []
    },
    {
      "cell_type": "code",
      "source": [
        "sns.distplot(df_0[\"Age\"],hist=False,rug=True,label=0)\n",
        "sns.distplot(df_1[\"Age\"],hist=False,rug=True,label=1)"
      ],
      "metadata": {
        "id": "84ahOxM79aia"
      },
      "execution_count": null,
      "outputs": []
    },
    {
      "cell_type": "markdown",
      "source": [
        "#### 13 Subplots"
      ],
      "metadata": {
        "id": "XIEVNggf1AZ7"
      }
    },
    {
      "cell_type": "markdown",
      "source": [
        "#### 13.1 Pandas를 통한 hisplot 그리기\n",
        "- pandas를 사용하면 모든 변수에 대한 서브플롯을 한 번에그려줍니다."
      ],
      "metadata": {
        "id": "az_k-MqK1JPd"
      }
    },
    {
      "cell_type": "code",
      "source": [
        "df[\"Pregnancies_high\"]=df[\"Pregnancies_high\"].astype(int)"
      ],
      "metadata": {
        "id": "C8w8OLmGtuXm"
      },
      "execution_count": null,
      "outputs": []
    },
    {
      "cell_type": "code",
      "source": [
        "h=df.hist(figsize=(10,10),bins=20) # historgram의 막대 갯수 설정 bins\n"
      ],
      "metadata": {
        "id": "gffOFLkD18_b"
      },
      "execution_count": null,
      "outputs": []
    },
    {
      "cell_type": "markdown",
      "source": [
        "#### 13.2 반복문을 통한 서브플롯 그리기\n",
        "- 13.2.1 distplot"
      ],
      "metadata": {
        "id": "KaeatT8g1wZA"
      }
    },
    {
      "cell_type": "code",
      "source": [
        "# 컬럼의 수 만큼 for 문을 만들어서 서브플롯으로 시각화를 합니다.\n",
        "col_num=df.columns.shape #(col_num,)\n",
        "col_num"
      ],
      "metadata": {
        "id": "r9bmv3iZ1ko6"
      },
      "execution_count": null,
      "outputs": []
    },
    {
      "cell_type": "code",
      "source": [
        "col_list=df.columns[:-1].tolist()"
      ],
      "metadata": {
        "id": "3UG-RmKs5qf5"
      },
      "execution_count": null,
      "outputs": []
    },
    {
      "cell_type": "code",
      "source": [
        "# histplot으로 서브플롯을 그립니다.\n",
        "fig,axes= plt.subplots(nrows=3,ncols=3,figsize=(15,15))\n",
        "\n",
        "for i,col_name in enumerate(col_list):\n",
        "  row=i//3\n",
        "  col=i%3\n",
        "  sns.distplot(df[col_name],ax=axes[row][col])\n",
        "#sns.displot(df[\"Outcome\"],ax=axes[0][1])\n",
        "#sns.displot(df[\"Age\"],ax=axes[0][0])"
      ],
      "metadata": {
        "id": "Azinc7962ga-"
      },
      "execution_count": null,
      "outputs": []
    },
    {
      "cell_type": "markdown",
      "source": [
        "#### 13.2.2 violinplot"
      ],
      "metadata": {
        "id": "K9MGqSHM91Yv"
      }
    },
    {
      "cell_type": "code",
      "source": [
        "col_list=df.columns[:-1].tolist()"
      ],
      "metadata": {
        "id": "3lHqyfHj-adF"
      },
      "execution_count": null,
      "outputs": []
    },
    {
      "cell_type": "code",
      "source": [
        "# violintplot으로 서브플롯을 그려봅니다.\n",
        "\n",
        "fig,axes= plt.subplots(nrows=4,ncols=2,figsize=(15,15))\n",
        "\n",
        "for i,col_name in enumerate(col_list[:-1]):\n",
        "  row=i//2\n",
        "  col=i%2\n",
        "  sns.violinplot(data=df,x=\"Outcome\",y=col_name,ax=axes[row][col])\n",
        "#sns.displot(df[\"Outcome\"],ax=axes[0][1])\n",
        "#sns.displot(df[\"Age\"],ax=axes[0][0])"
      ],
      "metadata": {
        "id": "EITyws9c21x6"
      },
      "execution_count": null,
      "outputs": []
    },
    {
      "cell_type": "markdown",
      "source": [
        "#### 13.2.3 lmplot\n",
        "- 상관계수가 높은 두 변수에 대해 시각화 합니다."
      ],
      "metadata": {
        "id": "glHl8_aR-4_B"
      }
    },
    {
      "cell_type": "code",
      "source": [
        "# Glucose와 Insulin을 Outcome으로 구분해 봅니다.\n",
        "sns.lmplot(data=df,x=\"Glucose\",y=\"Insulin\",hue=\"Outcome\")"
      ],
      "metadata": {
        "id": "EQkWzeke-Hg0"
      },
      "execution_count": null,
      "outputs": []
    },
    {
      "cell_type": "code",
      "source": [
        "# Insulin 수치가 0 이상인 데이터로만 그려봅니다.\n",
        "sns.lmplot(data=df[df[\"Insulin\"]>0],x=\"Glucose\",y=\"Insulin\",hue=\"Outcome\")"
      ],
      "metadata": {
        "id": "or0KdTQt_ADV"
      },
      "execution_count": null,
      "outputs": []
    },
    {
      "cell_type": "markdown",
      "source": [
        "#### 13.2.4 pairplot"
      ],
      "metadata": {
        "id": "NSQo34Bg_95W"
      }
    },
    {
      "cell_type": "code",
      "source": [
        "# PairGrid를 통해 모든 변수에 대해 Outcome에 따른 scatterplot을 그려봅니다.\n",
        "# pairplot: 모든 변수에 대해서 그래프를 그림, scatterplot이 기본\n",
        "g=sns.PairGrid(df,hue=\"Outcome\")\n",
        "g.map(plt.scatter)"
      ],
      "metadata": {
        "id": "ojX4V2no_7N4"
      },
      "execution_count": null,
      "outputs": []
    },
    {
      "cell_type": "markdown",
      "source": [
        "#### 14 상관 분석\n",
        "- 두 변수간에 어떤 선형적 또는 비선형적 관계를 갖고 있는 지를 분석하는 방법 (두 계수 x,y의 상관계수의 정도를 나타내는 수치)"
      ],
      "metadata": {
        "id": "RaOZ45dG2Ac6"
      }
    },
    {
      "cell_type": "code",
      "source": [
        "df_matrix=df.iloc[:,:-2].replace(0,np.nan) # replace를 이용하여 0값은 nan으로 대체\n",
        "df_matrix[\"Outcome\"]=df[\"Outcome\"]\n",
        "df_matrix"
      ],
      "metadata": {
        "id": "dko3lWVUFohp"
      },
      "execution_count": null,
      "outputs": []
    },
    {
      "cell_type": "code",
      "source": [
        "# 정답 값인 Outcome을 제외 하고 feature로 사용할 컬럼들에 대해 0을 결측치로 만들어 줍니다.\n",
        "# 상관계수를 구합니다.\n",
        "df_corr=df_matrix.corr()\n",
        "df_corr.style.background_gradient()"
      ],
      "metadata": {
        "id": "99ldTovu_qcP"
      },
      "execution_count": null,
      "outputs": []
    },
    {
      "cell_type": "code",
      "source": [
        "# 위에서 구한 상관계수를 heatmap으로 시각화 합니다.\n",
        "df_corr"
      ],
      "metadata": {
        "id": "EFVZRGY733rU"
      },
      "execution_count": null,
      "outputs": []
    },
    {
      "cell_type": "code",
      "source": [
        "# 위에서 구한 상관계수를 heatmap으로 시각화 합니다.\n",
        "plt.figure(figsize=(15,8))\n",
        "sns.heatmap(df_corr,annot=True,vmax=1,vmin=-1,cmap=\"coolwarm\") # max값 1, min값을 -1로 표시"
      ],
      "metadata": {
        "id": "Le6y9zLM4GSE"
      },
      "execution_count": null,
      "outputs": []
    },
    {
      "cell_type": "code",
      "source": [
        "# Outcome 수치에 대한 상관계수만 모아서 봅니다.\n",
        "df_corr[\"Outcome\"]"
      ],
      "metadata": {
        "id": "OZKs0b2g4Tpl"
      },
      "execution_count": null,
      "outputs": []
    },
    {
      "cell_type": "markdown",
      "source": [
        "#### 14.1 상관계수가 높은 변수끼리 보기"
      ],
      "metadata": {
        "id": "7VaaXh7GJZD3"
      }
    },
    {
      "cell_type": "code",
      "source": [
        "# Insulin과 Gluecose로 regplot 그리기\n",
        "sns.regplot(data=df_matrix, x=\"Insulin\",y=\"Glucose\") # 회귀선이 1에 가까울 수록 상관관계가 높다는 것을 뜻함"
      ],
      "metadata": {
        "id": "15LGAYKPJX1D"
      },
      "execution_count": null,
      "outputs": []
    },
    {
      "cell_type": "code",
      "source": [
        "# df_0으로 결측치 처리한 데이터프레임으로\n",
        "# Insulin과 Gluecose로 regplot 그리기\n",
        "\n",
        "sns.regplot(data=df_matrix,x=\"Insulin\",y=\"Glucose\")"
      ],
      "metadata": {
        "id": "2610GYN5JoqL"
      },
      "execution_count": null,
      "outputs": []
    },
    {
      "cell_type": "code",
      "source": [
        "# Age와 Pregnancies로 regplot 그리기\n",
        "sns.regplot(data=df,x=\"Age\",y=\"Pregnancies\")"
      ],
      "metadata": {
        "id": "bMpoDg4VJ8ek"
      },
      "execution_count": null,
      "outputs": []
    },
    {
      "cell_type": "code",
      "source": [
        "# Age 와 Pregnancies로 lmplot을 그리고 Outcome에 따라 다른 색상으로 표현하기\n",
        "sns.lmplot(data=df,x=\"Age\",y=\"Pregnancies\",hue=\"Outcome\",col=\"Outcome\")"
      ],
      "metadata": {
        "id": "t6XrmzRXKGSi"
      },
      "execution_count": null,
      "outputs": []
    },
    {
      "cell_type": "code",
      "source": [
        "df_corr[\"Outcome\"]"
      ],
      "metadata": {
        "id": "r8VBqVzgKi1B"
      },
      "execution_count": null,
      "outputs": []
    },
    {
      "cell_type": "code",
      "source": [],
      "metadata": {
        "id": "5IFuV1IVK-5b"
      },
      "execution_count": null,
      "outputs": []
    }
  ]
}
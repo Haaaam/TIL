{
 "cells": [
  {
   "cell_type": "markdown",
   "metadata": {},
   "source": [
    "### ML Cost prediction"
   ]
  },
  {
   "cell_type": "code",
   "execution_count": 19,
   "metadata": {},
   "outputs": [
    {
     "name": "stdout",
     "output_type": "stream",
     "text": [
      "0 4574313000.0 [10421.044] [1992.814]\n",
      "500 8684567.0 [25539.992] [1937.9509]\n",
      "1000 8633751.0 [25627.867] [1502.801]\n",
      "1500 8632678.0 [25640.672] [1439.3918]\n",
      "2000 8632654.0 [25642.54] [1430.1455]\n",
      "2500 8632654.0 [25642.807] [1428.8142]\n",
      "3000 8632650.0 [25642.844] [1428.6321]\n",
      "3500 8632657.0 [25642.848] [1428.6133]\n",
      "4000 8632657.0 [25642.848] [1428.6133]\n",
      "4500 8632657.0 [25642.848] [1428.6133]\n",
      "5000 8632657.0 [25642.848] [1428.6133]\n",
      "[206571.39]\n"
     ]
    }
   ],
   "source": [
    "import tensorflow.compat.v1 as tf\n",
    "tf.disable_v2_behavior()\n",
    "\n",
    "# 하루 노동 시간\n",
    "xData=[1,2,3,4,5,6,7]\n",
    "#하루 매출\n",
    "yData=[25000,55000,75000,110000,128000,155000,180000]\n",
    "\n",
    "#W는 Weight(가중치): -100~100사이의 랜덤값, b: bias y절편\n",
    "W=tf.Variable(tf.random_uniform([1],-100,100))\n",
    "b=tf.Variable(tf.random_uniform([1],-100,100))\n",
    "\n",
    "#placeholder라는 하나의 틀\n",
    "X=tf.placeholder(tf.float32)\n",
    "Y=tf.placeholder(tf.float32)\n",
    "\n",
    "#가설식\n",
    "H=W*X+b\n",
    "\n",
    "#비용함수(cost): (이상치-실제값)의 제곱의 평균\n",
    "cost=tf.reduce_mean(tf.square(H-Y))\n",
    "\n",
    "#경사하강 알고리즘에서 한번에 얼만큼 내려갈 것인지, step의 크기\n",
    "a=tf.Variable(0.01)\n",
    "optimizer=tf.train.GradientDescentOptimizer(a)\n",
    "\n",
    "#비용함수를 가장 적게 만드는 방법으로 학습\n",
    "train=optimizer.minimize(cost)\n",
    "\n",
    "#변수 초기화\n",
    "init=tf.global_variables_initializer()\n",
    "\n",
    "#세션\n",
    "sess=tf.Session()\n",
    "sess.run(init)\n",
    "\n",
    "#학습\n",
    "for i in range(5001):\n",
    "    sess.run(train,feed_dict={X:xData,Y:yData})\n",
    "    #500번에 1번씩 ML과정을 출력\n",
    "    if i%500==0:\n",
    "        print(i,sess.run(cost,feed_dict={X:xData,Y:yData}),sess.run(W),sess.run(b))\n",
    "\n",
    "#예측결과\n",
    "print(sess.run(H,feed_dict={X:[8]}))"
   ]
  },
  {
   "cell_type": "markdown",
   "metadata": {},
   "source": [
    "#### Conclusion\n",
    "- 위의 학습 과정이 출력된 것을 봤을때, 학습을 3000번정도 했을때부터는 합리적인 답을 발견하여 값이 변화하지 않는것을 알 수 있다.\n",
    "- 5000번학습시킨 결과 프로그램이 가장 합리적인 가설식을 발견함.\n",
    "- 결과적으로 임의로 8번째에 출력될 값을 알아봤을때 최적의 예측값이 출력되는 것을 알 수 있다.(장사꾼이 8시간째에 일했을 경우 20,6571원을 벌게 된다는 것을 예측 가능)\n"
   ]
  },
  {
   "cell_type": "code",
   "execution_count": null,
   "metadata": {},
   "outputs": [],
   "source": []
  }
 ],
 "metadata": {
  "kernelspec": {
   "display_name": "Python 3",
   "language": "python",
   "name": "python3"
  },
  "language_info": {
   "codemirror_mode": {
    "name": "ipython",
    "version": 3
   },
   "file_extension": ".py",
   "mimetype": "text/x-python",
   "name": "python",
   "nbconvert_exporter": "python",
   "pygments_lexer": "ipython3",
   "version": "3.8.5"
  }
 },
 "nbformat": 4,
 "nbformat_minor": 4
}

{
  "nbformat": 4,
  "nbformat_minor": 0,
  "metadata": {
    "colab": {
      "private_outputs": true,
      "provenance": []
    },
    "kernelspec": {
      "name": "python3",
      "display_name": "Python 3"
    },
    "language_info": {
      "name": "python"
    }
  },
  "cells": [
    {
      "cell_type": "markdown",
      "source": [
        "#### Text Classification"
      ],
      "metadata": {
        "id": "xKg3ypytwKUI"
      }
    },
    {
      "cell_type": "code",
      "execution_count": null,
      "metadata": {
        "id": "3YJdSnrtUicM"
      },
      "outputs": [],
      "source": [
        "from transformers import pipeline\n",
        "# text classification에 대한 파이프라인 객체 생성\n",
        "classifier=pipeline(\"text-classification\")"
      ]
    },
    {
      "cell_type": "code",
      "source": [
        "text = \"\"\"Dear Amazon, last week I ordered an Optimus Prime action figure \\\n",
        "from your online store in Germany. Unfortunately, when I opened the package, \\\n",
        "I discovered to my horror that I had been sent an action figure of Megatron \\\n",
        "instead! As a lifelong enemy of the Decepticons, I hope you can understand my \\\n",
        "dilemma. To resolve the issue, I demand an exchange of Megatron for the \\\n",
        "Optimus Prime figure I ordered. Enclosed are copies of my records concerning \\\n",
        "this purchase. I expect to hear from you soon. Sincerely, Bumblebee.\"\"\""
      ],
      "metadata": {
        "id": "DIaB_n9qwVg-"
      },
      "execution_count": null,
      "outputs": []
    },
    {
      "cell_type": "code",
      "source": [
        "import pandas as pd\n",
        "outputs=classifier(text)\n"
      ],
      "metadata": {
        "id": "HSDZ5dSHUkL8"
      },
      "execution_count": null,
      "outputs": []
    },
    {
      "cell_type": "code",
      "source": [
        "pd.DataFrame(outputs)"
      ],
      "metadata": {
        "id": "aluyP-NYwoB6"
      },
      "execution_count": null,
      "outputs": []
    },
    {
      "cell_type": "markdown",
      "source": [
        "#### Named Entity Recognition"
      ],
      "metadata": {
        "id": "hdFKzxMiws7G"
      }
    },
    {
      "cell_type": "code",
      "source": [
        "# 개체명 인식\n",
        "ner_tagger=pipeline(\"ner\",aggregation_strategy=\"simple\")\n",
        "outputs=ner_tagger(text)\n",
        "pd.DataFrame(outputs)\n",
        "# 모든 개체명을 감지하고 ORG(조직), LOC(위치), PER(사람) 등의 카테고리에 할당"
      ],
      "metadata": {
        "id": "fsGrx-mNwrfR"
      },
      "execution_count": null,
      "outputs": []
    },
    {
      "cell_type": "markdown",
      "source": [
        "#### Question Answering"
      ],
      "metadata": {
        "id": "q8iDe40Ay7FR"
      }
    },
    {
      "cell_type": "code",
      "source": [
        "# 질문 답변\n",
        "reader=pipeline(\"question-answering\")\n",
        "question=\"What does the customer want?\"\n",
        "outputs=reader(question=question, context=text)\n",
        "# 답변과 함께 답이 위치한 문자 인덱스에 해당하는 start와 end 정수 반환\n",
        "pd.DataFrame([outputs])"
      ],
      "metadata": {
        "id": "XAKsY0zxw4ce"
      },
      "execution_count": null,
      "outputs": []
    },
    {
      "cell_type": "markdown",
      "source": [
        "#### Summarization"
      ],
      "metadata": {
        "id": "i0y9o53ezR7f"
      }
    },
    {
      "cell_type": "code",
      "source": [
        "summarizer=pipeline(\"summarization\")\n",
        "outputs=summarizer(text,max_length=45,clean_up_tokenization_spaces=True)\n",
        "print(outputs[0][\"summary_text\"])"
      ],
      "metadata": {
        "id": "BIt_BNkUzIXf"
      },
      "execution_count": null,
      "outputs": []
    },
    {
      "cell_type": "markdown",
      "source": [
        "#### Translation"
      ],
      "metadata": {
        "id": "W89luqOZ2pqF"
      }
    },
    {
      "cell_type": "code",
      "source": [
        "# 번역\n",
        "translator=pipeline(\"translation_en_to_de\",model=\"Helsinki-NLP/opus-mt-en-de\")\n",
        "outputs=translator(text,clean_up_tokenization_spaces=True,min_length=100)\n",
        "print(outputs[0]['translation_text'])"
      ],
      "metadata": {
        "id": "7Zns4gsu142s"
      },
      "execution_count": null,
      "outputs": []
    },
    {
      "cell_type": "markdown",
      "source": [
        "#### Text Generation\n"
      ],
      "metadata": {
        "id": "-CkVRi_t2tpv"
      }
    },
    {
      "cell_type": "code",
      "source": [
        "from transformers import set_seed\n",
        "set_seed(42) # Set the seed to get reproducible results"
      ],
      "metadata": {
        "id": "SiWS-h7p2jb4"
      },
      "execution_count": null,
      "outputs": []
    },
    {
      "cell_type": "code",
      "source": [
        "# input text에 대한 답변 생성\n",
        "generator=pipeline(\"text-generation\")\n",
        "response=\"Dear Bumblebee, I am sorry to hear that your order was mixed up.\"\n",
        "prompt=text+\"\\n\\nCustomer service response:\\n\" + response\n",
        "outputs=generator(prompt,max_length=200)\n",
        "print(outputs[0]['generated_text'])"
      ],
      "metadata": {
        "id": "XVSpYmfF207G"
      },
      "execution_count": null,
      "outputs": []
    },
    {
      "cell_type": "code",
      "source": [],
      "metadata": {
        "id": "BPhKywXq3J2U"
      },
      "execution_count": null,
      "outputs": []
    }
  ]
}
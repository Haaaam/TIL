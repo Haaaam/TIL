{
  "nbformat": 4,
  "nbformat_minor": 0,
  "metadata": {
    "colab": {
      "private_outputs": true,
      "provenance": []
    },
    "kernelspec": {
      "name": "python3",
      "display_name": "Python 3"
    },
    "language_info": {
      "name": "python"
    }
  },
  "cells": [
    {
      "cell_type": "markdown",
      "source": [
        "#### 1. 데이터셋 출처\n",
        "- Pima Indians Diabetes Database|Kaggle\n",
        "- https://www.kaggle.com/datasets/uciml/pima-indians-diabetes-database\n",
        "\n",
        "#### 1.1 데이터 구성\n",
        "- Pregnancies: 임신 횟수\n",
        "- Glucose: 2시간 동안의 경구 포도당 내성 검사에서 혈장 포도당 농도\n",
        "- BloodPressure:이완기 혈압 (mm Hg)\n",
        "- SkinThickness: SkinThicknessTriceps 피부 주름 두께(mm)\n",
        "- Insulin:2시간 혈청 인슐린 (mu U/ml)\n",
        "- BMI: 체질량 지수(체중kg/ 키(m)^2)\n",
        "- DiabetesPedigreeFunction: 당뇨병 혈통 기능\n",
        "- Age: 나이\n",
        "- Outcome: 768개 중에 268개의 결과 클래스 변수(0 또는 1)는 1이고 나머지는 0입니다."
      ],
      "metadata": {
        "id": "9guR3bIW9SxQ"
      }
    },
    {
      "cell_type": "markdown",
      "source": [
        "#### 2 필요한 라이브러리 로드"
      ],
      "metadata": {
        "id": "3r7qeHAh9Xcq"
      }
    },
    {
      "cell_type": "code",
      "source": [
        "# 데이터 분석을 위한 pandas, 수치계산을 위한 numpy\n",
        "# 시각화를 위한 seaborn, matplotlib.pyplot을 로드합니다.\n",
        "import pandas as pd\n",
        "import numpy as np\n",
        "import seaborn as sns\n",
        "import matplotlib.pyplot as plt\n",
        "\n",
        "%matplotlib inline"
      ],
      "metadata": {
        "id": "JMTnhJMd9W7l"
      },
      "execution_count": null,
      "outputs": []
    },
    {
      "cell_type": "markdown",
      "source": [
        "#### 3 데이터셋 로드"
      ],
      "metadata": {
        "id": "Uvr6LWuGAWtR"
      }
    },
    {
      "cell_type": "code",
      "execution_count": null,
      "metadata": {
        "id": "I-YVpULb8Rre"
      },
      "outputs": [],
      "source": [
        "df=pd.read_csv(\"data/diabetes_feature.csv\")\n",
        "df.shape"
      ]
    },
    {
      "cell_type": "code",
      "source": [
        "# 데이터셋을 미리보기 합니다.\n",
        "\n",
        "df.head()"
      ],
      "metadata": {
        "id": "kiPdQOJjAbiE"
      },
      "execution_count": null,
      "outputs": []
    },
    {
      "cell_type": "code",
      "source": [
        "df.columns"
      ],
      "metadata": {
        "id": "YR6rzvSaEe_e"
      },
      "execution_count": null,
      "outputs": []
    },
    {
      "cell_type": "code",
      "source": [
        "X=df[['Glucose', 'BloodPressure', 'SkinThickness',\n",
        "       'BMI', 'DiabetesPedigreeFunction', 'Age', 'Pregnancies_high', 'Insulin_nan',\n",
        "       'low_glu_insulin']]\n",
        "X.shape"
      ],
      "metadata": {
        "id": "rH4RAhAAEpIV"
      },
      "execution_count": null,
      "outputs": []
    },
    {
      "cell_type": "code",
      "source": [
        "y=df['Outcome']\n",
        "y.shape"
      ],
      "metadata": {
        "id": "VSLHbecQE1M-"
      },
      "execution_count": null,
      "outputs": []
    },
    {
      "cell_type": "markdown",
      "source": [
        "#### 4 학습과 예측에 사용할 데이터셋 만들기"
      ],
      "metadata": {
        "id": "86mXtRPJCZIo"
      }
    },
    {
      "cell_type": "code",
      "source": [
        "# 사이킷런에서 제공하는 model_selection의 train_test_split으로 만듭니다.\n",
        "from sklearn.model_selection import train_test_split\n",
        "\n",
        "X_train,X_test,y_train,y_test=train_test_split(X,y,test_size=0.2,random_state=42)"
      ],
      "metadata": {
        "id": "mlsHld6fApEX"
      },
      "execution_count": null,
      "outputs": []
    },
    {
      "cell_type": "code",
      "source": [
        "# train 세트의 문제와 정답의 데이터 수를 확인해 주세요.\n",
        "\n",
        "X_train.shape, y_train.shape"
      ],
      "metadata": {
        "id": "1RVFhtwGDp0e"
      },
      "execution_count": null,
      "outputs": []
    },
    {
      "cell_type": "code",
      "source": [
        "# test 세트의 문제와 정답의 데이터 수를 확인해 주세요.\n",
        "X_test.shape, y_test.shape"
      ],
      "metadata": {
        "id": "Qc8Rl5vNFpBF"
      },
      "execution_count": null,
      "outputs": []
    },
    {
      "cell_type": "markdown",
      "source": [
        "#### 5 학습과 예측하기"
      ],
      "metadata": {
        "id": "cSbPzRUpGJGZ"
      }
    },
    {
      "cell_type": "code",
      "source": [
        "# DecisionTree를 불러옵니다.\n",
        "from sklearn.tree import DecisionTreeClassifier\n",
        "model=DecisionTreeClassifier(random_state=42)\n",
        "model"
      ],
      "metadata": {
        "id": "cfhbzP2iGB0m"
      },
      "execution_count": null,
      "outputs": []
    },
    {
      "cell_type": "code",
      "source": [
        "# 학습을 시킵니다.\n",
        "model.fit(X_train,y_train)"
      ],
      "metadata": {
        "id": "b0TwCzCofaE1"
      },
      "execution_count": null,
      "outputs": []
    },
    {
      "cell_type": "code",
      "source": [
        "# 예측을 하고 결과를 y_predict에 담습니다.\n",
        "y_pred=model.predict(X_test)\n",
        "y_pred"
      ],
      "metadata": {
        "id": "0ydBtvsrh-nF"
      },
      "execution_count": null,
      "outputs": []
    },
    {
      "cell_type": "markdown",
      "source": [
        "#### 6 정확도(Accuracy) 측정하기"
      ],
      "metadata": {
        "id": "imxJ6LDUirHS"
      }
    },
    {
      "cell_type": "code",
      "source": [
        "# 다르게 예측한 갯수를 구해서 diff_count에 할당해 줍니다.\n",
        "# 정답과 예측값이 다른 경우 1 or -1로 나옴\n",
        "abs(y_pred - y_test).sum()"
      ],
      "metadata": {
        "id": "4yCugYJmiRa-"
      },
      "execution_count": null,
      "outputs": []
    },
    {
      "cell_type": "code",
      "source": [
        "# accuracy score를 구합니다.\n",
        "from sklearn.metrics import accuracy_score\n",
        "\n",
        "accuracy_score(y_test,y_pred)*100"
      ],
      "metadata": {
        "id": "hMGhsFY9jGGE"
      },
      "execution_count": null,
      "outputs": []
    },
    {
      "cell_type": "code",
      "source": [],
      "metadata": {
        "id": "kJpHe7LPlt0L"
      },
      "execution_count": null,
      "outputs": []
    }
  ]
}
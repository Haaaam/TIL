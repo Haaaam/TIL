{
  "nbformat": 4,
  "nbformat_minor": 0,
  "metadata": {
    "colab": {
      "private_outputs": true,
      "provenance": []
    },
    "kernelspec": {
      "name": "python3",
      "display_name": "Python 3"
    },
    "language_info": {
      "name": "python"
    }
  },
  "cells": [
    {
      "cell_type": "code",
      "execution_count": null,
      "metadata": {
        "id": "26jKVQfZm_So"
      },
      "outputs": [],
      "source": [
        "import numpy as np\n",
        "import matplotlib.pyplot as plt\n",
        "from tensorflow.keras.datasets import imdb"
      ]
    },
    {
      "cell_type": "code",
      "source": [
        "# 단어 집합의 크기: 10000개\n",
        "(X_train,y_train),(X_test,y_test)=imdb.load_data()\n",
        "print(\"훈련용 리뷰 개수: {}\".format(len(X_train)))\n",
        "print(\"테스트용 리뷰 개수: {}\".format(len(X_test)))\n",
        "num_classes=len(set(y_train))\n",
        "print(\"카테고리 : {}\".format(num_classes))\n",
        "\n"
      ],
      "metadata": {
        "id": "e4F1HW95nLSp"
      },
      "execution_count": null,
      "outputs": []
    },
    {
      "cell_type": "code",
      "source": [
        "# IMDB 리뷰 데이터: 전체 데이터에서 각 단어들의 등장 빈도에 따라서 인덱스 부여\n",
        "# 숫자가 낮을수록 이 데이터에서 등장 빈도 순위가 높다.\n",
        "print(\"첫번째 훈련용 리뷰:\",X_train[0])\n",
        "print(\"첫번째 훈련용 리뷰의 레이블:\",y_train[0]) # 긍정 1, 부정 0"
      ],
      "metadata": {
        "id": "KgczHyF9nper"
      },
      "execution_count": null,
      "outputs": []
    },
    {
      "cell_type": "code",
      "source": [
        "reviews_length = [len(review) for review in X_train]\n",
        "\n",
        "print(\"리뷰의 최대 길이 : {}\".format(np.max(reviews_length)))\n",
        "print(\"리뷰의 평균 길이 : {}\".format(np.mean(reviews_length)))\n",
        "\n",
        "plt.subplot(1,2,1)\n",
        "plt.boxplot(reviews_length)\n",
        "plt.subplot(1,2,2)\n",
        "plt.hist(reviews_length,bins=50)\n",
        "plt.show()"
      ],
      "metadata": {
        "id": "ykUow1YQn69C"
      },
      "execution_count": null,
      "outputs": []
    },
    {
      "cell_type": "code",
      "source": [
        "unique_elements,counts_elements=np.unique(y_train,return_counts=True)\n",
        "print(\"각 레이블에 대한 빈도수:\")\n",
        "print(np.asarray((unique_elements,counts_elements)))"
      ],
      "metadata": {
        "id": "jLsdSvpFocvj"
      },
      "execution_count": null,
      "outputs": []
    },
    {
      "cell_type": "code",
      "source": [
        "word_to_index=imdb.get_word_index()\n",
        "index_to_word={}\n",
        "for key,value in word_to_index.items():\n",
        "  index_to_word[value+3]=key # imdb.get_word_index()에 저장된 값에 +3을 해야 실제 맵핑되는 정수(imdb 리뷰 데이터셋에서 정한 규칙)"
      ],
      "metadata": {
        "id": "3RioyaWAooYq"
      },
      "execution_count": null,
      "outputs": []
    },
    {
      "cell_type": "code",
      "source": [
        "print('빈도수 상위 1등 단어 : {}'.format(index_to_word[4]))"
      ],
      "metadata": {
        "id": "ul5mqzOTo6SB"
      },
      "execution_count": null,
      "outputs": []
    },
    {
      "cell_type": "code",
      "source": [
        "print('빈도수 상위 3938등 단어 : {}'.format(index_to_word[3941]))"
      ],
      "metadata": {
        "id": "moQY8xcdo8yy"
      },
      "execution_count": null,
      "outputs": []
    },
    {
      "cell_type": "code",
      "source": [
        "for index,token in enumerate((\"<pad>\",\"<sos>\",\"<unk>\")):\n",
        "  index_to_word[index]=token\n",
        "print(' '.join([index_to_word[index] for index in X_train[0]]))"
      ],
      "metadata": {
        "id": "jqURZwH-o-hx"
      },
      "execution_count": null,
      "outputs": []
    },
    {
      "cell_type": "markdown",
      "source": [
        "#### GRU로 IMDB 리뷰 감성 분류하기"
      ],
      "metadata": {
        "id": "IiNoUH1VsECW"
      }
    },
    {
      "cell_type": "code",
      "source": [
        "import re\n",
        "from tensorflow.keras.datasets import imdb\n",
        "from tensorflow.keras.preprocessing.sequence import pad_sequences\n",
        "from tensorflow.keras.models import Sequential\n",
        "from tensorflow.keras.layers import Dense,GRU,Embedding\n",
        "from tensorflow.keras.callbacks import EarlyStopping,ModelCheckpoint\n",
        "from tensorflow.keras.models import load_model\n",
        "vocab_size=10000\n",
        "max_len=500\n",
        "\n",
        "(X_train,y_train),(X_test,y_test)=imdb.load_data(num_words=vocab_size)\n",
        "\n",
        "X_train=pad_sequences(X_train,maxlen=max_len)\n",
        "X_test=pad_sequences(X_test,maxlen=max_len)"
      ],
      "metadata": {
        "id": "P9lAN_3crXLz"
      },
      "execution_count": null,
      "outputs": []
    },
    {
      "cell_type": "code",
      "source": [
        "embedding_dim=100\n",
        "hidden_units=128\n",
        "\n",
        "model=Sequential()\n",
        "model.add(Embedding(vocab_size,embedding_dim))\n",
        "model.add(GRU(hidden_units))\n",
        "model.add(Dense(1,activation='sigmoid'))\n",
        "\n",
        "es=EarlyStopping(monitor='val_loss',mode='min',verbose=1,patience=4)\n",
        "mc=ModelCheckpoint('GRU_model.h5',monitor='val_acc',mode='max',verbose=1,save_best_only=True)\n",
        "\n",
        "model.compile(optimizer='rmsprop',loss='binary_crossentropy',metrics=['acc'])"
      ],
      "metadata": {
        "id": "I3S0DCf4smCk"
      },
      "execution_count": null,
      "outputs": []
    },
    {
      "cell_type": "code",
      "source": [
        "history = model.fit(X_train, y_train, epochs=15, callbacks=[es, mc], batch_size=64, validation_split=0.2)"
      ],
      "metadata": {
        "id": "Igd2uPdQtX17"
      },
      "execution_count": null,
      "outputs": []
    },
    {
      "cell_type": "code",
      "source": [
        "# 정확도가 가장 높았을 때 저장된 모델 로드\n",
        "loaded_model = load_model('GRU_model.h5')\n",
        "print(\"\\n 테스트 정확도: %.4f\" % (loaded_model.evaluate(X_test, y_test)[1]))"
      ],
      "metadata": {
        "id": "BSCZmxhYurNk"
      },
      "execution_count": null,
      "outputs": []
    },
    {
      "cell_type": "code",
      "source": [
        "def sentiment_predict(new_sentence):\n",
        "  # 알파벳과 숫자를 제외하고 모두 제거 및 알파벳 소문자화\n",
        "  new_sentence = re.sub('[^0-9a-zA-Z ]', '', new_sentence).lower()\n",
        "  encoded = []\n",
        "\n",
        "  for word in new_sentence.split():\n",
        "    try:\n",
        "      if word_to_index[word]<=10000:\n",
        "        encoded.append(word_to_index[word]+3)\n",
        "      else:\n",
        "        encoded.append(2)\n",
        "    except KeyError:\n",
        "      encoded.append(2)\n",
        "    pad_sequence=pad_sequences([encoded],maxlen=max_len)\n",
        "    score=float(loaded_model.predict(pad_sequence))\n",
        "\n",
        "  if(score > 0.5):\n",
        "      print(\"{:.2f}% 확률로 긍정 리뷰입니다.\".format(score * 100))\n",
        "  else:\n",
        "      print(\"{:.2f}% 확률로 부정 리뷰입니다.\".format((1 - score) * 100))"
      ],
      "metadata": {
        "id": "kYruZaRqus9D"
      },
      "execution_count": null,
      "outputs": []
    },
    {
      "cell_type": "code",
      "source": [
        "test_input = \"This movie was just way too overrated. The fighting was not professional and in slow motion. I was expecting more from a 200 million budget movie. The little sister of T.Challa was just trying too hard to be funny. The story was really dumb as well. Don't watch this movie if you are going because others say its great unless you are a Black Panther fan or Marvels fan.\"\n",
        "\n",
        "sentiment_predict(test_input)"
      ],
      "metadata": {
        "id": "PfahovumwjlF"
      },
      "execution_count": null,
      "outputs": []
    },
    {
      "cell_type": "code",
      "source": [
        "test_input = \" I was lucky enough to be included in the group to see the advanced screening in Melbourne on the 15th of April, 2012. And, firstly, I need to say a big thank-you to Disney and Marvel Studios. \\\n",
        "Now, the film... how can I even begin to explain how I feel about this film? It is, as the title of this review says a 'comic book triumph'. I went into the film with very, very high expectations and I was not disappointed. \\\n",
        "Seeing Joss Whedon's direction and envisioning of the film come to life on the big screen is perfect. The script is amazingly detailed and laced with sharp wit a humor. The special effects are literally mind-blowing and the action scenes are both hard-hitting and beautifully choreographed.\"\n",
        "\n",
        "sentiment_predict(test_input)"
      ],
      "metadata": {
        "id": "TUxSYAaXw0lE"
      },
      "execution_count": null,
      "outputs": []
    },
    {
      "cell_type": "code",
      "source": [],
      "metadata": {
        "id": "U0NaTuHww62U"
      },
      "execution_count": null,
      "outputs": []
    }
  ]
}
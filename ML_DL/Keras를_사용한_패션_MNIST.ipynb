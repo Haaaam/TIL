{
  "nbformat": 4,
  "nbformat_minor": 0,
  "metadata": {
    "colab": {
      "name": "Keras를 사용한 패션 MNIST.ipynb",
      "provenance": [],
      "collapsed_sections": []
    },
    "kernelspec": {
      "name": "python3",
      "display_name": "Python 3"
    },
    "language_info": {
      "name": "python"
    },
    "accelerator": "GPU"
  },
  "cells": [
    {
      "cell_type": "code",
      "metadata": {
        "colab": {
          "base_uri": "https://localhost:8080/"
        },
        "id": "jnODDysHuo9C",
        "outputId": "784eac5d-bea4-411c-d259-10391575f853"
      },
      "source": [
        "from google.colab import drive\n",
        "drive.mount('/content/drive')"
      ],
      "execution_count": null,
      "outputs": [
        {
          "output_type": "stream",
          "text": [
            "Mounted at /content/drive\n"
          ],
          "name": "stdout"
        }
      ]
    },
    {
      "cell_type": "code",
      "metadata": {
        "colab": {
          "base_uri": "https://localhost:8080/"
        },
        "id": "_XoRVh-pudmU",
        "outputId": "1df8863d-cd3f-42e6-909b-49caa7b5aac5"
      },
      "source": [
        "import tensorflow.compat.v1 as tf\n",
        "tf.disable_v2_behavior()\n",
        "\n",
        "from tensorflow import keras"
      ],
      "execution_count": null,
      "outputs": [
        {
          "output_type": "stream",
          "text": [
            "WARNING:tensorflow:From /usr/local/lib/python3.7/dist-packages/tensorflow/python/compat/v2_compat.py:96: disable_resource_variables (from tensorflow.python.ops.variable_scope) is deprecated and will be removed in a future version.\n",
            "Instructions for updating:\n",
            "non-resource variables are not supported in the long term\n"
          ],
          "name": "stdout"
        }
      ]
    },
    {
      "cell_type": "code",
      "metadata": {
        "id": "j4BTeaJAuqSv"
      },
      "source": [
        "fashion_mnist=keras.datasets.fashion_mnist\n",
        "(X_train_full,y_train_full),(X_test,y_test)=fashion_mnist.load_data()"
      ],
      "execution_count": null,
      "outputs": []
    },
    {
      "cell_type": "code",
      "metadata": {
        "colab": {
          "base_uri": "https://localhost:8080/"
        },
        "id": "F_WbF3VHvNq0",
        "outputId": "c4f8f348-2712-4c91-c879-2663308de2c4"
      },
      "source": [
        "print(X_train_full.shape)\n",
        "print(X_train_full.dtype)"
      ],
      "execution_count": null,
      "outputs": [
        {
          "output_type": "stream",
          "text": [
            "(60000, 28, 28)\n",
            "uint8\n"
          ],
          "name": "stdout"
        }
      ]
    },
    {
      "cell_type": "code",
      "metadata": {
        "id": "y6_4QQFjvQ7B"
      },
      "source": [
        "X_valid,X_train=X_train_full[:5000]/255.0,X_train_full[5000:]/255.0\n",
        "y_valid,y_train=y_train_full[:5000],y_train_full[5000:]\n",
        "X_test=X_test/255.0"
      ],
      "execution_count": null,
      "outputs": []
    },
    {
      "cell_type": "code",
      "metadata": {
        "id": "4WGxE5OAwX_T"
      },
      "source": [
        "class_names=['T-shirt/top','Trouser','Pullover','Dress','Coat','Sandal','Shirt','Bag','Ankle boot']"
      ],
      "execution_count": null,
      "outputs": []
    },
    {
      "cell_type": "code",
      "metadata": {
        "colab": {
          "base_uri": "https://localhost:8080/",
          "height": 35
        },
        "id": "UFnWz4QzxT-p",
        "outputId": "e2136a1e-c4ee-4c9b-80cf-451f77d348eb"
      },
      "source": [
        "class_names[y_train[0]]"
      ],
      "execution_count": null,
      "outputs": [
        {
          "output_type": "execute_result",
          "data": {
            "application/vnd.google.colaboratory.intrinsic+json": {
              "type": "string"
            },
            "text/plain": [
              "'Coat'"
            ]
          },
          "metadata": {
            "tags": []
          },
          "execution_count": 41
        }
      ]
    },
    {
      "cell_type": "markdown",
      "metadata": {
        "id": "5HfbE_h1xcJc"
      },
      "source": [
        "### Sequential API를 사용하여 모델 만들기"
      ]
    },
    {
      "cell_type": "code",
      "metadata": {
        "id": "OV0ZrnrsxV8z"
      },
      "source": [
        " # Sequential 모델 만들기\n",
        "model=keras.models.Sequential([\n",
        "          keras.layers.Flatten(input_shape=[28,28]),#Flatten():입력 이미지를 1D 배열로 변환\n",
        "          keras.layers.Dense(300,activation='relu'),#뉴런 300개를 가진 Dense 은닉층을 추가, ReLU활성화 함수를 사용 \n",
        "          keras.layers.Dense(100,activation='relu'),\n",
        "          keras.layers.Dense(10,activation='softmax')                \n",
        "])"
      ],
      "execution_count": null,
      "outputs": []
    },
    {
      "cell_type": "code",
      "metadata": {
        "colab": {
          "base_uri": "https://localhost:8080/"
        },
        "id": "S_jRTArezgrX",
        "outputId": "1cbdbe9b-afd5-42a6-969c-57b741ddec3c"
      },
      "source": [
        "# summary(): 모델에 있는 모든 층을 출력\n",
        "model.summary()"
      ],
      "execution_count": null,
      "outputs": [
        {
          "output_type": "stream",
          "text": [
            "Model: \"sequential_3\"\n",
            "_________________________________________________________________\n",
            "Layer (type)                 Output Shape              Param #   \n",
            "=================================================================\n",
            "flatten_3 (Flatten)          (None, 784)               0         \n",
            "_________________________________________________________________\n",
            "dense_7 (Dense)              (None, 300)               235500    \n",
            "_________________________________________________________________\n",
            "dense_8 (Dense)              (None, 100)               30100     \n",
            "_________________________________________________________________\n",
            "dense_9 (Dense)              (None, 10)                1010      \n",
            "=================================================================\n",
            "Total params: 266,610\n",
            "Trainable params: 266,610\n",
            "Non-trainable params: 0\n",
            "_________________________________________________________________\n"
          ],
          "name": "stdout"
        }
      ]
    },
    {
      "cell_type": "code",
      "metadata": {
        "colab": {
          "base_uri": "https://localhost:8080/"
        },
        "id": "0alGCX6f1Aqw",
        "outputId": "af861e43-534c-4097-898b-898943205234"
      },
      "source": [
        "model.layers"
      ],
      "execution_count": null,
      "outputs": [
        {
          "output_type": "execute_result",
          "data": {
            "text/plain": [
              "[<tensorflow.python.keras.layers.core.Flatten at 0x7f5a420b81d0>,\n",
              " <tensorflow.python.keras.layers.core.Dense at 0x7f5a420b89d0>,\n",
              " <tensorflow.python.keras.layers.core.Dense at 0x7f5a420b8bd0>,\n",
              " <tensorflow.python.keras.layers.core.Dense at 0x7f5a420b8a50>]"
            ]
          },
          "metadata": {
            "tags": []
          },
          "execution_count": 44
        }
      ]
    },
    {
      "cell_type": "code",
      "metadata": {
        "colab": {
          "base_uri": "https://localhost:8080/",
          "height": 35
        },
        "id": "3PJtsb0t1lV5",
        "outputId": "6cf6d23f-964b-4b15-c14f-268b907db18b"
      },
      "source": [
        "hidden1=model.layers[1]\n",
        "hidden1.name"
      ],
      "execution_count": null,
      "outputs": [
        {
          "output_type": "execute_result",
          "data": {
            "application/vnd.google.colaboratory.intrinsic+json": {
              "type": "string"
            },
            "text/plain": [
              "'dense_7'"
            ]
          },
          "metadata": {
            "tags": []
          },
          "execution_count": 45
        }
      ]
    },
    {
      "cell_type": "code",
      "metadata": {
        "colab": {
          "base_uri": "https://localhost:8080/"
        },
        "id": "hLHEpGbH1qb3",
        "outputId": "d61733bc-2b27-4adf-a495-aa45d71f558f"
      },
      "source": [
        "model.get_layer('dense_7') is hidden1"
      ],
      "execution_count": null,
      "outputs": [
        {
          "output_type": "execute_result",
          "data": {
            "text/plain": [
              "True"
            ]
          },
          "metadata": {
            "tags": []
          },
          "execution_count": 50
        }
      ]
    },
    {
      "cell_type": "code",
      "metadata": {
        "colab": {
          "base_uri": "https://localhost:8080/"
        },
        "id": "zH_LAITy17Qw",
        "outputId": "b8979bbd-ba39-4aae-8283-1a8ee78e6d43"
      },
      "source": [
        "weights,biases=hidden1.get_weights()\n",
        "weights"
      ],
      "execution_count": null,
      "outputs": [
        {
          "output_type": "execute_result",
          "data": {
            "text/plain": [
              "array([[ 0.03662661, -0.0163139 ,  0.0671376 , ...,  0.00157493,\n",
              "        -0.03875434, -0.01363337],\n",
              "       [ 0.01885529, -0.04304339,  0.06225747, ..., -0.02129287,\n",
              "         0.05104509,  0.0059782 ],\n",
              "       [ 0.01642106,  0.01275697, -0.0690979 , ...,  0.04550061,\n",
              "         0.03286961, -0.03409079],\n",
              "       ...,\n",
              "       [ 0.05345276,  0.06242728,  0.03743576, ...,  0.04423016,\n",
              "         0.01553056,  0.06642108],\n",
              "       [-0.05545387, -0.045491  , -0.0135045 , ..., -0.06151043,\n",
              "        -0.02429297, -0.0016852 ],\n",
              "       [-0.04937495,  0.00784002,  0.05716987, ..., -0.010549  ,\n",
              "        -0.02740555, -0.04369245]], dtype=float32)"
            ]
          },
          "metadata": {
            "tags": []
          },
          "execution_count": 51
        }
      ]
    },
    {
      "cell_type": "code",
      "metadata": {
        "colab": {
          "base_uri": "https://localhost:8080/"
        },
        "id": "LhyK5MDz2eYm",
        "outputId": "464516fe-680d-4391-d2ac-296ac51ce1bb"
      },
      "source": [
        "weights.shape"
      ],
      "execution_count": null,
      "outputs": [
        {
          "output_type": "execute_result",
          "data": {
            "text/plain": [
              "(784, 300)"
            ]
          },
          "metadata": {
            "tags": []
          },
          "execution_count": 52
        }
      ]
    },
    {
      "cell_type": "code",
      "metadata": {
        "colab": {
          "base_uri": "https://localhost:8080/"
        },
        "id": "ibGK4cMU2h9q",
        "outputId": "4993b5a3-44e9-4d25-ce2b-80cedc30cb32"
      },
      "source": [
        "biases"
      ],
      "execution_count": null,
      "outputs": [
        {
          "output_type": "execute_result",
          "data": {
            "text/plain": [
              "array([0., 0., 0., 0., 0., 0., 0., 0., 0., 0., 0., 0., 0., 0., 0., 0., 0.,\n",
              "       0., 0., 0., 0., 0., 0., 0., 0., 0., 0., 0., 0., 0., 0., 0., 0., 0.,\n",
              "       0., 0., 0., 0., 0., 0., 0., 0., 0., 0., 0., 0., 0., 0., 0., 0., 0.,\n",
              "       0., 0., 0., 0., 0., 0., 0., 0., 0., 0., 0., 0., 0., 0., 0., 0., 0.,\n",
              "       0., 0., 0., 0., 0., 0., 0., 0., 0., 0., 0., 0., 0., 0., 0., 0., 0.,\n",
              "       0., 0., 0., 0., 0., 0., 0., 0., 0., 0., 0., 0., 0., 0., 0., 0., 0.,\n",
              "       0., 0., 0., 0., 0., 0., 0., 0., 0., 0., 0., 0., 0., 0., 0., 0., 0.,\n",
              "       0., 0., 0., 0., 0., 0., 0., 0., 0., 0., 0., 0., 0., 0., 0., 0., 0.,\n",
              "       0., 0., 0., 0., 0., 0., 0., 0., 0., 0., 0., 0., 0., 0., 0., 0., 0.,\n",
              "       0., 0., 0., 0., 0., 0., 0., 0., 0., 0., 0., 0., 0., 0., 0., 0., 0.,\n",
              "       0., 0., 0., 0., 0., 0., 0., 0., 0., 0., 0., 0., 0., 0., 0., 0., 0.,\n",
              "       0., 0., 0., 0., 0., 0., 0., 0., 0., 0., 0., 0., 0., 0., 0., 0., 0.,\n",
              "       0., 0., 0., 0., 0., 0., 0., 0., 0., 0., 0., 0., 0., 0., 0., 0., 0.,\n",
              "       0., 0., 0., 0., 0., 0., 0., 0., 0., 0., 0., 0., 0., 0., 0., 0., 0.,\n",
              "       0., 0., 0., 0., 0., 0., 0., 0., 0., 0., 0., 0., 0., 0., 0., 0., 0.,\n",
              "       0., 0., 0., 0., 0., 0., 0., 0., 0., 0., 0., 0., 0., 0., 0., 0., 0.,\n",
              "       0., 0., 0., 0., 0., 0., 0., 0., 0., 0., 0., 0., 0., 0., 0., 0., 0.,\n",
              "       0., 0., 0., 0., 0., 0., 0., 0., 0., 0., 0.], dtype=float32)"
            ]
          },
          "metadata": {
            "tags": []
          },
          "execution_count": 53
        }
      ]
    },
    {
      "cell_type": "code",
      "metadata": {
        "colab": {
          "base_uri": "https://localhost:8080/"
        },
        "id": "A0kwr5VY2i5O",
        "outputId": "46b4a7bb-b424-4377-dd5c-1603ea48a2f7"
      },
      "source": [
        "biases.shape"
      ],
      "execution_count": null,
      "outputs": [
        {
          "output_type": "execute_result",
          "data": {
            "text/plain": [
              "(300,)"
            ]
          },
          "metadata": {
            "tags": []
          },
          "execution_count": 54
        }
      ]
    },
    {
      "cell_type": "code",
      "metadata": {
        "id": "bJI-Z39W2kdC"
      },
      "source": [
        "model.compile(loss='sparse_categorical_crossentropy',\n",
        "              optimizer='sgd', #optimizer에 sgd를 지정하면 기본 확률적 경사 하강법을 사용하여 모델을 훈련한다는 의미\n",
        "              metrics=['accuracy'])#훈련과 평가 시에 정확도를 측정하기 위해 'accuracy'로 지정"
      ],
      "execution_count": null,
      "outputs": []
    },
    {
      "cell_type": "markdown",
      "metadata": {
        "id": "5b6EjQvo5y8w"
      },
      "source": [
        "#### 모델 훈련과 평가"
      ]
    },
    {
      "cell_type": "code",
      "metadata": {
        "colab": {
          "base_uri": "https://localhost:8080/"
        },
        "id": "cD-r4bVU4jI0",
        "outputId": "006a965f-1a16-4467-b7e8-e6abac327df9"
      },
      "source": [
        "history=model.fit(X_train,y_train,epochs=30,validation_data=(X_valid,y_valid))"
      ],
      "execution_count": null,
      "outputs": [
        {
          "output_type": "stream",
          "text": [
            "Train on 55000 samples, validate on 5000 samples\n",
            "Epoch 1/30\n",
            "54304/55000 [============================>.] - ETA: 0s - loss: 0.7180 - acc: 0.7653"
          ],
          "name": "stdout"
        },
        {
          "output_type": "stream",
          "text": [
            "/usr/local/lib/python3.7/dist-packages/tensorflow/python/keras/engine/training.py:2426: UserWarning: `Model.state_updates` will be removed in a future version. This property should not be used in TensorFlow 2.0, as `updates` are applied automatically.\n",
            "  warnings.warn('`Model.state_updates` will be removed in a future version. '\n"
          ],
          "name": "stderr"
        },
        {
          "output_type": "stream",
          "text": [
            "55000/55000 [==============================] - 3s 59us/sample - loss: 0.7163 - acc: 0.7655 - val_loss: 0.5164 - val_acc: 0.8226\n",
            "Epoch 2/30\n",
            "55000/55000 [==============================] - 3s 57us/sample - loss: 0.4877 - acc: 0.8305 - val_loss: 0.4500 - val_acc: 0.8484\n",
            "Epoch 3/30\n",
            "55000/55000 [==============================] - 3s 58us/sample - loss: 0.4443 - acc: 0.8453 - val_loss: 0.4221 - val_acc: 0.8572\n",
            "Epoch 4/30\n",
            "55000/55000 [==============================] - 3s 57us/sample - loss: 0.4181 - acc: 0.8544 - val_loss: 0.4329 - val_acc: 0.8512\n",
            "Epoch 5/30\n",
            "55000/55000 [==============================] - 3s 57us/sample - loss: 0.3988 - acc: 0.8608 - val_loss: 0.3815 - val_acc: 0.8686\n",
            "Epoch 6/30\n",
            "55000/55000 [==============================] - 3s 58us/sample - loss: 0.3825 - acc: 0.8655 - val_loss: 0.3847 - val_acc: 0.8652\n",
            "Epoch 7/30\n",
            "55000/55000 [==============================] - 3s 58us/sample - loss: 0.3697 - acc: 0.8705 - val_loss: 0.3646 - val_acc: 0.8740\n",
            "Epoch 8/30\n",
            "55000/55000 [==============================] - 3s 60us/sample - loss: 0.3582 - acc: 0.8734 - val_loss: 0.3485 - val_acc: 0.8786\n",
            "Epoch 9/30\n",
            "55000/55000 [==============================] - 3s 58us/sample - loss: 0.3470 - acc: 0.8767 - val_loss: 0.3553 - val_acc: 0.8710\n",
            "Epoch 10/30\n",
            "55000/55000 [==============================] - 3s 58us/sample - loss: 0.3381 - acc: 0.8801 - val_loss: 0.3474 - val_acc: 0.8742\n",
            "Epoch 11/30\n",
            "55000/55000 [==============================] - 3s 58us/sample - loss: 0.3288 - acc: 0.8825 - val_loss: 0.3618 - val_acc: 0.8702\n",
            "Epoch 12/30\n",
            "55000/55000 [==============================] - 3s 58us/sample - loss: 0.3216 - acc: 0.8850 - val_loss: 0.3413 - val_acc: 0.8774\n",
            "Epoch 13/30\n",
            "55000/55000 [==============================] - 3s 58us/sample - loss: 0.3145 - acc: 0.8865 - val_loss: 0.3299 - val_acc: 0.8836\n",
            "Epoch 14/30\n",
            "55000/55000 [==============================] - 3s 57us/sample - loss: 0.3064 - acc: 0.8906 - val_loss: 0.3271 - val_acc: 0.8842\n",
            "Epoch 15/30\n",
            "55000/55000 [==============================] - 3s 57us/sample - loss: 0.3004 - acc: 0.8912 - val_loss: 0.3151 - val_acc: 0.8856\n",
            "Epoch 16/30\n",
            "55000/55000 [==============================] - 3s 57us/sample - loss: 0.2941 - acc: 0.8934 - val_loss: 0.3128 - val_acc: 0.8868\n",
            "Epoch 17/30\n",
            "55000/55000 [==============================] - 3s 57us/sample - loss: 0.2874 - acc: 0.8959 - val_loss: 0.3343 - val_acc: 0.8822\n",
            "Epoch 18/30\n",
            "55000/55000 [==============================] - 3s 57us/sample - loss: 0.2830 - acc: 0.8983 - val_loss: 0.3140 - val_acc: 0.8844\n",
            "Epoch 19/30\n",
            "55000/55000 [==============================] - 3s 58us/sample - loss: 0.2780 - acc: 0.8993 - val_loss: 0.3523 - val_acc: 0.8760\n",
            "Epoch 20/30\n",
            "55000/55000 [==============================] - 3s 59us/sample - loss: 0.2735 - acc: 0.9014 - val_loss: 0.3090 - val_acc: 0.8870\n",
            "Epoch 21/30\n",
            "55000/55000 [==============================] - 3s 58us/sample - loss: 0.2679 - acc: 0.9033 - val_loss: 0.3021 - val_acc: 0.8928\n",
            "Epoch 22/30\n",
            "55000/55000 [==============================] - 3s 57us/sample - loss: 0.2633 - acc: 0.9060 - val_loss: 0.3221 - val_acc: 0.8870\n",
            "Epoch 23/30\n",
            "55000/55000 [==============================] - 3s 56us/sample - loss: 0.2576 - acc: 0.9080 - val_loss: 0.3122 - val_acc: 0.8900\n",
            "Epoch 24/30\n",
            "55000/55000 [==============================] - 3s 57us/sample - loss: 0.2543 - acc: 0.9079 - val_loss: 0.3102 - val_acc: 0.8886\n",
            "Epoch 25/30\n",
            "55000/55000 [==============================] - 3s 58us/sample - loss: 0.2501 - acc: 0.9099 - val_loss: 0.3058 - val_acc: 0.8890\n",
            "Epoch 26/30\n",
            "55000/55000 [==============================] - 3s 58us/sample - loss: 0.2458 - acc: 0.9111 - val_loss: 0.2987 - val_acc: 0.8914\n",
            "Epoch 27/30\n",
            "55000/55000 [==============================] - 3s 57us/sample - loss: 0.2408 - acc: 0.9130 - val_loss: 0.2974 - val_acc: 0.8928\n",
            "Epoch 28/30\n",
            "55000/55000 [==============================] - 3s 57us/sample - loss: 0.2365 - acc: 0.9150 - val_loss: 0.3136 - val_acc: 0.8898\n",
            "Epoch 29/30\n",
            "55000/55000 [==============================] - 3s 60us/sample - loss: 0.2323 - acc: 0.9167 - val_loss: 0.2954 - val_acc: 0.8954\n",
            "Epoch 30/30\n",
            "55000/55000 [==============================] - 3s 59us/sample - loss: 0.2298 - acc: 0.9175 - val_loss: 0.3136 - val_acc: 0.8854\n"
          ],
          "name": "stdout"
        }
      ]
    },
    {
      "cell_type": "markdown",
      "metadata": {
        "id": "QovqFdIBCTRm"
      },
      "source": [
        "- 훈련정확도(acc)와 검증 정확도(val_acc)가 꾸준히 상승하는 것을 확인 가능.\n",
        "- 반면에, 훈련 손실(loss)과 검증 손실(val_loss)은 감소한다.\n"
      ]
    },
    {
      "cell_type": "code",
      "metadata": {
        "colab": {
          "base_uri": "https://localhost:8080/",
          "height": 324
        },
        "id": "EANCdEcW8m1T",
        "outputId": "10337564-026c-4218-fa74-99814c03a36d"
      },
      "source": [
        "import pandas as pd\n",
        "import matplotlib.pyplot as plt\n",
        "\n",
        "pd.DataFrame(history.history).plot(figsize=(8,5))\n",
        "plt.grid(True)\n",
        "plt.gca().set_ylim(0,1)\n",
        "plt.show()"
      ],
      "execution_count": null,
      "outputs": [
        {
          "output_type": "display_data",
          "data": {
            "image/png": "[encoded data removed]",
            "text/plain": [
              "<Figure size 576x360 with 1 Axes>"
            ]
          },
          "metadata": {
            "tags": [],
            "needs_background": "light"
          }
        }
      ]
    },
    {
      "cell_type": "code",
      "metadata": {
        "colab": {
          "base_uri": "https://localhost:8080/"
        },
        "id": "tQskf_6vBKJx",
        "outputId": "209ac328-c70d-429d-f517-aa7b44973a6d"
      },
      "source": [
        "model.evaluate(X_test,y_test)"
      ],
      "execution_count": null,
      "outputs": [
        {
          "output_type": "execute_result",
          "data": {
            "text/plain": [
              "[0.3475991967082024, 0.8754]"
            ]
          },
          "metadata": {
            "tags": []
          },
          "execution_count": 58
        }
      ]
    },
    {
      "cell_type": "markdown",
      "metadata": {
        "id": "lRvAsliNIfJv"
      },
      "source": [
        "#### 모델을 사용해 예측을 만들기"
      ]
    },
    {
      "cell_type": "code",
      "metadata": {
        "colab": {
          "base_uri": "https://localhost:8080/"
        },
        "id": "Xx_naKN_Eoln",
        "outputId": "d0060fab-c6f9-41a4-ecce-1d904c272256"
      },
      "source": [
        "X_new=X_test[:3]\n",
        "y_proba=model.predict(X_new)\n",
        "y_proba.round(2)"
      ],
      "execution_count": null,
      "outputs": [
        {
          "output_type": "stream",
          "text": [
            "/usr/local/lib/python3.7/dist-packages/tensorflow/python/keras/engine/training.py:2426: UserWarning: `Model.state_updates` will be removed in a future version. This property should not be used in TensorFlow 2.0, as `updates` are applied automatically.\n",
            "  warnings.warn('`Model.state_updates` will be removed in a future version. '\n"
          ],
          "name": "stderr"
        },
        {
          "output_type": "execute_result",
          "data": {
            "text/plain": [
              "array([[0.  , 0.  , 0.  , 0.  , 0.  , 0.  , 0.  , 0.01, 0.  , 0.99],\n",
              "       [0.  , 0.  , 0.99, 0.  , 0.01, 0.  , 0.  , 0.  , 0.  , 0.  ],\n",
              "       [0.  , 1.  , 0.  , 0.  , 0.  , 0.  , 0.  , 0.  , 0.  , 0.  ]],\n",
              "      dtype=float32)"
            ]
          },
          "metadata": {
            "tags": []
          },
          "execution_count": 59
        }
      ]
    },
    {
      "cell_type": "code",
      "metadata": {
        "colab": {
          "base_uri": "https://localhost:8080/"
        },
        "id": "HPdvI_XPIoDs",
        "outputId": "fb6ad07a-125a-4f7c-a0d1-30400c72f9d8"
      },
      "source": [
        "#가장 높은 확률을 가진 클래스에만 관심이 있다면 predict_classes() 메서드 사용 가능\n",
        "y_pred=model.predict_classes(X_new)\n",
        "y_pred"
      ],
      "execution_count": null,
      "outputs": [
        {
          "output_type": "stream",
          "text": [
            "/usr/local/lib/python3.7/dist-packages/tensorflow/python/keras/engine/sequential.py:455: UserWarning: `model.predict_classes()` is deprecated and will be removed after 2021-01-01. Please use instead:* `np.argmax(model.predict(x), axis=-1)`,   if your model does multi-class classification   (e.g. if it uses a `softmax` last-layer activation).* `(model.predict(x) > 0.5).astype(\"int32\")`,   if your model does binary classification   (e.g. if it uses a `sigmoid` last-layer activation).\n",
            "  warnings.warn('`model.predict_classes()` is deprecated and '\n"
          ],
          "name": "stderr"
        },
        {
          "output_type": "execute_result",
          "data": {
            "text/plain": [
              "array([9, 2, 1])"
            ]
          },
          "metadata": {
            "tags": []
          },
          "execution_count": 60
        }
      ]
    },
    {
      "cell_type": "code",
      "metadata": {
        "colab": {
          "base_uri": "https://localhost:8080/",
          "height": 190
        },
        "id": "auRH1_j3JFDY",
        "outputId": "761731e3-5598-43b9-cf1b-d801c1c11898"
      },
      "source": [
        "import numpy as np\n",
        "np.array(class_names)[y_pred]"
      ],
      "execution_count": null,
      "outputs": [
        {
          "output_type": "error",
          "ename": "IndexError",
          "evalue": "ignored",
          "traceback": [
            "\u001b[0;31m---------------------------------------------------------------------------\u001b[0m",
            "\u001b[0;31mIndexError\u001b[0m                                Traceback (most recent call last)",
            "\u001b[0;32m<ipython-input-61-6dad97a73d06>\u001b[0m in \u001b[0;36m<module>\u001b[0;34m()\u001b[0m\n\u001b[1;32m      1\u001b[0m \u001b[0;32mimport\u001b[0m \u001b[0mnumpy\u001b[0m \u001b[0;32mas\u001b[0m \u001b[0mnp\u001b[0m\u001b[0;34m\u001b[0m\u001b[0;34m\u001b[0m\u001b[0m\n\u001b[0;32m----> 2\u001b[0;31m \u001b[0mnp\u001b[0m\u001b[0;34m.\u001b[0m\u001b[0marray\u001b[0m\u001b[0;34m(\u001b[0m\u001b[0mclass_names\u001b[0m\u001b[0;34m)\u001b[0m\u001b[0;34m[\u001b[0m\u001b[0my_pred\u001b[0m\u001b[0;34m]\u001b[0m\u001b[0;34m\u001b[0m\u001b[0;34m\u001b[0m\u001b[0m\n\u001b[0m",
            "\u001b[0;31mIndexError\u001b[0m: index 9 is out of bounds for axis 0 with size 9"
          ]
        }
      ]
    },
    {
      "cell_type": "code",
      "metadata": {
        "colab": {
          "base_uri": "https://localhost:8080/"
        },
        "id": "yXEPxem4JoZ_",
        "outputId": "1b2d0a11-e2e1-49c7-a955-d76af0654fb8"
      },
      "source": [
        "y_new=y_test[:3]\n",
        "y_new"
      ],
      "execution_count": null,
      "outputs": [
        {
          "output_type": "execute_result",
          "data": {
            "text/plain": [
              "array([9, 2, 1], dtype=uint8)"
            ]
          },
          "metadata": {
            "tags": []
          },
          "execution_count": 62
        }
      ]
    },
    {
      "cell_type": "code",
      "metadata": {
        "id": "TWtj74xHKi2a"
      },
      "source": [
        ""
      ],
      "execution_count": null,
      "outputs": []
    }
  ]
}
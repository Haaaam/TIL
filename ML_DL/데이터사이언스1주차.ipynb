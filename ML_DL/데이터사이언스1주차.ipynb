{
  "nbformat": 4,
  "nbformat_minor": 0,
  "metadata": {
    "colab": {
      "private_outputs": true,
      "provenance": []
    },
    "kernelspec": {
      "name": "python3",
      "display_name": "Python 3"
    },
    "language_info": {
      "name": "python"
    }
  },
  "cells": [
    {
      "cell_type": "markdown",
      "source": [
        "### 1.1 사이킷런과 머신러닝"
      ],
      "metadata": {
        "id": "4O4IoQRTFm8A"
      }
    },
    {
      "cell_type": "code",
      "execution_count": null,
      "metadata": {
        "id": "TvOYeg7VHtkW"
      },
      "outputs": [],
      "source": [
        "from sklearn import tree\n",
        "X=[[0,0],[1,1]]\n",
        "Y=[0,1]\n",
        "\n",
        "clf=tree.DecisionTreeClassifier()\n",
        "# 학습\n",
        "clf=clf.fit(X,Y)\n"
      ]
    },
    {
      "cell_type": "code",
      "source": [
        "clf"
      ],
      "metadata": {
        "id": "2Av3Nu67R0Eq"
      },
      "execution_count": null,
      "outputs": []
    },
    {
      "cell_type": "code",
      "source": [
        "clf.predict([[2.,2.]])"
      ],
      "metadata": {
        "id": "L6fdH7KxWyhN"
      },
      "execution_count": null,
      "outputs": []
    },
    {
      "cell_type": "code",
      "source": [
        "clf.predict_proba([[2.,2.]])"
      ],
      "metadata": {
        "id": "SzVVTno8W5Zp"
      },
      "execution_count": null,
      "outputs": []
    },
    {
      "cell_type": "code",
      "source": [
        "# 붓꽃 품종 예측\n",
        "from sklearn.datasets import load_iris\n",
        "from sklearn import tree\n",
        "X,y=load_iris(return_X_y=True)\n",
        "clf=tree.DecisionTreeClassifier()\n",
        "clf=clf.fit(X,y)\n"
      ],
      "metadata": {
        "id": "K2EXlfgjXAaF"
      },
      "execution_count": null,
      "outputs": []
    },
    {
      "cell_type": "code",
      "source": [
        "import matplotlib.pyplot as plt\n",
        "\n",
        "plt.figure(figsize=(20,10))\n",
        "t=tree.plot_tree(clf.fit(X,y),filled=True)"
      ],
      "metadata": {
        "id": "EtzbZTJJYMn9"
      },
      "execution_count": null,
      "outputs": []
    },
    {
      "cell_type": "markdown",
      "source": [
        "## 1.2 의사결정나무로 간단한 분류 예측 모델 만들기"
      ],
      "metadata": {
        "id": "SIwBopRFI16U"
      }
    },
    {
      "cell_type": "code",
      "source": [
        "from ast import increment_lineno\n",
        "## 1.2.2 학습과 예측을 위한 데이터셋 만들기\n",
        "\n",
        "import pandas as pd\n",
        "import numpy as np\n",
        "import seaborn as sns\n",
        "import matplotlib.pyplot as plt\n",
        "\n",
        "%matplotlib inline"
      ],
      "metadata": {
        "id": "yO2uLd9II8Pj"
      },
      "execution_count": null,
      "outputs": []
    },
    {
      "cell_type": "code",
      "source": [
        "# 3. 데이터셋 로드\n",
        "df=pd.read_csv('./data/diabetes.csv')"
      ],
      "metadata": {
        "id": "RVTt5NrZJuii"
      },
      "execution_count": null,
      "outputs": []
    },
    {
      "cell_type": "code",
      "source": [
        "# 학습, 예측 데이터셋 나누기\n",
        "df.shape"
      ],
      "metadata": {
        "id": "EKw_C10TJ5vs"
      },
      "execution_count": null,
      "outputs": []
    },
    {
      "cell_type": "code",
      "source": [
        "df.head()"
      ],
      "metadata": {
        "id": "OmaftQesKVGR"
      },
      "execution_count": null,
      "outputs": []
    },
    {
      "cell_type": "code",
      "source": [
        "# 4. 학습, 예측 데이터셋 나누기\n",
        "# 8:2의 비율로 구하기 위해 전체 데이터의 행에서 80% 위치에 해당되는 값을 구해서 split_count 라는 변수에 담습니다.\n",
        "split_count=int(df.shape[0]*0.8)\n",
        "print(split_count)"
      ],
      "metadata": {
        "id": "SajaK9f3KATP"
      },
      "execution_count": null,
      "outputs": []
    },
    {
      "cell_type": "code",
      "source": [
        "# train, test로 슬라이싱을 통해 데이터를 나눕니다.\n",
        "train=df[:split_count].copy()\n",
        "train.shape\n"
      ],
      "metadata": {
        "id": "lclpq1gKKSkk"
      },
      "execution_count": null,
      "outputs": []
    },
    {
      "cell_type": "code",
      "source": [
        "test=df[split_count:].copy()"
      ],
      "metadata": {
        "id": "qIsGaNpuK_FC"
      },
      "execution_count": null,
      "outputs": []
    },
    {
      "cell_type": "code",
      "source": [
        "test.shape"
      ],
      "metadata": {
        "id": "hzyD5Bg3Ldsm"
      },
      "execution_count": null,
      "outputs": []
    },
    {
      "cell_type": "code",
      "source": [
        "# 학습, 예측에 사용할 컬럼\n",
        "# feature_name 라는 변수에 학습과 예측에 사용할 컬럼명을 가져온다.\n",
        "train.columns[:-1].tolist() # 맨 마지막에 위치한 컬럼인 Outcome은 제외하고 가져오기"
      ],
      "metadata": {
        "id": "RvD7hPnjLfAY"
      },
      "execution_count": null,
      "outputs": []
    },
    {
      "cell_type": "code",
      "source": [
        "feature_names=train.columns[:-1].tolist()\n",
        "feature_names"
      ],
      "metadata": {
        "id": "CYxZ1K_RLvWG"
      },
      "execution_count": null,
      "outputs": []
    },
    {
      "cell_type": "code",
      "source": [
        "# label_name이라는 변수에 예측할 컬럼의 이름을 담습니다.\n",
        "label_name=train.columns[-1]\n",
        "label_name"
      ],
      "metadata": {
        "id": "mLeuuppMMCs_"
      },
      "execution_count": null,
      "outputs": []
    },
    {
      "cell_type": "code",
      "source": [
        "# 학습, 예측 데이터셋 만들기\n",
        "# 학습 세트 만들기 예) 시험의 기출문제\n",
        "X_train=train[feature_names]\n",
        "print(X_train.shape)\n",
        "X_train.head()"
      ],
      "metadata": {
        "id": "RYF7zaPNMKYM"
      },
      "execution_count": null,
      "outputs": []
    },
    {
      "cell_type": "code",
      "source": [
        "# 정답 값을 만들어 줍니다.\n",
        "y_train=train[label_name]\n",
        "print(y_train.shape)\n",
        "y_train.head()"
      ],
      "metadata": {
        "id": "-zIiTQJnMbge"
      },
      "execution_count": null,
      "outputs": []
    },
    {
      "cell_type": "code",
      "source": [
        "# 예측에 사용할 데이터세트를 만든다.\n",
        "X_test=test[feature_names]"
      ],
      "metadata": {
        "id": "eRQrNj2GMvvA"
      },
      "execution_count": null,
      "outputs": []
    },
    {
      "cell_type": "code",
      "source": [
        "print(X_test.shape)"
      ],
      "metadata": {
        "id": "LgIwichfNITS"
      },
      "execution_count": null,
      "outputs": []
    },
    {
      "cell_type": "code",
      "source": [
        "X_test.head()"
      ],
      "metadata": {
        "id": "h-lrVw9bNOEC"
      },
      "execution_count": null,
      "outputs": []
    },
    {
      "cell_type": "code",
      "source": [
        "y_test=test[label_name]\n",
        "print(y_test.shape)\n",
        "print(y_test.head())"
      ],
      "metadata": {
        "id": "3ubdmeSNNO_B"
      },
      "execution_count": null,
      "outputs": []
    },
    {
      "cell_type": "code",
      "source": [
        "# 머신러닝 알고리즘 가져오기\n",
        "from sklearn.tree import DecisionTreeClassifier\n",
        "\n",
        "model=DecisionTreeClassifier()\n",
        "model"
      ],
      "metadata": {
        "id": "kGVt1NaGNWSZ"
      },
      "execution_count": null,
      "outputs": []
    },
    {
      "cell_type": "code",
      "source": [
        "# 학습(훈련)\n",
        "# 시험을 볼 때 기출문제(X_train)와 정답(y_train)을 보고 공부하는 과정과 유사합니다.\n",
        "model.fit(X_train,y_train)"
      ],
      "metadata": {
        "id": "M_m7ueQiPKjs"
      },
      "execution_count": null,
      "outputs": []
    },
    {
      "cell_type": "code",
      "source": [
        "# 예측\n",
        "# 실전 시험문제(X_test)라고 보면 됩니다. 우리가 정답을 직접 예측합니다.\n",
        "y_predict=model.predict(X_test)\n",
        "y_predict[:5]"
      ],
      "metadata": {
        "id": "666ElwzKPpF-"
      },
      "execution_count": null,
      "outputs": []
    },
    {
      "cell_type": "code",
      "source": [
        "## 트리 알고리즘 분석하기\n",
        "from sklearn.tree import plot_tree\n",
        "import matplotlib.pyplot as plt\n",
        "\n",
        "plt.figure(figsize=(20,20))\n",
        "tree=plot_tree(model,feature_names=feature_names,\n",
        "               filled=True,\n",
        "               fontsize=10)\n"
      ],
      "metadata": {
        "id": "TiexztGFReuJ"
      },
      "execution_count": null,
      "outputs": []
    },
    {
      "cell_type": "code",
      "source": [
        "model.feature_importances_\n",
        "\n"
      ],
      "metadata": {
        "id": "CJAYRsMCWzS0"
      },
      "execution_count": null,
      "outputs": []
    },
    {
      "cell_type": "code",
      "source": [
        "sns.barplot(x=model.feature_importances_,y=feature_names)"
      ],
      "metadata": {
        "id": "uk2MIGERZN6M"
      },
      "execution_count": null,
      "outputs": []
    },
    {
      "cell_type": "code",
      "source": [
        "# 정확도(accuracy) 예측하기\n",
        "# 실제값 - 예측값을 빼주면 같은 값은 0으로 나오게 된다.\n",
        "# 여기에서 절대값을 씌운 값이 1인 값이 다르게 예측한 값이 된다.\n",
        "abs(y_test-y_predict).sum()"
      ],
      "metadata": {
        "id": "hT-EFr_HZUsj"
      },
      "execution_count": null,
      "outputs": []
    },
    {
      "cell_type": "code",
      "source": [
        "diff_count=abs(y_test-y_predict).sum()\n",
        "diff_count"
      ],
      "metadata": {
        "id": "rs85ATwRZfhh"
      },
      "execution_count": null,
      "outputs": []
    },
    {
      "cell_type": "code",
      "source": [
        "# 예측의 정확도를 구한다. 100점 만점 중에 몇 점을 맞았는지 구한다고 보면 된다.\n",
        " (len(y_test)-diff_count) / len(y_test)*100"
      ],
      "metadata": {
        "id": "XFQTBeLjZmlR"
      },
      "execution_count": null,
      "outputs": []
    },
    {
      "cell_type": "code",
      "source": [
        "from sklearn.metrics import accuracy_score\n",
        "\n",
        "accuracy_score(y_test,y_predict)*100"
      ],
      "metadata": {
        "id": "Yy-mJs9waWnV"
      },
      "execution_count": null,
      "outputs": []
    },
    {
      "cell_type": "code",
      "source": [
        "# model의 score로 점수를 계산한다.\n",
        "model.score(X_test,y_test)*100\n"
      ],
      "metadata": {
        "id": "LAGKiOeccI16"
      },
      "execution_count": null,
      "outputs": []
    },
    {
      "cell_type": "code",
      "source": [],
      "metadata": {
        "id": "9uWBMDyQctv1"
      },
      "execution_count": null,
      "outputs": []
    }
  ]
}
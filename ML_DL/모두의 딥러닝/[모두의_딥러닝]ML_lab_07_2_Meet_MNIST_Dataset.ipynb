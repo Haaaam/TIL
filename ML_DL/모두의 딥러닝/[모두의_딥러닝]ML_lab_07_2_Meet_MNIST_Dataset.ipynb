{
  "nbformat": 4,
  "nbformat_minor": 0,
  "metadata": {
    "colab": {
      "name": "[모두의 딥러닝]ML lab 07-2:Meet MNIST Dataset.ipynb",
      "provenance": [],
      "collapsed_sections": []
    },
    "kernelspec": {
      "name": "python3",
      "display_name": "Python 3"
    },
    "language_info": {
      "name": "python"
    }
  },
  "cells": [
    {
      "cell_type": "markdown",
      "metadata": {
        "id": "2PoBd2sqKN78"
      },
      "source": [
        "#### MNIST dataset\n"
      ]
    },
    {
      "cell_type": "markdown",
      "metadata": {
        "id": "Iul2EN5gf-Dx"
      },
      "source": [
        "- one epoch = one forward pass and one backward pass of all the training exmples\n",
        "- batch size = the number of training examples in one forward/backward pass. The higher the batch size, the more memory space you'll need.\n",
        "- number of interations = number of passes, each pass using [batch size] number of examples. To be clear, one pass = one forward pass + one backward pass (we do not cout the forward pass and backward pass as two different passes) "
      ]
    },
    {
      "cell_type": "code",
      "metadata": {
        "id": "JGVFKtzVKI1S",
        "colab": {
          "base_uri": "https://localhost:8080/"
        },
        "outputId": "544bf311-805a-415a-90ee-10061d819363"
      },
      "source": [
        "import tensorflow.compat.v1 as tf\n",
        "tf.disable_v2_behavior()\n",
        "\n",
        "import numpy as np\n",
        "\n",
        "#데이터 불러오기\n",
        "mnist=tf.keras.datasets.mnist\n",
        "\n",
        "(x_train,y_train),(x_test,y_test)=mnist.load_data()\n",
        "x_train,x_test=x_train/255.0,x_test/255.0\n",
        "print(\"normalization done\")\n",
        "\n",
        "#linear classifier\n",
        "\n",
        "model=tf.keras.models.Sequential([\n",
        "                                  tf.keras.layers.Flatten(input_shape=(28,28)),\n",
        "                                  tf.keras.layers.Dense(10,activation='softmax')\n",
        "])\n",
        "\n",
        "model.compile(optimizer='SGD',\n",
        "              loss='sparse_categorical_crossentropy',\n",
        "              metrics=['accuracy'])\n",
        "\n",
        "model.fit(x_train,y_train,epochs=5)\n",
        "model.evaluate(x_test,y_test,verbose=2)"
      ],
      "execution_count": 7,
      "outputs": [
        {
          "output_type": "stream",
          "text": [
            "normalization done\n",
            "Train on 60000 samples\n",
            "Epoch 1/5\n",
            "60000/60000 [==============================] - 2s 32us/sample - loss: 0.7802 - acc: 0.8143\n",
            "Epoch 2/5\n",
            "60000/60000 [==============================] - 2s 32us/sample - loss: 0.4555 - acc: 0.8813\n",
            "Epoch 3/5\n",
            "60000/60000 [==============================] - 2s 30us/sample - loss: 0.4023 - acc: 0.8911\n",
            "Epoch 4/5\n",
            "60000/60000 [==============================] - 2s 31us/sample - loss: 0.3758 - acc: 0.8981\n",
            "Epoch 5/5\n",
            "60000/60000 [==============================] - 2s 31us/sample - loss: 0.3590 - acc: 0.9012\n"
          ],
          "name": "stdout"
        },
        {
          "output_type": "stream",
          "text": [
            "/usr/local/lib/python3.7/dist-packages/tensorflow/python/keras/engine/training.py:2426: UserWarning: `Model.state_updates` will be removed in a future version. This property should not be used in TensorFlow 2.0, as `updates` are applied automatically.\n",
            "  warnings.warn('`Model.state_updates` will be removed in a future version. '\n"
          ],
          "name": "stderr"
        },
        {
          "output_type": "execute_result",
          "data": {
            "text/plain": [
              "[0.3366210313975811, 0.91]"
            ]
          },
          "metadata": {
            "tags": []
          },
          "execution_count": 7
        }
      ]
    },
    {
      "cell_type": "code",
      "metadata": {
        "id": "SAWUbXzggtRX"
      },
      "source": [
        ""
      ],
      "execution_count": null,
      "outputs": []
    }
  ]
}
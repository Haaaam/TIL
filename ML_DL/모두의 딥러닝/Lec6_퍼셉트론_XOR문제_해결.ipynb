{
  "nbformat": 4,
  "nbformat_minor": 0,
  "metadata": {
    "colab": {
      "name": "Lec6. 퍼셉트론 XOR문제 해결.ipynb",
      "provenance": [],
      "collapsed_sections": []
    },
    "kernelspec": {
      "name": "python3",
      "display_name": "Python 3"
    },
    "language_info": {
      "name": "python"
    }
  },
  "cells": [
    {
      "cell_type": "markdown",
      "metadata": {
        "id": "pG3Ium3vzcmX"
      },
      "source": [
        "#### 해당 lecture 설명: https://blog.naver.com/hyemin8670"
      ]
    },
    {
      "cell_type": "code",
      "metadata": {
        "colab": {
          "base_uri": "https://localhost:8080/"
        },
        "id": "-hresqVQtkAK",
        "outputId": "b7f63fe6-0987-4e86-eb50-fe19db0a630b"
      },
      "source": [
        "import numpy as np\n",
        "# 가중치(w), 바이어스(b) 선언\n",
        "w11=np.array([-2,-2])\n",
        "w12=np.array([2,2])\n",
        "w2=np.array([1,1])\n",
        "b1=3\n",
        "b2= -1\n",
        "b3= -1\n",
        "\n",
        "#퍼셉트론 함수 만들기\n",
        "\n",
        "def MLP(x,w,b):\n",
        "    y=np.sum(w*x)+b\n",
        "    if y<=0:\n",
        "      return 0\n",
        "    else:\n",
        "      return 1\n",
        "\n",
        "#NAND 게이트\n",
        "def NAND(x1,x2):\n",
        "    return MLP(np.array([x1,x2]),w11,b1)\n",
        "\n",
        "#OR 게이트\n",
        "def OR(x1,x2):\n",
        "    return MLP(np.array([x1,x2]),w12,b2)\n",
        "\n",
        "#AND 게이트\n",
        "def AND(x1,x2):\n",
        "    return MLP(np.array([x1,x2]),w2,b3)\n",
        "\n",
        "#XOR 게이트\n",
        "def XOR(x1,x2):\n",
        "    return AND(NAND(x1,x2),OR(x1,x2))\n",
        "\n",
        "for x in [(0,0),(1,0),(0,1),(1,1)]:\n",
        "    y=XOR(x[0],x[1])\n",
        "    print(\"입력 값: \"+str(x)+\"출력 값: \"+str(y))\n"
      ],
      "execution_count": 1,
      "outputs": [
        {
          "output_type": "stream",
          "text": [
            "입력 값: (0, 0)출력 값: 0\n",
            "입력 값: (1, 0)출력 값: 1\n",
            "입력 값: (0, 1)출력 값: 1\n",
            "입력 값: (1, 1)출력 값: 0\n"
          ],
          "name": "stdout"
        }
      ]
    },
    {
      "cell_type": "code",
      "metadata": {
        "id": "JiAzdls5vymu"
      },
      "source": [
        ""
      ],
      "execution_count": null,
      "outputs": []
    }
  ]
}
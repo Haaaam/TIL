{
  "nbformat": 4,
  "nbformat_minor": 0,
  "metadata": {
    "colab": {
      "name": "ML lab03_CostFunction(Optional).ipynb",
      "private_outputs": true,
      "provenance": [],
      "collapsed_sections": []
    },
    "kernelspec": {
      "name": "python3",
      "display_name": "Python 3"
    },
    "language_info": {
      "name": "python"
    }
  },
  "cells": [
    {
      "cell_type": "code",
      "metadata": {
        "id": "ZVDZH2CYGH-k"
      },
      "source": [
        "import tensorflow.compat.v1 as tf\n",
        "\n",
        "tf.disable_v2_behavior()\n",
        "\n",
        "X=[1,2,3]\n",
        "Y=[1,2,3]\n",
        "#Set wrong model weights\n",
        "W=tf.Variable(5.)\n",
        "#Linear model\n",
        "hypothesis=W*X\n",
        "\n",
        "gradient=tf.reduce_mean((W*X-Y)*X)*2\n",
        "\n",
        "#cost/Loss function\n",
        "cost=tf.reduce_mean(tf.square(hypothesis-Y))\n",
        "\n",
        "#미분할 필요 없이 optimizer를 선언\n",
        "optimizer=tf.train.GradientDescentOptimizer(learning_rate=0.01)\n",
        "\n",
        "#Get graients\n",
        "gvs=optimizer.compute_gradients(cost)\n",
        "#Apply gradients\n",
        "apply_gradients=optimizer.apply_gradients(gvs)\n",
        "\n",
        "#Launch the graph in a session\n",
        "sess=tf.Session()\n",
        "sess.run(tf.global_variables_initializer())\n",
        "\n",
        "for step in range(100):\n",
        "  print(step,sess.run(W),sess.run(cost))\n",
        "  sess.run(apply_gradients)"
      ],
      "execution_count": null,
      "outputs": []
    },
    {
      "cell_type": "code",
      "metadata": {
        "id": "N-0rDVlCHi78"
      },
      "source": [
        ""
      ],
      "execution_count": null,
      "outputs": []
    }
  ]
}
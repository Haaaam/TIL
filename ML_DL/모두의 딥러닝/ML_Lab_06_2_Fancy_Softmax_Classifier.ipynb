{
  "nbformat": 4,
  "nbformat_minor": 0,
  "metadata": {
    "colab": {
      "name": "ML Lab 06-2: Fancy Softmax Classifier.ipynb",
      "provenance": [],
      "collapsed_sections": []
    },
    "kernelspec": {
      "name": "python3",
      "display_name": "Python 3"
    },
    "language_info": {
      "name": "python"
    },
    "accelerator": "GPU"
  },
  "cells": [
    {
      "cell_type": "markdown",
      "metadata": {
        "id": "eQ0EoScmtEEp"
      },
      "source": [
        "#### softmax_cross_entropy_with_logits\n"
      ]
    },
    {
      "cell_type": "code",
      "metadata": {
        "colab": {
          "base_uri": "https://localhost:8080/"
        },
        "id": "Xz_oFdHN3_CU",
        "outputId": "280a4e41-0188-4c54-c5e6-ae282136813f"
      },
      "source": [
        "from google.colab import drive\n",
        "drive.mount('/content/drive')"
      ],
      "execution_count": 1,
      "outputs": [
        {
          "output_type": "stream",
          "text": [
            "Mounted at /content/drive\n"
          ],
          "name": "stdout"
        }
      ]
    },
    {
      "cell_type": "code",
      "metadata": {
        "colab": {
          "base_uri": "https://localhost:8080/"
        },
        "id": "A4dATOSLs16o",
        "outputId": "71bbf0fe-24b1-403b-c160-fdac6eee0482"
      },
      "source": [
        "cd /content/drive/MyDrive/모두의 딥러닝"
      ],
      "execution_count": 2,
      "outputs": [
        {
          "output_type": "stream",
          "text": [
            "/content/drive/MyDrive/모두의 딥러닝\n"
          ],
          "name": "stdout"
        }
      ]
    },
    {
      "cell_type": "code",
      "metadata": {
        "colab": {
          "base_uri": "https://localhost:8080/"
        },
        "id": "emEoif2I4AEx",
        "outputId": "e98515e1-4bcf-4371-d9fa-637f6e4c528b"
      },
      "source": [
        "import tensorflow.compat.v1 as tf\n",
        "import numpy as np\n",
        "tf.disable_v2_behavior()\n",
        "\n",
        "xy=np.loadtxt('./data/data-04-zoo.csv',delimiter=',',dtype=np.float32)\n",
        "x_data=xy[:,0:-1]\n",
        "y_data=xy[:,[-1]]\n",
        "\n",
        "nb_classes=7 #0~6\n",
        "\n",
        "X=tf.placeholder(tf.float32,[None,16])\n",
        "Y=tf.placeholder(tf.int32,[None,1])\n",
        "\n",
        "Y_one_hot=tf.one_hot(Y,nb_classes) # one_hot\n",
        "Y_one_hot=tf.reshape(Y_one_hot,[-1,nb_classes])\n",
        "\n",
        "W=tf.Variable(tf.random_normal([16,nb_classes]),name='weight')\n",
        "b=tf.Variable(tf.random_normal([nb_classes]),name='bias')\n",
        "\n",
        "logits=tf.matmul(X,W)+b\n",
        "hypothesis=tf.nn.softmax(logits)\n",
        "\n",
        "#Cross Entropy cost/loss\n",
        "cost_i=tf.nn.softmax_cross_entropy_with_logits(logits=logits,\n",
        "                                               labels=Y_one_hot)\n",
        "\n",
        "cost=tf.reduce_mean(cost_i)\n",
        "optimizer=tf.train.GradientDescentOptimizer(learning_rate=0.1).minimize(cost)\n",
        "\n",
        "prediction=tf.argmax(hypothesis,1)\n",
        "correct_prediction=tf.equal(prediction,tf.argmax(Y_one_hot,1))\n",
        "accuracy=tf.reduce_mean(tf.cast(correct_prediction,tf.float32))\n",
        "\n",
        "with tf.Session() as sess:\n",
        "  sess.run(tf.global_variables_initializer())\n",
        "\n",
        "  for step in range(2000):\n",
        "    sess.run(optimizer,feed_dict={X:x_data,Y:y_data})\n",
        "    if step%100==0:\n",
        "      loss,acc=sess.run([cost,accuracy],feed_dict={X:x_data,Y:y_data})\n",
        "      print(\"Step: {:5}\\tLoss: {:.3f}\\tAcc: {:.2%}\".format(step,loss,acc))\n",
        "\n",
        "  pred=sess.run(prediction,feed_dict={X:x_data})\n",
        "  # y_data: (N,1) =flatten => (N,)matches pred.shape \n",
        "  # ex) [[1],[0]] -> [1,0] 이렇게 평평하게 해주는 것 \n",
        "  for p,y in zip(pred,y_data.flatten()):\n",
        "    print(\"[{}] Prediction: {} True Y: {}\".format(p==int(y),p,int(y)))"
      ],
      "execution_count": 13,
      "outputs": [
        {
          "output_type": "stream",
          "text": [
            "Step:     0\tLoss: 6.427\tAcc: 5.94%\n",
            "Step:   100\tLoss: 0.677\tAcc: 77.23%\n",
            "Step:   200\tLoss: 0.425\tAcc: 89.11%\n",
            "Step:   300\tLoss: 0.311\tAcc: 91.09%\n",
            "Step:   400\tLoss: 0.242\tAcc: 94.06%\n",
            "Step:   500\tLoss: 0.197\tAcc: 96.04%\n",
            "Step:   600\tLoss: 0.164\tAcc: 97.03%\n",
            "Step:   700\tLoss: 0.140\tAcc: 98.02%\n",
            "Step:   800\tLoss: 0.122\tAcc: 99.01%\n",
            "Step:   900\tLoss: 0.108\tAcc: 100.00%\n",
            "Step:  1000\tLoss: 0.097\tAcc: 100.00%\n",
            "Step:  1100\tLoss: 0.088\tAcc: 100.00%\n",
            "Step:  1200\tLoss: 0.081\tAcc: 100.00%\n",
            "Step:  1300\tLoss: 0.074\tAcc: 100.00%\n",
            "Step:  1400\tLoss: 0.069\tAcc: 100.00%\n",
            "Step:  1500\tLoss: 0.064\tAcc: 100.00%\n",
            "Step:  1600\tLoss: 0.060\tAcc: 100.00%\n",
            "Step:  1700\tLoss: 0.057\tAcc: 100.00%\n",
            "Step:  1800\tLoss: 0.054\tAcc: 100.00%\n",
            "Step:  1900\tLoss: 0.051\tAcc: 100.00%\n",
            "[True] Prediction: 0 True Y: 0\n",
            "[True] Prediction: 0 True Y: 0\n",
            "[True] Prediction: 3 True Y: 3\n",
            "[True] Prediction: 0 True Y: 0\n",
            "[True] Prediction: 0 True Y: 0\n",
            "[True] Prediction: 0 True Y: 0\n",
            "[True] Prediction: 0 True Y: 0\n",
            "[True] Prediction: 3 True Y: 3\n",
            "[True] Prediction: 3 True Y: 3\n",
            "[True] Prediction: 0 True Y: 0\n",
            "[True] Prediction: 0 True Y: 0\n",
            "[True] Prediction: 1 True Y: 1\n",
            "[True] Prediction: 3 True Y: 3\n",
            "[True] Prediction: 6 True Y: 6\n",
            "[True] Prediction: 6 True Y: 6\n",
            "[True] Prediction: 6 True Y: 6\n",
            "[True] Prediction: 1 True Y: 1\n",
            "[True] Prediction: 0 True Y: 0\n",
            "[True] Prediction: 3 True Y: 3\n",
            "[True] Prediction: 0 True Y: 0\n",
            "[True] Prediction: 1 True Y: 1\n",
            "[True] Prediction: 1 True Y: 1\n",
            "[True] Prediction: 0 True Y: 0\n",
            "[True] Prediction: 1 True Y: 1\n",
            "[True] Prediction: 5 True Y: 5\n",
            "[True] Prediction: 4 True Y: 4\n",
            "[True] Prediction: 4 True Y: 4\n",
            "[True] Prediction: 0 True Y: 0\n",
            "[True] Prediction: 0 True Y: 0\n",
            "[True] Prediction: 0 True Y: 0\n",
            "[True] Prediction: 5 True Y: 5\n",
            "[True] Prediction: 0 True Y: 0\n",
            "[True] Prediction: 0 True Y: 0\n",
            "[True] Prediction: 1 True Y: 1\n",
            "[True] Prediction: 3 True Y: 3\n",
            "[True] Prediction: 0 True Y: 0\n",
            "[True] Prediction: 0 True Y: 0\n",
            "[True] Prediction: 1 True Y: 1\n",
            "[True] Prediction: 3 True Y: 3\n",
            "[True] Prediction: 5 True Y: 5\n",
            "[True] Prediction: 5 True Y: 5\n",
            "[True] Prediction: 1 True Y: 1\n",
            "[True] Prediction: 5 True Y: 5\n",
            "[True] Prediction: 1 True Y: 1\n",
            "[True] Prediction: 0 True Y: 0\n",
            "[True] Prediction: 0 True Y: 0\n",
            "[True] Prediction: 6 True Y: 6\n",
            "[True] Prediction: 0 True Y: 0\n",
            "[True] Prediction: 0 True Y: 0\n",
            "[True] Prediction: 0 True Y: 0\n",
            "[True] Prediction: 0 True Y: 0\n",
            "[True] Prediction: 5 True Y: 5\n",
            "[True] Prediction: 4 True Y: 4\n",
            "[True] Prediction: 6 True Y: 6\n",
            "[True] Prediction: 0 True Y: 0\n",
            "[True] Prediction: 0 True Y: 0\n",
            "[True] Prediction: 1 True Y: 1\n",
            "[True] Prediction: 1 True Y: 1\n",
            "[True] Prediction: 1 True Y: 1\n",
            "[True] Prediction: 1 True Y: 1\n",
            "[True] Prediction: 3 True Y: 3\n",
            "[True] Prediction: 3 True Y: 3\n",
            "[True] Prediction: 2 True Y: 2\n",
            "[True] Prediction: 0 True Y: 0\n",
            "[True] Prediction: 0 True Y: 0\n",
            "[True] Prediction: 0 True Y: 0\n",
            "[True] Prediction: 0 True Y: 0\n",
            "[True] Prediction: 0 True Y: 0\n",
            "[True] Prediction: 0 True Y: 0\n",
            "[True] Prediction: 0 True Y: 0\n",
            "[True] Prediction: 0 True Y: 0\n",
            "[True] Prediction: 1 True Y: 1\n",
            "[True] Prediction: 6 True Y: 6\n",
            "[True] Prediction: 3 True Y: 3\n",
            "[True] Prediction: 0 True Y: 0\n",
            "[True] Prediction: 0 True Y: 0\n",
            "[True] Prediction: 2 True Y: 2\n",
            "[True] Prediction: 6 True Y: 6\n",
            "[True] Prediction: 1 True Y: 1\n",
            "[True] Prediction: 1 True Y: 1\n",
            "[True] Prediction: 2 True Y: 2\n",
            "[True] Prediction: 6 True Y: 6\n",
            "[True] Prediction: 3 True Y: 3\n",
            "[True] Prediction: 1 True Y: 1\n",
            "[True] Prediction: 0 True Y: 0\n",
            "[True] Prediction: 6 True Y: 6\n",
            "[True] Prediction: 3 True Y: 3\n",
            "[True] Prediction: 1 True Y: 1\n",
            "[True] Prediction: 5 True Y: 5\n",
            "[True] Prediction: 4 True Y: 4\n",
            "[True] Prediction: 2 True Y: 2\n",
            "[True] Prediction: 2 True Y: 2\n",
            "[True] Prediction: 3 True Y: 3\n",
            "[True] Prediction: 0 True Y: 0\n",
            "[True] Prediction: 0 True Y: 0\n",
            "[True] Prediction: 1 True Y: 1\n",
            "[True] Prediction: 0 True Y: 0\n",
            "[True] Prediction: 5 True Y: 5\n",
            "[True] Prediction: 0 True Y: 0\n",
            "[True] Prediction: 6 True Y: 6\n",
            "[True] Prediction: 1 True Y: 1\n"
          ],
          "name": "stdout"
        }
      ]
    },
    {
      "cell_type": "code",
      "metadata": {
        "id": "JuWnHDhs-jqB"
      },
      "source": [
        ""
      ],
      "execution_count": null,
      "outputs": []
    }
  ]
}
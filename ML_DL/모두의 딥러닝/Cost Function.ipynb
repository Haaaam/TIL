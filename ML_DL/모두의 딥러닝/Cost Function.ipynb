{
 "cells": [
  {
   "cell_type": "markdown",
   "metadata": {},
   "source": [
    "### Build graph using TF operations\n",
    "- H(x) = Wx+b"
   ]
  },
  {
   "cell_type": "markdown",
   "metadata": {},
   "source": [
    "### Tensorflow Mechanics\n",
    "\n",
    "1. Build Graph using Tensorflow operations\n",
    "- H(x)=Wx+b\n",
    "- cost(W,b)=tf.square(hypothesis-y_train)\n",
    "2. feed data and run graph(operation)\n",
    "- sess.run(op,feed_dict={x:x_data})\n",
    "\n",
    "3. update variables in the graph( and return values)"
   ]
  },
  {
   "cell_type": "code",
   "execution_count": 5,
   "metadata": {},
   "outputs": [
    {
     "name": "stdout",
     "output_type": "stream",
     "text": [
      "Requirement already satisfied: tensorflow in c:\\users\\hyemi\\anaconda3\\lib\\site-packages (2.4.1)\n",
      "Requirement already satisfied: flatbuffers~=1.12.0 in c:\\users\\hyemi\\anaconda3\\lib\\site-packages (from tensorflow) (1.12)\n",
      "Requirement already satisfied: astunparse~=1.6.3 in c:\\users\\hyemi\\anaconda3\\lib\\site-packages (from tensorflow) (1.6.3)\n",
      "Requirement already satisfied: wrapt~=1.12.1 in c:\\users\\hyemi\\anaconda3\\lib\\site-packages (from tensorflow) (1.12.1)\n",
      "Requirement already satisfied: keras-preprocessing~=1.1.2 in c:\\users\\hyemi\\anaconda3\\lib\\site-packages (from tensorflow) (1.1.2)\n",
      "Requirement already satisfied: tensorboard~=2.4 in c:\\users\\hyemi\\anaconda3\\lib\\site-packages (from tensorflow) (2.4.1)\n",
      "Requirement already satisfied: absl-py~=0.10 in c:\\users\\hyemi\\anaconda3\\lib\\site-packages (from tensorflow) (0.12.0)\n",
      "Requirement already satisfied: numpy~=1.19.2 in c:\\users\\hyemi\\anaconda3\\lib\\site-packages (from tensorflow) (1.19.2)\n",
      "Requirement already satisfied: opt-einsum~=3.3.0 in c:\\users\\hyemi\\anaconda3\\lib\\site-packages (from tensorflow) (3.3.0)\n",
      "Requirement already satisfied: grpcio~=1.32.0 in c:\\users\\hyemi\\anaconda3\\lib\\site-packages (from tensorflow) (1.32.0)\n",
      "Requirement already satisfied: tensorflow-estimator<2.5.0,>=2.4.0 in c:\\users\\hyemi\\anaconda3\\lib\\site-packages (from tensorflow) (2.4.0)\n",
      "Requirement already satisfied: typing-extensions~=3.7.4 in c:\\users\\hyemi\\anaconda3\\lib\\site-packages (from tensorflow) (3.7.4.3)\n",
      "Requirement already satisfied: termcolor~=1.1.0 in c:\\users\\hyemi\\anaconda3\\lib\\site-packages (from tensorflow) (1.1.0)\n",
      "Requirement already satisfied: six~=1.15.0 in c:\\users\\hyemi\\anaconda3\\lib\\site-packages (from tensorflow) (1.15.0)\n",
      "Requirement already satisfied: h5py~=2.10.0 in c:\\users\\hyemi\\anaconda3\\lib\\site-packages (from tensorflow) (2.10.0)\n",
      "Requirement already satisfied: protobuf>=3.9.2 in c:\\users\\hyemi\\anaconda3\\lib\\site-packages (from tensorflow) (3.15.8)\n",
      "Requirement already satisfied: wheel~=0.35 in c:\\users\\hyemi\\anaconda3\\lib\\site-packages (from tensorflow) (0.35.1)\n",
      "Requirement already satisfied: gast==0.3.3 in c:\\users\\hyemi\\anaconda3\\lib\\site-packages (from tensorflow) (0.3.3)\n",
      "Requirement already satisfied: google-pasta~=0.2 in c:\\users\\hyemi\\anaconda3\\lib\\site-packages (from tensorflow) (0.2.0)\n",
      "Requirement already satisfied: tensorboard-plugin-wit>=1.6.0 in c:\\users\\hyemi\\anaconda3\\lib\\site-packages (from tensorboard~=2.4->tensorflow) (1.8.0)\n",
      "Requirement already satisfied: requests<3,>=2.21.0 in c:\\users\\hyemi\\anaconda3\\lib\\site-packages (from tensorboard~=2.4->tensorflow) (2.24.0)\n",
      "Requirement already satisfied: markdown>=2.6.8 in c:\\users\\hyemi\\anaconda3\\lib\\site-packages (from tensorboard~=2.4->tensorflow) (3.3.4)\n",
      "Requirement already satisfied: google-auth-oauthlib<0.5,>=0.4.1 in c:\\users\\hyemi\\anaconda3\\lib\\site-packages (from tensorboard~=2.4->tensorflow) (0.4.4)\n",
      "Requirement already satisfied: setuptools>=41.0.0 in c:\\users\\hyemi\\anaconda3\\lib\\site-packages (from tensorboard~=2.4->tensorflow) (50.3.1.post20201107)\n",
      "Requirement already satisfied: google-auth<2,>=1.6.3 in c:\\users\\hyemi\\anaconda3\\lib\\site-packages (from tensorboard~=2.4->tensorflow) (1.29.0)\n",
      "Requirement already satisfied: werkzeug>=0.11.15 in c:\\users\\hyemi\\anaconda3\\lib\\site-packages (from tensorboard~=2.4->tensorflow) (1.0.1)\n",
      "Requirement already satisfied: certifi>=2017.4.17 in c:\\users\\hyemi\\anaconda3\\lib\\site-packages (from requests<3,>=2.21.0->tensorboard~=2.4->tensorflow) (2020.6.20)\n",
      "Requirement already satisfied: urllib3!=1.25.0,!=1.25.1,<1.26,>=1.21.1 in c:\\users\\hyemi\\anaconda3\\lib\\site-packages (from requests<3,>=2.21.0->tensorboard~=2.4->tensorflow) (1.25.11)\n",
      "Requirement already satisfied: chardet<4,>=3.0.2 in c:\\users\\hyemi\\anaconda3\\lib\\site-packages (from requests<3,>=2.21.0->tensorboard~=2.4->tensorflow) (3.0.4)\n",
      "Requirement already satisfied: idna<3,>=2.5 in c:\\users\\hyemi\\anaconda3\\lib\\site-packages (from requests<3,>=2.21.0->tensorboard~=2.4->tensorflow) (2.10)\n",
      "Requirement already satisfied: requests-oauthlib>=0.7.0 in c:\\users\\hyemi\\anaconda3\\lib\\site-packages (from google-auth-oauthlib<0.5,>=0.4.1->tensorboard~=2.4->tensorflow) (1.3.0)\n",
      "Requirement already satisfied: cachetools<5.0,>=2.0.0 in c:\\users\\hyemi\\anaconda3\\lib\\site-packages (from google-auth<2,>=1.6.3->tensorboard~=2.4->tensorflow) (4.2.1)\n",
      "Requirement already satisfied: rsa<5,>=3.1.4; python_version >= \"3.6\" in c:\\users\\hyemi\\anaconda3\\lib\\site-packages (from google-auth<2,>=1.6.3->tensorboard~=2.4->tensorflow) (4.7.2)\n",
      "Requirement already satisfied: pyasn1-modules>=0.2.1 in c:\\users\\hyemi\\anaconda3\\lib\\site-packages (from google-auth<2,>=1.6.3->tensorboard~=2.4->tensorflow) (0.2.8)\n",
      "Requirement already satisfied: oauthlib>=3.0.0 in c:\\users\\hyemi\\anaconda3\\lib\\site-packages (from requests-oauthlib>=0.7.0->google-auth-oauthlib<0.5,>=0.4.1->tensorboard~=2.4->tensorflow) (3.1.0)\n",
      "Requirement already satisfied: pyasn1>=0.1.3 in c:\\users\\hyemi\\anaconda3\\lib\\site-packages (from rsa<5,>=3.1.4; python_version >= \"3.6\"->google-auth<2,>=1.6.3->tensorboard~=2.4->tensorflow) (0.4.8)\n"
     ]
    }
   ],
   "source": [
    "!pip install tensorflow"
   ]
  },
  {
   "cell_type": "code",
   "execution_count": 20,
   "metadata": {},
   "outputs": [
    {
     "name": "stdout",
     "output_type": "stream",
     "text": [
      "2.4.1\n"
     ]
    }
   ],
   "source": [
    "# tensorflow 2.0 버전으로 설치되서 발생하는 \n",
    "# AttributeError: module 'tensorflow_core._api.v2.train' has no attribute 'GradientDescentOptimizer'\n",
    "# 에러 방지를 위해 1.x버전을 import \n",
    "import tensorflow.compat.v1 as tf \n",
    "\n",
    "tf.disable_v2_behavior()\n",
    "print(tf.__version__)\n",
    " \n"
   ]
  },
  {
   "cell_type": "code",
   "execution_count": 21,
   "metadata": {},
   "outputs": [],
   "source": [
    "x_train=[1,2,3]\n",
    "y_train=[1,2,3]\n",
    "\n",
    "W=tf.Variable(tf.random.normal([1]),name='weight')\n",
    "b=tf.Variable(tf.random.normal([1]), name='bias')\n",
    "\n",
    "#hypothesis Wx+b\n",
    "hypothesis=x_train*W+b\n"
   ]
  },
  {
   "cell_type": "code",
   "execution_count": 22,
   "metadata": {},
   "outputs": [],
   "source": [
    "#cost/Loss function\n",
    "cost=tf.reduce_mean(tf.square(hypothesis-y_train)) "
   ]
  },
  {
   "cell_type": "code",
   "execution_count": 23,
   "metadata": {},
   "outputs": [],
   "source": [
    "# GradientDescent\n",
    "#Minimize\n",
    "optimizer=tf.train.GradientDescentOptimizer(learning_rate=0.01)\n",
    "train=optimizer.minimize(cost)"
   ]
  },
  {
   "cell_type": "code",
   "execution_count": 24,
   "metadata": {},
   "outputs": [
    {
     "name": "stdout",
     "output_type": "stream",
     "text": [
      "0 33.55086 [-1.1931154] [-1.1223408]\n",
      "20 0.30644473 [0.8409953] [-0.22012606]\n",
      "40 0.004820725 [1.0323405] [-0.12889516]\n",
      "60 0.001898554 [1.0483288] [-0.11513571]\n",
      "80 0.0017018141 [1.0477246] [-0.10899142]\n",
      "100 0.0015454128 [1.0456405] [-0.10379937]\n",
      "120 0.0014035678 [1.0435106] [-0.09891451]\n",
      "140 0.0012747437 [1.0414673] [-0.09426523]\n",
      "160 0.0011577429 [1.0395185] [-0.08983513]\n",
      "180 0.0010514779 [1.0376613] [-0.08561315]\n",
      "200 0.00095496635 [1.0358914] [-0.08158959]\n",
      "220 0.0008673181 [1.0342047] [-0.07775518]\n",
      "240 0.00078771426 [1.0325972] [-0.074101]\n",
      "260 0.00071541365 [1.0310652] [-0.07061857]\n",
      "280 0.0006497482 [1.0296053] [-0.06729975]\n",
      "300 0.00059011363 [1.028214] [-0.06413691]\n",
      "320 0.0005359523 [1.026888] [-0.06112272]\n",
      "340 0.00048676078 [1.0256244] [-0.05825019]\n",
      "360 0.0004420818 [1.0244201] [-0.05551269]\n",
      "380 0.00040150783 [1.0232725] [-0.05290385]\n",
      "400 0.00036465682 [1.0221789] [-0.0504176]\n",
      "420 0.00033118905 [1.0211368] [-0.04804823]\n",
      "440 0.00030079662 [1.0201436] [-0.04579043]\n",
      "460 0.0002731837 [1.0191964] [-0.04363846]\n",
      "480 0.0002481104 [1.0182943] [-0.04158753]\n",
      "500 0.00022533727 [1.0174346] [-0.039633]\n",
      "520 0.00020465437 [1.0166152] [-0.03777037]\n",
      "540 0.00018587027 [1.0158343] [-0.03599527]\n",
      "560 0.00016881031 [1.0150902] [-0.0343036]\n",
      "580 0.00015331563 [1.0143809] [-0.03269143]\n",
      "600 0.00013924437 [1.0137053] [-0.03115506]\n",
      "620 0.00012646394 [1.013061] [-0.02969094]\n",
      "640 0.00011485587 [1.0124472] [-0.02829557]\n",
      "660 0.000104314626 [1.0118623] [-0.02696578]\n",
      "680 9.473945e-05 [1.0113047] [-0.02569849]\n",
      "700 8.6043925e-05 [1.0107735] [-0.02449073]\n",
      "720 7.814615e-05 [1.0102671] [-0.02333974]\n",
      "740 7.0973285e-05 [1.0097845] [-0.02224278]\n",
      "760 6.445913e-05 [1.0093248] [-0.02119739]\n",
      "780 5.854307e-05 [1.0088865] [-0.02020118]\n",
      "800 5.3169282e-05 [1.0084689] [-0.01925178]\n",
      "820 4.82886e-05 [1.0080708] [-0.018347]\n",
      "840 4.3857e-05 [1.0076916] [-0.01748474]\n",
      "860 3.983196e-05 [1.0073301] [-0.01666304]\n",
      "880 3.617516e-05 [1.0069855] [-0.01587993]\n",
      "900 3.2855547e-05 [1.0066572] [-0.01513362]\n",
      "920 2.9839954e-05 [1.0063444] [-0.01442237]\n",
      "940 2.7100768e-05 [1.0060463] [-0.01374455]\n",
      "960 2.4613428e-05 [1.0057621] [-0.01309865]\n",
      "980 2.23548e-05 [1.0054914] [-0.01248309]\n",
      "1000 2.0302818e-05 [1.0052333] [-0.01189648]\n",
      "1020 1.8439163e-05 [1.0049872] [-0.01133737]\n",
      "1040 1.6746477e-05 [1.004753] [-0.01080449]\n",
      "1060 1.5210044e-05 [1.0045296] [-0.01029678]\n",
      "1080 1.381389e-05 [1.0043168] [-0.00981288]\n",
      "1100 1.2546101e-05 [1.0041139] [-0.00935177]\n",
      "1120 1.1394545e-05 [1.0039206] [-0.00891227]\n",
      "1140 1.0348737e-05 [1.0037363] [-0.00849346]\n",
      "1160 9.399011e-06 [1.0035608] [-0.00809431]\n",
      "1180 8.536423e-06 [1.0033934] [-0.00771397]\n",
      "1200 7.752979e-06 [1.0032339] [-0.00735149]\n",
      "1220 7.041473e-06 [1.003082] [-0.007006]\n",
      "1240 6.3951497e-06 [1.0029371] [-0.00667677]\n",
      "1260 5.8081773e-06 [1.002799] [-0.006363]\n",
      "1280 5.275251e-06 [1.0026677] [-0.006064]\n",
      "1300 4.79107e-06 [1.0025423] [-0.00577903]\n",
      "1320 4.351383e-06 [1.0024228] [-0.00550747]\n",
      "1340 3.9519346e-06 [1.0023088] [-0.00524863]\n",
      "1360 3.5892247e-06 [1.0022004] [-0.00500197]\n",
      "1380 3.2597181e-06 [1.002097] [-0.00476691]\n",
      "1400 2.9606738e-06 [1.0019984] [-0.00454293]\n",
      "1420 2.6891332e-06 [1.0019046] [-0.00432948]\n",
      "1440 2.4422827e-06 [1.0018151] [-0.00412608]\n",
      "1460 2.2180536e-06 [1.0017298] [-0.00393218]\n",
      "1480 2.0146706e-06 [1.0016485] [-0.0037474]\n",
      "1500 1.8296063e-06 [1.001571] [-0.00357132]\n",
      "1520 1.6619621e-06 [1.0014974] [-0.00340355]\n",
      "1540 1.5093565e-06 [1.001427] [-0.0032437]\n",
      "1560 1.3709423e-06 [1.0013599] [-0.00309134]\n",
      "1580 1.2452971e-06 [1.0012962] [-0.00294616]\n",
      "1600 1.1309602e-06 [1.0012354] [-0.0028078]\n",
      "1620 1.0272964e-06 [1.0011773] [-0.00267596]\n",
      "1640 9.329592e-07 [1.0011219] [-0.00255027]\n",
      "1660 8.4751065e-07 [1.0010692] [-0.00243051]\n",
      "1680 7.6975016e-07 [1.001019] [-0.0023164]\n",
      "1700 6.9912494e-07 [1.0009712] [-0.00220766]\n",
      "1720 6.351435e-07 [1.0009257] [-0.00210402]\n",
      "1740 5.7692006e-07 [1.0008823] [-0.00200524]\n",
      "1760 5.2398065e-07 [1.0008409] [-0.00191109]\n",
      "1780 4.7588347e-07 [1.0008014] [-0.00182134]\n",
      "1800 4.3226495e-07 [1.0007637] [-0.00173584]\n",
      "1820 3.9268147e-07 [1.0007279] [-0.00165444]\n",
      "1840 3.5675643e-07 [1.0006939] [-0.00157678]\n",
      "1860 3.2396068e-07 [1.0006613] [-0.00150277]\n",
      "1880 2.943161e-07 [1.0006303] [-0.00143238]\n",
      "1900 2.6738581e-07 [1.0006008] [-0.00136513]\n",
      "1920 2.4288474e-07 [1.0005723] [-0.00130111]\n",
      "1940 2.2062947e-07 [1.0005459] [-0.00124011]\n",
      "1960 2.0042704e-07 [1.0005199] [-0.00118194]\n",
      "1980 1.8210403e-07 [1.0004959] [-0.00112655]\n",
      "2000 1.6538259e-07 [1.0004723] [-0.00107371]\n"
     ]
    }
   ],
   "source": [
    "sess=tf.Session()\n",
    "\n",
    "#Initializes global variable in the graph\n",
    "sess.run(tf.global_variables_initializer())\n",
    "\n",
    "#fit the line\n",
    "for step in range(2001):\n",
    "    sess.run(train)\n",
    "    if step%20==0:\n",
    "        print(step,sess.run(cost),sess.run(W),sess.run(b))"
   ]
  },
  {
   "cell_type": "markdown",
   "metadata": {},
   "source": [
    "### Placeholders"
   ]
  },
  {
   "cell_type": "code",
   "execution_count": 25,
   "metadata": {},
   "outputs": [
    {
     "name": "stdout",
     "output_type": "stream",
     "text": [
      "0 1.6538259e-07 [1.0004711] [-0.00107113]\n",
      "20 1.5024865e-07 [1.0004494] [-0.00102093]\n",
      "40 1.3646472e-07 [1.000428] [-0.00097309]\n",
      "60 1.2399435e-07 [1.0004082] [-0.0009274]\n",
      "80 1.12675195e-07 [1.0003891] [-0.00088404]\n",
      "100 1.0231097e-07 [1.0003706] [-0.00084249]\n",
      "120 9.30013e-08 [1.0003536] [-0.00080304]\n",
      "140 8.4505814e-08 [1.0003369] [-0.00076552]\n",
      "160 7.670965e-08 [1.0003209] [-0.00072951]\n",
      "180 6.970577e-08 [1.0003062] [-0.00069537]\n",
      "200 6.336354e-08 [1.000292] [-0.00066298]\n",
      "220 5.754273e-08 [1.0002779] [-0.00063187]\n",
      "240 5.229636e-08 [1.000265] [-0.00060218]\n",
      "260 4.7518526e-08 [1.000253] [-0.0005741]\n",
      "280 4.3194756e-08 [1.000241] [-0.00054741]\n",
      "300 3.921947e-08 [1.0002294] [-0.00052168]\n",
      "320 3.5630816e-08 [1.0002187] [-0.00049713]\n",
      "340 3.2392872e-08 [1.0002089] [-0.00047392]\n",
      "360 2.9447284e-08 [1.0001992] [-0.00045193]\n",
      "380 2.6759162e-08 [1.0001897] [-0.0004309]\n",
      "400 2.4300386e-08 [1.0001804] [-0.00041056]\n",
      "420 2.2050335e-08 [1.0001721] [-0.0003912]\n",
      "440 2.0061178e-08 [1.0001643] [-0.0003729]\n",
      "460 1.8239689e-08 [1.0001568] [-0.00035561]\n",
      "480 1.6598849e-08 [1.0001496] [-0.0003392]\n",
      "500 1.5090032e-08 [1.0001425] [-0.00032349]\n",
      "520 1.3689188e-08 [1.0001353] [-0.00030825]\n",
      "540 1.2431175e-08 [1.000129] [-0.00029362]\n",
      "560 1.1276111e-08 [1.0001231] [-0.00027977]\n",
      "580 1.0257133e-08 [1.0001174] [-0.00026669]\n",
      "600 9.323481e-09 [1.0001122] [-0.00025432]\n",
      "620 8.492252e-09 [1.000107] [-0.00024261]\n",
      "640 7.737165e-09 [1.0001023] [-0.00023152]\n",
      "660 7.044479e-09 [1.0000975] [-0.00022095]\n",
      "680 6.4019825e-09 [1.0000927] [-0.00021072]\n",
      "700 5.8023786e-09 [1.000088] [-0.00020072]\n",
      "720 5.263988e-09 [1.0000838] [-0.00019108]\n",
      "740 4.7702886e-09 [1.0000799] [-0.00018196]\n",
      "760 4.3349906e-09 [1.0000762] [-0.00017334]\n",
      "780 3.9287573e-09 [1.0000727] [-0.00016518]\n",
      "800 3.5713725e-09 [1.0000694] [-0.00015747]\n",
      "820 3.2576066e-09 [1.0000663] [-0.00015018]\n",
      "840 2.963376e-09 [1.0000633] [-0.0001433]\n",
      "860 2.70619e-09 [1.0000604] [-0.00013679]\n",
      "880 2.464538e-09 [1.0000578] [-0.00013063]\n",
      "900 2.2537587e-09 [1.0000553] [-0.00012479]\n",
      "920 2.0601345e-09 [1.0000529] [-0.00011928]\n",
      "940 1.8817186e-09 [1.0000505] [-0.00011401]\n",
      "960 1.7156174e-09 [1.0000482] [-0.00010891]\n",
      "980 1.5600973e-09 [1.0000458] [-0.00010392]\n",
      "1000 1.414089e-09 [1.0000434] [-9.900353e-05]\n",
      "1020 1.2769186e-09 [1.000041] [-9.4136165e-05]\n",
      "1040 1.1506444e-09 [1.000039] [-8.943518e-05]\n",
      "1060 1.0396578e-09 [1.0000371] [-8.500639e-05]\n",
      "1080 9.416827e-10 [1.0000353] [-8.080476e-05]\n",
      "1100 8.4790863e-10 [1.0000336] [-7.6823926e-05]\n",
      "1120 7.706284e-10 [1.000032] [-7.307755e-05]\n",
      "1140 6.958792e-10 [1.0000304] [-6.952206e-05]\n",
      "1160 6.3036826e-10 [1.000029] [-6.615557e-05]\n",
      "1180 5.7112326e-10 [1.0000277] [-6.2979685e-05]\n",
      "1200 5.1869e-10 [1.0000263] [-5.9980714e-05]\n",
      "1220 4.689979e-10 [1.0000252] [-5.7140995e-05]\n",
      "1240 4.2789325e-10 [1.000024] [-5.4460063e-05]\n",
      "1260 3.885728e-10 [1.0000229] [-5.1922056e-05]\n",
      "1280 3.5407413e-10 [1.0000218] [-4.95264e-05]\n",
      "1300 3.2277073e-10 [1.0000209] [-4.7267e-05]\n",
      "1320 2.9415934e-10 [1.0000199] [-4.5124616e-05]\n",
      "1340 2.680817e-10 [1.0000191] [-4.3100557e-05]\n",
      "1360 2.4545735e-10 [1.0000182] [-4.1183186e-05]\n",
      "1380 2.2311926e-10 [1.0000175] [-3.9367107e-05]\n",
      "1400 2.0638802e-10 [1.0000167] [-3.7661393e-05]\n",
      "1420 1.8718793e-10 [1.0000161] [-3.6042424e-05]\n",
      "1440 1.7330688e-10 [1.0000154] [-3.4517976e-05]\n",
      "1460 1.5848443e-10 [1.0000148] [-3.3071934e-05]\n",
      "1480 1.4490818e-10 [1.0000142] [-3.1708805e-05]\n",
      "1500 1.3382488e-10 [1.0000137] [-3.04178e-05]\n",
      "1520 1.2382255e-10 [1.0000131] [-2.9196643e-05]\n",
      "1540 1.14439895e-10 [1.0000126] [-2.8042688e-05]\n",
      "1560 1.0576082e-10 [1.0000122] [-2.6947277e-05]\n",
      "1580 9.7674924e-11 [1.0000117] [-2.5914876e-05]\n",
      "1600 9.023555e-11 [1.0000113] [-2.4935425e-05]\n",
      "1620 8.4717657e-11 [1.0000108] [-2.4020448e-05]\n",
      "1640 7.8232455e-11 [1.0000105] [-2.314274e-05]\n",
      "1660 7.3488944e-11 [1.0000101] [-2.2321248e-05]\n",
      "1680 6.781375e-11 [1.0000099] [-2.153766e-05]\n",
      "1700 6.373667e-11 [1.0000095] [-2.0799982e-05]\n",
      "1720 5.996115e-11 [1.0000092] [-2.011163e-05]\n",
      "1740 5.5251945e-11 [1.000009] [-1.9442577e-05]\n",
      "1760 5.319586e-11 [1.0000086] [-1.8835299e-05]\n",
      "1780 4.8975587e-11 [1.0000085] [-1.8234237e-05]\n",
      "1800 4.608171e-11 [1.0000081] [-1.7690407e-05]\n",
      "1820 4.344296e-11 [1.000008] [-1.7152905e-05]\n",
      "1840 4.197535e-11 [1.0000077] [-1.6666772e-05]\n",
      "1860 3.8518112e-11 [1.0000075] [-1.6184833e-05]\n",
      "1880 3.739654e-11 [1.0000074] [-1.5751537e-05]\n",
      "1900 3.5187853e-11 [1.0000072] [-1.532441e-05]\n",
      "1920 3.3263937e-11 [1.000007] [-1.4925724e-05]\n",
      "1940 3.223174e-11 [1.0000068] [-1.4563355e-05]\n",
      "1960 3.0455583e-11 [1.0000067] [-1.41975515e-05]\n",
      "1980 2.877925e-11 [1.0000066] [-1.3856427e-05]\n",
      "2000 2.8110092e-11 [1.0000064] [-1.3556525e-05]\n"
     ]
    }
   ],
   "source": [
    "X=tf.placeholder(tf.float32)\n",
    "Y=tf.placeholder(tf.float32)\n",
    "\n",
    "for step in range(2001):\n",
    "    cost_val,W_val,b_val,_= sess.run([cost,W,b,train], feed_dict={X:[1,2,3,4,5],Y:[2.1,3.1,4.1,5.1,6.1]})\n",
    "    \n",
    "    #20번에 한 번씩 출력\n",
    "    if step%20==0:\n",
    "        print(step,cost_val, W_val,b_val)"
   ]
  },
  {
   "cell_type": "code",
   "execution_count": 26,
   "metadata": {},
   "outputs": [
    {
     "name": "stdout",
     "output_type": "stream",
     "text": [
      "[0.9999929 1.9999993 3.0000057]\n",
      "[0.9999929 1.9999993 3.0000057]\n",
      "[0.9999929 1.9999993 3.0000057]\n"
     ]
    }
   ],
   "source": [
    "print(sess.run(hypothesis,feed_dict={X:[5]}))\n",
    "print(sess.run(hypothesis,feed_dict={X:[2.5]}))\n",
    "\n",
    "print(sess.run(hypothesis,feed_dict={X:[1.5,3.5]}))\n"
   ]
  },
  {
   "cell_type": "code",
   "execution_count": null,
   "metadata": {},
   "outputs": [],
   "source": []
  }
 ],
 "metadata": {
  "kernelspec": {
   "display_name": "Python 3",
   "language": "python",
   "name": "python3"
  },
  "language_info": {
   "codemirror_mode": {
    "name": "ipython",
    "version": 3
   },
   "file_extension": ".py",
   "mimetype": "text/x-python",
   "name": "python",
   "nbconvert_exporter": "python",
   "pygments_lexer": "ipython3",
   "version": "3.8.5"
  }
 },
 "nbformat": 4,
 "nbformat_minor": 4
}

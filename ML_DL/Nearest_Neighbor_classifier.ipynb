{
  "nbformat": 4,
  "nbformat_minor": 0,
  "metadata": {
    "colab": {
      "name": "Nearest Neighbor classifier.ipynb",
      "private_outputs": true,
      "provenance": []
    },
    "kernelspec": {
      "name": "python3",
      "display_name": "Python 3"
    },
    "language_info": {
      "name": "python"
    }
  },
  "cells": [
    {
      "cell_type": "code",
      "metadata": {
        "id": "UCe3WFAVLsdz"
      },
      "source": [
        "import numpy as np\n",
        "\n",
        "class NearestNeighbor:\n",
        "  def __init__(self):\n",
        "    pass\n",
        "\n",
        "  #Memorize training data\n",
        "  def train(self,X,y):\n",
        "    self.Xtr=X\n",
        "    self.ytr=y\n",
        "\n",
        "  def predict(self,X):\n",
        "    num_test=X.shape[0]\n",
        "    Ypred=np.zeros(num_test,dtype=self.ytr.dtype)\n",
        "\n",
        "    # For each test image: Find closest train image Predict label of nearest image\n",
        "    for i in xrange(num_test):\n",
        "      distances=np.sum(np.abs(self.Xtr-X[i,:]),axis=1)\n",
        "      min_index=np.argmin(distances)\n",
        "      Ypred[i]=self.ytr[min_index]\n",
        "    return Ypred"
      ],
      "execution_count": null,
      "outputs": []
    },
    {
      "cell_type": "markdown",
      "metadata": {
        "id": "mBlqBzUEMzwG"
      },
      "source": [
        "#### Q: With N examples, how fast are training and prediction?(Trainset의 이미지가 총 N개라면 Train/Test 함수의 속도는 어떻게 될까?)\n",
        "\n",
        "- A: Train O(1), predict O(N)\n",
        "- This is bad: we want classifier that are fast at prediction; slow for training is ok(Train Time < Test Time)\n",
        "- NN과 다르게 다른 알고리즘은 Train Time은 엄청 오래 걸릴지 몰라도 Test Time은 엄청 빠르다\n"
      ]
    },
    {
      "cell_type": "code",
      "metadata": {
        "id": "M6BHXCaCMTwq"
      },
      "source": [
        ""
      ],
      "execution_count": null,
      "outputs": []
    }
  ]
}
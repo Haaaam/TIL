{
 "cells": [
  {
   "cell_type": "code",
   "execution_count": 2,
   "metadata": {},
   "outputs": [],
   "source": [
    "import requests\n",
    "from urllib.request import quote\n",
    "from urllib.parse import urlparse\n",
    "from bs4 import BeautifulSoup as bs"
   ]
  },
  {
   "cell_type": "code",
   "execution_count": 4,
   "metadata": {},
   "outputs": [
    {
     "name": "stdout",
     "output_type": "stream",
     "text": [
      "조회할 대상 입력파이썬\n",
      "https://openapi.naver.com/v1/search/book_adv.xml?d_title=파이썬&d_publ=한빛미디어&display=10&start=1\n",
      "<Response [200]>\n"
     ]
    }
   ],
   "source": [
    "keyword=input(\"조회할 대상 입력\")\n",
    "url=\"https://openapi.naver.com/v1/search/book_adv.xml?d_title=\"+keyword+\"&d_publ=한빛미디어&display=10&start=1\" # xml 결과\n",
    "print(url)\n",
    "result=requests.get(urlparse(url).geturl(),\n",
    "                   headers={\"X-Naver-Client-Id\":'사용자 id 입력',\n",
    "                          \"X-Naver-Client-Secret\":'사용자 secret 입력'})\n",
    "print(result)"
   ]
  },
  {
   "cell_type": "code",
   "execution_count": 5,
   "metadata": {},
   "outputs": [
    {
     "name": "stdout",
     "output_type": "stream",
     "text": [
      "<item><title>이것이 취업을 위한 코딩 테스트다 with 파이썬 (취업과 이직을 결정하는 알고리즘 인터뷰 완벽 가이드, C/C++, 자바 코드 제공)</title><link/>http://book.naver.com/bookdb/book_detail.php?bid=16439154<image>https://bookthumb-phinf.pstatic.net/cover/164/391/16439154.jpg?type=m1&amp;udate=20200928</image><author>나동빈</author><price>34000</price><discount>30600</discount><publisher>&lt;b&gt;한빛미디어&lt;/b&gt;</publisher><pubdate>20200805</pubdate><isbn>1162243074 9791162243077</isbn><description>IT 취준생이라면 누구나 입사하고 싶은 카카오ㆍ삼성전자ㆍ네이버ㆍ라인! 취업의 성공 열쇠는 알고리즘 인터뷰에 있다!  IT 취준생이라면 누구나 가고 싶어 하는 카카오, 라인, 삼성전자의 2016년부터 2020년까지의 코딩 테스트와 알고리즘 대회의 기출문제를 엄선하여 수록하였다. 최근 5년간의 코딩 테스트... </description></item> \n",
      "\n",
      "이것이 취업을 위한 코딩 테스트다 with 파이썬 (취업과 이직을 결정하는 알고리즘 인터뷰 완벽 가이드, C/C++, 자바 코드 제공)\n",
      "IT 취준생이라면 누구나 입사하고 싶은 카카오ㆍ삼성전자ㆍ네이버ㆍ라인! 취업의 성공 열쇠는 알고리즘 인터뷰에 있다!  IT 취준생이라면 누구나 가고 싶어 하는 카카오, 라인, 삼성전자의 2016년부터 2020년까지의 코딩 테스트와 알고리즘 대회의 기출문제를 엄선하여 수록하였다. 최근 5년간의 코딩 테스트... \n"
     ]
    },
    {
     "data": {
      "text/plain": [
       "10"
      ]
     },
     "execution_count": 5,
     "metadata": {},
     "output_type": "execute_result"
    }
   ],
   "source": [
    "soup=bs(result.content,\"html.parser\")\n",
    "print(soup.find('item'),'\\n')\n",
    "print(soup.find('item').find('title').text)\n",
    "print(soup.find('item').find('description').text)\n",
    "len(soup.find_all('item'))"
   ]
  },
  {
   "cell_type": "code",
   "execution_count": 6,
   "metadata": {},
   "outputs": [],
   "source": [
    "import requests\n",
    "from pprint import pprint"
   ]
  },
  {
   "cell_type": "code",
   "execution_count": 7,
   "metadata": {},
   "outputs": [
    {
     "name": "stdout",
     "output_type": "stream",
     "text": [
      "조회할 대상 입력: 파이썬\n",
      "<Response [200]>\n",
      "{'title': '이것이 취업을 위한 코딩 테스트다 with <b>파이썬</b> (취업과 이직을 결정하는 알고리즘 인터뷰 완벽 가이드, C/C++, 자바 코드 제공)', 'link': 'http://book.naver.com/bookdb/book_detail.php?bid=16439154', 'image': 'https://bookthumb-phinf.pstatic.net/cover/164/391/16439154.jpg?type=m1&udate=20200928', 'author': '나동빈', 'price': '34000', 'discount': '30600', 'publisher': '한빛미디어', 'pubdate': '20200805', 'isbn': '1162243074 9791162243077', 'description': '8가지 핵심 알고리즘 이론을 쉽게 설명하고, 관련 실전 문제를 풀이했다. 출제 유형 분석, 이론 설명, 기출문제 풀이까지! 어떤 코딩 테스트도 이 책 한 권으로 대비할 수 있을 것이다. 코딩 테스트에서 주로 선택하는 <b>파이썬</b>을 기반으로 설명되어 있으며, <b>파이썬</b> 코드 외에도 C/C++, 자바 코드를 추가로 제공한다.'}\n",
      "http://book.naver.com/bookdb/book_detail.php?bid=16439154\n"
     ]
    }
   ],
   "source": [
    "keyword=input(\"조회할 대상 입력: \")\n",
    "headers={\"X-Naver-Client-Id\":'27Ajj0rHmLFO5d5Mxfsb',\n",
    "                          \"X-Naver-Client-Secret\":'tO8tLDsUr5'}\n",
    "url='https://openapi.naver.com/v1/search/book.json?query='+keyword\n",
    "\n",
    "result=requests.get(url,headers=headers)\n",
    "print(result)\n",
    "\n",
    "if result.status_code==200:\n",
    "    #pprint(result.json())#pprint:json을 보기 쉽게 만들어 준다.\n",
    "    res=result.json()\n",
    "    print(res['items'][0])\n",
    "    print(res['items'][0]['link'])\n",
    "else:\n",
    "    print('오류 발생')"
   ]
  },
  {
   "cell_type": "code",
   "execution_count": null,
   "metadata": {},
   "outputs": [],
   "source": []
  }
 ],
 "metadata": {
  "kernelspec": {
   "display_name": "Python 3",
   "language": "python",
   "name": "python3"
  },
  "language_info": {
   "codemirror_mode": {
    "name": "ipython",
    "version": 3
   },
   "file_extension": ".py",
   "mimetype": "text/x-python",
   "name": "python",
   "nbconvert_exporter": "python",
   "pygments_lexer": "ipython3",
   "version": "3.7.6"
  }
 },
 "nbformat": 4,
 "nbformat_minor": 4
}

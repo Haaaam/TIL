{
  "nbformat": 4,
  "nbformat_minor": 0,
  "metadata": {
    "colab": {
      "name": "네이버 영화 리뷰 크롤링.ipynb",
      "private_outputs": true,
      "provenance": [],
      "mount_file_id": "1qXoMvzbIA3loc04OuXey3PjnGV8iMxJT",
      "authorship_tag": "ABX9TyPirn5n8KnEeDzEW0S19j6s",
      "include_colab_link": true
    },
    "kernelspec": {
      "name": "python3",
      "display_name": "Python 3"
    },
    "accelerator": "GPU"
  },
  "cells": [
    {
      "cell_type": "markdown",
      "metadata": {
        "id": "view-in-github",
        "colab_type": "text"
      },
      "source": [
        "<a href=\"https://colab.research.google.com/github/imeamin/Digital-Transformation-Educaiton/blob/master/%EB%84%A4%EC%9D%B4%EB%B2%84_%EC%98%81%ED%99%94_%EB%A6%AC%EB%B7%B0_%ED%81%AC%EB%A1%A4%EB%A7%81.ipynb\" target=\"_parent\"><img src=\"https://colab.research.google.com/assets/colab-badge.svg\" alt=\"Open In Colab\"/></a>"
      ]
    },
    {
      "cell_type": "code",
      "metadata": {
        "id": "CzrX22L8wbL_"
      },
      "source": [
        "import requests\r\n",
        "from bs4 import BeautifulSoup as bs"
      ],
      "execution_count": null,
      "outputs": []
    },
    {
      "cell_type": "code",
      "metadata": {
        "id": "44pAElKhzg5R"
      },
      "source": [
        "cd/content/drive/MyDrive/HK"
      ],
      "execution_count": null,
      "outputs": []
    },
    {
      "cell_type": "code",
      "metadata": {
        "id": "LPdjZxn91c7V"
      },
      "source": [
        "!ls\r\n"
      ],
      "execution_count": null,
      "outputs": []
    },
    {
      "cell_type": "code",
      "metadata": {
        "id": "-VKohqG7zqBP"
      },
      "source": [
        "#날짜, id, 리뷰, 평점\r\n",
        "import requests\r\n",
        "from bs4 import BeautifulSoup as bs\r\n",
        "from datetime import datetime\r\n",
        "import pandas as pd\r\n",
        "\r\n",
        "url1='https://movie.naver.com/movie/bi/mi/pointWriteFormList.nhn?code='\r\n",
        "url2='&type=after&page='\r\n",
        "code=int(input('코드를 입력하세요: '))\r\n",
        "pg=1000\r\n",
        "\r\n",
        "url=url1+str(code)+url2\r\n",
        "#기본 리뷰 가져오기\r\n",
        "\r\n",
        "\r\n",
        "review=[]\r\n",
        "cnt=0\r\n",
        "\r\n",
        "for i in range(1,pg):\r\n",
        "    \r\n",
        "    #리뷰 가져오기\r\n",
        "    html=requests.get(url+str(i))\r\n",
        "    soup=bs(html.content,'html.parser')\r\n",
        "\r\n",
        "    socre_re=soup.find('div',class_='score_result')\r\n",
        "    com_lst=socre_re('li')\r\n",
        "    \r\n",
        "    score=soup.find('div', class_=\"score_total\").find('em').getText()\r\n",
        "    score=int(score.replace(',',''))\r\n",
        "    \r\n",
        "    for j in range(10):\r\n",
        "        cnt+=1\r\n",
        "        try:\r\n",
        "            review_text = com_lst[j].find('p').find('a')['data-src']\r\n",
        "\r\n",
        "        except:\r\n",
        "            review_text=com_lst[j].find('p').text.replace('\\n','').replace('\\t','').replace('\\r','')\r\n",
        "            if review_text[:3]=='관람객':\r\n",
        "                review_text=review_text[3:]\r\n",
        "\r\n",
        "        #평점 \r\n",
        "        review_score=int(com_lst[j].find('div',class_='star_score').find('em').text)\r\n",
        "\r\n",
        "        #날짜\r\n",
        "        review_date=com_lst[j].find('dt').find_all('em')[1].text\r\n",
        "        review_date=datetime.strptime(com_lst[j].find('dt').find_all('em')[1].text,'%Y.%m.%d %H:%M' )\r\n",
        "\r\n",
        "        #id\r\n",
        "        review_id=com_lst[j].find('dt').find_all('em')[0].text.replace('\\n','')\r\n",
        "        review.append({'날짜':review_date,'id':review_id,'평점':review_score,'리뷰':review_text})\r\n",
        "        \r\n",
        "        if cnt==score:\r\n",
        "            break\r\n",
        "            \r\n",
        "    if cnt==score:\r\n",
        "        break\r\n",
        "df=pd.DataFrame(review)\r\n",
        "display(df.head())\r\n",
        "df.to_csv('./네이버영화평점_#test.csv',index=False)"
      ],
      "execution_count": null,
      "outputs": []
    },
    {
      "cell_type": "code",
      "metadata": {
        "id": "STtxP-Gm0Um7"
      },
      "source": [
        ""
      ],
      "execution_count": null,
      "outputs": []
    }
  ]
}
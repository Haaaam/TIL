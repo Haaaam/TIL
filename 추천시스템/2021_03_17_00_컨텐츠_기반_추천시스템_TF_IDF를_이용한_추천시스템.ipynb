{
  "nbformat": 4,
  "nbformat_minor": 0,
  "metadata": {
    "colab": {
      "name": "2021/03/17_00.컨텐츠 기반 추천시스템- TF-IDF를 이용한 추천시스템.ipynb",
      "provenance": [],
      "collapsed_sections": [],
      "authorship_tag": "ABX9TyMhab8V0q342oVPJVP4mH03",
      "include_colab_link": true
    },
    "kernelspec": {
      "name": "python3",
      "display_name": "Python 3"
    }
  },
  "cells": [
    {
      "cell_type": "markdown",
      "metadata": {
        "id": "view-in-github",
        "colab_type": "text"
      },
      "source": [
        "<a href=\"https://colab.research.google.com/github/imeamin/TIL/blob/master/2021_03_17_00_%EC%BB%A8%ED%85%90%EC%B8%A0_%EA%B8%B0%EB%B0%98_%EC%B6%94%EC%B2%9C%EC%8B%9C%EC%8A%A4%ED%85%9C_TF_IDF%EB%A5%BC_%EC%9D%B4%EC%9A%A9%ED%95%9C_%EC%B6%94%EC%B2%9C%EC%8B%9C%EC%8A%A4%ED%85%9C.ipynb\" target=\"_parent\"><img src=\"https://colab.research.google.com/assets/colab-badge.svg\" alt=\"Open In Colab\"/></a>"
      ]
    },
    {
      "cell_type": "code",
      "metadata": {
        "colab": {
          "base_uri": "https://localhost:8080/"
        },
        "id": "FCQ_QbS1cP5q",
        "outputId": "62e8b2c3-9515-4855-c98c-5c7f1dfe657d"
      },
      "source": [
        "docs=[\r\n",
        "      '먹고 싶은 사과', #문서0\r\n",
        "      '먹고 싶은 바나나',#문서1\r\n",
        "      '길고 노란 바나나 바나나',#문서2\r\n",
        "      '저는 과일이 좋아요' #문서3\r\n",
        "]\r\n",
        "docs"
      ],
      "execution_count": 3,
      "outputs": [
        {
          "output_type": "execute_result",
          "data": {
            "text/plain": [
              "['먹고 싶은 사과', '먹고 싶은 바나나', '길고 노란 바나나 바나나', '저는 과일이 좋아요']"
            ]
          },
          "metadata": {
            "tags": []
          },
          "execution_count": 3
        }
      ]
    },
    {
      "cell_type": "code",
      "metadata": {
        "id": "BPd9SzgKceNn"
      },
      "source": [
        "from sklearn.feature_extraction.text import CountVectorizer\r\n",
        "vect=CountVectorizer()#Counter Vectorizer 객체 생성"
      ],
      "execution_count": 6,
      "outputs": []
    },
    {
      "cell_type": "code",
      "metadata": {
        "colab": {
          "base_uri": "https://localhost:8080/"
        },
        "id": "tkO0ISQWdEL4",
        "outputId": "fec53805-1c94-407d-aeb5-9df0098f3f58"
      },
      "source": [
        "vect"
      ],
      "execution_count": 7,
      "outputs": [
        {
          "output_type": "execute_result",
          "data": {
            "text/plain": [
              "CountVectorizer(analyzer='word', binary=False, decode_error='strict',\n",
              "                dtype=<class 'numpy.int64'>, encoding='utf-8', input='content',\n",
              "                lowercase=True, max_df=1.0, max_features=None, min_df=1,\n",
              "                ngram_range=(1, 1), preprocessor=None, stop_words=None,\n",
              "                strip_accents=None, token_pattern='(?u)\\\\b\\\\w\\\\w+\\\\b',\n",
              "                tokenizer=None, vocabulary=None)"
            ]
          },
          "metadata": {
            "tags": []
          },
          "execution_count": 7
        }
      ]
    },
    {
      "cell_type": "code",
      "metadata": {
        "colab": {
          "base_uri": "https://localhost:8080/"
        },
        "id": "secICizjdFcs",
        "outputId": "583cd8f3-cb94-445c-83c0-a46123491dc5"
      },
      "source": [
        "#문장을 Counter Vectorizer 형태로 변형\r\n",
        "countvect=vect.fit_transform(docs)\r\n",
        "countvect #4x9 :4개의 문서에 9개의 단어"
      ],
      "execution_count": 8,
      "outputs": [
        {
          "output_type": "execute_result",
          "data": {
            "text/plain": [
              "<4x9 sparse matrix of type '<class 'numpy.int64'>'\n",
              "\twith 12 stored elements in Compressed Sparse Row format>"
            ]
          },
          "metadata": {
            "tags": []
          },
          "execution_count": 8
        }
      ]
    },
    {
      "cell_type": "code",
      "metadata": {
        "colab": {
          "base_uri": "https://localhost:8080/"
        },
        "id": "6QUac76OdTyq",
        "outputId": "13339151-97c4-4246-8f73-8e34933d29e8"
      },
      "source": [
        "#toarray()를 통해서 문장이 Vector 형태의 값을 얻을 수 있음\r\n",
        "#하지만, 각 인덱스와 컬럼이 무엇을 의미하는지에 대해서는 알 수가 없음\r\n",
        "#sparse matrix->numpy\r\n",
        "#결과 0,1,2 문서 내의 단어가 등장한 횟수에 따라서 부여된 것\r\n",
        "countvect.toarray()"
      ],
      "execution_count": 9,
      "outputs": [
        {
          "output_type": "execute_result",
          "data": {
            "text/plain": [
              "array([[0, 0, 0, 1, 0, 1, 1, 0, 0],\n",
              "       [0, 0, 0, 1, 1, 0, 1, 0, 0],\n",
              "       [0, 1, 1, 0, 2, 0, 0, 0, 0],\n",
              "       [1, 0, 0, 0, 0, 0, 0, 1, 1]])"
            ]
          },
          "metadata": {
            "tags": []
          },
          "execution_count": 9
        }
      ]
    },
    {
      "cell_type": "code",
      "metadata": {
        "colab": {
          "base_uri": "https://localhost:8080/"
        },
        "id": "Nbbi7FvJdtBD",
        "outputId": "e4524d42-2958-4e9a-871f-ec1c5211ce57"
      },
      "source": [
        "vect.vocabulary_"
      ],
      "execution_count": 10,
      "outputs": [
        {
          "output_type": "execute_result",
          "data": {
            "text/plain": [
              "{'과일이': 0,\n",
              " '길고': 1,\n",
              " '노란': 2,\n",
              " '먹고': 3,\n",
              " '바나나': 4,\n",
              " '사과': 5,\n",
              " '싶은': 6,\n",
              " '저는': 7,\n",
              " '좋아요': 8}"
            ]
          },
          "metadata": {
            "tags": []
          },
          "execution_count": 10
        }
      ]
    },
    {
      "cell_type": "code",
      "metadata": {
        "colab": {
          "base_uri": "https://localhost:8080/"
        },
        "id": "P6W9RDIUfr6j",
        "outputId": "3b3be08c-8f18-4d45-e5f6-3dd0217bc26f"
      },
      "source": [
        "# 각 value가 의미하는게 컬럼의 위치, key는 해당 컬럼의 단어를 의미각 value가 \r\n",
        " #의미하는게 컬럼의 위치, key는 해당 컬럼의 단어를 의미\r\n",
        "sorted(vect.vocabulary_)\r\n",
        "sorted(vect.vocabulary_)"
      ],
      "execution_count": 11,
      "outputs": [
        {
          "output_type": "execute_result",
          "data": {
            "text/plain": [
              "['과일이', '길고', '노란', '먹고', '바나나', '사과', '싶은', '저는', '좋아요']"
            ]
          },
          "metadata": {
            "tags": []
          },
          "execution_count": 11
        }
      ]
    },
    {
      "cell_type": "code",
      "metadata": {
        "colab": {
          "base_uri": "https://localhost:8080/",
          "height": 162
        },
        "id": "BG1fPyusfuij",
        "outputId": "59735eb6-c757-48e9-d47e-ec2f65874c53"
      },
      "source": [
        "import pandas as pd\r\n",
        "countvect_df=pd.DataFrame(countvect.toarray(),columns=sorted(vect.vocabulary_))\r\n",
        "countvect_df.index=['문서1','문서2','문서3','문서4']\r\n",
        "countvect_df"
      ],
      "execution_count": 14,
      "outputs": [
        {
          "output_type": "execute_result",
          "data": {
            "text/html": [
              "<div>\n",
              "<style scoped>\n",
              "    .dataframe tbody tr th:only-of-type {\n",
              "        vertical-align: middle;\n",
              "    }\n",
              "\n",
              "    .dataframe tbody tr th {\n",
              "        vertical-align: top;\n",
              "    }\n",
              "\n",
              "    .dataframe thead th {\n",
              "        text-align: right;\n",
              "    }\n",
              "</style>\n",
              "<table border=\"1\" class=\"dataframe\">\n",
              "  <thead>\n",
              "    <tr style=\"text-align: right;\">\n",
              "      <th></th>\n",
              "      <th>과일이</th>\n",
              "      <th>길고</th>\n",
              "      <th>노란</th>\n",
              "      <th>먹고</th>\n",
              "      <th>바나나</th>\n",
              "      <th>사과</th>\n",
              "      <th>싶은</th>\n",
              "      <th>저는</th>\n",
              "      <th>좋아요</th>\n",
              "    </tr>\n",
              "  </thead>\n",
              "  <tbody>\n",
              "    <tr>\n",
              "      <th>문서1</th>\n",
              "      <td>0</td>\n",
              "      <td>0</td>\n",
              "      <td>0</td>\n",
              "      <td>1</td>\n",
              "      <td>0</td>\n",
              "      <td>1</td>\n",
              "      <td>1</td>\n",
              "      <td>0</td>\n",
              "      <td>0</td>\n",
              "    </tr>\n",
              "    <tr>\n",
              "      <th>문서2</th>\n",
              "      <td>0</td>\n",
              "      <td>0</td>\n",
              "      <td>0</td>\n",
              "      <td>1</td>\n",
              "      <td>1</td>\n",
              "      <td>0</td>\n",
              "      <td>1</td>\n",
              "      <td>0</td>\n",
              "      <td>0</td>\n",
              "    </tr>\n",
              "    <tr>\n",
              "      <th>문서3</th>\n",
              "      <td>0</td>\n",
              "      <td>1</td>\n",
              "      <td>1</td>\n",
              "      <td>0</td>\n",
              "      <td>2</td>\n",
              "      <td>0</td>\n",
              "      <td>0</td>\n",
              "      <td>0</td>\n",
              "      <td>0</td>\n",
              "    </tr>\n",
              "    <tr>\n",
              "      <th>문서4</th>\n",
              "      <td>1</td>\n",
              "      <td>0</td>\n",
              "      <td>0</td>\n",
              "      <td>0</td>\n",
              "      <td>0</td>\n",
              "      <td>0</td>\n",
              "      <td>0</td>\n",
              "      <td>1</td>\n",
              "      <td>1</td>\n",
              "    </tr>\n",
              "  </tbody>\n",
              "</table>\n",
              "</div>"
            ],
            "text/plain": [
              "     과일이  길고  노란  먹고  바나나  사과  싶은  저는  좋아요\n",
              "문서1    0   0   0   1    0   1   1   0    0\n",
              "문서2    0   0   0   1    1   0   1   0    0\n",
              "문서3    0   1   1   0    2   0   0   0    0\n",
              "문서4    1   0   0   0    0   0   0   1    1"
            ]
          },
          "metadata": {
            "tags": []
          },
          "execution_count": 14
        }
      ]
    },
    {
      "cell_type": "code",
      "metadata": {
        "colab": {
          "base_uri": "https://localhost:8080/"
        },
        "id": "TWfVR4_LgDcZ",
        "outputId": "7849deea-9456-420d-a662-014e09cb33f1"
      },
      "source": [
        "#위의 Data Frame 형태의 유사도를 계산\r\n",
        "from sklearn.metrics.pairwise import cosine_similarity\r\n",
        "cosine_similarity(countvect_df, countvect_df) #문서1과 문서2가 유사하고 문서2와 문서3도 유사하다"
      ],
      "execution_count": 15,
      "outputs": [
        {
          "output_type": "execute_result",
          "data": {
            "text/plain": [
              "array([[1.        , 0.66666667, 0.        , 0.        ],\n",
              "       [0.66666667, 1.        , 0.47140452, 0.        ],\n",
              "       [0.        , 0.47140452, 1.        , 0.        ],\n",
              "       [0.        , 0.        , 0.        , 1.        ]])"
            ]
          },
          "metadata": {
            "tags": []
          },
          "execution_count": 15
        }
      ]
    },
    {
      "cell_type": "code",
      "metadata": {
        "id": "dr_EbW_wgqcm"
      },
      "source": [
        "#CountVectorizer -> TfidfVectorizer\r\n",
        "from sklearn.feature_extraction.text import TfidfVectorizer\r\n",
        "vect=TfidfVectorizer()\r\n",
        "tfvect=vect.fit(docs)"
      ],
      "execution_count": 16,
      "outputs": []
    },
    {
      "cell_type": "code",
      "metadata": {
        "colab": {
          "base_uri": "https://localhost:8080/",
          "height": 162
        },
        "id": "cWaeIT1KhVfS",
        "outputId": "5b36782d-e747-46c9-e6a9-5c6a6689050a"
      },
      "source": [
        "tfidv_df=pd.DataFrame(tfvect.transform(docs).toarray(),columns=sorted(vect.vocabulary_))\r\n",
        "tfidv_df.index=['문서1','문서2','문서3','문서4']\r\n",
        "tfidv_df"
      ],
      "execution_count": 17,
      "outputs": [
        {
          "output_type": "execute_result",
          "data": {
            "text/html": [
              "<div>\n",
              "<style scoped>\n",
              "    .dataframe tbody tr th:only-of-type {\n",
              "        vertical-align: middle;\n",
              "    }\n",
              "\n",
              "    .dataframe tbody tr th {\n",
              "        vertical-align: top;\n",
              "    }\n",
              "\n",
              "    .dataframe thead th {\n",
              "        text-align: right;\n",
              "    }\n",
              "</style>\n",
              "<table border=\"1\" class=\"dataframe\">\n",
              "  <thead>\n",
              "    <tr style=\"text-align: right;\">\n",
              "      <th></th>\n",
              "      <th>과일이</th>\n",
              "      <th>길고</th>\n",
              "      <th>노란</th>\n",
              "      <th>먹고</th>\n",
              "      <th>바나나</th>\n",
              "      <th>사과</th>\n",
              "      <th>싶은</th>\n",
              "      <th>저는</th>\n",
              "      <th>좋아요</th>\n",
              "    </tr>\n",
              "  </thead>\n",
              "  <tbody>\n",
              "    <tr>\n",
              "      <th>문서1</th>\n",
              "      <td>0.00000</td>\n",
              "      <td>0.00000</td>\n",
              "      <td>0.00000</td>\n",
              "      <td>0.526405</td>\n",
              "      <td>0.00000</td>\n",
              "      <td>0.667679</td>\n",
              "      <td>0.526405</td>\n",
              "      <td>0.00000</td>\n",
              "      <td>0.00000</td>\n",
              "    </tr>\n",
              "    <tr>\n",
              "      <th>문서2</th>\n",
              "      <td>0.00000</td>\n",
              "      <td>0.00000</td>\n",
              "      <td>0.00000</td>\n",
              "      <td>0.577350</td>\n",
              "      <td>0.57735</td>\n",
              "      <td>0.000000</td>\n",
              "      <td>0.577350</td>\n",
              "      <td>0.00000</td>\n",
              "      <td>0.00000</td>\n",
              "    </tr>\n",
              "    <tr>\n",
              "      <th>문서3</th>\n",
              "      <td>0.00000</td>\n",
              "      <td>0.47212</td>\n",
              "      <td>0.47212</td>\n",
              "      <td>0.000000</td>\n",
              "      <td>0.74445</td>\n",
              "      <td>0.000000</td>\n",
              "      <td>0.000000</td>\n",
              "      <td>0.00000</td>\n",
              "      <td>0.00000</td>\n",
              "    </tr>\n",
              "    <tr>\n",
              "      <th>문서4</th>\n",
              "      <td>0.57735</td>\n",
              "      <td>0.00000</td>\n",
              "      <td>0.00000</td>\n",
              "      <td>0.000000</td>\n",
              "      <td>0.00000</td>\n",
              "      <td>0.000000</td>\n",
              "      <td>0.000000</td>\n",
              "      <td>0.57735</td>\n",
              "      <td>0.57735</td>\n",
              "    </tr>\n",
              "  </tbody>\n",
              "</table>\n",
              "</div>"
            ],
            "text/plain": [
              "         과일이       길고       노란        먹고  ...        사과        싶은       저는      좋아요\n",
              "문서1  0.00000  0.00000  0.00000  0.526405  ...  0.667679  0.526405  0.00000  0.00000\n",
              "문서2  0.00000  0.00000  0.00000  0.577350  ...  0.000000  0.577350  0.00000  0.00000\n",
              "문서3  0.00000  0.47212  0.47212  0.000000  ...  0.000000  0.000000  0.00000  0.00000\n",
              "문서4  0.57735  0.00000  0.00000  0.000000  ...  0.000000  0.000000  0.57735  0.57735\n",
              "\n",
              "[4 rows x 9 columns]"
            ]
          },
          "metadata": {
            "tags": []
          },
          "execution_count": 17
        }
      ]
    },
    {
      "cell_type": "code",
      "metadata": {
        "colab": {
          "base_uri": "https://localhost:8080/"
        },
        "id": "HrLPzxGVhkT3",
        "outputId": "90d52bd0-e70c-4947-d935-a787d0ef7b09"
      },
      "source": [
        "from sklearn.metrics.pairwise import cosine_similarity\r\n",
        "cosine_similarity(tfidv_df,tfidv_df)"
      ],
      "execution_count": 18,
      "outputs": [
        {
          "output_type": "execute_result",
          "data": {
            "text/plain": [
              "array([[1.        , 0.60784064, 0.        , 0.        ],\n",
              "       [0.60784064, 1.        , 0.42980824, 0.        ],\n",
              "       [0.        , 0.42980824, 1.        , 0.        ],\n",
              "       [0.        , 0.        , 0.        , 1.        ]])"
            ]
          },
          "metadata": {
            "tags": []
          },
          "execution_count": 18
        }
      ]
    },
    {
      "cell_type": "code",
      "metadata": {
        "id": "jG-nTWssnixE"
      },
      "source": [
        ""
      ],
      "execution_count": null,
      "outputs": []
    }
  ]
}
{
 "cells": [
  {
   "cell_type": "code",
   "execution_count": 27,
   "metadata": {},
   "outputs": [
    {
     "name": "stdout",
     "output_type": "stream",
     "text": [
      "찾으시려는 키워드를 입력하세요:안마기\n",
      "마지막 페이지를 입력하세요: 1\n"
     ]
    },
    {
     "name": "stderr",
     "output_type": "stream",
     "text": [
      "<ipython-input-27-30fcc5995831>:50: DeprecationWarning: use driver.switch_to.frame instead\n",
      "  driver.switch_to_frame('cafe_main')\n"
     ]
    }
   ],
   "source": [
    "import requests\n",
    "import re\n",
    "from bs4 import BeautifulSoup as bs\n",
    "from selenium.webdriver import Chrome\n",
    "from selenium.webdriver.common.keys import Keys\n",
    "import pandas as pd\n",
    "from urllib.request import urlopen\n",
    "from urllib.parse import quote\n",
    "import time\n",
    "\n",
    "# 위치 지정\n",
    "driver = webdriver.Chrome(\"d:/py_data/chromedriver.exe\")\n",
    "keys = Keys()\n",
    "\n",
    "driver.get(\"https://section.cafe.naver.com/\")\n",
    "\n",
    "keyword = input(\"찾으시려는 키워드를 입력하세요:\")\n",
    "END_PAGE = int(input(\"마지막 페이지를 입력하세요: \")) + 1\n",
    "PAGE_url = \"&p=\"\n",
    "\n",
    "query_elm = driver.find_element_by_css_selector(\"#header > div.snb_area > div > form > fieldset > div > div > input\")\n",
    "query_elm.click() # 검색창 클릭\n",
    "query_elm.send_keys(keyword) #검색어 입력\n",
    "\n",
    "# 엔터키 입력\n",
    "query_elm.send_keys(keys.ENTER)\n",
    "driver.set_page_load_timeout(30) # 로드 대기시간\n",
    "driver.implicitly_wait(10)  # 브라우저에서 사용되는 엔진 자체에서 파싱되는 시간을 기다려 주는 메소드\n",
    "\n",
    "# 전체글 클릭\n",
    "driver.find_element_by_css_selector(\"#app > div > div.container > div > div.SectionSearchContent > div.section_search_tab_list > a:nth-child(3)\").click()\n",
    "url = driver.current_url\n",
    "driver.implicitly_wait(10) \n",
    "\n",
    "title_lst = []\n",
    "doc_lst = []\n",
    "comment_lst = []\n",
    "\n",
    "for now_page in range(1,END_PAGE):\n",
    "    driver.get(url+PAGE_url+str(now_page))\n",
    "    time.sleep(2)     # 프로세스 자체를 지정한 시간동안 기다려 주는 역할(무조건 대기)\n",
    "    html = driver.page_source\n",
    "    soup = bs(html, 'html.parser')\n",
    "    item_lst = soup.find_all(\"div\",class_=\"item_inner\")\n",
    "    \n",
    "    for i in range(1,len(item_lst)+1):\n",
    "        driver.find_element_by_css_selector(\"#app > div > div.container > div > div.SectionSearchContent > div.section_search_content > div > div.article_list_area > ul > li:nth-child(\"+str(i)+\") > div > div > div > a\").click()\n",
    "        driver.implicitly_wait(10) \n",
    "        driver.switch_to.window(driver.window_handles[-1])\n",
    "        driver.switch_to_frame('cafe_main')\n",
    "        driver.implicitly_wait(20) \n",
    "        html = driver.page_source#소스 가져오기\n",
    "        soup = bs(html, 'html.parser')\n",
    "        \n",
    "        \n",
    "        try:     \n",
    "            title = re.sub('[^a-zA-Zㄱ-ㅣ가-힣0-9 ]',\"\",soup.find('h3',class_='title_text').text)  \n",
    "        except:\n",
    "            title=\" \"\n",
    "            \n",
    "        title_lst.append(title)\n",
    "        \n",
    "        try:\n",
    "            doc_temp = re.sub('[^a-zA-Zㄱ-ㅣ가-힣0-9 ]',\"\",soup.find(\"div\",class_=\"se-module\").text)\n",
    "        except:\n",
    "            doc_temp = \" \"\n",
    "        doc_lst.append(doc_temp)\n",
    "        \n",
    "        comment_area = soup.find_all(\"div\", class_=\"comment_area\")\n",
    "        \n",
    "        comment = \"\"\n",
    "        for i in comment_area:\n",
    "            try:\n",
    "                comment_temp = i.find(\"span\",class_=\"text_comment\").text\n",
    "            except AttributeError:\n",
    "                pass\n",
    "            comment = comment + re.sub('[^a-zA-Zㄱ-ㅣ가-힣 ]', '',comment_temp)\n",
    "        comment_lst.append(comment)\n",
    "        \n",
    "        driver.close()\n",
    "        driver.switch_to.window(driver.window_handles[0]) # 맨 처음 탭으로 변경(0번 탭)\n",
    "        driver.implicitly_wait(2) \n",
    "\n",
    "driver.close()\n",
    "df = pd.DataFrame({\"title\":title_lst, \"doc\":doc_lst, \"comment\":comment_lst})\n",
    "df.to_csv(\"./data/\"+keyword+\" 네이버 카페 크롤링.csv\",encoding=\"cp949\")"
   ]
  },
  {
   "cell_type": "code",
   "execution_count": null,
   "metadata": {},
   "outputs": [],
   "source": []
  }
 ],
 "metadata": {
  "kernelspec": {
   "display_name": "Python 3",
   "language": "python",
   "name": "python3"
  },
  "language_info": {
   "codemirror_mode": {
    "name": "ipython",
    "version": 3
   },
   "file_extension": ".py",
   "mimetype": "text/x-python",
   "name": "python",
   "nbconvert_exporter": "python",
   "pygments_lexer": "ipython3",
   "version": "3.9.1"
  }
 },
 "nbformat": 4,
 "nbformat_minor": 4
}

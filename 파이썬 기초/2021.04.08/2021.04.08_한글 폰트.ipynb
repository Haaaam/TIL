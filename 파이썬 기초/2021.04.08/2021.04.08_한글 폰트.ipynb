{
 "cells": [
  {
   "cell_type": "markdown",
   "metadata": {},
   "source": [
    "### Matplotlib 한클폰트 사용하기\n",
    "1. 필요한 패키지를 가져온다.\n"
   ]
  },
  {
   "cell_type": "code",
   "execution_count": 12,
   "metadata": {},
   "outputs": [],
   "source": [
    "#그래프를 노트북 안에 그리기 위해 설정\n",
    "%matplotlib inline\n",
    "\n",
    "#필요한 패키지와 라이브러리를 가져옴\n",
    "import matplotlib.pyplot as plt\n",
    "import matplotlib as mpl\n",
    "import matplotlib.font_manager as fm\n",
    "\n",
    "# 그래프에서 마이너스 폰트 깨지는 문제에 대한 대처\n",
    "mpl.rcParams['axes.unicode_minus']=False\n"
   ]
  },
  {
   "cell_type": "markdown",
   "metadata": {},
   "source": [
    "2. 그래프를 그리기 위해 임의의 데이터를 만들어 준다."
   ]
  },
  {
   "cell_type": "code",
   "execution_count": 13,
   "metadata": {},
   "outputs": [
    {
     "data": {
      "text/plain": [
       "array([ -22,   66,  154,  153,  224,  232,  307,  273,  261,  193,  104,\n",
       "         72,   14,    9,  -43,  -72, -156, -242, -329, -357, -358, -383,\n",
       "       -403, -420, -493, -512, -590, -654, -557, -477, -410, -404, -305,\n",
       "       -297, -248, -317, -251, -307, -233, -211, -164, -140,  -81, -136,\n",
       "       -182, -181, -155,  -98,  -56,  -60], dtype=int32)"
      ]
     },
     "execution_count": 13,
     "metadata": {},
     "output_type": "execute_result"
    }
   ],
   "source": [
    "import numpy as np\n",
    "\n",
    "data=np.random.randint(-100,100,50).cumsum()\n",
    "data"
   ]
  },
  {
   "cell_type": "markdown",
   "metadata": {},
   "source": [
    "3. 기본 폰트로 지정 되었기 때문에 한글이 깨져 나옵니다."
   ]
  },
  {
   "cell_type": "code",
   "execution_count": 14,
   "metadata": {},
   "outputs": [
    {
     "data": {
      "text/plain": [
       "Text(0.5, 0, '시간(분)')"
      ]
     },
     "execution_count": 14,
     "metadata": {},
     "output_type": "execute_result"
    },
    {
     "data": {
      "image/png": "[encoded data removed]",
      "text/plain": [
       "<Figure size 432x288 with 1 Axes>"
      ]
     },
     "metadata": {
      "needs_background": "light"
     },
     "output_type": "display_data"
    }
   ],
   "source": [
    "\n",
    "plt.plot(range(50),data,'r')\n",
    "mpl.rcParams['axes.unicode_minus']=False\n",
    "plt.title('시간별 가격 추이')\n",
    "plt.ylabel('주식 가격')\n",
    "plt.xlabel('시간(분)')"
   ]
  },
  {
   "cell_type": "markdown",
   "metadata": {},
   "source": [
    "4. 폰트를 설정해 주기에 앞서 설치 된 matplotlib의 버전과 위치정보를 가져옵니다."
   ]
  },
  {
   "cell_type": "code",
   "execution_count": 15,
   "metadata": {},
   "outputs": [
    {
     "name": "stdout",
     "output_type": "stream",
     "text": [
      "버전:  3.3.2\n",
      "설치 위치:  C:\\ProgramData\\Anaconda3\\lib\\site-packages\\matplotlib\\__init__.py\n",
      "설정 위치:  C:\\Users\\LIMHYEMIN\\.matplotlib\n",
      "캐시 위치:  C:\\Users\\LIMHYEMIN\\.matplotlib\n"
     ]
    }
   ],
   "source": [
    "print('버전: ', mpl.__version__)\n",
    "print('설치 위치: ',mpl.__file__)\n",
    "print('설정 위치: ',mpl.get_configdir())\n",
    "print('캐시 위치: ',mpl.get_cachedir())"
   ]
  },
  {
   "cell_type": "markdown",
   "metadata": {},
   "source": [
    "5. matplotlib의 위치정보를 알았으니 터미널을 이용해 해당 위치로 가봅니다."
   ]
  },
  {
   "cell_type": "code",
   "execution_count": 16,
   "metadata": {},
   "outputs": [
    {
     "name": "stdout",
     "output_type": "stream",
     "text": [
      "설정 파일 위치:  C:\\ProgramData\\Anaconda3\\lib\\site-packages\\matplotlib\\mpl-data\\matplotlibrc\n"
     ]
    }
   ],
   "source": [
    "print('설정 파일 위치: ',mpl.matplotlib_fname())"
   ]
  },
  {
   "cell_type": "markdown",
   "metadata": {},
   "source": [
    "6. 설치 된 폰트를 찍어 봅니다."
   ]
  },
  {
   "cell_type": "code",
   "execution_count": 17,
   "metadata": {},
   "outputs": [
    {
     "name": "stdout",
     "output_type": "stream",
     "text": [
      "786\n"
     ]
    }
   ],
   "source": [
    "font_list=fm.findSystemFonts(fontpaths=None,fontext='ttf')\n",
    "\n",
    "#ttf 폰트 전체 갯수\n",
    "print(len(font_list))"
   ]
  },
  {
   "cell_type": "markdown",
   "metadata": {},
   "source": [
    "### 7. 폰트를 사용하는 방법은 3가지가 있습니다.\n",
    "#### 1) FotProperties를 사용하는 방법- 그래프의 폰트가 필요한 항목마다 지정해 주어야 합니다.\n",
    "#### 2) matplotlib.rcParams[]으로 전역글꼴 설정 방법- 그래프에 설정을 해주면 폰트가 필요한 항목에 적용 됩니다.\n",
    "#### 3) 2)번의 방법을 mpl.matplotlib_fname()로 읽어지는 설정 파일에 직접 적어주는 방법, 단 모든 노트북에 적용됩니다. 노트북을 열 때마다 지정해 주지 않아도 되서 편리합니다."
   ]
  },
  {
   "cell_type": "markdown",
   "metadata": {},
   "source": [
    "1) FontProperties를 사용하는 방법\n",
    "- 텍스트를 지정하는 항목에 지정해 사용할 수 있습니다. 지정해 준 항목에만 해당 폰트가 적용 됩니다.\n",
    "- matplotlib.pyplot\n",
    "    - title()\n",
    "    - xlabel()\n",
    "    - ylabel()\n",
    "    - legend()\n",
    "    - text()\n",
    "- matplotlib.axes\n",
    "    - set_title()"
   ]
  },
  {
   "cell_type": "markdown",
   "metadata": {},
   "source": [
    "### 2) matplotlib.rcParams[]으로 전역글꼴 설정 방법"
   ]
  },
  {
   "cell_type": "code",
   "execution_count": 21,
   "metadata": {},
   "outputs": [
    {
     "name": "stdout",
     "output_type": "stream",
     "text": [
      "serif 세리프가 있는 폰트------\n",
      "['DejaVu Serif', 'Bitstream Vera Serif', 'Computer Modern Roman', 'New Century Schoolbook', 'Century Schoolbook L', 'Utopia', 'ITC Bookman', 'Bookman', 'Nimbus Roman No9 L', 'Times New Roman', 'Times', 'Palatino', 'Charter', 'serif']\n",
      "sans-serif 세리프가 없는 폰트 ------\n",
      "['DejaVu Sans', 'Bitstream Vera Sans', 'Computer Modern Sans Serif', 'Lucida Grande', 'Verdana', 'Geneva', 'Lucid', 'Arial', 'Helvetica', 'Avant Garde', 'sans-serif']\n",
      "monospace 고정폭 글꼴-------\n",
      "['DejaVu Sans Mono', 'Bitstream Vera Sans Mono', 'Computer Modern Typewriter', 'Andale Mono', 'Nimbus Mono L', 'Courier New', 'Courier', 'Fixed', 'Terminal', 'monospace']\n"
     ]
    }
   ],
   "source": [
    "# serif, sans-serif, monospace\n",
    "print('serif 세리프가 있는 폰트------')\n",
    "print(plt.rcParams['font.serif'])\n",
    "print('sans-serif 세리프가 없는 폰트 ------')\n",
    "print(plt.rcParams['font.sans-serif'])\n",
    "print('monospace 고정폭 글꼴-------')\n",
    "print(plt.rcParams['font.monospace'])"
   ]
  },
  {
   "cell_type": "code",
   "execution_count": 22,
   "metadata": {},
   "outputs": [],
   "source": [
    "plt.rcParams['font.family']='Nanum Brush Script OTF'\n",
    "plt.rcParams['font.size']=20\n",
    "plt.rcParams['figure.figsize']=(14,4)"
   ]
  },
  {
   "cell_type": "code",
   "execution_count": 25,
   "metadata": {},
   "outputs": [
    {
     "name": "stdout",
     "output_type": "stream",
     "text": [
      "설정 되어있는 폰트 사이즈\n",
      "20.0\n",
      "# 설정 되어있는 폰트 글꼴\n",
      "['Malgun Gothic']\n"
     ]
    },
    {
     "data": {
      "image/png": "[encoded data removed]",
      "text/plain": [
       "<Figure size 1008x288 with 1 Axes>"
      ]
     },
     "metadata": {
      "needs_background": "light"
     },
     "output_type": "display_data"
    }
   ],
   "source": [
    "from matplotlib import font_manager,rc\n",
    "font_name=font_manager.FontProperties(fname=\"c:/Windows/Fonts/malgun.ttf\").get_name()\n",
    "rc('font',family=font_name)\n",
    "plt.plot(range(50),data,'r')\n",
    "plt.title('시간별 가격 추이')\n",
    "plt.ylabel('주식 가격')\n",
    "plt.xlabel('시간(분)')\n",
    "\n",
    "# 기본 설정 읽기\n",
    "import matplotlib.pyplot as plt\n",
    "\n",
    "#size, family\n",
    "print(\"설정 되어있는 폰트 사이즈\")\n",
    "print(plt.rcParams['font.size'])\n",
    "print('# 설정 되어있는 폰트 글꼴')\n",
    "print(plt.rcParams['font.family'])"
   ]
  },
  {
   "cell_type": "markdown",
   "metadata": {},
   "source": [
    "### 3) rcParams를 설정파일에 직접 적어주는 방법 - 모든 노트북에 공통적용\n",
    "- 이외에 자주 사용하는 설정도 함께 해주면 편리합니다.\n",
    "- 이곳에 폰트를 지정해 주면 노트북을 실행할 때 바로 로드되도록 설정할 수 있습니다."
   ]
  },
  {
   "cell_type": "code",
   "execution_count": 23,
   "metadata": {},
   "outputs": [
    {
     "name": "stdout",
     "output_type": "stream",
     "text": [
      "설정파일 위치:  C:\\ProgramData\\Anaconda3\\lib\\site-packages\\matplotlib\\mpl-data\\matplotlibrc\n"
     ]
    }
   ],
   "source": [
    "print('설정파일 위치: ',mpl.matplotlib_fname())"
   ]
  },
  {
   "cell_type": "code",
   "execution_count": 26,
   "metadata": {},
   "outputs": [
    {
     "data": {
      "image/png": "[encoded data removed]",
      "text/plain": [
       "<Figure size 1008x288 with 1 Axes>"
      ]
     },
     "metadata": {
      "needs_background": "light"
     },
     "output_type": "display_data"
    }
   ],
   "source": [
    "import matplotlib.pyplot as plt\n",
    "import numpy as np\n",
    "from matplotlib import font_manager,rc\n",
    "font_name=font_manager.FontProperties(fname=\"c:/Windows/Fonts/malgun.ttf\").get_name()\n",
    "rc('font',family=font_name)\n",
    "fig,ax=plt.subplots()\n",
    "ax.plot(10*np.random.randn(100),10*np.random.randn(100),'o')\n",
    "ax.set_title('숫자 분포도 보기')\n",
    "plt.show()"
   ]
  },
  {
   "cell_type": "code",
   "execution_count": null,
   "metadata": {},
   "outputs": [],
   "source": []
  }
 ],
 "metadata": {
  "kernelspec": {
   "display_name": "Python 3",
   "language": "python",
   "name": "python3"
  },
  "language_info": {
   "codemirror_mode": {
    "name": "ipython",
    "version": 3
   },
   "file_extension": ".py",
   "mimetype": "text/x-python",
   "name": "python",
   "nbconvert_exporter": "python",
   "pygments_lexer": "ipython3",
   "version": "3.8.5"
  }
 },
 "nbformat": 4,
 "nbformat_minor": 4
}

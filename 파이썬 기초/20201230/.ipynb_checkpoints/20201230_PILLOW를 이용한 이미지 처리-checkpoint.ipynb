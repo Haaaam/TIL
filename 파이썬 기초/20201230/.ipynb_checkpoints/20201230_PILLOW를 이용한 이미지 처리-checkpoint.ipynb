{
 "cells": [
  {
   "cell_type": "markdown",
   "metadata": {},
   "source": [
    "### 이미지 처리\n",
    "- 구글에서 '파이썬 PILLOW'를 검색\n",
    "- 새로운 주피터 노트북을 실행한 뒤 pillow 모듈 설치\n",
    "- !pip install pillow\n"
   ]
  },
  {
   "cell_type": "markdown",
   "metadata": {},
   "source": [
    "##### PILLOW 설치\n",
    "- jupyter: pip install Pillow\n",
    "- 프롬프트: conda install Pillow/pip install Pillow\n",
    "- import를 이용한 모듈 연결\n",
    "- 필요한 메소드(함수/명령어)를 이용해 작업수행"
   ]
  },
  {
   "cell_type": "code",
   "execution_count": 1,
   "metadata": {},
   "outputs": [
    {
     "name": "stdout",
     "output_type": "stream",
     "text": [
      "Requirement already satisfied: Pillow in c:\\users\\limhyemin\\anaconda3\\envs\\test\\lib\\site-packages (8.1.0)\n"
     ]
    }
   ],
   "source": [
    "!pip install Pillow"
   ]
  },
  {
   "cell_type": "code",
   "execution_count": null,
   "metadata": {},
   "outputs": [],
   "source": [
    "'''\n",
    "from PIL import *                    1. 모든 포함 하위모듈(함수)를 import해라\n",
    "from PIL                             2. PIL 자체를 import\n",
    "from PIL import Image as img         3. 모든 포함 하위모듈에서 image 모듈만 import\n",
    "#이미지 열기\n",
    "\n",
    "PIL.img.Open()                       1. PIL에 있는 모든 하위모듈을 동일한 방법으로 사용할 수 있다.\n",
    "ImageColor.getrgb(color)             2. PIL 있는 모든 하위모듈을 동일한 방법으로 사용할 수 있다.\n",
    "img.Open()                           3. 다른 하위 모듈을 사용할 수 없다.\n",
    "'''"
   ]
  },
  {
   "cell_type": "code",
   "execution_count": 2,
   "metadata": {},
   "outputs": [
    {
     "name": "stdout",
     "output_type": "stream",
     "text": [
      "(512, 271)\n"
     ]
    }
   ],
   "source": [
    "from PIL import Image\n",
    "\n",
    "tmp=Image.open('./picture/pic1.jpg') #이미지 파일 열기\n",
    "print(tmp.size) #이미지 사이즈 확인(높이,너비)"
   ]
  },
  {
   "cell_type": "code",
   "execution_count": 3,
   "metadata": {},
   "outputs": [
    {
     "name": "stdout",
     "output_type": "stream",
     "text": [
      "=======END=======\n"
     ]
    }
   ],
   "source": [
    "from PIL import Image\n",
    "\n",
    "fileName='pic1'\n",
    "tmp=Image.open('./picture/'+fileName+'.jpg')  #이미지 파일 열기\n",
    "\n",
    "\n",
    "#tmp.resize((높이,너비)):이미지 사이즈 변경\n",
    "tmpResize=tmp.resize((200,200))\n",
    "tmpResize.save('./img/'+fileName+'_200.jpg')  #img 폴더에 이미지 저장\n",
    "\n",
    "print(\"=======END=======\")"
   ]
  },
  {
   "cell_type": "code",
   "execution_count": 9,
   "metadata": {},
   "outputs": [
    {
     "name": "stdout",
     "output_type": "stream",
     "text": [
      "********END*******\n"
     ]
    }
   ],
   "source": [
    "from PIL import Image \n",
    "fileName='pic1'\n",
    "tmp=Image.open('./picture/'+fileName+'.jpg') #이미지 파일 열기\n",
    "\n",
    "size=300\n",
    "tmpResize=tmp.resize((size,size))\n",
    "tmpResize.save('./img/'+fileName+str(size)+'.jpg')#img 폴더에 이미지 저장\n",
    "print('********END*******')"
   ]
  },
  {
   "cell_type": "code",
   "execution_count": 11,
   "metadata": {},
   "outputs": [
    {
     "name": "stdout",
     "output_type": "stream",
     "text": [
      "이미지 변경 사이즈 입력: 300\n"
     ]
    }
   ],
   "source": [
    "from PIL import Image\n",
    "fileName='pic1'\n",
    "tmp=Image.open('./picture/'+fileName+'.jpg')\n",
    "size=input('이미지 변경 사이즈 입력: ') #input():입력 데이터는 모두 str형\n",
    "tmpResize=tmp.resize((int(size),int(size)))\n",
    "tmpResize.save('./img/'+fileName+'_'+size+'.jpg') #img 폴더에 이미지 저장\n"
   ]
  },
  {
   "cell_type": "markdown",
   "metadata": {},
   "source": [
    "### 이미지 각도 변경\n",
    "- pic1, pic2, pic3 이미지를 읽어와서 이미지 각도를 90도 회전\n",
    "- 기존 파일명 앞에 rot90_을 붙여서 저장(예:rot90_pic1.jpg)"
   ]
  },
  {
   "cell_type": "code",
   "execution_count": 12,
   "metadata": {},
   "outputs": [],
   "source": [
    "from PIL import Image\n",
    "fileName='pic1'\n",
    "tmp=Image.open('./picture/'+fileName+'.jpg')\n",
    "tmpRot=tmp.rotate(90)\n",
    "tmpRot.save('./img/'+'rot90_'+fileName+'.jpg')\n"
   ]
  },
  {
   "cell_type": "markdown",
   "metadata": {},
   "source": [
    "### [미션]\n",
    "- 이미지 속성값을 이용하여 pic1/pic2/pic3의 파일명, 가로, 세로 길이를 출력한다.\n",
    "- 출력: 00 사진의 크기는 가로 00, 세로 00입니다."
   ]
  },
  {
   "cell_type": "code",
   "execution_count": 14,
   "metadata": {},
   "outputs": [
    {
     "name": "stdout",
     "output_type": "stream",
     "text": [
      "./picture/pic1.jpg\n",
      "512\n",
      "271\n",
      "pic1 사진의 크기는 가로271, 세로512 입니다.\n",
      "pic1 사진의 크기는 가로 512, 세로 271 입니다.\n"
     ]
    }
   ],
   "source": [
    "from PIL import Image\n",
    "\n",
    "fileName='pic1'\n",
    "tmp=Image.open('./picture/'+fileName+'.jpg')\n",
    "print(tmp.filename)\n",
    "print(tmp.width)\n",
    "print(tmp.height)\n",
    "\n",
    "print(fileName+' 사진의 크기는 가로'+str(tmp.height)+', 세로'+str(tmp.width)+' 입니다.')\n",
    "print('%s 사진의 크기는 가로 %d, 세로 %d 입니다.'%(fileName,tmp.width,tmp.height))\n"
   ]
  },
  {
   "cell_type": "code",
   "execution_count": 15,
   "metadata": {},
   "outputs": [
    {
     "name": "stdout",
     "output_type": "stream",
     "text": [
      "pic1사진의 크기는 가로271, 세로는512 입니다.\n",
      "pic2사진의 크기는 가로338, 세로는630 입니다.\n",
      "pic3사진의 크기는 가로183, 세로는275 입니다.\n"
     ]
    }
   ],
   "source": [
    "from PIL import Image\n",
    "fileName=['pic1','pic2','pic3']\n",
    "for i in fileName:\n",
    "    tmp=Image.open('./picture/'+i+'.jpg')\n",
    "    print(i+'사진의 크기는 가로'+str(tmp.height)+', 세로는'+str(tmp.width)+' 입니다.')\n",
    "    "
   ]
  },
  {
   "cell_type": "markdown",
   "metadata": {},
   "source": [
    "### 사용자 정의 함수\n",
    "- def 함수명():\n",
    "- 코드에서 많이 사용하는 논리적 코드를 모아 놓은 것\n"
   ]
  },
  {
   "cell_type": "code",
   "execution_count": 22,
   "metadata": {},
   "outputs": [],
   "source": [
    "# 사용자 정의 함수, 실행함수\n",
    "def picSize(pName,psize):\n",
    "    tmp=Image.open('./picture/'+pName+'.jpg')\n",
    "    tmpResize=tmp.resize((psize,psize))\n",
    "    tmpResize.save('./img/'+pName+'_'+str(psize)+'.jpg')\n"
   ]
  },
  {
   "cell_type": "code",
   "execution_count": 23,
   "metadata": {},
   "outputs": [],
   "source": [
    "from PIL import Image\n",
    "\n",
    "picSize('pic1',500)\n",
    "picSize('pic2',500)\n",
    "picSize('pic3',500)"
   ]
  },
  {
   "cell_type": "code",
   "execution_count": null,
   "metadata": {},
   "outputs": [],
   "source": [
    "def pSize(pName,pSize):\n",
    "    tmp=Image.open('./picture/'+pName)\n",
    "    tmpResize=tmp.resize((psize,psize))\n",
    "    tmpResize.save('./img/'+str(psize)+'_'+pName)\n",
    "    \n",
    "from PIL import Image\n",
    "import os #파일을 생성할때\n",
    "\n",
    "fname=os.listdir('')"
   ]
  }
 ],
 "metadata": {
  "kernelspec": {
   "display_name": "Python 3",
   "language": "python",
   "name": "python3"
  },
  "language_info": {
   "codemirror_mode": {
    "name": "ipython",
    "version": 3
   },
   "file_extension": ".py",
   "mimetype": "text/x-python",
   "name": "python",
   "nbconvert_exporter": "python",
   "pygments_lexer": "ipython3",
   "version": "3.9.1"
  }
 },
 "nbformat": 4,
 "nbformat_minor": 4
}

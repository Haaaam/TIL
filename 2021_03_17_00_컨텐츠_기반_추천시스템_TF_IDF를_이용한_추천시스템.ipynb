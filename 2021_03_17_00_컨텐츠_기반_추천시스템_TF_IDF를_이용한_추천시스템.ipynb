{
  "nbformat": 4,
  "nbformat_minor": 0,
  "metadata": {
    "colab": {
      "name": "2021/03/17_00.컨텐츠 기반 추천시스템- TF-IDF를 이용한 추천시스템.ipynb",
      "private_outputs": true,
      "provenance": [],
      "collapsed_sections": [],
      "authorship_tag": "ABX9TyMhab8V0q342oVPJVP4mH03",
      "include_colab_link": true
    },
    "kernelspec": {
      "name": "python3",
      "display_name": "Python 3"
    }
  },
  "cells": [
    {
      "cell_type": "markdown",
      "metadata": {
        "id": "view-in-github",
        "colab_type": "text"
      },
      "source": [
        "<a href=\"https://colab.research.google.com/github/imeamin/TIL/blob/master/2021_03_17_00_%EC%BB%A8%ED%85%90%EC%B8%A0_%EA%B8%B0%EB%B0%98_%EC%B6%94%EC%B2%9C%EC%8B%9C%EC%8A%A4%ED%85%9C_TF_IDF%EB%A5%BC_%EC%9D%B4%EC%9A%A9%ED%95%9C_%EC%B6%94%EC%B2%9C%EC%8B%9C%EC%8A%A4%ED%85%9C.ipynb\" target=\"_parent\"><img src=\"https://colab.research.google.com/assets/colab-badge.svg\" alt=\"Open In Colab\"/></a>"
      ]
    },
    {
      "cell_type": "code",
      "metadata": {
        "id": "FCQ_QbS1cP5q"
      },
      "source": [
        "docs=[\r\n",
        "      '먹고 싶은 사과', #문서0\r\n",
        "      '먹고 싶은 바나나',#문서1\r\n",
        "      '길고 노란 바나나 바나나',#문서2\r\n",
        "      '저는 과일이 좋아요' #문서3\r\n",
        "]\r\n",
        "docs"
      ],
      "execution_count": null,
      "outputs": []
    },
    {
      "cell_type": "code",
      "metadata": {
        "id": "BPd9SzgKceNn"
      },
      "source": [
        "from sklearn.feature_extraction.text import CountVectorizer\r\n",
        "vect=CountVectorizer()#Counter Vectorizer 객체 생성"
      ],
      "execution_count": null,
      "outputs": []
    },
    {
      "cell_type": "code",
      "metadata": {
        "id": "tkO0ISQWdEL4"
      },
      "source": [
        "vect"
      ],
      "execution_count": null,
      "outputs": []
    },
    {
      "cell_type": "code",
      "metadata": {
        "id": "secICizjdFcs"
      },
      "source": [
        "#문장을 Counter Vectorizer 형태로 변형\r\n",
        "countvect=vect.fit_transform(docs)\r\n",
        "countvect #4x9 :4개의 문서에 9개의 단어"
      ],
      "execution_count": null,
      "outputs": []
    },
    {
      "cell_type": "code",
      "metadata": {
        "id": "6QUac76OdTyq"
      },
      "source": [
        "#toarray()를 통해서 문장이 Vector 형태의 값을 얻을 수 있음\r\n",
        "#하지만, 각 인덱스와 컬럼이 무엇을 의미하는지에 대해서는 알 수가 없음\r\n",
        "#sparse matrix->numpy\r\n",
        "#결과 0,1,2 문서 내의 단어가 등장한 횟수에 따라서 부여된 것\r\n",
        "countvect.toarray()"
      ],
      "execution_count": null,
      "outputs": []
    },
    {
      "cell_type": "code",
      "metadata": {
        "id": "Nbbi7FvJdtBD"
      },
      "source": [
        "vect.vocabulary_"
      ],
      "execution_count": null,
      "outputs": []
    },
    {
      "cell_type": "code",
      "metadata": {
        "id": "P6W9RDIUfr6j"
      },
      "source": [
        "# 각 value가 의미하는게 컬럼의 위치, key는 해당 컬럼의 단어를 의미각 value가 \r\n",
        " #의미하는게 컬럼의 위치, key는 해당 컬럼의 단어를 의미\r\n",
        "sorted(vect.vocabulary_)\r\n",
        "sorted(vect.vocabulary_)"
      ],
      "execution_count": null,
      "outputs": []
    },
    {
      "cell_type": "code",
      "metadata": {
        "id": "BG1fPyusfuij"
      },
      "source": [
        "import pandas as pd\r\n",
        "countvect_df=pd.DataFrame(countvect.toarray(),columns=sorted(vect.vocabulary_))\r\n",
        "countvect_df.index=['문서1','문서2','문서3','문서4']\r\n",
        "countvect_df"
      ],
      "execution_count": null,
      "outputs": []
    },
    {
      "cell_type": "code",
      "metadata": {
        "id": "TWfVR4_LgDcZ"
      },
      "source": [
        "#위의 Data Frame 형태의 유사도를 계산\r\n",
        "from sklearn.metrics.pairwise import cosine_similarity\r\n",
        "cosine_similarity(countvect_df, countvect_df) #문서1과 문서2가 유사하고 문서2와 문서3도 유사하다"
      ],
      "execution_count": null,
      "outputs": []
    },
    {
      "cell_type": "code",
      "metadata": {
        "id": "dr_EbW_wgqcm"
      },
      "source": [
        "#CountVectorizer -> TfidfVectorizer\r\n",
        "from sklearn.feature_extraction.text import TfidfVectorizer\r\n",
        "vect=TfidfVectorizer()\r\n",
        "tfvect=vect.fit(docs)"
      ],
      "execution_count": null,
      "outputs": []
    },
    {
      "cell_type": "code",
      "metadata": {
        "id": "cWaeIT1KhVfS"
      },
      "source": [
        "tfidv_df=pd.DataFrame(tfvect.transform(docs).toarray(),columns=sorted(vect.vocabulary_))\r\n",
        "tfidv_df.index=['문서1','문서2','문서3','문서4']\r\n",
        "tfidv_df"
      ],
      "execution_count": null,
      "outputs": []
    },
    {
      "cell_type": "code",
      "metadata": {
        "id": "HrLPzxGVhkT3"
      },
      "source": [
        "from sklearn.metrics.pairwise import cosine_similarity\r\n",
        "cosine_similarity(tfidv_df,tfidv_df)"
      ],
      "execution_count": null,
      "outputs": []
    },
    {
      "cell_type": "code",
      "metadata": {
        "id": "jG-nTWssnixE"
      },
      "source": [
        ""
      ],
      "execution_count": null,
      "outputs": []
    }
  ]
}
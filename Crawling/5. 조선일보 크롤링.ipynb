{
 "cells": [
  {
   "cell_type": "code",
   "execution_count": 55,
   "metadata": {},
   "outputs": [
    {
     "name": "stdout",
     "output_type": "stream",
     "text": [
      "검색어를 입력하세요: 코로나\n",
      "마지막 페이지를 입력하세요: 2\n",
      "https://biz.chosun.com/site/data/html_dir/2021/01/15/2021011502220.html\n",
      "[팀장칼럼] 영원한 1등은 없다\n"
     ]
    }
   ],
   "source": [
    "import requests\n",
    "import re\n",
    "from bs4 import BeautifulSoup as bs\n",
    "from selenium.webdriver import Chrome\n",
    "from selenium.webdriver.common.keys import Keys\n",
    "import pandas as pd\n",
    "from urllib.request import urlopen\n",
    "from urllib.parse import quote\n",
    "import time\n",
    "\n",
    "\n",
    "driver=Chrome('d:/py_data/chromedriver.exe')\n",
    "driver.get('https://www.chosun.com/')\n",
    "keys=Keys()\n",
    "\n",
    "keyword=input(\"검색어를 입력하세요: \")\n",
    "end_Page=int(input(\"마지막 페이지를 입력하세요: \"))+1\n",
    "\n",
    "driver.find_element_by_css_selector('#nav-bar-left > div:nth-child(2) > div > svg').click()\n",
    "Qinput=driver.find_element_by_css_selector('#nav-bar-left > div:nth-child(2) > form > div > input')\n",
    "driver.implicitly_wait(10)\n",
    "Qinput.click()\n",
    "Qinput.send_keys(keyword)\n",
    "Qinput.send_keys(keys.ENTER)\n",
    "\n",
    "\n",
    "a=driver.find_element_by_css_selector('#main > div.search-feed > div:nth-child(1) > div > div.story-card.story-card--art-left.\\|.flex.flex--wrap.box--hidden-sm > div.story-card-right.\\|.grid__col--sm-8.grid__col--md-8.grid__col--lg-8.box--pad-left-xs > div.story-card__headline-container.\\|.box--margin-bottom-xs > h3 > a > span')\n",
    "a.click()\n",
    "\n",
    "\n",
    "#새로 열린 탭 선택\n",
    "driver.switch_to.window(driver.window_handles[-1])\n",
    "print(driver.current_url)\n",
    "\n",
    "html=driver.page_source\n",
    "soup=bs(html,'html.parser')\n",
    "driver.implicitly_wait(10)\n",
    "\n",
    "#제목\n",
    "title_lst=soup.find('div',class_='news_title_text')\n",
    "title=title_lst.find('h1').text\n",
    "print(title)\n",
    "\n",
    "content=soup.find('div',class_='par').text\n",
    "print(content)\n",
    "\n",
    "driver.close()"
   ]
  },
  {
   "cell_type": "code",
   "execution_count": null,
   "metadata": {},
   "outputs": [],
   "source": []
  }
 ],
 "metadata": {
  "kernelspec": {
   "display_name": "Python 3",
   "language": "python",
   "name": "python3"
  },
  "language_info": {
   "codemirror_mode": {
    "name": "ipython",
    "version": 3
   },
   "file_extension": ".py",
   "mimetype": "text/x-python",
   "name": "python",
   "nbconvert_exporter": "python",
   "pygments_lexer": "ipython3",
   "version": "3.9.1"
  }
 },
 "nbformat": 4,
 "nbformat_minor": 4
}

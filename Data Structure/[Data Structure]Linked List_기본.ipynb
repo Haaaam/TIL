{
 "cells": [
  {
   "cell_type": "markdown",
   "metadata": {},
   "source": [
    "\n",
    "### 1. 링크드 리스트 구조\n",
    "\n",
    "- 연결 리스트\n",
    "\n",
    "- 떨어진 공간에 존재하는 데이터를 화살표로 연결해서 관리하는 데이터 구조\n",
    "\n",
    "\n",
    "- 링크드 리스트의 기본 구조(노드, 포인터)\n",
    "\n",
    "   - 노드(Node): 데이터 저장 단위 (데이터값, 포인터)로 구성\n",
    " \n",
    "   - 포인터(pointer): 각 노드 안에서, 다음이나 이전의 노드와의 연결 정보를 가지고 있는 공간\n",
    "\n"
   ]
  },
  {
   "cell_type": "markdown",
   "metadata": {},
   "source": [
    "<img src=\"https://www.fun-coding.org/00_Images/linkedlist.png\" />\n",
    "(출처: wikipedia, https://en.wikipedia.org/wiki/Linked_list)"
   ]
  },
  {
   "cell_type": "markdown",
   "metadata": {},
   "source": [
    "### 간단한 링크드 리스트 예\n",
    "##### Node 구현"
   ]
  },
  {
   "cell_type": "code",
   "execution_count": 1,
   "metadata": {},
   "outputs": [],
   "source": [
    "class Node:\n",
    "    def __init__(self,data):\n",
    "        self.data=data\n",
    "        self.next=None"
   ]
  },
  {
   "cell_type": "code",
   "execution_count": 2,
   "metadata": {},
   "outputs": [],
   "source": [
    "class Node:\n",
    "    def __init__(self,data,next=None):\n",
    "        self.data=data\n",
    "        self.next=next"
   ]
  },
  {
   "cell_type": "markdown",
   "metadata": {},
   "source": [
    "#### Node와 Node 연결하기(포인터 활용)"
   ]
  },
  {
   "cell_type": "code",
   "execution_count": 3,
   "metadata": {},
   "outputs": [],
   "source": [
    "node1=Node(1)\n",
    "node2=Node(2)\n",
    "node1.next=node2\n",
    "head=node1"
   ]
  },
  {
   "cell_type": "markdown",
   "metadata": {},
   "source": [
    "#### 링크드 리스트로 데이터 추가하기"
   ]
  },
  {
   "cell_type": "code",
   "execution_count": 4,
   "metadata": {},
   "outputs": [],
   "source": [
    "class Node:\n",
    "    def __init__(self,data,next=None):\n",
    "        self.data=data\n",
    "        self.next=next\n",
    "def add(data):\n",
    "    node=head\n",
    "    while node.next:\n",
    "        node=node.next\n",
    "    node.next=Node(data)\n",
    "    "
   ]
  },
  {
   "cell_type": "code",
   "execution_count": 5,
   "metadata": {},
   "outputs": [],
   "source": [
    "node1=Node(1)\n",
    "head=node1\n",
    "for index in range(2,10):\n",
    "    add(index)"
   ]
  },
  {
   "cell_type": "markdown",
   "metadata": {},
   "source": [
    "#### 링크드 리스트 데이터 출력하기(검색하기)"
   ]
  },
  {
   "cell_type": "code",
   "execution_count": 6,
   "metadata": {},
   "outputs": [
    {
     "name": "stdout",
     "output_type": "stream",
     "text": [
      "1\n",
      "2\n",
      "3\n",
      "4\n",
      "5\n",
      "6\n",
      "7\n",
      "8\n",
      "9\n"
     ]
    }
   ],
   "source": [
    "node=head\n",
    "while node.next:\n",
    "    print(node.data)\n",
    "    node=node.next\n",
    "print(node.data)"
   ]
  },
  {
   "cell_type": "markdown",
   "metadata": {},
   "source": [
    "\n",
    "### 2. 링크드 리스트의 장단점\n",
    "\n",
    "\n",
    "##### 장점\n",
    "\n",
    "- 데이터 공간을 미리 할당하지 않아도 된다.\n",
    "\n",
    "- 반면에, 배열은 미리 데이터 공간을 할당 해야한다.\n",
    "\n",
    "##### 단점\n",
    "\n",
    "- 연결을 위한 별도의 데이터 공간이 필요므로, 저장공간 효율이 높지 않다.\n",
    "\n",
    "- 접근 속도가 느리다.\n",
    "\n",
    "- 새로운 데이터를 삽입하거나 삭제할때, 앞의 데이터 연결을 재구성해야하는 문제 발생\n",
    "\n",
    "\n"
   ]
  },
  {
   "cell_type": "markdown",
   "metadata": {},
   "source": [
    "#### 4. 링크드 리스트의 복잡한 기능1(링크드 리스트 데이터 사이에 데이터를 추가)\n",
    "- 링크드 리스트는 유지 관리에 부가적인 구현이 필요함\n",
    "\n",
    "<img src=\"https://www.fun-coding.org/00_Images/linkedlistadd.png\" />\n",
    "(출처: wikipedia, https://en.wikipedia.org/wiki/Linked_list)"
   ]
  },
  {
   "cell_type": "code",
   "execution_count": 7,
   "metadata": {},
   "outputs": [
    {
     "name": "stdout",
     "output_type": "stream",
     "text": [
      "1\n",
      "2\n",
      "3\n",
      "4\n",
      "5\n",
      "6\n",
      "7\n",
      "8\n",
      "9\n"
     ]
    }
   ],
   "source": [
    "node=head\n",
    "while node.next:\n",
    "    print(node.data)\n",
    "    node=node.next\n",
    "print(node.data)"
   ]
  },
  {
   "cell_type": "code",
   "execution_count": 8,
   "metadata": {},
   "outputs": [],
   "source": [
    "node3=Node(1.5)"
   ]
  },
  {
   "cell_type": "code",
   "execution_count": 9,
   "metadata": {},
   "outputs": [],
   "source": [
    "node=head\n",
    "search=True\n",
    "while search:\n",
    "    if node.data==1:\n",
    "        search=False\n",
    "    else:\n",
    "        node=node.next\n",
    "node_next=node.next\n",
    "node.next=node3\n",
    "node3.next=node_next\n"
   ]
  },
  {
   "cell_type": "code",
   "execution_count": 11,
   "metadata": {},
   "outputs": [
    {
     "name": "stdout",
     "output_type": "stream",
     "text": [
      "1\n",
      "1.5\n",
      "2\n",
      "3\n",
      "4\n",
      "5\n",
      "6\n",
      "7\n",
      "8\n",
      "9\n"
     ]
    }
   ],
   "source": [
    "node=head\n",
    "while node.next:\n",
    "    print(node.data)\n",
    "    node=node.next\n",
    "print(node.data)"
   ]
  },
  {
   "cell_type": "code",
   "execution_count": null,
   "metadata": {},
   "outputs": [],
   "source": []
  }
 ],
 "metadata": {
  "kernelspec": {
   "display_name": "Python 3",
   "language": "python",
   "name": "python3"
  },
  "language_info": {
   "codemirror_mode": {
    "name": "ipython",
    "version": 3
   },
   "file_extension": ".py",
   "mimetype": "text/x-python",
   "name": "python",
   "nbconvert_exporter": "python",
   "pygments_lexer": "ipython3",
   "version": "3.8.5"
  }
 },
 "nbformat": 4,
 "nbformat_minor": 4
}

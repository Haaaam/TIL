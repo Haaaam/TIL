{
 "cells": [
  {
   "cell_type": "markdown",
   "metadata": {},
   "source": [
    "### 1. 해쉬 구조\n",
    "\n",
    "- Hash Table: 키에 데이터를 저장하는 데이터 구조\n",
    "\n",
    "- 보통 배열로 미리 Hash Table 사이즈만큼 생성 후에 사용(공간과 탐색 시간을 맞바꾸는 기법)\n",
    "\n",
    "##### ※ 파이썬에서는 해쉬를 별도로 구현할 이유가 없음- 딕셔너리 타입 사용하면 됨\n",
    "\n",
    "### 2. 알아둘 용어\n",
    "\n",
    "\n",
    "- 해쉬(Hash): 임의 값을 고정 길이로 변환하는 것\n",
    "\n",
    "- 해쉬 테이블(Hash Table): 키 값의 연산에 의해 직접 접근이 가능한 데이터 구조\n",
    "\n",
    "- 해쉬 함수(Hash Function): Key에 대한 산술 연산을 이용해 데이터 위치를 찾을 수 있는 함수\n",
    "\n",
    "- 해쉬 값(Hash Value) 또는 해쉬 주소(Hash Address):Key를 해싱 함수로 연산해서, 해쉬 값을 알아내고, 이를 기반으로 해쉬 테이블에서 해당 Key에 대한 데이터 위치를 일관성 있게 찾을 수 있음\n",
    "\n",
    "- 슬롯(slot): 한 개의 데이터를 저장할 수 있는 공간\n",
    "\n",
    "- 저장할 데이터에 대해 Key를 추출할 수 있는 별도 함수도 존재할 수 있음\n",
    "\n",
    "### 3. 해쉬 테이블의 장단점\n",
    "####  장점\n",
    "- 데이터 저장/읽기 속도가 빠르다.(검색 속도가 빠르다.)\n",
    "- 해쉬는 키에 대한 데이터가 있는지(중복)확인이 쉽다.\n",
    "\n",
    "#### 단점\n",
    "- 저장공간이 좀 더 필요하다.\n",
    "- 여러 키에 해당하는 주소가 동일할 경우 충돌을 해결하기 위한 별도 자료구조가 필요함\n",
    "\n"
   ]
  },
  {
   "cell_type": "markdown",
   "metadata": {},
   "source": [
    "### 해쉬 예"
   ]
  },
  {
   "cell_type": "markdown",
   "metadata": {},
   "source": [
    "#### 3.1. hash table 만들기\n"
   ]
  },
  {
   "cell_type": "code",
   "execution_count": 1,
   "metadata": {},
   "outputs": [
    {
     "data": {
      "text/plain": [
       "[0, 1, 2, 3, 4, 5, 6, 7, 8, 9]"
      ]
     },
     "execution_count": 1,
     "metadata": {},
     "output_type": "execute_result"
    }
   ],
   "source": [
    "hash_table=list([i for i in range(10)])\n",
    "hash_table"
   ]
  },
  {
   "cell_type": "markdown",
   "metadata": {},
   "source": [
    "#### 3.2. 해쉬 만들기\n",
    "- division법(나누기를 통한 나머지 값을 사용하는 기법)"
   ]
  },
  {
   "cell_type": "code",
   "execution_count": 2,
   "metadata": {},
   "outputs": [],
   "source": [
    "def hash_func(key):\n",
    "    return key%8"
   ]
  },
  {
   "cell_type": "code",
   "execution_count": 3,
   "metadata": {},
   "outputs": [
    {
     "name": "stdout",
     "output_type": "stream",
     "text": [
      "65 68 84\n",
      "65 1\n",
      "65 65\n"
     ]
    }
   ],
   "source": [
    "data1='Andy'\n",
    "data2='Dave'\n",
    "data3='Trump'\n",
    "data4='Anthor'\n",
    "## ord():문자의 ASCII(아스키)코드 리턴\n",
    "print(ord(data1[0]), ord(data2[0]),ord(data3[0]))\n",
    "print(ord(data1[0]),hash_func(ord(data1[0])))\n",
    "print(ord(data1[0]),ord(data4[0]))"
   ]
  },
  {
   "cell_type": "markdown",
   "metadata": {},
   "source": [
    "#### 해쉬 테이블에 값 저장 예\n",
    "- data: value와 같이 data와 value를 넣으면, 해당 data에 대한 key를 찾아서, 해당 key에 대응하는 해쉬주소에 value를 저장하는 예"
   ]
  },
  {
   "cell_type": "code",
   "execution_count": 9,
   "metadata": {},
   "outputs": [],
   "source": [
    "def save_data(data, value):\n",
    "    key=ord(data[0])\n",
    "    hash_address=hash_func(key)\n",
    "    hash_table[hash_address]=value"
   ]
  },
  {
   "cell_type": "code",
   "execution_count": 10,
   "metadata": {},
   "outputs": [],
   "source": [
    "save_data('Andy', '01055553333')\n",
    "save_data('Dave', '01044443333')\n",
    "save_data('Trump', '01022223333')"
   ]
  },
  {
   "cell_type": "code",
   "execution_count": 11,
   "metadata": {},
   "outputs": [],
   "source": [
    "def get_data(data):\n",
    "    key=ord(data[0])\n",
    "    hash_address=hash_func(key)\n",
    "    return hash_table[hash_address]"
   ]
  },
  {
   "cell_type": "code",
   "execution_count": 12,
   "metadata": {},
   "outputs": [
    {
     "data": {
      "text/plain": [
       "'01055553333'"
      ]
     },
     "execution_count": 12,
     "metadata": {},
     "output_type": "execute_result"
    }
   ],
   "source": [
    "get_data('Andy')"
   ]
  },
  {
   "cell_type": "markdown",
   "metadata": {},
   "source": [
    "### 3. 해쉬 테이블의 장단점\n",
    "\n",
    "#### 장점\n",
    "\n",
    "- 데이터 저장/ 읽기 속도가 빠르다. (검색 속도가 빠르다.)\n",
    "\n",
    "- 해쉬는 키에 대한 데이터가 있는지(중복)확인이 쉽다.\n",
    "\n",
    "\n",
    "#### 단점\n",
    "\n",
    "- 저장공간이 좀 더 필요하다.\n",
    "\n",
    "- 여러 키에 해당하는 주소가 동일할 경우 충돌을 해결하기 위한 별도 자료구조가 필요함\n",
    "\n"
   ]
  },
  {
   "cell_type": "markdown",
   "metadata": {},
   "source": [
    "### 리스트 변수를 활용해서 해쉬 테이블 구현하기\n",
    "#### 1. 해쉬 함수:key%8\n",
    "#### 2. 해쉬 키 생성:hash(data)"
   ]
  },
  {
   "cell_type": "code",
   "execution_count": 16,
   "metadata": {},
   "outputs": [],
   "source": [
    "hash_talbe=list([0 for i in range(8)])\n",
    "\n",
    "def get_key(data):\n",
    "    return hash(data)\n",
    "\n",
    "def hash_func(key):\n",
    "    return key%8\n",
    "\n",
    "def save_data(data,value):\n",
    "    hash_address=hash_func(get_key(data))\n",
    "    hash_table[hash_address]=value\n",
    "    \n",
    "def read_data(data):\n",
    "    hash_address=hash_func(get_key(data))\n",
    "    return hash_table[hash_address]"
   ]
  },
  {
   "cell_type": "code",
   "execution_count": 17,
   "metadata": {},
   "outputs": [
    {
     "data": {
      "text/plain": [
       "'0102030200'"
      ]
     },
     "execution_count": 17,
     "metadata": {},
     "output_type": "execute_result"
    }
   ],
   "source": [
    "save_data('Dave','0102030200')\n",
    "save_data('Andy','01033232200')\n",
    "read_data('Dave')"
   ]
  },
  {
   "cell_type": "code",
   "execution_count": 18,
   "metadata": {},
   "outputs": [
    {
     "data": {
      "text/plain": [
       "['01033232200', '01033232200', 2, 3, '0102030200', 5, 6, '0102030200', 8, 9]"
      ]
     },
     "execution_count": 18,
     "metadata": {},
     "output_type": "execute_result"
    }
   ],
   "source": [
    "hash_table"
   ]
  },
  {
   "cell_type": "markdown",
   "metadata": {},
   "source": [
    "### Chaining기법\n",
    "- 개방 해슁 또는 Open Hashing 기법 중 하나: 해쉬 테이블 저장공간 외의 공간을 활용하는 기법\n",
    "- 충돌이 일어나면, 링크드 리스트라는 자료 구조를 사용해서, 링크드 리스트로 데이터를 추가로 뒤에 연결시켜 저장하는 기법"
   ]
  },
  {
   "cell_type": "code",
   "execution_count": 20,
   "metadata": {},
   "outputs": [],
   "source": [
    "hash_table=list([0 for i in range(8)])\n",
    "\n",
    "def get_key(data):\n",
    "    return hash(data)\n",
    "\n",
    "def hash_func(key):\n",
    "    return key%8\n",
    "\n",
    "def save_data(data,value):\n",
    "    index_key=get_key(data)\n",
    "    hash_address=hash_func(index_key)\n",
    "    if hash_table[hash_address]!=0:\n",
    "        for index in range(len(hash_table[hash_address])):\n",
    "            if hash_table[hash_address][index][0]==inedx_key:\n",
    "                hash_table[hash_address][index][1]=value\n",
    "                return\n",
    "        hsah_table[hash_address].append([index_key,value])\n",
    "    else:\n",
    "        hash_table[hash_address]=[[index_key,value]]\n",
    "\n",
    "def read_data(data):\n",
    "    index_key=get_key(data)\n",
    "    hash_address=hash_func(index_key)\n",
    "    \n",
    "    if hash_table[hash_address]!=0:\n",
    "        for index in range(len(hash_table[hash_address])):\n",
    "            if hash_table[hash_address][index][0]==index_key:\n",
    "                return hash_table[hash_address][index][1]\n",
    "            return None\n",
    "    else:\n",
    "        return None\n",
    "        "
   ]
  },
  {
   "cell_type": "code",
   "execution_count": 22,
   "metadata": {},
   "outputs": [
    {
     "name": "stdout",
     "output_type": "stream",
     "text": [
      "7\n",
      "6\n",
      "7\n"
     ]
    }
   ],
   "source": [
    "print(hash('Dave')%8)\n",
    "print(hash('Dd')%8)\n",
    "print(hash('Data')%8)"
   ]
  },
  {
   "cell_type": "code",
   "execution_count": null,
   "metadata": {},
   "outputs": [],
   "source": []
  }
 ],
 "metadata": {
  "kernelspec": {
   "display_name": "Python 3",
   "language": "python",
   "name": "python3"
  },
  "language_info": {
   "codemirror_mode": {
    "name": "ipython",
    "version": 3
   },
   "file_extension": ".py",
   "mimetype": "text/x-python",
   "name": "python",
   "nbconvert_exporter": "python",
   "pygments_lexer": "ipython3",
   "version": "3.8.5"
  }
 },
 "nbformat": 4,
 "nbformat_minor": 4
}

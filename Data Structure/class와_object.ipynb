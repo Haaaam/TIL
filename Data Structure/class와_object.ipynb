{
  "nbformat": 4,
  "nbformat_minor": 0,
  "metadata": {
    "colab": {
      "name": "class와 object.ipynb",
      "provenance": [],
      "collapsed_sections": []
    },
    "kernelspec": {
      "name": "python3",
      "display_name": "Python 3"
    },
    "language_info": {
      "name": "python"
    },
    "accelerator": "TPU"
  },
  "cells": [
    {
      "cell_type": "code",
      "metadata": {
        "id": "D8C_MPhSLSrH"
      },
      "source": [
        "class Quadrangle:\n",
        "  pass"
      ],
      "execution_count": 1,
      "outputs": []
    },
    {
      "cell_type": "code",
      "metadata": {
        "id": "q-RwgXJpM_4c"
      },
      "source": [
        "#pass: 아무것도 수행하지 않는 문법, 임시 코드 작성시 주로 사용\n",
        "class SingleWord:\n",
        "  pass\n"
      ],
      "execution_count": 3,
      "outputs": []
    },
    {
      "cell_type": "code",
      "metadata": {
        "colab": {
          "base_uri": "https://localhost:8080/"
        },
        "id": "VXDufqKANGft",
        "outputId": "dc42fb98-a06f-4db4-9e4f-aa3789578afa"
      },
      "source": [
        "dir(SingleWord)"
      ],
      "execution_count": 2,
      "outputs": [
        {
          "output_type": "execute_result",
          "data": {
            "text/plain": [
              "['__class__',\n",
              " '__delattr__',\n",
              " '__dict__',\n",
              " '__dir__',\n",
              " '__doc__',\n",
              " '__eq__',\n",
              " '__format__',\n",
              " '__ge__',\n",
              " '__getattribute__',\n",
              " '__gt__',\n",
              " '__hash__',\n",
              " '__init__',\n",
              " '__init_subclass__',\n",
              " '__le__',\n",
              " '__lt__',\n",
              " '__module__',\n",
              " '__ne__',\n",
              " '__new__',\n",
              " '__reduce__',\n",
              " '__reduce_ex__',\n",
              " '__repr__',\n",
              " '__setattr__',\n",
              " '__sizeof__',\n",
              " '__str__',\n",
              " '__subclasshook__',\n",
              " '__weakref__']"
            ]
          },
          "metadata": {
            "tags": []
          },
          "execution_count": 2
        }
      ]
    },
    {
      "cell_type": "code",
      "metadata": {
        "id": "oG71UIRQNH0c"
      },
      "source": [
        "class Quadrangle(object):\n",
        "  pass"
      ],
      "execution_count": 4,
      "outputs": []
    },
    {
      "cell_type": "code",
      "metadata": {
        "colab": {
          "base_uri": "https://localhost:8080/"
        },
        "id": "TmEVVO_5Ncgm",
        "outputId": "d1c91577-9e8a-42d3-817e-c32159009476"
      },
      "source": [
        "dir(Quadrangle)"
      ],
      "execution_count": 5,
      "outputs": [
        {
          "output_type": "execute_result",
          "data": {
            "text/plain": [
              "['__class__',\n",
              " '__delattr__',\n",
              " '__dict__',\n",
              " '__dir__',\n",
              " '__doc__',\n",
              " '__eq__',\n",
              " '__format__',\n",
              " '__ge__',\n",
              " '__getattribute__',\n",
              " '__gt__',\n",
              " '__hash__',\n",
              " '__init__',\n",
              " '__init_subclass__',\n",
              " '__le__',\n",
              " '__lt__',\n",
              " '__module__',\n",
              " '__ne__',\n",
              " '__new__',\n",
              " '__reduce__',\n",
              " '__reduce_ex__',\n",
              " '__repr__',\n",
              " '__setattr__',\n",
              " '__sizeof__',\n",
              " '__str__',\n",
              " '__subclasshook__',\n",
              " '__weakref__']"
            ]
          },
          "metadata": {
            "tags": []
          },
          "execution_count": 5
        }
      ]
    },
    {
      "cell_type": "code",
      "metadata": {
        "id": "tMMIOZrRNeH6"
      },
      "source": [
        "square=Quadrangle()\n",
        "dave=Quadrangle()"
      ],
      "execution_count": 6,
      "outputs": []
    },
    {
      "cell_type": "code",
      "metadata": {
        "id": "msOnkJKeNmVK"
      },
      "source": [
        "dave1=Quadrangle()"
      ],
      "execution_count": 8,
      "outputs": []
    },
    {
      "cell_type": "code",
      "metadata": {
        "colab": {
          "base_uri": "https://localhost:8080/"
        },
        "id": "xeYmgSqZNn59",
        "outputId": "c865c891-d8e6-4925-855b-8047cbc808d8"
      },
      "source": [
        "dir(dave)"
      ],
      "execution_count": 9,
      "outputs": [
        {
          "output_type": "execute_result",
          "data": {
            "text/plain": [
              "['__class__',\n",
              " '__delattr__',\n",
              " '__dict__',\n",
              " '__dir__',\n",
              " '__doc__',\n",
              " '__eq__',\n",
              " '__format__',\n",
              " '__ge__',\n",
              " '__getattribute__',\n",
              " '__gt__',\n",
              " '__hash__',\n",
              " '__init__',\n",
              " '__init_subclass__',\n",
              " '__le__',\n",
              " '__lt__',\n",
              " '__module__',\n",
              " '__ne__',\n",
              " '__new__',\n",
              " '__reduce__',\n",
              " '__reduce_ex__',\n",
              " '__repr__',\n",
              " '__setattr__',\n",
              " '__sizeof__',\n",
              " '__str__',\n",
              " '__subclasshook__',\n",
              " '__weakref__']"
            ]
          },
          "metadata": {
            "tags": []
          },
          "execution_count": 9
        }
      ]
    },
    {
      "cell_type": "code",
      "metadata": {
        "colab": {
          "base_uri": "https://localhost:8080/"
        },
        "id": "o4pz82TeNrhN",
        "outputId": "7a00e147-b7e6-4855-e308-58c2bf4b979e"
      },
      "source": [
        "#객체 square는 Quadranlge의 인스턴스\n",
        "type(square)"
      ],
      "execution_count": 10,
      "outputs": [
        {
          "output_type": "execute_result",
          "data": {
            "text/plain": [
              "__main__.Quadrangle"
            ]
          },
          "metadata": {
            "tags": []
          },
          "execution_count": 10
        }
      ]
    },
    {
      "cell_type": "code",
      "metadata": {
        "colab": {
          "base_uri": "https://localhost:8080/"
        },
        "id": "ceX3fybxNyiD",
        "outputId": "7648ce83-f510-4535-f8de-e46d7b42f25b"
      },
      "source": [
        "type(dave)"
      ],
      "execution_count": 14,
      "outputs": [
        {
          "output_type": "execute_result",
          "data": {
            "text/plain": [
              "__main__.Quadrangle"
            ]
          },
          "metadata": {
            "tags": []
          },
          "execution_count": 14
        }
      ]
    },
    {
      "cell_type": "code",
      "metadata": {
        "id": "1eKGBMJkN2VB"
      },
      "source": [
        "class Quadrangle:\n",
        "  width=0\n",
        "  height=0\n",
        "  color='black'"
      ],
      "execution_count": 15,
      "outputs": []
    },
    {
      "cell_type": "code",
      "metadata": {
        "id": "m1T6W8-9OBE2"
      },
      "source": [
        "class Dave:\n",
        "  data=0\n",
        "  name='dave'"
      ],
      "execution_count": 16,
      "outputs": []
    },
    {
      "cell_type": "code",
      "metadata": {
        "colab": {
          "base_uri": "https://localhost:8080/"
        },
        "id": "aP2NXWHsODNx",
        "outputId": "8cb83d5e-7311-43a4-b04f-eba376ef0573"
      },
      "source": [
        "dir(Dave)"
      ],
      "execution_count": 17,
      "outputs": [
        {
          "output_type": "execute_result",
          "data": {
            "text/plain": [
              "['__class__',\n",
              " '__delattr__',\n",
              " '__dict__',\n",
              " '__dir__',\n",
              " '__doc__',\n",
              " '__eq__',\n",
              " '__format__',\n",
              " '__ge__',\n",
              " '__getattribute__',\n",
              " '__gt__',\n",
              " '__hash__',\n",
              " '__init__',\n",
              " '__init_subclass__',\n",
              " '__le__',\n",
              " '__lt__',\n",
              " '__module__',\n",
              " '__ne__',\n",
              " '__new__',\n",
              " '__reduce__',\n",
              " '__reduce_ex__',\n",
              " '__repr__',\n",
              " '__setattr__',\n",
              " '__sizeof__',\n",
              " '__str__',\n",
              " '__subclasshook__',\n",
              " '__weakref__',\n",
              " 'data',\n",
              " 'name']"
            ]
          },
          "metadata": {
            "tags": []
          },
          "execution_count": 17
        }
      ]
    },
    {
      "cell_type": "code",
      "metadata": {
        "colab": {
          "base_uri": "https://localhost:8080/"
        },
        "id": "BaGcgVQxOG-y",
        "outputId": "b3750a14-7ead-4681-b2ef-e52a9e16db9e"
      },
      "source": [
        "dir(Quadrangle)"
      ],
      "execution_count": 18,
      "outputs": [
        {
          "output_type": "execute_result",
          "data": {
            "text/plain": [
              "['__class__',\n",
              " '__delattr__',\n",
              " '__dict__',\n",
              " '__dir__',\n",
              " '__doc__',\n",
              " '__eq__',\n",
              " '__format__',\n",
              " '__ge__',\n",
              " '__getattribute__',\n",
              " '__gt__',\n",
              " '__hash__',\n",
              " '__init__',\n",
              " '__init_subclass__',\n",
              " '__le__',\n",
              " '__lt__',\n",
              " '__module__',\n",
              " '__ne__',\n",
              " '__new__',\n",
              " '__reduce__',\n",
              " '__reduce_ex__',\n",
              " '__repr__',\n",
              " '__setattr__',\n",
              " '__sizeof__',\n",
              " '__str__',\n",
              " '__subclasshook__',\n",
              " '__weakref__',\n",
              " 'color',\n",
              " 'height',\n",
              " 'width']"
            ]
          },
          "metadata": {
            "tags": []
          },
          "execution_count": 18
        }
      ]
    },
    {
      "cell_type": "code",
      "metadata": {
        "id": "hfY_K7rEOJlY"
      },
      "source": [
        "square1=Quadrangle()\n",
        "square2=Quadrangle()"
      ],
      "execution_count": 20,
      "outputs": []
    },
    {
      "cell_type": "code",
      "metadata": {
        "id": "b2FaSLG7OOYn"
      },
      "source": [
        "dave_object=Dave()"
      ],
      "execution_count": 21,
      "outputs": []
    },
    {
      "cell_type": "code",
      "metadata": {
        "id": "MIXYpVR5ORF2"
      },
      "source": [
        "class Quadrangle:\n",
        "  width=0\n",
        "  hegiht=0\n",
        "  color='black'"
      ],
      "execution_count": 22,
      "outputs": []
    },
    {
      "cell_type": "code",
      "metadata": {
        "id": "Xof5asXLOWKc"
      },
      "source": [
        "square1=Quadrangle()\n",
        "square2=Quadrangle()"
      ],
      "execution_count": 23,
      "outputs": []
    },
    {
      "cell_type": "code",
      "metadata": {
        "colab": {
          "base_uri": "https://localhost:8080/",
          "height": 35
        },
        "id": "7EBrZllLOZ9O",
        "outputId": "8830b1bd-95be-44a4-987b-97d4e4620d26"
      },
      "source": [
        "square1.color"
      ],
      "execution_count": 24,
      "outputs": [
        {
          "output_type": "execute_result",
          "data": {
            "application/vnd.google.colaboratory.intrinsic+json": {
              "type": "string"
            },
            "text/plain": [
              "'black'"
            ]
          },
          "metadata": {
            "tags": []
          },
          "execution_count": 24
        }
      ]
    },
    {
      "cell_type": "code",
      "metadata": {
        "id": "N3AhmabiObKv"
      },
      "source": [
        "square2.color='red'"
      ],
      "execution_count": 25,
      "outputs": []
    },
    {
      "cell_type": "code",
      "metadata": {
        "colab": {
          "base_uri": "https://localhost:8080/",
          "height": 35
        },
        "id": "NfZ9AQpvOcpe",
        "outputId": "7de13a9e-eef9-4145-9929-53b587d61bf2"
      },
      "source": [
        "square1.color"
      ],
      "execution_count": 26,
      "outputs": [
        {
          "output_type": "execute_result",
          "data": {
            "application/vnd.google.colaboratory.intrinsic+json": {
              "type": "string"
            },
            "text/plain": [
              "'black'"
            ]
          },
          "metadata": {
            "tags": []
          },
          "execution_count": 26
        }
      ]
    },
    {
      "cell_type": "code",
      "metadata": {
        "colab": {
          "base_uri": "https://localhost:8080/",
          "height": 35
        },
        "id": "TYgZ24YrOet6",
        "outputId": "8eae2c97-9e2d-4838-8c24-eaa9f138ddad"
      },
      "source": [
        "square2.color"
      ],
      "execution_count": 27,
      "outputs": [
        {
          "output_type": "execute_result",
          "data": {
            "application/vnd.google.colaboratory.intrinsic+json": {
              "type": "string"
            },
            "text/plain": [
              "'red'"
            ]
          },
          "metadata": {
            "tags": []
          },
          "execution_count": 27
        }
      ]
    },
    {
      "cell_type": "code",
      "metadata": {
        "id": "hpNBnGdxOgL3"
      },
      "source": [
        "square1.height=5"
      ],
      "execution_count": 28,
      "outputs": []
    },
    {
      "cell_type": "code",
      "metadata": {
        "colab": {
          "base_uri": "https://localhost:8080/"
        },
        "id": "dc-i-vasOhyy",
        "outputId": "f4f82c28-6058-4d57-ae60-4d76a263205b"
      },
      "source": [
        "print(square1.height,square2.width)"
      ],
      "execution_count": 34,
      "outputs": [
        {
          "output_type": "stream",
          "text": [
            "5 0\n"
          ],
          "name": "stdout"
        }
      ]
    },
    {
      "cell_type": "code",
      "metadata": {
        "colab": {
          "base_uri": "https://localhost:8080/"
        },
        "id": "N9huANsOOlL_",
        "outputId": "c314ec6c-f014-4cc1-fb13-ebd2aaf76c82"
      },
      "source": [
        "class Dave:\n",
        "  width=0\n",
        "  height=0\n",
        "  color=''\n",
        "square1=Dave()\n",
        "square2=Dave()\n",
        "\n",
        "square1.width=10\n",
        "square1.height=5\n",
        "square1.color='red'\n",
        "\n",
        "square2.width=7\n",
        "square2.height=7\n",
        "square2.color='blue'\n",
        "\n",
        "print(square1.width,square1.height,square1.color)\n",
        "print(square2.width,square2.height,square2.color)"
      ],
      "execution_count": 35,
      "outputs": [
        {
          "output_type": "stream",
          "text": [
            "10 5 red\n",
            "7 7 blue\n"
          ],
          "name": "stdout"
        }
      ]
    },
    {
      "cell_type": "code",
      "metadata": {
        "id": "Mku3fk-IPNO-"
      },
      "source": [
        "class Quadrangle:\n",
        "  width=0\n",
        "  height=0\n",
        "  color='black'\n",
        "\n",
        "  def get_area(self):\n",
        "    return self.width * self.height"
      ],
      "execution_count": 36,
      "outputs": []
    },
    {
      "cell_type": "code",
      "metadata": {
        "id": "sh4iZrCJPXAV"
      },
      "source": [
        "class Quadrangle:\n",
        "  width=0\n",
        "  height=0\n",
        "  color='black'\n",
        "\n",
        "  def get_area(self):\n",
        "    return self.height*self.width\n",
        "  \n",
        "  def set_area(self,data1,data2):\n",
        "    self.width=data1\n",
        "    self.height=data2"
      ],
      "execution_count": 37,
      "outputs": []
    },
    {
      "cell_type": "code",
      "metadata": {
        "id": "mR-PwJ03PjSF"
      },
      "source": [
        "square=Quadrangle()\n",
        "square.set_area(5,5)"
      ],
      "execution_count": 38,
      "outputs": []
    },
    {
      "cell_type": "code",
      "metadata": {
        "colab": {
          "base_uri": "https://localhost:8080/"
        },
        "id": "jjU8gwrsPogE",
        "outputId": "0ab5f27b-0a3a-4f09-e89d-678a217091ba"
      },
      "source": [
        "square.width"
      ],
      "execution_count": 39,
      "outputs": [
        {
          "output_type": "execute_result",
          "data": {
            "text/plain": [
              "5"
            ]
          },
          "metadata": {
            "tags": []
          },
          "execution_count": 39
        }
      ]
    },
    {
      "cell_type": "code",
      "metadata": {
        "colab": {
          "base_uri": "https://localhost:8080/"
        },
        "id": "uR8elz5HPpV-",
        "outputId": "9d27b15f-54d5-432f-f0ea-9fbb9ed39aec"
      },
      "source": [
        "square.get_area()"
      ],
      "execution_count": 42,
      "outputs": [
        {
          "output_type": "execute_result",
          "data": {
            "text/plain": [
              "25"
            ]
          },
          "metadata": {
            "tags": []
          },
          "execution_count": 42
        }
      ]
    },
    {
      "cell_type": "code",
      "metadata": {
        "colab": {
          "base_uri": "https://localhost:8080/"
        },
        "id": "cRnqyCOrPt9r",
        "outputId": "ae8a84c0-18ce-4b34-b89b-b6b6a1706357"
      },
      "source": [
        "class Quadrangle:\n",
        "  width=0\n",
        "  height=0\n",
        "  color='black'\n",
        "\n",
        "  def get_area(self):\n",
        "    return self.width*self.height\n",
        "  \n",
        "  def set_area(self,data1,data2):\n",
        "    self.width=data1\n",
        "    self.height=data2\n",
        "  \n",
        "square1=Quadrangle()\n",
        "square2=Quadrangle()\n",
        "\n",
        "square1.set_area(10,5)\n",
        "square2.set_area(5,5)\n",
        "\n",
        "print(square1.get_area(),square2.get_area())"
      ],
      "execution_count": 44,
      "outputs": [
        {
          "output_type": "stream",
          "text": [
            "50 25\n"
          ],
          "name": "stdout"
        }
      ]
    },
    {
      "cell_type": "code",
      "metadata": {
        "colab": {
          "base_uri": "https://localhost:8080/"
        },
        "id": "RD_B8Xi0Rf72",
        "outputId": "7673d875-cef2-42fc-a5d1-89b649c8a1bf"
      },
      "source": [
        "class Quadrangle:\n",
        "  width=0\n",
        "  height=0\n",
        "  color='black'\n",
        "\n",
        "  def get_area(self):\n",
        "    return self.width*self.height\n",
        "\n",
        "  def set_area(self,data1,data2,data3):\n",
        "    self.width=data1\n",
        "    self.height=data2\n",
        "    self.color=data3\n",
        "\n",
        "square1=Quadrangle()\n",
        "square2=Quadrangle()\n",
        "\n",
        "square1.set_area(10,5,'red')\n",
        "square2.set_area(5,5,'blue')\n",
        "\n",
        "print(square1.get_area(),square2.get_area())"
      ],
      "execution_count": 46,
      "outputs": [
        {
          "output_type": "stream",
          "text": [
            "50 25\n"
          ],
          "name": "stdout"
        }
      ]
    },
    {
      "cell_type": "code",
      "metadata": {
        "id": "hJ8rgMypR9J2"
      },
      "source": [
        ""
      ],
      "execution_count": null,
      "outputs": []
    }
  ]
}
{
 "cells": [
  {
   "cell_type": "markdown",
   "metadata": {},
   "source": [
    "## 파이썬과 배열\n",
    "- 파이썬 리스트 활용"
   ]
  },
  {
   "cell_type": "code",
   "execution_count": 1,
   "metadata": {},
   "outputs": [
    {
     "name": "stdout",
     "output_type": "stream",
     "text": [
      "[1, 2, 3, 4, 5]\n"
     ]
    }
   ],
   "source": [
    "# 1차원 배열: 리스트로 구현시\n",
    "data=[1,2,3,4,5]\n",
    "print(data)"
   ]
  },
  {
   "cell_type": "code",
   "execution_count": 2,
   "metadata": {},
   "outputs": [
    {
     "name": "stdout",
     "output_type": "stream",
     "text": [
      "[[1, 2, 3], [4, 5, 6], [7, 8, 9]]\n"
     ]
    }
   ],
   "source": [
    "#2차원 배열: 리스트로 구현시\n",
    "data=[[1,2,3],[4,5,6],[7,8,9]]\n",
    "print(data)"
   ]
  },
  {
   "cell_type": "code",
   "execution_count": 3,
   "metadata": {},
   "outputs": [
    {
     "name": "stdout",
     "output_type": "stream",
     "text": [
      "[1, 2, 3]\n"
     ]
    }
   ],
   "source": [
    "print(data[0])"
   ]
  },
  {
   "cell_type": "code",
   "execution_count": 4,
   "metadata": {},
   "outputs": [
    {
     "name": "stdout",
     "output_type": "stream",
     "text": [
      "2\n"
     ]
    }
   ],
   "source": [
    "print(data[0][1])"
   ]
  },
  {
   "cell_type": "code",
   "execution_count": 5,
   "metadata": {},
   "outputs": [
    {
     "name": "stdout",
     "output_type": "stream",
     "text": [
      "7\n",
      "8\n",
      "9\n"
     ]
    }
   ],
   "source": [
    "print(data[2][0])\n",
    "print(data[2][1])\n",
    "print(data[2][2])"
   ]
  },
  {
   "cell_type": "markdown",
   "metadata": {},
   "source": [
    "## 3. 프로그래밍 연습\n",
    "##### 연습1: 위의 2차원 배열에서 9,8,7 순서로 출력해보기"
   ]
  },
  {
   "cell_type": "code",
   "execution_count": 10,
   "metadata": {},
   "outputs": [
    {
     "name": "stdout",
     "output_type": "stream",
     "text": [
      "9\n",
      "8\n",
      "7\n"
     ]
    }
   ],
   "source": [
    "for i in range(len(data[2])-1,-1,-1):\n",
    "    print(data[2][i])"
   ]
  },
  {
   "cell_type": "markdown",
   "metadata": {},
   "source": [
    "##### 연습2: 다음 dataset에서 전체 이름 안에 M이 몇번 나왔는지 빈도수 출력하기\n"
   ]
  },
  {
   "cell_type": "code",
   "execution_count": 11,
   "metadata": {},
   "outputs": [],
   "source": [
    "dataset = ['Braund, Mr. Owen Harris',\n",
    "'Cumings, Mrs. John Bradley (Florence Briggs Thayer)',\n",
    "'Heikkinen, Miss. Laina',\n",
    "'Futrelle, Mrs. Jacques Heath (Lily May Peel)',\n",
    "'Allen, Mr. William Henry',\n",
    "'Moran, Mr. James',\n",
    "'McCarthy, Mr. Timothy J',\n",
    "'Palsson, Master. Gosta Leonard',\n",
    "'Johnson, Mrs. Oscar W (Elisabeth Vilhelmina Berg)',\n",
    "'Nasser, Mrs. Nicholas (Adele Achem)',\n",
    "'Sandstrom, Miss. Marguerite Rut',\n",
    "'Bonnell, Miss. Elizabeth',\n",
    "'Saundercock, Mr. William Henry',\n",
    "'Andersson, Mr. Anders Johan',\n",
    "'Vestrom, Miss. Hulda Amanda Adolfina',\n",
    "'Hewlett, Mrs. (Mary D Kingcome) ',\n",
    "'Rice, Master. Eugene',\n",
    "'Williams, Mr. Charles Eugene',\n",
    "'Vander Planke, Mrs. Julius (Emelia Maria Vandemoortele)',\n",
    "'Masselmani, Mrs. Fatima',\n",
    "'Fynney, Mr. Joseph J',\n",
    "'Beesley, Mr. Lawrence',\n",
    "'McGowan, Miss. Anna \"Annie\"',\n",
    "'Sloper, Mr. William Thompson',\n",
    "'Palsson, Miss. Torborg Danira',\n",
    "'Asplund, Mrs. Carl Oscar (Selma Augusta Emilia Johansson)',\n",
    "'Emir, Mr. Farred Chehab',\n",
    "'Fortune, Mr. Charles Alexander',\n",
    "'Dwyer, Miss. Ellen \"Nellie\"',\n",
    "'Todoroff, Mr. Lalio']"
   ]
  },
  {
   "cell_type": "code",
   "execution_count": 14,
   "metadata": {},
   "outputs": [
    {
     "name": "stdout",
     "output_type": "stream",
     "text": [
      "38\n"
     ]
    }
   ],
   "source": [
    "cnt=0\n",
    "for dt in dataset:\n",
    "    for index in range(len(dt)):\n",
    "        if dt[index]=='M':\n",
    "            cnt+=1\n",
    "print(cnt)        "
   ]
  },
  {
   "cell_type": "markdown",
   "metadata": {},
   "source": [
    "### 대표적인 데이터 구조4: 큐(Queue)\n",
    "1. 큐구조\n",
    "- 가장 먼저 넣은 데이터를 가장 먼저 꺼낼 수 있는 구조\n",
    "  - 줄 서는 것과 유사\n",
    "  - FIFO(First-In, First-Out) 또는 LILO(Last-in, Last-Out)방식\n",
    "  \n",
    "2. 용어\n",
    "- Enqueue:큐에 데이터를 넣는 기능\n",
    "- Dequeue:큐에 데이터를 꺼내는 기능"
   ]
  },
  {
   "cell_type": "markdown",
   "metadata": {},
   "source": [
    "Queue()로 큐 만들기(가장 일반적인 큐, FIFO(First-in,First-Out))\n",
    "- put\n",
    "- get"
   ]
  },
  {
   "cell_type": "code",
   "execution_count": 15,
   "metadata": {},
   "outputs": [],
   "source": [
    "import queue\n",
    "data_queue=queue.Queue()"
   ]
  },
  {
   "cell_type": "code",
   "execution_count": 19,
   "metadata": {},
   "outputs": [
    {
     "name": "stdout",
     "output_type": "stream",
     "text": [
      "1\n",
      "2\n"
     ]
    }
   ],
   "source": [
    "for i in range(2):\n",
    "    data_queue.put(int(input()))"
   ]
  },
  {
   "cell_type": "code",
   "execution_count": 20,
   "metadata": {},
   "outputs": [
    {
     "data": {
      "text/plain": [
       "3"
      ]
     },
     "execution_count": 20,
     "metadata": {},
     "output_type": "execute_result"
    }
   ],
   "source": [
    "data_queue.qsize()"
   ]
  },
  {
   "cell_type": "code",
   "execution_count": 21,
   "metadata": {},
   "outputs": [
    {
     "data": {
      "text/plain": [
       "1"
      ]
     },
     "execution_count": 21,
     "metadata": {},
     "output_type": "execute_result"
    }
   ],
   "source": [
    "data_queue.get()"
   ]
  },
  {
   "cell_type": "code",
   "execution_count": 22,
   "metadata": {},
   "outputs": [
    {
     "data": {
      "text/plain": [
       "1"
      ]
     },
     "execution_count": 22,
     "metadata": {},
     "output_type": "execute_result"
    }
   ],
   "source": [
    "data_queue.get()"
   ]
  },
  {
   "cell_type": "code",
   "execution_count": 23,
   "metadata": {},
   "outputs": [
    {
     "data": {
      "text/plain": [
       "2"
      ]
     },
     "execution_count": 23,
     "metadata": {},
     "output_type": "execute_result"
    }
   ],
   "source": [
    "data_queue.get()"
   ]
  },
  {
   "cell_type": "code",
   "execution_count": 24,
   "metadata": {},
   "outputs": [
    {
     "data": {
      "text/plain": [
       "0"
      ]
     },
     "execution_count": 24,
     "metadata": {},
     "output_type": "execute_result"
    }
   ],
   "source": [
    "data_queue.qsize()"
   ]
  },
  {
   "cell_type": "markdown",
   "metadata": {},
   "source": [
    "LifoQueue()로 큐 만들기 (LIFO(Last-In, Last-Out))"
   ]
  },
  {
   "cell_type": "code",
   "execution_count": 1,
   "metadata": {},
   "outputs": [],
   "source": [
    "import queue\n",
    "data_queue=queue.LifoQueue()\n"
   ]
  },
  {
   "cell_type": "code",
   "execution_count": 2,
   "metadata": {},
   "outputs": [
    {
     "name": "stdout",
     "output_type": "stream",
     "text": [
      "4\n",
      "Bye\n",
      "2020\n",
      "Hello\n",
      "2021\n"
     ]
    }
   ],
   "source": [
    "for i in range(int(input())):\n",
    "    data_queue.put(input())\n"
   ]
  },
  {
   "cell_type": "code",
   "execution_count": 3,
   "metadata": {},
   "outputs": [
    {
     "data": {
      "text/plain": [
       "4"
      ]
     },
     "execution_count": 3,
     "metadata": {},
     "output_type": "execute_result"
    }
   ],
   "source": [
    "data_queue.qsize()"
   ]
  },
  {
   "cell_type": "code",
   "execution_count": 4,
   "metadata": {},
   "outputs": [
    {
     "data": {
      "text/plain": [
       "'2021'"
      ]
     },
     "execution_count": 4,
     "metadata": {},
     "output_type": "execute_result"
    }
   ],
   "source": [
    "data_queue.get()"
   ]
  },
  {
   "cell_type": "code",
   "execution_count": 5,
   "metadata": {},
   "outputs": [
    {
     "data": {
      "text/plain": [
       "'Hello'"
      ]
     },
     "execution_count": 5,
     "metadata": {},
     "output_type": "execute_result"
    }
   ],
   "source": [
    "data_queue.get()"
   ]
  },
  {
   "cell_type": "markdown",
   "metadata": {},
   "source": [
    "PriorityQueue[]로 큐 만들기\n",
    "- 데이터의 우선순위도 같이 매겨서 대입해야 한다."
   ]
  },
  {
   "cell_type": "code",
   "execution_count": 6,
   "metadata": {},
   "outputs": [],
   "source": [
    "import queue\n",
    "\n",
    "data_queue=queue.PriorityQueue()"
   ]
  },
  {
   "cell_type": "code",
   "execution_count": 12,
   "metadata": {},
   "outputs": [],
   "source": [
    "data_queue.put((10,\"Hello\"))\n",
    "data_queue.put((1,\"Bye\"))\n",
    "data_queue.put((5,1))"
   ]
  },
  {
   "cell_type": "code",
   "execution_count": 13,
   "metadata": {},
   "outputs": [
    {
     "data": {
      "text/plain": [
       "5"
      ]
     },
     "execution_count": 13,
     "metadata": {},
     "output_type": "execute_result"
    }
   ],
   "source": [
    "data_queue.qsize()"
   ]
  },
  {
   "cell_type": "code",
   "execution_count": 14,
   "metadata": {},
   "outputs": [
    {
     "data": {
      "text/plain": [
       "(1, 'Bye')"
      ]
     },
     "execution_count": 14,
     "metadata": {},
     "output_type": "execute_result"
    }
   ],
   "source": [
    "data_queue.get()"
   ]
  },
  {
   "cell_type": "markdown",
   "metadata": {},
   "source": [
    "참고: 어디에 큐가 많이 쓰일까?\n",
    "- 멀티 태스킹을 위한 프로세스 스케쥴링 방식을 구현하기 위해 많이 사용된(운영체제 참조)\n",
    " \n",
    " 큐의 경우에는 장단점 보다는(특별히 언급되는 장단점이 없음), 큐의 활용 예로 프로세스 스케쥴링 방식을 함께 이해해두는 것이 좋음"
   ]
  },
  {
   "cell_type": "code",
   "execution_count": 17,
   "metadata": {},
   "outputs": [],
   "source": [
    "queue_list=list()\n",
    "def enqueue(data):\n",
    "    queue_list.append(data)\n",
    "\n",
    "def dequeue():\n",
    "    data=queue_list[0]\n",
    "    del queue_list[0]\n",
    "    return data\n",
    "\n"
   ]
  },
  {
   "cell_type": "code",
   "execution_count": 21,
   "metadata": {},
   "outputs": [],
   "source": [
    "for i in range(10):\n",
    "    enqueue(i)"
   ]
  },
  {
   "cell_type": "code",
   "execution_count": 22,
   "metadata": {},
   "outputs": [
    {
     "data": {
      "text/plain": [
       "20"
      ]
     },
     "execution_count": 22,
     "metadata": {},
     "output_type": "execute_result"
    }
   ],
   "source": [
    "len(queue_list)"
   ]
  },
  {
   "cell_type": "code",
   "execution_count": 24,
   "metadata": {},
   "outputs": [
    {
     "data": {
      "text/plain": [
       "1"
      ]
     },
     "execution_count": 24,
     "metadata": {},
     "output_type": "execute_result"
    }
   ],
   "source": [
    "dequeue()"
   ]
  },
  {
   "cell_type": "markdown",
   "metadata": {},
   "source": [
    "### 스택(stack)\n",
    "- 가장 나중에 쌓은 데이터를 가장 먼저 빼낼 수 있는 데이터 구조\n",
    " - 큐:FIFO, 스택: LIFO"
   ]
  },
  {
   "cell_type": "markdown",
   "metadata": {},
   "source": [
    "1. 스택 구조\n",
    "- 스택은 LIFO\n",
    "- 주요 기능\n",
    "   - push(): 데이터를 스택에 넣기\n",
    "   - pop(): 데이터 스택에서 꺼내기"
   ]
  },
  {
   "cell_type": "code",
   "execution_count": 30,
   "metadata": {},
   "outputs": [],
   "source": [
    "def recursive(data):\n",
    "    if data<0:\n",
    "        print(\"ended\")\n",
    "    else:\n",
    "        print(data)\n",
    "        recursive(data-1)\n",
    "        print(\"returned\",data)"
   ]
  },
  {
   "cell_type": "code",
   "execution_count": 31,
   "metadata": {},
   "outputs": [
    {
     "name": "stdout",
     "output_type": "stream",
     "text": [
      "4\n",
      "3\n",
      "2\n",
      "1\n",
      "0\n",
      "ended\n",
      "returned 0\n",
      "returned 1\n",
      "returned 2\n",
      "returned 3\n",
      "returned 4\n"
     ]
    }
   ],
   "source": [
    "recursive(4)"
   ]
  },
  {
   "cell_type": "markdown",
   "metadata": {},
   "source": [
    "#### 자료 구조 스택의 장단점\n",
    "- 장점\n",
    " - 구조가 단순해서, 구현이 쉽다.\n",
    " - 데이터 저장/읽기 속도가 빠르다.\n",
    " \n",
    "- 단점(일반적인 스택 구현시)\n",
    " - 데이터의 최대 갯수를 미리 정해야한다."
   ]
  },
  {
   "cell_type": "markdown",
   "metadata": {},
   "source": [
    "파이썬 리스트 기능에서 제공하는 메서드로 스택 사용\n",
    "- append, pop 메서드 제공"
   ]
  },
  {
   "cell_type": "code",
   "execution_count": 33,
   "metadata": {},
   "outputs": [
    {
     "data": {
      "text/plain": [
       "[1, 2]"
      ]
     },
     "execution_count": 33,
     "metadata": {},
     "output_type": "execute_result"
    }
   ],
   "source": [
    "data_stack=list()\n",
    "\n",
    "data_stack.append(1)\n",
    "data_stack.append(2)\n",
    "\n",
    "data_stack"
   ]
  },
  {
   "cell_type": "code",
   "execution_count": 34,
   "metadata": {},
   "outputs": [
    {
     "data": {
      "text/plain": [
       "2"
      ]
     },
     "execution_count": 34,
     "metadata": {},
     "output_type": "execute_result"
    }
   ],
   "source": [
    "data_stack.pop()"
   ]
  },
  {
   "cell_type": "markdown",
   "metadata": {},
   "source": [
    "####  프로그래밍 연습"
   ]
  },
  {
   "cell_type": "code",
   "execution_count": 43,
   "metadata": {},
   "outputs": [],
   "source": [
    "stack_list=list()\n",
    "def push(data):\n",
    "    stack_list.append(data)\n",
    "def pop():\n",
    "    data=stack_list[-1]\n",
    "    del stack_list[-1]\n",
    "    return data"
   ]
  },
  {
   "cell_type": "code",
   "execution_count": 44,
   "metadata": {},
   "outputs": [],
   "source": [
    "for i in range(4):\n",
    "    push(i)\n"
   ]
  },
  {
   "cell_type": "code",
   "execution_count": 45,
   "metadata": {},
   "outputs": [
    {
     "data": {
      "text/plain": [
       "3"
      ]
     },
     "execution_count": 45,
     "metadata": {},
     "output_type": "execute_result"
    }
   ],
   "source": [
    "pop()"
   ]
  },
  {
   "cell_type": "code",
   "execution_count": null,
   "metadata": {},
   "outputs": [],
   "source": []
  }
 ],
 "metadata": {
  "kernelspec": {
   "display_name": "Python 3",
   "language": "python",
   "name": "python3"
  },
  "language_info": {
   "codemirror_mode": {
    "name": "ipython",
    "version": 3
   },
   "file_extension": ".py",
   "mimetype": "text/x-python",
   "name": "python",
   "nbconvert_exporter": "python",
   "pygments_lexer": "ipython3",
   "version": "3.8.5"
  }
 },
 "nbformat": 4,
 "nbformat_minor": 4
}

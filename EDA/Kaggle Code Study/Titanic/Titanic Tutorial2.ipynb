{
 "cells": [
  {
   "cell_type": "code",
   "execution_count": 124,
   "metadata": {},
   "outputs": [
    {
     "data": {
      "text/html": [
       "        <script type=\"text/javascript\">\n",
       "        window.PlotlyConfig = {MathJaxConfig: 'local'};\n",
       "        if (window.MathJax) {MathJax.Hub.Config({SVG: {font: \"STIX-Web\"}});}\n",
       "        if (typeof require !== 'undefined') {\n",
       "        require.undef(\"plotly\");\n",
       "        requirejs.config({\n",
       "            paths: {\n",
       "                'plotly': ['https://cdn.plot.ly/plotly-latest.min']\n",
       "            }\n",
       "        });\n",
       "        require(['plotly'], function(Plotly) {\n",
       "            window._Plotly = Plotly;\n",
       "        });\n",
       "        }\n",
       "        </script>\n",
       "        "
      ]
     },
     "metadata": {},
     "output_type": "display_data"
    }
   ],
   "source": [
    "import pandas as pd\n",
    "import numpy as np\n",
    "import seaborn as sns\n",
    "from pandas import Series\n",
    "import matplotlib.pyplot as plt\n",
    "\n",
    "import plotly.offline as py\n",
    "py.init_notebook_mode(connected=True)\n",
    "import plotly.graph_objs as go\n",
    "import plotly.tools as tls\n",
    "\n",
    "import warnings \n",
    "warnings.filterwarnings('ignore')\n",
    "\n",
    "%matplotlib inline\n",
    "\n",
    "df_train=pd.read_csv('./data/train.csv')\n",
    "df_test=pd.read_csv('./data/test.csv')\n",
    "df_train['FamilySize']=df_train['SibSp']+df_train['Parch']+1\n",
    "df_test['FamilySize']=df_test['SibSp']+df_test['Parch']+1\n",
    "\n",
    "df_test.loc[df_test.Fare.isnull(),'Fare']=df_test['Fare'].mean()\n",
    "\n",
    "df_train['Fare']=df_train['Fare'].map(lambda i: np.log(i) if i>0 else 0)\n",
    "df_test['Fare']=df_test['Fare'].map(lambda i : np.log(i) if i >0 else 0)\n"
   ]
  },
  {
   "cell_type": "markdown",
   "metadata": {},
   "source": [
    "### 3, Feature Engineering\n",
    "- null값 채우기\n"
   ]
  },
  {
   "cell_type": "markdown",
   "metadata": {},
   "source": [
    " ### 3.1 Fill Null"
   ]
  },
  {
   "cell_type": "code",
   "execution_count": 125,
   "metadata": {},
   "outputs": [],
   "source": [
    "# 이름의 title(Mr, Miss, Mrs 등) 추출\n",
    "df_train['Initial']=df_train.Name.str.extract('([A-Za-z]+)\\.')\n",
    "df_test['Initial']=df_test.Name.str.extract('([A-Za-z]+)\\.')"
   ]
  },
  {
   "cell_type": "code",
   "execution_count": 127,
   "metadata": {},
   "outputs": [
    {
     "data": {
      "text/html": [
       "<style  type=\"text/css\" >\n",
       "#T_15bc98cf_a69a_11eb_8689_1002b5c218a1row0_col0,#T_15bc98cf_a69a_11eb_8689_1002b5c218a1row0_col1,#T_15bc98cf_a69a_11eb_8689_1002b5c218a1row0_col3,#T_15bc98cf_a69a_11eb_8689_1002b5c218a1row0_col4,#T_15bc98cf_a69a_11eb_8689_1002b5c218a1row0_col5,#T_15bc98cf_a69a_11eb_8689_1002b5c218a1row0_col7,#T_15bc98cf_a69a_11eb_8689_1002b5c218a1row0_col8,#T_15bc98cf_a69a_11eb_8689_1002b5c218a1row0_col12,#T_15bc98cf_a69a_11eb_8689_1002b5c218a1row0_col15,#T_15bc98cf_a69a_11eb_8689_1002b5c218a1row0_col16,#T_15bc98cf_a69a_11eb_8689_1002b5c218a1row1_col2,#T_15bc98cf_a69a_11eb_8689_1002b5c218a1row1_col6,#T_15bc98cf_a69a_11eb_8689_1002b5c218a1row1_col9,#T_15bc98cf_a69a_11eb_8689_1002b5c218a1row1_col10,#T_15bc98cf_a69a_11eb_8689_1002b5c218a1row1_col11,#T_15bc98cf_a69a_11eb_8689_1002b5c218a1row1_col13,#T_15bc98cf_a69a_11eb_8689_1002b5c218a1row1_col14{\n",
       "            background-color:  #ffff66;\n",
       "            color:  #000000;\n",
       "        }#T_15bc98cf_a69a_11eb_8689_1002b5c218a1row0_col2,#T_15bc98cf_a69a_11eb_8689_1002b5c218a1row0_col6,#T_15bc98cf_a69a_11eb_8689_1002b5c218a1row0_col9,#T_15bc98cf_a69a_11eb_8689_1002b5c218a1row0_col10,#T_15bc98cf_a69a_11eb_8689_1002b5c218a1row0_col11,#T_15bc98cf_a69a_11eb_8689_1002b5c218a1row0_col13,#T_15bc98cf_a69a_11eb_8689_1002b5c218a1row0_col14,#T_15bc98cf_a69a_11eb_8689_1002b5c218a1row1_col0,#T_15bc98cf_a69a_11eb_8689_1002b5c218a1row1_col1,#T_15bc98cf_a69a_11eb_8689_1002b5c218a1row1_col3,#T_15bc98cf_a69a_11eb_8689_1002b5c218a1row1_col4,#T_15bc98cf_a69a_11eb_8689_1002b5c218a1row1_col5,#T_15bc98cf_a69a_11eb_8689_1002b5c218a1row1_col7,#T_15bc98cf_a69a_11eb_8689_1002b5c218a1row1_col8,#T_15bc98cf_a69a_11eb_8689_1002b5c218a1row1_col12,#T_15bc98cf_a69a_11eb_8689_1002b5c218a1row1_col15,#T_15bc98cf_a69a_11eb_8689_1002b5c218a1row1_col16{\n",
       "            background-color:  #008066;\n",
       "            color:  #f1f1f1;\n",
       "        }</style><table id=\"T_15bc98cf_a69a_11eb_8689_1002b5c218a1\" ><thead>    <tr>        <th class=\"index_name level0\" >Initial</th>        <th class=\"col_heading level0 col0\" >Capt</th>        <th class=\"col_heading level0 col1\" >Col</th>        <th class=\"col_heading level0 col2\" >Countess</th>        <th class=\"col_heading level0 col3\" >Don</th>        <th class=\"col_heading level0 col4\" >Dr</th>        <th class=\"col_heading level0 col5\" >Jonkheer</th>        <th class=\"col_heading level0 col6\" >Lady</th>        <th class=\"col_heading level0 col7\" >Major</th>        <th class=\"col_heading level0 col8\" >Master</th>        <th class=\"col_heading level0 col9\" >Miss</th>        <th class=\"col_heading level0 col10\" >Mlle</th>        <th class=\"col_heading level0 col11\" >Mme</th>        <th class=\"col_heading level0 col12\" >Mr</th>        <th class=\"col_heading level0 col13\" >Mrs</th>        <th class=\"col_heading level0 col14\" >Ms</th>        <th class=\"col_heading level0 col15\" >Rev</th>        <th class=\"col_heading level0 col16\" >Sir</th>    </tr>    <tr>        <th class=\"index_name level0\" >Sex</th>        <th class=\"blank\" ></th>        <th class=\"blank\" ></th>        <th class=\"blank\" ></th>        <th class=\"blank\" ></th>        <th class=\"blank\" ></th>        <th class=\"blank\" ></th>        <th class=\"blank\" ></th>        <th class=\"blank\" ></th>        <th class=\"blank\" ></th>        <th class=\"blank\" ></th>        <th class=\"blank\" ></th>        <th class=\"blank\" ></th>        <th class=\"blank\" ></th>        <th class=\"blank\" ></th>        <th class=\"blank\" ></th>        <th class=\"blank\" ></th>        <th class=\"blank\" ></th>    </tr></thead><tbody>\n",
       "                <tr>\n",
       "                        <th id=\"T_15bc98cf_a69a_11eb_8689_1002b5c218a1level0_row0\" class=\"row_heading level0 row0\" >female</th>\n",
       "                        <td id=\"T_15bc98cf_a69a_11eb_8689_1002b5c218a1row0_col0\" class=\"data row0 col0\" >0</td>\n",
       "                        <td id=\"T_15bc98cf_a69a_11eb_8689_1002b5c218a1row0_col1\" class=\"data row0 col1\" >0</td>\n",
       "                        <td id=\"T_15bc98cf_a69a_11eb_8689_1002b5c218a1row0_col2\" class=\"data row0 col2\" >1</td>\n",
       "                        <td id=\"T_15bc98cf_a69a_11eb_8689_1002b5c218a1row0_col3\" class=\"data row0 col3\" >0</td>\n",
       "                        <td id=\"T_15bc98cf_a69a_11eb_8689_1002b5c218a1row0_col4\" class=\"data row0 col4\" >1</td>\n",
       "                        <td id=\"T_15bc98cf_a69a_11eb_8689_1002b5c218a1row0_col5\" class=\"data row0 col5\" >0</td>\n",
       "                        <td id=\"T_15bc98cf_a69a_11eb_8689_1002b5c218a1row0_col6\" class=\"data row0 col6\" >1</td>\n",
       "                        <td id=\"T_15bc98cf_a69a_11eb_8689_1002b5c218a1row0_col7\" class=\"data row0 col7\" >0</td>\n",
       "                        <td id=\"T_15bc98cf_a69a_11eb_8689_1002b5c218a1row0_col8\" class=\"data row0 col8\" >0</td>\n",
       "                        <td id=\"T_15bc98cf_a69a_11eb_8689_1002b5c218a1row0_col9\" class=\"data row0 col9\" >182</td>\n",
       "                        <td id=\"T_15bc98cf_a69a_11eb_8689_1002b5c218a1row0_col10\" class=\"data row0 col10\" >2</td>\n",
       "                        <td id=\"T_15bc98cf_a69a_11eb_8689_1002b5c218a1row0_col11\" class=\"data row0 col11\" >1</td>\n",
       "                        <td id=\"T_15bc98cf_a69a_11eb_8689_1002b5c218a1row0_col12\" class=\"data row0 col12\" >0</td>\n",
       "                        <td id=\"T_15bc98cf_a69a_11eb_8689_1002b5c218a1row0_col13\" class=\"data row0 col13\" >125</td>\n",
       "                        <td id=\"T_15bc98cf_a69a_11eb_8689_1002b5c218a1row0_col14\" class=\"data row0 col14\" >1</td>\n",
       "                        <td id=\"T_15bc98cf_a69a_11eb_8689_1002b5c218a1row0_col15\" class=\"data row0 col15\" >0</td>\n",
       "                        <td id=\"T_15bc98cf_a69a_11eb_8689_1002b5c218a1row0_col16\" class=\"data row0 col16\" >0</td>\n",
       "            </tr>\n",
       "            <tr>\n",
       "                        <th id=\"T_15bc98cf_a69a_11eb_8689_1002b5c218a1level0_row1\" class=\"row_heading level0 row1\" >male</th>\n",
       "                        <td id=\"T_15bc98cf_a69a_11eb_8689_1002b5c218a1row1_col0\" class=\"data row1 col0\" >1</td>\n",
       "                        <td id=\"T_15bc98cf_a69a_11eb_8689_1002b5c218a1row1_col1\" class=\"data row1 col1\" >2</td>\n",
       "                        <td id=\"T_15bc98cf_a69a_11eb_8689_1002b5c218a1row1_col2\" class=\"data row1 col2\" >0</td>\n",
       "                        <td id=\"T_15bc98cf_a69a_11eb_8689_1002b5c218a1row1_col3\" class=\"data row1 col3\" >1</td>\n",
       "                        <td id=\"T_15bc98cf_a69a_11eb_8689_1002b5c218a1row1_col4\" class=\"data row1 col4\" >6</td>\n",
       "                        <td id=\"T_15bc98cf_a69a_11eb_8689_1002b5c218a1row1_col5\" class=\"data row1 col5\" >1</td>\n",
       "                        <td id=\"T_15bc98cf_a69a_11eb_8689_1002b5c218a1row1_col6\" class=\"data row1 col6\" >0</td>\n",
       "                        <td id=\"T_15bc98cf_a69a_11eb_8689_1002b5c218a1row1_col7\" class=\"data row1 col7\" >2</td>\n",
       "                        <td id=\"T_15bc98cf_a69a_11eb_8689_1002b5c218a1row1_col8\" class=\"data row1 col8\" >40</td>\n",
       "                        <td id=\"T_15bc98cf_a69a_11eb_8689_1002b5c218a1row1_col9\" class=\"data row1 col9\" >0</td>\n",
       "                        <td id=\"T_15bc98cf_a69a_11eb_8689_1002b5c218a1row1_col10\" class=\"data row1 col10\" >0</td>\n",
       "                        <td id=\"T_15bc98cf_a69a_11eb_8689_1002b5c218a1row1_col11\" class=\"data row1 col11\" >0</td>\n",
       "                        <td id=\"T_15bc98cf_a69a_11eb_8689_1002b5c218a1row1_col12\" class=\"data row1 col12\" >517</td>\n",
       "                        <td id=\"T_15bc98cf_a69a_11eb_8689_1002b5c218a1row1_col13\" class=\"data row1 col13\" >0</td>\n",
       "                        <td id=\"T_15bc98cf_a69a_11eb_8689_1002b5c218a1row1_col14\" class=\"data row1 col14\" >0</td>\n",
       "                        <td id=\"T_15bc98cf_a69a_11eb_8689_1002b5c218a1row1_col15\" class=\"data row1 col15\" >6</td>\n",
       "                        <td id=\"T_15bc98cf_a69a_11eb_8689_1002b5c218a1row1_col16\" class=\"data row1 col16\" >1</td>\n",
       "            </tr>\n",
       "    </tbody></table>"
      ],
      "text/plain": [
       "<pandas.io.formats.style.Styler at 0x1b449c67340>"
      ]
     },
     "execution_count": 127,
     "metadata": {},
     "output_type": "execute_result"
    }
   ],
   "source": [
    "pd.crosstab(df_train['Initial'],df_train['Sex']).T.style.background_gradient(cmap='summer_r')"
   ]
  },
  {
   "cell_type": "code",
   "execution_count": 129,
   "metadata": {},
   "outputs": [],
   "source": [
    "df_train['Initial'].replace(['Mlle','Mme','Ms','Dr','Major','Lady','Countess','Jonkheer','Col','Rev','Capt','Sir','Don','Dona'],\n",
    "                           ['Miss','Miss','Miss','Mr','Mr','Mrs','Mrs','Other','Other','Other','Mr','Mr','Mr','Mr'],inplace=True)\n",
    "df_test['Initial'].replace(['Mlle','Mme','Ms','Dr','Major','Lady','Countess','Jonkheer','Col','Rev','Capt','Sir','Don','Dona'],\n",
    "                           ['Miss','Miss','Miss','Mr','Mr','Mrs','Mrs','Other','Other','Other','Mr','Mr','Mr','Mr'],inplace=True)"
   ]
  },
  {
   "cell_type": "code",
   "execution_count": 131,
   "metadata": {},
   "outputs": [
    {
     "data": {
      "text/html": [
       "<div>\n",
       "<style scoped>\n",
       "    .dataframe tbody tr th:only-of-type {\n",
       "        vertical-align: middle;\n",
       "    }\n",
       "\n",
       "    .dataframe tbody tr th {\n",
       "        vertical-align: top;\n",
       "    }\n",
       "\n",
       "    .dataframe thead th {\n",
       "        text-align: right;\n",
       "    }\n",
       "</style>\n",
       "<table border=\"1\" class=\"dataframe\">\n",
       "  <thead>\n",
       "    <tr style=\"text-align: right;\">\n",
       "      <th></th>\n",
       "      <th>PassengerId</th>\n",
       "      <th>Survived</th>\n",
       "      <th>Pclass</th>\n",
       "      <th>Age</th>\n",
       "      <th>SibSp</th>\n",
       "      <th>Parch</th>\n",
       "      <th>Fare</th>\n",
       "      <th>FamilySize</th>\n",
       "    </tr>\n",
       "    <tr>\n",
       "      <th>Initial</th>\n",
       "      <th></th>\n",
       "      <th></th>\n",
       "      <th></th>\n",
       "      <th></th>\n",
       "      <th></th>\n",
       "      <th></th>\n",
       "      <th></th>\n",
       "      <th></th>\n",
       "    </tr>\n",
       "  </thead>\n",
       "  <tbody>\n",
       "    <tr>\n",
       "      <th>Master</th>\n",
       "      <td>414.975000</td>\n",
       "      <td>0.575000</td>\n",
       "      <td>2.625000</td>\n",
       "      <td>4.574167</td>\n",
       "      <td>2.300000</td>\n",
       "      <td>1.375000</td>\n",
       "      <td>3.340710</td>\n",
       "      <td>4.675000</td>\n",
       "    </tr>\n",
       "    <tr>\n",
       "      <th>Miss</th>\n",
       "      <td>411.741935</td>\n",
       "      <td>0.704301</td>\n",
       "      <td>2.284946</td>\n",
       "      <td>21.860000</td>\n",
       "      <td>0.698925</td>\n",
       "      <td>0.537634</td>\n",
       "      <td>3.123713</td>\n",
       "      <td>2.236559</td>\n",
       "    </tr>\n",
       "    <tr>\n",
       "      <th>Mr</th>\n",
       "      <td>455.880907</td>\n",
       "      <td>0.162571</td>\n",
       "      <td>2.381853</td>\n",
       "      <td>32.739609</td>\n",
       "      <td>0.293006</td>\n",
       "      <td>0.151229</td>\n",
       "      <td>2.651507</td>\n",
       "      <td>1.444234</td>\n",
       "    </tr>\n",
       "    <tr>\n",
       "      <th>Mrs</th>\n",
       "      <td>456.393701</td>\n",
       "      <td>0.795276</td>\n",
       "      <td>1.984252</td>\n",
       "      <td>35.981818</td>\n",
       "      <td>0.692913</td>\n",
       "      <td>0.818898</td>\n",
       "      <td>3.443751</td>\n",
       "      <td>2.511811</td>\n",
       "    </tr>\n",
       "    <tr>\n",
       "      <th>Other</th>\n",
       "      <td>564.444444</td>\n",
       "      <td>0.111111</td>\n",
       "      <td>1.666667</td>\n",
       "      <td>45.888889</td>\n",
       "      <td>0.111111</td>\n",
       "      <td>0.111111</td>\n",
       "      <td>2.641605</td>\n",
       "      <td>1.222222</td>\n",
       "    </tr>\n",
       "  </tbody>\n",
       "</table>\n",
       "</div>"
      ],
      "text/plain": [
       "         PassengerId  Survived    Pclass        Age     SibSp     Parch  \\\n",
       "Initial                                                                   \n",
       "Master    414.975000  0.575000  2.625000   4.574167  2.300000  1.375000   \n",
       "Miss      411.741935  0.704301  2.284946  21.860000  0.698925  0.537634   \n",
       "Mr        455.880907  0.162571  2.381853  32.739609  0.293006  0.151229   \n",
       "Mrs       456.393701  0.795276  1.984252  35.981818  0.692913  0.818898   \n",
       "Other     564.444444  0.111111  1.666667  45.888889  0.111111  0.111111   \n",
       "\n",
       "             Fare  FamilySize  \n",
       "Initial                        \n",
       "Master   3.340710    4.675000  \n",
       "Miss     3.123713    2.236559  \n",
       "Mr       2.651507    1.444234  \n",
       "Mrs      3.443751    2.511811  \n",
       "Other    2.641605    1.222222  "
      ]
     },
     "execution_count": 131,
     "metadata": {},
     "output_type": "execute_result"
    }
   ],
   "source": [
    "df_train.groupby('Initial').mean()"
   ]
  },
  {
   "cell_type": "code",
   "execution_count": 132,
   "metadata": {},
   "outputs": [
    {
     "data": {
      "text/plain": [
       "<AxesSubplot:xlabel='Initial'>"
      ]
     },
     "execution_count": 132,
     "metadata": {},
     "output_type": "execute_result"
    },
    {
     "data": {
      "image/png": "[encoded data removed]",
      "text/plain": [
       "<Figure size 432x288 with 1 Axes>"
      ]
     },
     "metadata": {
      "needs_background": "light"
     },
     "output_type": "display_data"
    }
   ],
   "source": [
    "df_train.groupby('Initial')['Survived'].mean().plot.bar()"
   ]
  },
  {
   "cell_type": "code",
   "execution_count": 133,
   "metadata": {},
   "outputs": [
    {
     "data": {
      "text/html": [
       "<div>\n",
       "<style scoped>\n",
       "    .dataframe tbody tr th:only-of-type {\n",
       "        vertical-align: middle;\n",
       "    }\n",
       "\n",
       "    .dataframe tbody tr th {\n",
       "        vertical-align: top;\n",
       "    }\n",
       "\n",
       "    .dataframe thead th {\n",
       "        text-align: right;\n",
       "    }\n",
       "</style>\n",
       "<table border=\"1\" class=\"dataframe\">\n",
       "  <thead>\n",
       "    <tr style=\"text-align: right;\">\n",
       "      <th></th>\n",
       "      <th>PassengerId</th>\n",
       "      <th>Survived</th>\n",
       "      <th>Pclass</th>\n",
       "      <th>Age</th>\n",
       "      <th>SibSp</th>\n",
       "      <th>Parch</th>\n",
       "      <th>Fare</th>\n",
       "      <th>FamilySize</th>\n",
       "    </tr>\n",
       "    <tr>\n",
       "      <th>Initial</th>\n",
       "      <th></th>\n",
       "      <th></th>\n",
       "      <th></th>\n",
       "      <th></th>\n",
       "      <th></th>\n",
       "      <th></th>\n",
       "      <th></th>\n",
       "      <th></th>\n",
       "    </tr>\n",
       "  </thead>\n",
       "  <tbody>\n",
       "    <tr>\n",
       "      <th>Master</th>\n",
       "      <td>414.975000</td>\n",
       "      <td>0.575000</td>\n",
       "      <td>2.625000</td>\n",
       "      <td>4.574167</td>\n",
       "      <td>2.300000</td>\n",
       "      <td>1.375000</td>\n",
       "      <td>3.340710</td>\n",
       "      <td>4.675000</td>\n",
       "    </tr>\n",
       "    <tr>\n",
       "      <th>Miss</th>\n",
       "      <td>411.741935</td>\n",
       "      <td>0.704301</td>\n",
       "      <td>2.284946</td>\n",
       "      <td>21.860000</td>\n",
       "      <td>0.698925</td>\n",
       "      <td>0.537634</td>\n",
       "      <td>3.123713</td>\n",
       "      <td>2.236559</td>\n",
       "    </tr>\n",
       "    <tr>\n",
       "      <th>Mr</th>\n",
       "      <td>455.880907</td>\n",
       "      <td>0.162571</td>\n",
       "      <td>2.381853</td>\n",
       "      <td>32.739609</td>\n",
       "      <td>0.293006</td>\n",
       "      <td>0.151229</td>\n",
       "      <td>2.651507</td>\n",
       "      <td>1.444234</td>\n",
       "    </tr>\n",
       "    <tr>\n",
       "      <th>Mrs</th>\n",
       "      <td>456.393701</td>\n",
       "      <td>0.795276</td>\n",
       "      <td>1.984252</td>\n",
       "      <td>35.981818</td>\n",
       "      <td>0.692913</td>\n",
       "      <td>0.818898</td>\n",
       "      <td>3.443751</td>\n",
       "      <td>2.511811</td>\n",
       "    </tr>\n",
       "    <tr>\n",
       "      <th>Other</th>\n",
       "      <td>564.444444</td>\n",
       "      <td>0.111111</td>\n",
       "      <td>1.666667</td>\n",
       "      <td>45.888889</td>\n",
       "      <td>0.111111</td>\n",
       "      <td>0.111111</td>\n",
       "      <td>2.641605</td>\n",
       "      <td>1.222222</td>\n",
       "    </tr>\n",
       "  </tbody>\n",
       "</table>\n",
       "</div>"
      ],
      "text/plain": [
       "         PassengerId  Survived    Pclass        Age     SibSp     Parch  \\\n",
       "Initial                                                                   \n",
       "Master    414.975000  0.575000  2.625000   4.574167  2.300000  1.375000   \n",
       "Miss      411.741935  0.704301  2.284946  21.860000  0.698925  0.537634   \n",
       "Mr        455.880907  0.162571  2.381853  32.739609  0.293006  0.151229   \n",
       "Mrs       456.393701  0.795276  1.984252  35.981818  0.692913  0.818898   \n",
       "Other     564.444444  0.111111  1.666667  45.888889  0.111111  0.111111   \n",
       "\n",
       "             Fare  FamilySize  \n",
       "Initial                        \n",
       "Master   3.340710    4.675000  \n",
       "Miss     3.123713    2.236559  \n",
       "Mr       2.651507    1.444234  \n",
       "Mrs      3.443751    2.511811  \n",
       "Other    2.641605    1.222222  "
      ]
     },
     "execution_count": 133,
     "metadata": {},
     "output_type": "execute_result"
    }
   ],
   "source": [
    "df_train.groupby('Initial').mean()"
   ]
  },
  {
   "cell_type": "code",
   "execution_count": 134,
   "metadata": {},
   "outputs": [],
   "source": [
    "#각 Initial Age의 평균을 이용해서 null값 채우기\n",
    "df_train.loc[(df_train.Age.isnull())&(df_train.Initial=='Mr'),'Age']=33\n",
    "df_train.loc[(df_train.Age.isnull())&(df_train.Initial=='Mrs'),'Age']=36\n",
    "df_train.loc[(df_train.Age.isnull())&(df_train.Initial=='Master'),'Age']=5\n",
    "df_train.loc[(df_train.Age.isnull())&(df_train.Initial=='Miss'),'Age']=22\n",
    "df_train.loc[(df_train.Age.isnull())&(df_train.Initial=='Other'),'Age']=46\n",
    "\n",
    "df_test.loc[(df_test.Age.isnull())&(df_test.Initial=='Mr'),'Age']=33\n",
    "df_test.loc[(df_test.Age.isnull())&(df_test.Initial=='Mrs'),'Age']=36\n",
    "df_test.loc[(df_test.Age.isnull())&(df_test.Initial=='Masger'),'Age']=5\n",
    "df_test.loc[(df_test.Age.isnull())&(df_test.Initial=='Miss'),'Age']=22\n",
    "df_test.loc[(df_test.Age.isnull())&(df_test.Initial=='Other'),'Age']=46"
   ]
  },
  {
   "cell_type": "code",
   "execution_count": 135,
   "metadata": {},
   "outputs": [
    {
     "name": "stdout",
     "output_type": "stream",
     "text": [
      "Embarked has  2  Null values\n"
     ]
    }
   ],
   "source": [
    "print('Embarked has ',sum(df_train['Embarked'].isnull()),' Null values')"
   ]
  },
  {
   "cell_type": "code",
   "execution_count": 136,
   "metadata": {},
   "outputs": [],
   "source": [
    "df_train['Embarked'].fillna('S',inplace=True)"
   ]
  },
  {
   "cell_type": "markdown",
   "metadata": {},
   "source": [
    "### 3.1 Change Age(Continuous to categorical)"
   ]
  },
  {
   "cell_type": "code",
   "execution_count": 138,
   "metadata": {},
   "outputs": [],
   "source": [
    "# 현재 continuous feature인 Age를 몇개의 그룹으로 나누어 categorical로 바꿔준다. (10살 간격으로 나이를 나눔)\n",
    "df_train['Age_cat']=0\n",
    "df_train.loc[df_train['Age']<10,'Age_cat']=0\n",
    "df_train.loc[(10 <= df_train['Age'])&(df_train['Age']<20),'Age_cat']=1\n",
    "df_train.loc[(20<=df_train['Age'])&(df_train['Age']<30),'Age_cat']=2\n",
    "df_train.loc[(30<=df_train['Age'])&(df_train['Age']<40),'Age_cat']=3\n",
    "df_train.loc[(40<=df_train['Age'])&(df_train['Age']<50),'Age_cat']=4\n",
    "df_train.loc[(50<=df_train['Age'])&(df_train['Age']<60),'Age_cat']=5\n",
    "df_train.loc[(60<=df_train['Age'])&(df_train['Age']<70),'Age_cat']=6\n",
    "df_train.loc[70<=df_train['Age'],'Age_cat']=7\n",
    "\n",
    "df_test['Age_cat']=0\n",
    "df_test.loc[df_test['Age']<10,'Age_cat']=0\n",
    "df_test.loc[(10<=df_test['Age'])&(df_test['Age']<20),'Age_cat']=1\n",
    "df_test.loc[(20<=df_test['Age'])&(df_test['Age']<30),'Age_cat']=2\n",
    "df_test.loc[(30<=df_test['Age'])&(df_test['Age']<40),'Age_cat']=3\n",
    "df_test.loc[(40<=df_test['Age'])&(df_test['Age']<50),'Age_cat']=4\n",
    "df_test.loc[(50<=df_test['Age'])&(df_test['Age']<60),'Age_cat']=5\n",
    "df_test.loc[(60<=df_test['Age'])&(df_test['Age']<70),'Age_cat']=6\n",
    "df_test.loc[70<=df_test['Age'],'Age_cat']=7"
   ]
  },
  {
   "cell_type": "code",
   "execution_count": 139,
   "metadata": {},
   "outputs": [],
   "source": [
    "# 함수를 만들어서 Age의 카테고리화\n",
    "def category_age(x):\n",
    "    if x<10:\n",
    "        return 0\n",
    "    elif x<20:\n",
    "        return 1\n",
    "    elif x<30:\n",
    "        return 2\n",
    "    elif x<40:\n",
    "        return 3\n",
    "    elif x<50:\n",
    "        return 4\n",
    "    elif x<60:\n",
    "        return 5\n",
    "    elif x<70:\n",
    "        return 6\n",
    "    else:\n",
    "        return 7\n",
    "df_train['Age_cat_2']=df_train['Age'].apply(category_age)"
   ]
  },
  {
   "cell_type": "code",
   "execution_count": 140,
   "metadata": {},
   "outputs": [
    {
     "name": "stdout",
     "output_type": "stream",
     "text": [
      "1번 방법, 2번 방법 둘다 같은 결과를 내면 True 출력 -> True\n"
     ]
    }
   ],
   "source": [
    "print('1번 방법, 2번 방법 둘다 같은 결과를 내면 True 출력 ->', (df_train['Age_cat']==df_train['Age_cat_2']).all())"
   ]
  },
  {
   "cell_type": "code",
   "execution_count": 142,
   "metadata": {},
   "outputs": [],
   "source": [
    "df_train.drop(['Age','Age_cat_2'],axis=1,inplace=True)\n",
    "df_test.drop(['Age'],axis=1,inplace=True)"
   ]
  },
  {
   "cell_type": "code",
   "execution_count": null,
   "metadata": {},
   "outputs": [],
   "source": []
  }
 ],
 "metadata": {
  "kernelspec": {
   "display_name": "Python 3",
   "language": "python",
   "name": "python3"
  },
  "language_info": {
   "codemirror_mode": {
    "name": "ipython",
    "version": 3
   },
   "file_extension": ".py",
   "mimetype": "text/x-python",
   "name": "python",
   "nbconvert_exporter": "python",
   "pygments_lexer": "ipython3",
   "version": "3.8.5"
  }
 },
 "nbformat": 4,
 "nbformat_minor": 4
}

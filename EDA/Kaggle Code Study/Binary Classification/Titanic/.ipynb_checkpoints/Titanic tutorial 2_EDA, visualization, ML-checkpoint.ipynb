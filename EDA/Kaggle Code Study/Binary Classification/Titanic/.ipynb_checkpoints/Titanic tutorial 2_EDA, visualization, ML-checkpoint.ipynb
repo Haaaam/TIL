{
 "cells": [
  {
   "cell_type": "code",
   "execution_count": null,
   "metadata": {},
   "outputs": [],
   "source": [
    "import numpy as np\n",
    "import pandas as pd\n",
    "from pandas import Series\n",
    "import matplotlib.pyplot as plt\n",
    "import seaborn\n",
    "\n",
    "plt.style.use('seaborn')\n",
    "sns.set(font_scale=2.5) \n",
    "import plotly.offline as py\n",
    "py.init_notebook_mode(connected=True)\n",
    "import plotly.graph_objs as go\n",
    "import plotly.tools as tls\n",
    "\n",
    "import warnings\n",
    "warnings.filterwarnings('ignore')\n",
    "\n",
    "%matplotlib inline\n",
    "\n",
    "df_train=pd.read_csv('./data/train.csv')\n",
    "df_test=pd.read_csv('./data/test.csv')\n",
    "df_train['FamilySize']=df_train['SibSp']+df_test['Parch']+1\n",
    "df_test['FamilySize']=df_test['SibSp']+df_test['Parch']+1\n",
    "\n",
    "df_test.loc[df_test.Fare.isnull(),'Fare']=df_test['Fare']\n",
    "\n"
   ]
  }
 ],
 "metadata": {
  "kernelspec": {
   "display_name": "Python 3",
   "language": "python",
   "name": "python3"
  },
  "language_info": {
   "codemirror_mode": {
    "name": "ipython",
    "version": 3
   },
   "file_extension": ".py",
   "mimetype": "text/x-python",
   "name": "python",
   "nbconvert_exporter": "python",
   "pygments_lexer": "ipython3",
   "version": "3.8.5"
  }
 },
 "nbformat": 4,
 "nbformat_minor": 4
}

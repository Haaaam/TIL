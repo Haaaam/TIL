{
 "cells": [
  {
   "cell_type": "markdown",
   "metadata": {},
   "source": [
    "### 클래스 구조 만들기"
   ]
  },
  {
   "cell_type": "code",
   "execution_count": 31,
   "metadata": {},
   "outputs": [
    {
     "name": "stdout",
     "output_type": "stream",
     "text": [
      "<class '__main__.Cake'>\n",
      "<class '__main__.choCake'>\n"
     ]
    }
   ],
   "source": [
    "class Cake:\n",
    "    #케익을 의미하는 클래스\n",
    "    coat='생크림'\n",
    "    \n",
    "class choCake(Cake):\n",
    "    pou=\"초콜릿\"\n",
    "        \n",
    "print(Cake)\n",
    "print(choCake)"
   ]
  },
  {
   "cell_type": "code",
   "execution_count": 28,
   "metadata": {},
   "outputs": [
    {
     "data": {
      "text/plain": [
       "__main__.Cake"
      ]
     },
     "execution_count": 28,
     "metadata": {},
     "output_type": "execute_result"
    }
   ],
   "source": [
    "cake_1=Cake()\n",
    "cake_2=Cake()\n",
    "type(cake_1)"
   ]
  },
  {
   "cell_type": "code",
   "execution_count": 29,
   "metadata": {},
   "outputs": [
    {
     "data": {
      "text/plain": [
       "True"
      ]
     },
     "execution_count": 29,
     "metadata": {},
     "output_type": "execute_result"
    }
   ],
   "source": [
    "isinstance(cake_2,Cake)"
   ]
  },
  {
   "cell_type": "code",
   "execution_count": 30,
   "metadata": {},
   "outputs": [
    {
     "name": "stdout",
     "output_type": "stream",
     "text": [
      "생크림\n",
      "생크림\n",
      "생크림\n"
     ]
    }
   ],
   "source": [
    "print(Cake.coat)\n",
    "print(cake_1.coat)\n",
    "print(cake_2.coat)"
   ]
  },
  {
   "cell_type": "code",
   "execution_count": 15,
   "metadata": {},
   "outputs": [],
   "source": [
    "Cake.coat='초콜릿'\n",
    "cake_1.coat='녹차'\n"
   ]
  },
  {
   "cell_type": "code",
   "execution_count": 17,
   "metadata": {},
   "outputs": [
    {
     "name": "stdout",
     "output_type": "stream",
     "text": [
      "녹차케이크 입니다.\n"
     ]
    }
   ],
   "source": [
    "print(cake_1.coat1+\"케이크 입니다.\")"
   ]
  },
  {
   "cell_type": "code",
   "execution_count": 11,
   "metadata": {},
   "outputs": [
    {
     "name": "stdout",
     "output_type": "stream",
     "text": [
      "4000\n"
     ]
    }
   ],
   "source": [
    "Cake.price=4000\n",
    "print(Cake.price)"
   ]
  },
  {
   "cell_type": "code",
   "execution_count": 18,
   "metadata": {},
   "outputs": [
    {
     "name": "stdout",
     "output_type": "stream",
     "text": [
      "치즈아이스크림케이크 입니다\n"
     ]
    }
   ],
   "source": [
    "cake_1.topping='치즈'\n",
    "cake_1.coat='아이스크림'\n",
    "print(cake_1.topping+cake_1.coat+\"케이크 입니다\")"
   ]
  },
  {
   "cell_type": "code",
   "execution_count": 19,
   "metadata": {},
   "outputs": [
    {
     "data": {
      "text/plain": [
       "'초콜릿'"
      ]
     },
     "execution_count": 19,
     "metadata": {},
     "output_type": "execute_result"
    }
   ],
   "source": [
    "cake_2.coat"
   ]
  },
  {
   "cell_type": "code",
   "execution_count": 20,
   "metadata": {},
   "outputs": [
    {
     "data": {
      "text/plain": [
       "'녹차'"
      ]
     },
     "execution_count": 20,
     "metadata": {},
     "output_type": "execute_result"
    }
   ],
   "source": [
    "cake_2.coat1"
   ]
  },
  {
   "cell_type": "code",
   "execution_count": 37,
   "metadata": {},
   "outputs": [
    {
     "name": "stdout",
     "output_type": "stream",
     "text": [
      "<class '__main__.Cake'>\n",
      "<class '__main__.choCake'>\n",
      "<class '__main__.topping'>\n"
     ]
    }
   ],
   "source": [
    "class Cake:\n",
    "    #케익을 의미하는 클래스\n",
    "    coat='생크림'\n",
    "    \n",
    "class choCake(Cake):\n",
    "    pou=\"초콜릿\"\n",
    "\n",
    "class topping(choCake):\n",
    "    t1=\"바나나\"\n",
    "    t2='딸기'\n",
    "    t3='체리'\n",
    "        \n",
    "print(Cake)\n",
    "print(choCake)\n",
    "print(topping)"
   ]
  },
  {
   "cell_type": "markdown",
   "metadata": {},
   "source": [
    "### 객체 생성"
   ]
  },
  {
   "cell_type": "code",
   "execution_count": 38,
   "metadata": {},
   "outputs": [],
   "source": [
    "cake_1=Cake()\n",
    "cake_2=choCake()\n",
    "cake_3=topping()"
   ]
  },
  {
   "cell_type": "code",
   "execution_count": 43,
   "metadata": {},
   "outputs": [
    {
     "name": "stdout",
     "output_type": "stream",
     "text": [
      "생크림\n",
      "초콜릿\n",
      "초콜릿 생크림 바나나\n"
     ]
    }
   ],
   "source": [
    "print(cake_1.coat)\n",
    "print(cake_2.pou)\n",
    "print(cake_3.pou,cake_3.coat, cake_3.t1)"
   ]
  },
  {
   "cell_type": "code",
   "execution_count": 44,
   "metadata": {},
   "outputs": [],
   "source": [
    "class Cake:\n",
    "    '''케이크를 의미하는 클래스'''\n",
    "    coat='생크림'\n",
    "    \n",
    "    def descr():\n",
    "        '''정보를 화면에 출력'''\n",
    "        print('이 케익은 ',Cake.coat,\"으로 덮여있습니다.\" )\n",
    "        "
   ]
  },
  {
   "cell_type": "code",
   "execution_count": 45,
   "metadata": {},
   "outputs": [
    {
     "name": "stdout",
     "output_type": "stream",
     "text": [
      "이 케익은  생크림 으로 덮여있습니다.\n"
     ]
    }
   ],
   "source": [
    "Cake.descr()"
   ]
  },
  {
   "cell_type": "code",
   "execution_count": 46,
   "metadata": {},
   "outputs": [],
   "source": [
    "cake_1=Cake()\n",
    "cake_1.coat='초콜릿'"
   ]
  },
  {
   "cell_type": "markdown",
   "metadata": {},
   "source": [
    "### 클래스 사용 예\n",
    "- 클래스 변수(소속)\n",
    "- 메서드 생성"
   ]
  },
  {
   "cell_type": "code",
   "execution_count": 69,
   "metadata": {},
   "outputs": [],
   "source": [
    "class Member:\n",
    "    name=''\n",
    "    \n",
    "    def __init__(self,str1,str2):#메서드의 매개변수\n",
    "        self.name=str1           #메서드의 수행문\n",
    "        self.gender=str2\n",
    "    \n",
    "    def showMsg(self):\n",
    "        print('안녕하세요. '+self.name+'입니다.')\n",
    "        \n",
    "        \n",
    "        \n",
    "class sebu_info(Member):\n",
    "    mail=''\n",
    "    tel=''\n",
    "    def __init__(self,str1,str2,str3):\n",
    "        self.name=str1\n",
    "        self.tel=str2\n",
    "        self.mail=str3\n",
    "    def showMsg_prn(self):\n",
    "        print(\"안녕하세요.\"+self.name+\"님~~~\")\n",
    "        print(\"귀하의 전화번호:\"+self.tel)\n",
    "        print(\"귀하의 메일주소:\"+self.mail)"
   ]
  },
  {
   "cell_type": "code",
   "execution_count": 70,
   "metadata": {},
   "outputs": [],
   "source": [
    "member_1=Member('Kim','남')\n",
    "sebu_1=sebu_info('Kim','010-1234-5678','Kim@naver.com')"
   ]
  },
  {
   "cell_type": "code",
   "execution_count": 61,
   "metadata": {},
   "outputs": [
    {
     "name": "stdout",
     "output_type": "stream",
     "text": [
      "안녕하세요. Kim입니다.\n"
     ]
    }
   ],
   "source": [
    "member_1.showMsg()"
   ]
  },
  {
   "cell_type": "code",
   "execution_count": 68,
   "metadata": {},
   "outputs": [
    {
     "name": "stdout",
     "output_type": "stream",
     "text": [
      "안녕하세요.Kim님~~~\n",
      "귀하의 전화번호:010-1234-5678\n",
      "귀하의 메일주소:Kim@naver.com\n"
     ]
    }
   ],
   "source": [
    "sebu_1.showMsg()"
   ]
  },
  {
   "cell_type": "code",
   "execution_count": 71,
   "metadata": {},
   "outputs": [
    {
     "name": "stdout",
     "output_type": "stream",
     "text": [
      "안녕하세요.Kim님~~~\n",
      "귀하의 전화번호:010-1234-5678\n",
      "귀하의 메일주소:Kim@naver.com\n"
     ]
    }
   ],
   "source": [
    "sebu_1.showMsg_prn()"
   ]
  },
  {
   "cell_type": "code",
   "execution_count": 72,
   "metadata": {},
   "outputs": [
    {
     "name": "stdout",
     "output_type": "stream",
     "text": [
      "<class '__main__.sebu_info'>\n"
     ]
    }
   ],
   "source": [
    "print(type(sebu_1))"
   ]
  },
  {
   "cell_type": "code",
   "execution_count": 74,
   "metadata": {},
   "outputs": [],
   "source": [
    "from konlpy.tag import Okt\n",
    "\n",
    "okt=Okt()"
   ]
  },
  {
   "cell_type": "code",
   "execution_count": 75,
   "metadata": {},
   "outputs": [
    {
     "name": "stdout",
     "output_type": "stream",
     "text": [
      "<class 'konlpy.tag._okt.Okt'>\n"
     ]
    }
   ],
   "source": [
    "print(type(okt))"
   ]
  },
  {
   "cell_type": "code",
   "execution_count": 1,
   "metadata": {},
   "outputs": [
    {
     "name": "stdout",
     "output_type": "stream",
     "text": [
      "['__add__', '__class__', '__class_getitem__', '__contains__', '__delattr__', '__delitem__', '__dir__', '__doc__', '__eq__', '__format__', '__ge__', '__getattribute__', '__getitem__', '__gt__', '__hash__', '__iadd__', '__imul__', '__init__', '__init_subclass__', '__iter__', '__le__', '__len__', '__lt__', '__mul__', '__ne__', '__new__', '__reduce__', '__reduce_ex__', '__repr__', '__reversed__', '__rmul__', '__setattr__', '__setitem__', '__sizeof__', '__str__', '__subclasshook__', 'append', 'clear', 'copy', 'count', 'extend', 'index', 'insert', 'pop', 'remove', 'reverse', 'sort']\n"
     ]
    }
   ],
   "source": [
    "print(dir([]))"
   ]
  },
  {
   "cell_type": "code",
   "execution_count": 3,
   "metadata": {},
   "outputs": [
    {
     "data": {
      "text/plain": [
       "True"
      ]
     },
     "execution_count": 3,
     "metadata": {},
     "output_type": "execute_result"
    }
   ],
   "source": [
    "__name__=='__main__'"
   ]
  },
  {
   "cell_type": "code",
   "execution_count": 4,
   "metadata": {},
   "outputs": [
    {
     "name": "stdout",
     "output_type": "stream",
     "text": [
      "<class 'list'>\n"
     ]
    }
   ],
   "source": [
    "aa=[]\n",
    "print(type(aa))"
   ]
  },
  {
   "cell_type": "code",
   "execution_count": null,
   "metadata": {},
   "outputs": [],
   "source": []
  }
 ],
 "metadata": {
  "kernelspec": {
   "display_name": "Python 3",
   "language": "python",
   "name": "python3"
  },
  "language_info": {
   "codemirror_mode": {
    "name": "ipython",
    "version": 3
   },
   "file_extension": ".py",
   "mimetype": "text/x-python",
   "name": "python",
   "nbconvert_exporter": "python",
   "pygments_lexer": "ipython3",
   "version": "3.8.5"
  }
 },
 "nbformat": 4,
 "nbformat_minor": 4
}

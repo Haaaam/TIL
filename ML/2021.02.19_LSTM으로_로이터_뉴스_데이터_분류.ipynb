{
  "nbformat": 4,
  "nbformat_minor": 0,
  "metadata": {
    "colab": {
      "name": "LSTM으로 로이터 뉴스 데이터 분류.ipynb",
      "private_outputs": true,
      "provenance": [],
      "authorship_tag": "ABX9TyNwA55+hQxO7nr0LSz0nEyM",
      "include_colab_link": true
    },
    "kernelspec": {
      "name": "python3",
      "display_name": "Python 3"
    }
  },
  "cells": [
    {
      "cell_type": "markdown",
      "metadata": {
        "id": "view-in-github",
        "colab_type": "text"
      },
      "source": [
        "<a href=\"https://colab.research.google.com/github/imeamin/Digital-Transformation-Educaiton/blob/master/LSTM%EC%9C%BC%EB%A1%9C_%EB%A1%9C%EC%9D%B4%ED%84%B0_%EB%89%B4%EC%8A%A4_%EB%8D%B0%EC%9D%B4%ED%84%B0_%EB%B6%84%EB%A5%98.ipynb\" target=\"_parent\"><img src=\"https://colab.research.google.com/assets/colab-badge.svg\" alt=\"Open In Colab\"/></a>"
      ]
    },
    {
      "cell_type": "markdown",
      "metadata": {
        "id": "r6LqaTFp-eLf"
      },
      "source": [
        "로이터 뉴스 기사 데이터: 총 11,258개의 뉴스 기사가 46개의 뉴스 카테고리로 분류하는 뉴스 기사 데이터"
      ]
    },
    {
      "cell_type": "code",
      "metadata": {
        "id": "tPs5vacg6F6O"
      },
      "source": [
        "from tensorflow.keras.datasets import reuters\r\n",
        "from tensorflow.keras.models import Sequential\r\n",
        "from tensorflow.keras.layers import Dense, LSTM, Embedding\r\n",
        "from tensorflow.keras.preprocessing.sequence import pad_sequences\r\n",
        "from tensorflow.keras.utils import to_categorical\r\n",
        "from tensorflow.keras.callbacks import EarlyStopping, ModelCheckpoint\r\n",
        "from tensorflow.keras.models import load_model\r\n"
      ],
      "execution_count": null,
      "outputs": []
    },
    {
      "cell_type": "code",
      "metadata": {
        "id": "TAJY8URc6wos"
      },
      "source": [
        "#등장 빈도 순서가 가장 많은 1~000번쨰 단어들만 사용\r\n",
        "(X_train,y_train),(X_test,y_test)=reuters.load_data(num_words=1000,test_split=0.2)"
      ],
      "execution_count": null,
      "outputs": []
    },
    {
      "cell_type": "code",
      "metadata": {
        "id": "awqAhMra695x"
      },
      "source": [
        "max_len = 100\r\n",
        "X_train = pad_sequences(X_train, maxlen=max_len) # 훈련용 뉴스 기사 패딩\r\n",
        "X_test = pad_sequences(X_test, maxlen=max_len) # 테스트용 뉴스 기사 패딩"
      ],
      "execution_count": null,
      "outputs": []
    },
    {
      "cell_type": "code",
      "metadata": {
        "id": "lMrx1BG37Oyp"
      },
      "source": [
        "y_train = to_categorical(y_train) # 훈련용 뉴스 기사 레이블의 원-핫 인코딩\r\n",
        "y_test = to_categorical(y_test) # 테스트용 뉴스 기사 레이블의 원-핫 인코딩"
      ],
      "execution_count": null,
      "outputs": []
    },
    {
      "cell_type": "code",
      "metadata": {
        "id": "4HyVfg028P1-"
      },
      "source": [
        "model = Sequential()\r\n",
        "model.add(Embedding(1000, 120)) #임베딩층 생성, 120의 차원을 가지는 임베딩 벡터를 1000개 생성하는 역할\r\n",
        "model.add(LSTM(120))\r\n",
        "model.add(Dense(46, activation='softmax'))#46개의 확률 분포를 만들어 낸다."
      ],
      "execution_count": null,
      "outputs": []
    },
    {
      "cell_type": "code",
      "metadata": {
        "id": "jQ_Ft7pF8W9c"
      },
      "source": [
        "es = EarlyStopping(monitor='val_loss', mode='min', verbose=1, patience=4)\r\n",
        "mc = ModelCheckpoint('best_model.h5', monitor='val_acc', mode='max', verbose=1, save_best_only=True)"
      ],
      "execution_count": null,
      "outputs": []
    },
    {
      "cell_type": "code",
      "metadata": {
        "id": "avNtI2ui8bfl"
      },
      "source": [
        "model.compile(loss='categorical_crossentropy', optimizer='adam', metrics=['acc'])"
      ],
      "execution_count": null,
      "outputs": []
    },
    {
      "cell_type": "code",
      "metadata": {
        "id": "uVuXGFgo8jY2"
      },
      "source": [
        "history = model.fit(X_train, y_train, batch_size=128, epochs=30, callbacks=[es, mc], validation_data=(X_test, y_test))"
      ],
      "execution_count": null,
      "outputs": []
    },
    {
      "cell_type": "code",
      "metadata": {
        "id": "_PuW7B9E-Vmq"
      },
      "source": [
        "loaded_model = load_model('best_model.h5')\r\n",
        "print(\"\\n 테스트 정확도: %.4f\" % (loaded_model.evaluate(X_test, y_test)[1]))"
      ],
      "execution_count": null,
      "outputs": []
    },
    {
      "cell_type": "code",
      "metadata": {
        "id": "DNAyQBVwHynz"
      },
      "source": [
        "import matplotlib.pyplot as plt\r\n",
        "epochs = range(1, len(history.history['acc']) + 1)\r\n",
        "plt.plot(epochs, history.history['loss'])\r\n",
        "plt.plot(epochs, history.history['val_loss'])\r\n",
        "plt.title('model loss')\r\n",
        "plt.ylabel('loss')\r\n",
        "plt.xlabel('epoch')\r\n",
        "plt.legend(['train', 'test'], loc='upper left')\r\n",
        "plt.show()"
      ],
      "execution_count": null,
      "outputs": []
    },
    {
      "cell_type": "code",
      "metadata": {
        "id": "sh0fC3mAH2gr"
      },
      "source": [
        ""
      ],
      "execution_count": null,
      "outputs": []
    }
  ]
}

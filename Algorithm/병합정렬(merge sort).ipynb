{
 "cells": [
  {
   "cell_type": "markdown",
   "metadata": {},
   "source": [
    "### 병합 정렬(merge sort)\n",
    "- 재귀용법을 활용한 정렬 알고리즘\n",
    "  1. 리스트를 절반으로 잘라 비슷한 크기의 두 부분 리스트로 나눈다.\n",
    "  2. 각 부분 리스트를 재귀적으로 합병 정렬을 이용해 정렬한다.\n",
    "  3. 두 부분 리스트를 다시 하나의 정렬된 리스트로 합병한다.\n",
    "  "
   ]
  },
  {
   "cell_type": "markdown",
   "metadata": {},
   "source": [
    "### 재귀용법 활용하기\n"
   ]
  },
  {
   "cell_type": "code",
   "execution_count": 1,
   "metadata": {},
   "outputs": [],
   "source": [
    "def mergesplit(data):\n",
    "    if len(data)<=1:\n",
    "        return data\n",
    "    mid=len(data)//2\n",
    "    lef=mergesplit(data[:mid])\n",
    "    right=mergesplit(data[mid:])\n",
    "    return merge(left,right)\n",
    "    "
   ]
  },
  {
   "cell_type": "markdown",
   "metadata": {},
   "source": [
    "### merge 함수 만들기"
   ]
  },
  {
   "cell_type": "code",
   "execution_count": null,
   "metadata": {},
   "outputs": [],
   "source": [
    "def merge(left,right):\n",
    "    data=[]\n",
    "    left_point,right_point=0,0\n",
    "    \n",
    "    #left/right 둘다 있을 때\n",
    "    while len(left)>left_point and len(right)>right_point:\n",
    "        if left[left_point]>right[right_point]:\n",
    "            data.append(right[right_point])\n",
    "            right_point+=1\n",
    "        else:\n",
    "            data.append(left[left_point])\n",
    "            left_point+=1\n",
    "    # left 데이터가 없을 때\n",
    "    while len(left)>left_point:\n",
    "        data.append(left[left_point])\n",
    "        left_point+=1\n",
    "    #right 데이터가 없을 때\n",
    "    while len(right)>right_point:\n",
    "        data.append(right[right_point])\n",
    "        right_point+=1\n",
    "    \n",
    "    return data"
   ]
  },
  {
   "cell_type": "markdown",
   "metadata": {},
   "source": [
    "### 최종 코드"
   ]
  },
  {
   "cell_type": "code",
   "execution_count": 2,
   "metadata": {},
   "outputs": [],
   "source": [
    "def merge(left,right):\n",
    "    data=[]\n",
    "    left_point,right_point=0,0\n",
    "    \n",
    "    while len(left)>left_point and len(right)>right_point:\n",
    "        if left[left_point]>right[right_point]:\n",
    "            data.append(rigth[right_point])\n",
    "            right_point+=1\n",
    "        else:\n",
    "            data.append(left[left_point])\n",
    "            left_point+=1\n",
    "    while len(left)>left_point:\n",
    "        data.append(left[left_point])\n",
    "        left_point+=1\n",
    "    while len(right)>right_point:\n",
    "        data.append(right[right_point])\n",
    "        right_point+=1\n",
    "    \n",
    "    return data\n",
    "\n",
    "def mergesplit(data):\n",
    "    if len(data)<=1:\n",
    "        return data\n",
    "    \n",
    "    mid=len(data)//2\n",
    "    left=mergesplit(data[:mid])\n",
    "    right=mergesplit(data[mid:])\n",
    "    return mergesplit(left,right)\n"
   ]
  },
  {
   "cell_type": "code",
   "execution_count": null,
   "metadata": {},
   "outputs": [],
   "source": []
  }
 ],
 "metadata": {
  "kernelspec": {
   "display_name": "Python 3",
   "language": "python",
   "name": "python3"
  },
  "language_info": {
   "codemirror_mode": {
    "name": "ipython",
    "version": 3
   },
   "file_extension": ".py",
   "mimetype": "text/x-python",
   "name": "python",
   "nbconvert_exporter": "python",
   "pygments_lexer": "ipython3",
   "version": "3.9.1"
  }
 },
 "nbformat": 4,
 "nbformat_minor": 4
}

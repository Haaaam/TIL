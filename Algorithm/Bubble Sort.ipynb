{
 "cells": [
  {
   "cell_type": "markdown",
   "metadata": {},
   "source": [
    "### 1. 정렬이란?\n",
    "- 정렬: 데이터들을 정해진 순서에대로 나열한 것\n",
    "\n",
    "### 2. 버블 정렬(Bubble Sort)\n",
    "- 두 인접한 데이터를 비교해서, 앞에 있는 데이터가 뒤에있는 데이터보다 클 경우, 자리를 바꿔 정렬하는 알고리즘\n",
    "\n"
   ]
  },
  {
   "cell_type": "code",
   "execution_count": null,
   "metadata": {},
   "outputs": [],
   "source": [
    "def bubblesort(data):\n",
    "    for i in range(len(data)-1):\n",
    "        swap=False\n",
    "        for j in range(len(data)-1):\n",
    "            if data[j]>data[j+1]:\n",
    "                data[j],data[j+1]=data[j+1],data[j]\n",
    "                swap=True\n",
    "        if swap==False:\n",
    "            break\n",
    "    return data"
   ]
  },
  {
   "cell_type": "markdown",
   "metadata": {},
   "source": [
    "#### 알고리즘 분석\n",
    "- 시간: O(n^2)\n",
    "- 최악의 경우, (n*(n-1))/2\n",
    "- 완전 정렬이 되어 있는 상태라면 O(n) "
   ]
  },
  {
   "cell_type": "code",
   "execution_count": null,
   "metadata": {},
   "outputs": [],
   "source": []
  }
 ],
 "metadata": {
  "kernelspec": {
   "display_name": "Python 3",
   "language": "python",
   "name": "python3"
  },
  "language_info": {
   "codemirror_mode": {
    "name": "ipython",
    "version": 3
   },
   "file_extension": ".py",
   "mimetype": "text/x-python",
   "name": "python",
   "nbconvert_exporter": "python",
   "pygments_lexer": "ipython3",
   "version": "3.9.1"
  }
 },
 "nbformat": 4,
 "nbformat_minor": 4
}

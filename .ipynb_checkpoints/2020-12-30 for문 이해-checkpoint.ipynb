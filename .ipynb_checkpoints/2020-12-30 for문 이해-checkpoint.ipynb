{
 "cells": [
  {
   "cell_type": "markdown",
   "metadata": {},
   "source": [
    "##  반복문\n",
    "- 동일한 작업을 여러번 반복해서 수행할 때\n"
   ]
  },
  {
   "cell_type": "code",
   "execution_count": 4,
   "metadata": {},
   "outputs": [],
   "source": [
    "Name=['박동일','김이번','홍작업','서수행','진수진']\n",
    "age=[35,11,14,21,25]"
   ]
  },
  {
   "cell_type": "code",
   "execution_count": 14,
   "metadata": {},
   "outputs": [
    {
     "name": "stdout",
     "output_type": "stream",
     "text": [
      "1. 이름: 박동일, 나이: 35\n",
      "2. 이름: 김이번, 나이: 11\n",
      "3. 이름: 홍작업, 나이: 14\n",
      "4. 이름: 서수행, 나이: 21\n",
      "5. 이름: 진수진, 나이: 25\n"
     ]
    }
   ],
   "source": [
    "# range(숫자): 0 ~ 숫자-1, 0부터 숫자 개수만큼 정수 발생. 1씩 증가\n",
    "for i in range(len(Name)):\n",
    "    print('{}. 이름: {}, 나이: {}'.format(i+1,Name[i],age[i]))"
   ]
  },
  {
   "cell_type": "code",
   "execution_count": 11,
   "metadata": {},
   "outputs": [
    {
     "name": "stdout",
     "output_type": "stream",
     "text": [
      "[5, 6, 7, 8, 9]\n",
      "[1, 3, 5, 7, 9]\n"
     ]
    }
   ],
   "source": [
    "#range(시작위치, 숫자, 증가값): 부터 숫자 개수만큼 정수 발생시키고 출력은 시작위치부터 출력\n",
    "print(list(range(5,10)))\n",
    "\n",
    "print(list(range(1,10,2)))"
   ]
  },
  {
   "cell_type": "code",
   "execution_count": 3,
   "metadata": {},
   "outputs": [
    {
     "name": "stdout",
     "output_type": "stream",
     "text": [
      "pic1사진의 크기는 가로 512, 세로 271입니다.\n",
      "pic2사진의 크기는 가로 630, 세로 338입니다.\n",
      "pic3사진의 크기는 가로 275, 세로 183입니다.\n"
     ]
    }
   ],
   "source": [
    "from PIL import Image\n",
    "\n",
    "fileName=['pic1','pic2','pic3']\n",
    "for i in range(len(fileName)):\n",
    "    tmp=Image.open('./picture/'+fileName[i]+'.jpg')\n",
    "    print(fileName[i]+\"사진의 크기는 가로 %d, 세로 %d입니다.\"%(tmp.width,tmp.height))\n",
    "    "
   ]
  },
  {
   "cell_type": "code",
   "execution_count": 4,
   "metadata": {},
   "outputs": [
    {
     "name": "stdout",
     "output_type": "stream",
     "text": [
      "pic1사진의 크기는 가로:512, 세로: 271입니다.\n",
      "pic2사진의 크기는 가로:630, 세로: 338입니다.\n",
      "pic3사진의 크기는 가로:275, 세로: 183입니다.\n"
     ]
    }
   ],
   "source": [
    "from PIL import Image\n",
    "fileName=['pic1','pic2','pic3']\n",
    "\n",
    "for fn in fileName:\n",
    "    tmp=Image.open('./picture/'+fn+'.jpg')\n",
    "    print(fn+'사진의 크기는 가로:{}, 세로: {}입니다.'.format(tmp.width,tmp.height))"
   ]
  },
  {
   "cell_type": "markdown",
   "metadata": {},
   "source": [
    "### for문 응용\n",
    "- ./picture/폴더의 이미지를 가져와 500 X 500 사이즈로 변경\n",
    "- 변경한 내용은 img 폴더에 저장"
   ]
  },
  {
   "cell_type": "code",
   "execution_count": 9,
   "metadata": {},
   "outputs": [],
   "source": [
    "#모듈 연결\n",
    "from PIL import Image\n",
    "import os"
   ]
  },
  {
   "cell_type": "code",
   "execution_count": 13,
   "metadata": {},
   "outputs": [
    {
     "name": "stdout",
     "output_type": "stream",
     "text": [
      "['img1.jpg', 'img10.jpg', 'img11.jpg', 'img12.jpg', 'img13.jpg', 'img14.jpg', 'img15.jpg', 'img16.jpg', 'img17.jpg', 'img18.jpg', 'img19.jpg', 'img2.jpg', 'img20.jpg', 'img21.jpg', 'img22.jpg', 'img23.jpg', 'img24.jpg', 'img25.jpg', 'img26.jpg', 'img27.jpg', 'img28.jpg', 'img29.jpg', 'img3.jpg', 'img30.jpg', 'img4.jpg', 'img5.jpg', 'img6.jpg', 'img7.jpg', 'img8.jpg', 'img9.jpg', 'pic1.jpg', 'pic2.jpg', 'pic3.jpg']\n"
     ]
    }
   ],
   "source": [
    "fname=os.listdir('./picture/')\n",
    "print(fname)"
   ]
  },
  {
   "cell_type": "code",
   "execution_count": 18,
   "metadata": {},
   "outputs": [],
   "source": [
    "for i in fname:\n",
    "    tmp=Image.open('./picture/'+i)\n",
    "    tmpResize=tmp.resize((500,500))\n",
    "    tmpResize.save('./img/'+i+'.jpg')\n",
    "    "
   ]
  },
  {
   "cell_type": "code",
   "execution_count": null,
   "metadata": {},
   "outputs": [],
   "source": []
  }
 ],
 "metadata": {
  "kernelspec": {
   "display_name": "Python 3",
   "language": "python",
   "name": "python3"
  }
 },
 "nbformat": 4,
 "nbformat_minor": 4
}

{
 "cells": [
  {
   "cell_type": "code",
   "execution_count": 1,
   "metadata": {},
   "outputs": [
    {
     "name": "stdout",
     "output_type": "stream",
     "text": [
      "파이썬\n"
     ]
    }
   ],
   "source": [
    "print('파이썬')"
   ]
  },
  {
   "cell_type": "code",
   "execution_count": 4,
   "metadata": {},
   "outputs": [
    {
     "name": "stdout",
     "output_type": "stream",
     "text": [
      "5\n",
      "0.0009996891021728516\n"
     ]
    }
   ],
   "source": [
    "#시간\n",
    "import time\n",
    "\n",
    "startTime=time.time()\n",
    "print(3+2)\n",
    "endTime=time.time()-startTime\n",
    "print(endTime)\n"
   ]
  },
  {
   "cell_type": "code",
   "execution_count": 3,
   "metadata": {},
   "outputs": [
    {
     "name": "stdout",
     "output_type": "stream",
     "text": [
      "5\n",
      "0.0010020732879638672\n"
     ]
    }
   ],
   "source": [
    "import time\n",
    "\n",
    "startTime=time.time()\n",
    "print(3+2)\n",
    "endTime=time.time()-startTime\n",
    "print(endTime)\n"
   ]
  },
  {
   "cell_type": "code",
   "execution_count": 5,
   "metadata": {},
   "outputs": [
    {
     "name": "stdout",
     "output_type": "stream",
     "text": [
      "<class 'int'>\n",
      "<class 'float'>\n"
     ]
    }
   ],
   "source": [
    "a=123\n",
    "b=12.34\n",
    "print(type(a))\n",
    "print(type(b))"
   ]
  },
  {
   "cell_type": "code",
   "execution_count": 6,
   "metadata": {},
   "outputs": [
    {
     "data": {
      "text/plain": [
       "'pythonverypower'"
      ]
     },
     "execution_count": 6,
     "metadata": {},
     "output_type": "execute_result"
    }
   ],
   "source": [
    "VarPos1='python'\n",
    "VarPos2='very'\n",
    "VarPos3='power'\n",
    "\n",
    "VarPos1+VarPos2+VarPos3"
   ]
  },
  {
   "cell_type": "code",
   "execution_count": 7,
   "metadata": {},
   "outputs": [
    {
     "name": "stdout",
     "output_type": "stream",
     "text": [
      "python very power\n"
     ]
    }
   ],
   "source": [
    "space=\" \"\n",
    "print(VarPos1+\" \"+VarPos2+\" \"+VarPos3)"
   ]
  },
  {
   "cell_type": "code",
   "execution_count": 12,
   "metadata": {},
   "outputs": [
    {
     "name": "stdout",
     "output_type": "stream",
     "text": [
      "  ★ ★ ★ ★ ★ ★ ★ ★ ★ ★ ★ ★ ★ ★ ★ ★ ★ ★ ★ ★ ★ ★ ★ ★ ★ ★ ★ ★ ★ ★\n"
     ]
    }
   ],
   "source": [
    "#아래 구문은 그냥 실행하여 봅니다.\n",
    "Var='★'\n",
    "tmp2=' '\n",
    "cnt=30\n",
    "\n",
    "for i in range(cnt):\n",
    "    tmp2=tmp2+' '+Var\n",
    "    \n",
    "print(tmp2)"
   ]
  },
  {
   "cell_type": "code",
   "execution_count": 14,
   "metadata": {},
   "outputs": [],
   "source": [
    "tmp='python very powerful'"
   ]
  },
  {
   "cell_type": "code",
   "execution_count": 15,
   "metadata": {},
   "outputs": [
    {
     "data": {
      "text/plain": [
       "0"
      ]
     },
     "execution_count": 15,
     "metadata": {},
     "output_type": "execute_result"
    }
   ],
   "source": [
    "#개체명.index(데이터,숫자)\n",
    "\n",
    "tmp.index('p')"
   ]
  },
  {
   "cell_type": "code",
   "execution_count": 20,
   "metadata": {},
   "outputs": [
    {
     "data": {
      "text/plain": [
       "12"
      ]
     },
     "execution_count": 20,
     "metadata": {},
     "output_type": "execute_result"
    }
   ],
   "source": [
    "#2번째 p의 위치\n",
    "tmp.index('p',1)"
   ]
  },
  {
   "cell_type": "markdown",
   "metadata": {},
   "source": [
    "리스트 구조\n",
    "### 변수명=[요소,요소, ...]\n",
    "### 복합 데이터 유형"
   ]
  },
  {
   "cell_type": "code",
   "execution_count": 24,
   "metadata": {},
   "outputs": [
    {
     "name": "stdout",
     "output_type": "stream",
     "text": [
      "<class 'list'>\n",
      "[10, 20, '파이썬', '한경닫컴', [100, 200, 300]]\n"
     ]
    }
   ],
   "source": [
    "list1=[10, 20, '파이썬', '한경닫컴',[100,200,300] ]\n",
    "list2=[150,250,350]\n",
    "print(type(list1))\n",
    "print(list1)"
   ]
  },
  {
   "cell_type": "code",
   "execution_count": 29,
   "metadata": {},
   "outputs": [
    {
     "name": "stdout",
     "output_type": "stream",
     "text": [
      "10\n",
      "파이썬\n",
      "['파이썬', '한경닫컴']\n",
      "[100, 200, 300]\n",
      "300\n",
      "한경\n"
     ]
    }
   ],
   "source": [
    "print(list1[0])\n",
    "print(list1[2])\n",
    "print(list1[2:4])\n",
    "print(list1[-1])\n",
    "print(list1[-1][-1])\n",
    "print(list1[3][:2])"
   ]
  },
  {
   "cell_type": "code",
   "execution_count": 30,
   "metadata": {},
   "outputs": [
    {
     "data": {
      "text/plain": [
       "[10, 20, '파이썬', '한경닫컴', [100, 200, 300]]"
      ]
     },
     "execution_count": 30,
     "metadata": {},
     "output_type": "execute_result"
    }
   ],
   "source": [
    "list1"
   ]
  },
  {
   "cell_type": "code",
   "execution_count": 35,
   "metadata": {},
   "outputs": [
    {
     "name": "stdout",
     "output_type": "stream",
     "text": [
      "[10, 20, '파이썬', '한경닫컴', [100, 200, 400]]\n"
     ]
    }
   ],
   "source": [
    "#요소값 편집\n",
    "list1[-1][-1]=400\n",
    "print(list1)"
   ]
  },
  {
   "cell_type": "code",
   "execution_count": 37,
   "metadata": {},
   "outputs": [
    {
     "data": {
      "text/plain": [
       "[10, 20, '파이썬', '한경닷컴', [100, 200, 400]]"
      ]
     },
     "execution_count": 37,
     "metadata": {},
     "output_type": "execute_result"
    }
   ],
   "source": [
    "list1[3]='한경닷컴'\n",
    "list1\n"
   ]
  },
  {
   "cell_type": "code",
   "execution_count": 38,
   "metadata": {},
   "outputs": [
    {
     "data": {
      "text/plain": [
       "[10, 20, '파이썬', '한경닷컴', [100, 200, 400], 150, 250, 350]"
      ]
     },
     "execution_count": 38,
     "metadata": {},
     "output_type": "execute_result"
    }
   ],
   "source": [
    "list1+list2"
   ]
  },
  {
   "cell_type": "code",
   "execution_count": 44,
   "metadata": {},
   "outputs": [
    {
     "data": {
      "text/plain": [
       "20"
      ]
     },
     "execution_count": 44,
     "metadata": {},
     "output_type": "execute_result"
    }
   ],
   "source": [
    "list1[0]+list2[0]"
   ]
  },
  {
   "cell_type": "code",
   "execution_count": 40,
   "metadata": {},
   "outputs": [
    {
     "name": "stdout",
     "output_type": "stream",
     "text": [
      "[10, 20, '파이썬', '한경닷컴', [100, 200, 400]]\n",
      "[10, 20, '파이썬', '한경닷컴', [100, 200, 400], 150, 250, 350]\n"
     ]
    }
   ],
   "source": [
    "list2=list1+list2\n",
    "print(list1)\n",
    "print(list2)"
   ]
  },
  {
   "cell_type": "code",
   "execution_count": 41,
   "metadata": {},
   "outputs": [
    {
     "data": {
      "text/plain": [
       "5"
      ]
     },
     "execution_count": 41,
     "metadata": {},
     "output_type": "execute_result"
    }
   ],
   "source": [
    "list2.index(150)"
   ]
  },
  {
   "cell_type": "code",
   "execution_count": 42,
   "metadata": {},
   "outputs": [
    {
     "name": "stdout",
     "output_type": "stream",
     "text": [
      "False\n"
     ]
    }
   ],
   "source": [
    "print('150' in list2) # a in b: a값이 b에 있으면 True, 없으면 False"
   ]
  },
  {
   "cell_type": "code",
   "execution_count": 43,
   "metadata": {},
   "outputs": [
    {
     "name": "stdout",
     "output_type": "stream",
     "text": [
      "True\n"
     ]
    }
   ],
   "source": [
    "print(150 in list2)"
   ]
  },
  {
   "cell_type": "markdown",
   "metadata": {},
   "source": [
    "파이썬 함수 https://blockdmask.tistory.com/432\n"
   ]
  },
  {
   "cell_type": "code",
   "execution_count": 62,
   "metadata": {},
   "outputs": [
    {
     "name": "stdout",
     "output_type": "stream",
     "text": [
      "[10, 20, '파이썬', '한경닷컴', [100, 200, 400]]\n"
     ]
    }
   ],
   "source": [
    "print(list1)"
   ]
  },
  {
   "cell_type": "code",
   "execution_count": 63,
   "metadata": {},
   "outputs": [
    {
     "data": {
      "text/plain": [
       "[10, 20, '파이썬', '한경닷컴', [100, 200, 400], '임혜민']"
      ]
     },
     "execution_count": 63,
     "metadata": {},
     "output_type": "execute_result"
    }
   ],
   "source": [
    "list1.append('임혜민') #리스트 데이터의 끝에 추가\n",
    "list1"
   ]
  },
  {
   "cell_type": "code",
   "execution_count": 77,
   "metadata": {},
   "outputs": [
    {
     "data": {
      "text/plain": [
       "[10, 20, '파이썬', 150, '임혜민', '한경닷컴', [100, 200, 400], '임혜민']"
      ]
     },
     "execution_count": 77,
     "metadata": {},
     "output_type": "execute_result"
    }
   ],
   "source": [
    "list1.insert(3,150) #리스트.insert(입력할index, 값)\n",
    "list1"
   ]
  },
  {
   "cell_type": "code",
   "execution_count": 73,
   "metadata": {},
   "outputs": [],
   "source": [
    "#데이터 삭제\n",
    "del list2 #변수(객체) 삭제"
   ]
  },
  {
   "cell_type": "code",
   "execution_count": 78,
   "metadata": {},
   "outputs": [
    {
     "data": {
      "text/plain": [
       "[10, 20, '파이썬', 150, '임혜민', '한경닷컴', [100, 200, 400], '임혜민']"
      ]
     },
     "execution_count": 78,
     "metadata": {},
     "output_type": "execute_result"
    }
   ],
   "source": [
    "list1"
   ]
  },
  {
   "cell_type": "code",
   "execution_count": 79,
   "metadata": {},
   "outputs": [],
   "source": [
    "list1.remove(150)"
   ]
  },
  {
   "cell_type": "code",
   "execution_count": 80,
   "metadata": {},
   "outputs": [
    {
     "data": {
      "text/plain": [
       "[10, 20, '파이썬', '임혜민', '한경닷컴', [100, 200, 400], '임혜민']"
      ]
     },
     "execution_count": 80,
     "metadata": {},
     "output_type": "execute_result"
    }
   ],
   "source": [
    "list1"
   ]
  },
  {
   "cell_type": "code",
   "execution_count": 84,
   "metadata": {},
   "outputs": [
    {
     "data": {
      "text/plain": [
       "[10, 20, '파이썬', '임혜민', '한경닷컴', [100, 400], '임혜민']"
      ]
     },
     "execution_count": 84,
     "metadata": {},
     "output_type": "execute_result"
    }
   ],
   "source": [
    "list1[5].remove(200)\n",
    "list1"
   ]
  },
  {
   "cell_type": "code",
   "execution_count": 85,
   "metadata": {},
   "outputs": [
    {
     "data": {
      "text/plain": [
       "[10, 20, '파이썬', '임혜민', '한경닷컴', '임혜민']"
      ]
     },
     "execution_count": 85,
     "metadata": {},
     "output_type": "execute_result"
    }
   ],
   "source": [
    "del list1[5]\n",
    "list1"
   ]
  },
  {
   "cell_type": "code",
   "execution_count": 86,
   "metadata": {},
   "outputs": [],
   "source": [
    "#리스트 정렬\n",
    "list1=[1,3,10,5,7,6]"
   ]
  },
  {
   "cell_type": "code",
   "execution_count": 90,
   "metadata": {},
   "outputs": [
    {
     "data": {
      "text/plain": [
       "[6, 7, 5, 10, 3, 1]"
      ]
     },
     "execution_count": 90,
     "metadata": {},
     "output_type": "execute_result"
    }
   ],
   "source": [
    "list1.reverse() #리스트 데이터를 뒤집기\n",
    "list1"
   ]
  },
  {
   "cell_type": "code",
   "execution_count": 91,
   "metadata": {},
   "outputs": [
    {
     "name": "stdout",
     "output_type": "stream",
     "text": [
      "[1, 3, 5, 6, 7, 10]\n"
     ]
    }
   ],
   "source": [
    "list1.sort() #리스트 데이터를 오름차순 정렬\n",
    "print(list1)"
   ]
  },
  {
   "cell_type": "code",
   "execution_count": 92,
   "metadata": {},
   "outputs": [
    {
     "name": "stdout",
     "output_type": "stream",
     "text": [
      "[10, 7, 6, 5, 3, 1]\n"
     ]
    }
   ],
   "source": [
    "list1.sort(reverse=True)#리스트 데이터를 내림차순 정렬\n",
    "print(list1)"
   ]
  },
  {
   "cell_type": "code",
   "execution_count": 112,
   "metadata": {},
   "outputs": [
    {
     "name": "stdout",
     "output_type": "stream",
     "text": [
      "좋아하는 음식? : 맥주\n",
      "좋아하는 음식? : 피자\n",
      "좋아하는 음식? : 치킨\n",
      "좋아하는 음식? : 삼겹살\n",
      "좋아하는 음식? : 샐러드\n",
      "좋아하는 음식? : 맛살\n",
      "좋아하는 음식? : 감자튀김\n",
      "좋아하는 음식? : 햄버거\n",
      "좋아하는 음식? : 해쉬브라운\n",
      "좋아하는 음식? : 샌드위치\n",
      "['맥주', '피자', '치킨', '삼겹살', '샐러드', '맛살', '감자튀김', '햄버거', '해쉬브라운', '샌드위치']\n"
     ]
    }
   ],
   "source": [
    "#리스트 데이터 추가 및 출력\n",
    "\n",
    "좋아하는음식리스트=[]\n",
    "\n",
    "for i in range(10):\n",
    "    음식명=input(\"좋아하는 음식? : \") #input(): 사용자로부터 데이터를 입력받을 때 사용하는 함수\n",
    "                                      #         입력 데이터는 모두 문자형 데이터이다.\n",
    "    좋아하는음식리스트.append(음식명)\n",
    "    \n",
    "print(좋아하는음식리스트)"
   ]
  },
  {
   "cell_type": "markdown",
   "metadata": {},
   "source": [
    "# 만약에 본인이 함께 하는 반려동물의 종류 와 크기 입력받아 나열하세요\n",
    "# 반려동물 순번으로 3개만 입력받아 출력\n",
    "\n"
   ]
  },
  {
   "cell_type": "code",
   "execution_count": 115,
   "metadata": {},
   "outputs": [
    {
     "name": "stdout",
     "output_type": "stream",
     "text": [
      "동물의 종류는? : 강아지\n",
      "동물의 크기는? : 소형\n",
      "동물의 종류는? : 고양이\n",
      "동물의 크기는? : 소형\n",
      "동물의 종류는? : 돼지\n",
      "동물의 크기는? : 대형\n",
      "['강아지', '고양이', '돼지']\n",
      "['소형', '소형', '대형']\n"
     ]
    }
   ],
   "source": [
    "동물명=[]; 크기=[]\n",
    "\n",
    "for i in range(3):\n",
    "    동물종류=input(\"동물의 종류는? : \")\n",
    "    동물크기=input(\"동물의 크기는? : \")\n",
    "    동물명.append(동물종류)\n",
    "    크기.append(동물크기)\n",
    "print(동물명)\n",
    "print(크기)\n",
    "\n"
   ]
  },
  {
   "cell_type": "code",
   "execution_count": 116,
   "metadata": {},
   "outputs": [
    {
     "name": "stdout",
     "output_type": "stream",
     "text": [
      "[['강아지', '고양이', '돼지'], ['소형', '소형', '대형']]\n"
     ]
    }
   ],
   "source": [
    "반려동물=[동물명,크기]\n",
    "print(반려동물)"
   ]
  },
  {
   "cell_type": "code",
   "execution_count": 117,
   "metadata": {},
   "outputs": [
    {
     "name": "stdout",
     "output_type": "stream",
     "text": [
      "동물이름?강아지\n",
      "크기는?12kg\n",
      "동물이름?고양이\n",
      "크기는?10kg\n",
      "동물이름?소\n",
      "크기는?100kg\n",
      "[['강아지', '12kg'], ['고양이', '10kg'], ['소', '100kg']]\n"
     ]
    }
   ],
   "source": [
    "반려동물=[]\n",
    "\n",
    "for i in range(3):\n",
    "    동물이름=input('동물이름?')\n",
    "    크기는=input('크기는?')\n",
    "    반려동물.append([동물이름, 크기는])\n",
    "print(반려동물)"
   ]
  },
  {
   "cell_type": "markdown",
   "metadata": {},
   "source": [
    "### 딕셔너리형\n",
    "- 변수명={'key1': value, 'key2':value2, ...}   #{'key':value, 'keys': values}\n",
    "- keys에 대응하는 values가 쌍을 이루는 구조\n",
    "- 제목: 제목에 대한 값 구성\n",
    "\n"
   ]
  },
  {
   "cell_type": "code",
   "execution_count": null,
   "metadata": {},
   "outputs": [],
   "source": [
    "dic1={'이름': '홍길동', '나이': 33, '성별':'남'}\n",
    "print(type(dic1))"
   ]
  },
  {
   "cell_type": "code",
   "execution_count": null,
   "metadata": {},
   "outputs": [],
   "source": [
    "dic2={'이름':['홍길동','이순신','서정동'],\n",
    "      '나이':[33,55,48],\n",
    "      '성별':['남','여','남']}\n",
    "print(type(dic2))"
   ]
  },
  {
   "cell_type": "code",
   "execution_count": null,
   "metadata": {},
   "outputs": [],
   "source": [
    "dic1.values()"
   ]
  },
  {
   "cell_type": "code",
   "execution_count": null,
   "metadata": {},
   "outputs": [],
   "source": [
    "print(dic2.keys())\n",
    "print(dic2.values())"
   ]
  },
  {
   "cell_type": "code",
   "execution_count": 2,
   "metadata": {},
   "outputs": [
    {
     "name": "stdout",
     "output_type": "stream",
     "text": [
      "동물의 종류는? : 강아지\n",
      "동물의 크기는? : 3kg\n",
      "동물의 종류는? : 고양이\n",
      "동물의 크기는? : 2kg\n",
      "동물의 종류는? : 호랑이\n",
      "동물의 크기는? : 1kg\n",
      "['강아지', '고양이', '호랑이']\n",
      "['3kg', '2kg', '1kg']\n",
      "{'동물명': ['강아지', '고양이', '호랑이'], '크기': ['3kg', '2kg', '1kg']}\n"
     ]
    }
   ],
   "source": [
    "동물명=[]; 크기=[]\n",
    "\n",
    "for i in range(3):\n",
    "    동물종류=input(\"동물의 종류는? : \")\n",
    "    동물크기=input(\"동물의 크기는? : \")\n",
    "    동물명.append(동물종류)\n",
    "    크기.append(동물크기)\n",
    "print(동물명)\n",
    "print(크기)\n",
    "\n",
    "#딕셔너리 구조로 변경\n",
    "# keys:['동물명', '크기'] \n",
    "#values: [['강아지','고양이','호랑이'],['3kg','2kg','1kg']]\n",
    "\n",
    "dic3={'동물명':동물명,\n",
    "       '크기':크기}\n",
    "print(dic3)"
   ]
  },
  {
   "cell_type": "code",
   "execution_count": 5,
   "metadata": {},
   "outputs": [
    {
     "name": "stdout",
     "output_type": "stream",
     "text": [
      "['강아지', '고양이', '호랑이']\n",
      "['3kg', '2kg', '1kg']\n",
      "강아지\n",
      "3kg\n"
     ]
    }
   ],
   "source": [
    "print(dic3['동물명'])\n",
    "print(dic3['크기'])\n",
    "print(dic3['동물명'][0])\n",
    "print(dic3['크기'][0])"
   ]
  },
  {
   "cell_type": "code",
   "execution_count": 12,
   "metadata": {},
   "outputs": [
    {
     "name": "stdout",
     "output_type": "stream",
     "text": [
      "동물명: 강아지, 크기: 3kg\n",
      "동물명: 고양이, 크기: 2kg\n",
      "동물명: 호랑이, 크기: 1kg\n",
      "END\n"
     ]
    }
   ],
   "source": [
    "for i in range(3):\n",
    "    print('동물명: {}, 크기: {}'.format(dic3['동물명'][i],dic3['크기'][i]))\n",
    "    \n",
    "print('END')"
   ]
  },
  {
   "cell_type": "code",
   "execution_count": null,
   "metadata": {},
   "outputs": [],
   "source": []
  }
 ],
 "metadata": {
  "kernelspec": {
   "display_name": "Python 3",
   "language": "python",
   "name": "python3"
  },
  "language_info": {
   "codemirror_mode": {
    "name": "ipython",
    "version": 3
   },
   "file_extension": ".py",
   "mimetype": "text/x-python",
   "name": "python",
   "nbconvert_exporter": "python",
   "pygments_lexer": "ipython3",
   "version": "3.8.5"
  }
 },
 "nbformat": 4,
 "nbformat_minor": 4
}
